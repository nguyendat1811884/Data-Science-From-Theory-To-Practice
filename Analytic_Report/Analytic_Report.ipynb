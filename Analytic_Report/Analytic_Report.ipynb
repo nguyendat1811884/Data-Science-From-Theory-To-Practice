{
  "nbformat": 4,
  "nbformat_minor": 0,
  "metadata": {
    "colab": {
      "name": "Analytic_Report.ipynb",
      "provenance": [],
      "collapsed_sections": [
        "KH67T_dQtxnN",
        "8o9T_FJvFyYC",
        "yt_sxtAvMuS9",
        "ujApQwhdM4S3",
        "Q5QVrfdPNChs",
        "UjGJQIW-NGak",
        "JSoQAKoPNJOb",
        "UxKa6JdWNNsX",
        "1hCj_ClFNSum",
        "S9tmRQYTNXcS"
      ],
      "toc_visible": true,
      "authorship_tag": "ABX9TyN8t++ihFt6P/KzBD3DuAue",
      "include_colab_link": true
    },
    "kernelspec": {
      "name": "python3",
      "display_name": "Python 3"
    }
  },
  "cells": [
    {
      "cell_type": "markdown",
      "metadata": {
        "id": "view-in-github",
        "colab_type": "text"
      },
      "source": [
        "<a href=\"https://colab.research.google.com/github/nguyendat1811884/Data-Science-From-Theory-To-Practice/blob/main/Analytic_Report/Analytic_Report.ipynb\" target=\"_parent\"><img src=\"https://colab.research.google.com/assets/colab-badge.svg\" alt=\"Open In Colab\"/></a>"
      ]
    },
    {
      "cell_type": "markdown",
      "metadata": {
        "id": "9AnfgQTmYrTa"
      },
      "source": [
        "## **Import các thư viện cần thiết**"
      ]
    },
    {
      "cell_type": "code",
      "metadata": {
        "id": "xK8kbY_3GxXq"
      },
      "source": [
        "import numpy as np\n",
        "import pandas as pd\n",
        "import matplotlib.pyplot as plt\n",
        "import pandas_profiling\n",
        "import seaborn as sns\n",
        "import plotly.graph_objs as go\n",
        "import plotly.offline as py\n",
        "import plotly.graph_objects as gp\n",
        "\n",
        "from scipy.stats import f_oneway\n",
        "import statsmodels.api as sm\n",
        "from statsmodels.formula.api import ols"
      ],
      "execution_count": 1543,
      "outputs": []
    },
    {
      "cell_type": "markdown",
      "metadata": {
        "id": "Kr-9Hh4gYyM3"
      },
      "source": [
        "## **Dowload và đọc data**"
      ]
    },
    {
      "cell_type": "code",
      "metadata": {
        "colab": {
          "base_uri": "https://localhost:8080/"
        },
        "id": "D_ZvpXisY78z",
        "outputId": "32dafcf2-726f-4253-a308-eca1c0722aa6"
      },
      "source": [
        "!gdown --id 1DDT3u1YNlJGsxHuUlQNzNhpx_GnINHOq"
      ],
      "execution_count": 1544,
      "outputs": [
        {
          "output_type": "stream",
          "text": [
            "Downloading...\n",
            "From: https://drive.google.com/uc?id=1DDT3u1YNlJGsxHuUlQNzNhpx_GnINHOq\n",
            "To: /content/Kaggle_HR_Employee_Attrition.csv\n",
            "\r  0% 0.00/228k [00:00<?, ?B/s]\r100% 228k/228k [00:00<00:00, 69.1MB/s]\n"
          ],
          "name": "stdout"
        }
      ]
    },
    {
      "cell_type": "code",
      "metadata": {
        "id": "KFN5urAoG4NU"
      },
      "source": [
        "df = pd.read_csv('/content/Kaggle_HR_Employee_Attrition.csv')"
      ],
      "execution_count": 1545,
      "outputs": []
    },
    {
      "cell_type": "code",
      "metadata": {
        "id": "ChmKzZ4AG_Lu",
        "colab": {
          "base_uri": "https://localhost:8080/"
        },
        "outputId": "1298b7ca-1b1a-4299-9e76-9e5a30d5fad7"
      },
      "source": [
        "df.shape"
      ],
      "execution_count": 1546,
      "outputs": [
        {
          "output_type": "execute_result",
          "data": {
            "text/plain": [
              "(1470, 35)"
            ]
          },
          "metadata": {
            "tags": []
          },
          "execution_count": 1546
        }
      ]
    },
    {
      "cell_type": "markdown",
      "metadata": {
        "id": "x-ek0g3arHTF"
      },
      "source": [
        "*   Cấu trúc tập dữ liệu: có tổng cộng 1470 data point (hàng) và 35 feature (cột) "
      ]
    },
    {
      "cell_type": "markdown",
      "metadata": {
        "id": "ljhdUrjurth2"
      },
      "source": [
        "Hãy xem thử một vài data point đầu tiên:"
      ]
    },
    {
      "cell_type": "code",
      "metadata": {
        "id": "RBJZBvAiG8Ll",
        "colab": {
          "base_uri": "https://localhost:8080/",
          "height": 299
        },
        "outputId": "b08fa447-5c21-4c59-e977-3109ccbfd1e9"
      },
      "source": [
        "df.head()"
      ],
      "execution_count": 1547,
      "outputs": [
        {
          "output_type": "execute_result",
          "data": {
            "text/html": [
              "<div>\n",
              "<style scoped>\n",
              "    .dataframe tbody tr th:only-of-type {\n",
              "        vertical-align: middle;\n",
              "    }\n",
              "\n",
              "    .dataframe tbody tr th {\n",
              "        vertical-align: top;\n",
              "    }\n",
              "\n",
              "    .dataframe thead th {\n",
              "        text-align: right;\n",
              "    }\n",
              "</style>\n",
              "<table border=\"1\" class=\"dataframe\">\n",
              "  <thead>\n",
              "    <tr style=\"text-align: right;\">\n",
              "      <th></th>\n",
              "      <th>Age</th>\n",
              "      <th>Attrition</th>\n",
              "      <th>BusinessTravel</th>\n",
              "      <th>DailyRate</th>\n",
              "      <th>Department</th>\n",
              "      <th>DistanceFromHome</th>\n",
              "      <th>Education</th>\n",
              "      <th>EducationField</th>\n",
              "      <th>EmployeeCount</th>\n",
              "      <th>EmployeeNumber</th>\n",
              "      <th>EnvironmentSatisfaction</th>\n",
              "      <th>Gender</th>\n",
              "      <th>HourlyRate</th>\n",
              "      <th>JobInvolvement</th>\n",
              "      <th>JobLevel</th>\n",
              "      <th>JobRole</th>\n",
              "      <th>JobSatisfaction</th>\n",
              "      <th>MaritalStatus</th>\n",
              "      <th>MonthlyIncome</th>\n",
              "      <th>MonthlyRate</th>\n",
              "      <th>NumCompaniesWorked</th>\n",
              "      <th>Over18</th>\n",
              "      <th>OverTime</th>\n",
              "      <th>PercentSalaryHike</th>\n",
              "      <th>PerformanceRating</th>\n",
              "      <th>RelationshipSatisfaction</th>\n",
              "      <th>StandardHours</th>\n",
              "      <th>StockOptionLevel</th>\n",
              "      <th>TotalWorkingYears</th>\n",
              "      <th>TrainingTimesLastYear</th>\n",
              "      <th>WorkLifeBalance</th>\n",
              "      <th>YearsAtCompany</th>\n",
              "      <th>YearsInCurrentRole</th>\n",
              "      <th>YearsSinceLastPromotion</th>\n",
              "      <th>YearsWithCurrManager</th>\n",
              "    </tr>\n",
              "  </thead>\n",
              "  <tbody>\n",
              "    <tr>\n",
              "      <th>0</th>\n",
              "      <td>41</td>\n",
              "      <td>Yes</td>\n",
              "      <td>Travel_Rarely</td>\n",
              "      <td>1102</td>\n",
              "      <td>Sales</td>\n",
              "      <td>1</td>\n",
              "      <td>2</td>\n",
              "      <td>Life Sciences</td>\n",
              "      <td>1</td>\n",
              "      <td>1</td>\n",
              "      <td>2</td>\n",
              "      <td>Female</td>\n",
              "      <td>94</td>\n",
              "      <td>3</td>\n",
              "      <td>2</td>\n",
              "      <td>Sales Executive</td>\n",
              "      <td>4</td>\n",
              "      <td>Single</td>\n",
              "      <td>5993</td>\n",
              "      <td>19479</td>\n",
              "      <td>8</td>\n",
              "      <td>Y</td>\n",
              "      <td>Yes</td>\n",
              "      <td>11</td>\n",
              "      <td>3</td>\n",
              "      <td>1</td>\n",
              "      <td>80</td>\n",
              "      <td>0</td>\n",
              "      <td>8</td>\n",
              "      <td>0</td>\n",
              "      <td>1</td>\n",
              "      <td>6</td>\n",
              "      <td>4</td>\n",
              "      <td>0</td>\n",
              "      <td>5</td>\n",
              "    </tr>\n",
              "    <tr>\n",
              "      <th>1</th>\n",
              "      <td>49</td>\n",
              "      <td>No</td>\n",
              "      <td>Travel_Frequently</td>\n",
              "      <td>279</td>\n",
              "      <td>Research &amp; Development</td>\n",
              "      <td>8</td>\n",
              "      <td>1</td>\n",
              "      <td>Life Sciences</td>\n",
              "      <td>1</td>\n",
              "      <td>2</td>\n",
              "      <td>3</td>\n",
              "      <td>Male</td>\n",
              "      <td>61</td>\n",
              "      <td>2</td>\n",
              "      <td>2</td>\n",
              "      <td>Research Scientist</td>\n",
              "      <td>2</td>\n",
              "      <td>Married</td>\n",
              "      <td>5130</td>\n",
              "      <td>24907</td>\n",
              "      <td>1</td>\n",
              "      <td>Y</td>\n",
              "      <td>No</td>\n",
              "      <td>23</td>\n",
              "      <td>4</td>\n",
              "      <td>4</td>\n",
              "      <td>80</td>\n",
              "      <td>1</td>\n",
              "      <td>10</td>\n",
              "      <td>3</td>\n",
              "      <td>3</td>\n",
              "      <td>10</td>\n",
              "      <td>7</td>\n",
              "      <td>1</td>\n",
              "      <td>7</td>\n",
              "    </tr>\n",
              "    <tr>\n",
              "      <th>2</th>\n",
              "      <td>37</td>\n",
              "      <td>Yes</td>\n",
              "      <td>Travel_Rarely</td>\n",
              "      <td>1373</td>\n",
              "      <td>Research &amp; Development</td>\n",
              "      <td>2</td>\n",
              "      <td>2</td>\n",
              "      <td>Other</td>\n",
              "      <td>1</td>\n",
              "      <td>4</td>\n",
              "      <td>4</td>\n",
              "      <td>Male</td>\n",
              "      <td>92</td>\n",
              "      <td>2</td>\n",
              "      <td>1</td>\n",
              "      <td>Laboratory Technician</td>\n",
              "      <td>3</td>\n",
              "      <td>Single</td>\n",
              "      <td>2090</td>\n",
              "      <td>2396</td>\n",
              "      <td>6</td>\n",
              "      <td>Y</td>\n",
              "      <td>Yes</td>\n",
              "      <td>15</td>\n",
              "      <td>3</td>\n",
              "      <td>2</td>\n",
              "      <td>80</td>\n",
              "      <td>0</td>\n",
              "      <td>7</td>\n",
              "      <td>3</td>\n",
              "      <td>3</td>\n",
              "      <td>0</td>\n",
              "      <td>0</td>\n",
              "      <td>0</td>\n",
              "      <td>0</td>\n",
              "    </tr>\n",
              "    <tr>\n",
              "      <th>3</th>\n",
              "      <td>33</td>\n",
              "      <td>No</td>\n",
              "      <td>Travel_Frequently</td>\n",
              "      <td>1392</td>\n",
              "      <td>Research &amp; Development</td>\n",
              "      <td>3</td>\n",
              "      <td>4</td>\n",
              "      <td>Life Sciences</td>\n",
              "      <td>1</td>\n",
              "      <td>5</td>\n",
              "      <td>4</td>\n",
              "      <td>Female</td>\n",
              "      <td>56</td>\n",
              "      <td>3</td>\n",
              "      <td>1</td>\n",
              "      <td>Research Scientist</td>\n",
              "      <td>3</td>\n",
              "      <td>Married</td>\n",
              "      <td>2909</td>\n",
              "      <td>23159</td>\n",
              "      <td>1</td>\n",
              "      <td>Y</td>\n",
              "      <td>Yes</td>\n",
              "      <td>11</td>\n",
              "      <td>3</td>\n",
              "      <td>3</td>\n",
              "      <td>80</td>\n",
              "      <td>0</td>\n",
              "      <td>8</td>\n",
              "      <td>3</td>\n",
              "      <td>3</td>\n",
              "      <td>8</td>\n",
              "      <td>7</td>\n",
              "      <td>3</td>\n",
              "      <td>0</td>\n",
              "    </tr>\n",
              "    <tr>\n",
              "      <th>4</th>\n",
              "      <td>27</td>\n",
              "      <td>No</td>\n",
              "      <td>Travel_Rarely</td>\n",
              "      <td>591</td>\n",
              "      <td>Research &amp; Development</td>\n",
              "      <td>2</td>\n",
              "      <td>1</td>\n",
              "      <td>Medical</td>\n",
              "      <td>1</td>\n",
              "      <td>7</td>\n",
              "      <td>1</td>\n",
              "      <td>Male</td>\n",
              "      <td>40</td>\n",
              "      <td>3</td>\n",
              "      <td>1</td>\n",
              "      <td>Laboratory Technician</td>\n",
              "      <td>2</td>\n",
              "      <td>Married</td>\n",
              "      <td>3468</td>\n",
              "      <td>16632</td>\n",
              "      <td>9</td>\n",
              "      <td>Y</td>\n",
              "      <td>No</td>\n",
              "      <td>12</td>\n",
              "      <td>3</td>\n",
              "      <td>4</td>\n",
              "      <td>80</td>\n",
              "      <td>1</td>\n",
              "      <td>6</td>\n",
              "      <td>3</td>\n",
              "      <td>3</td>\n",
              "      <td>2</td>\n",
              "      <td>2</td>\n",
              "      <td>2</td>\n",
              "      <td>2</td>\n",
              "    </tr>\n",
              "  </tbody>\n",
              "</table>\n",
              "</div>"
            ],
            "text/plain": [
              "   Age Attrition  ... YearsSinceLastPromotion  YearsWithCurrManager\n",
              "0   41       Yes  ...                       0                     5\n",
              "1   49        No  ...                       1                     7\n",
              "2   37       Yes  ...                       0                     0\n",
              "3   33        No  ...                       3                     0\n",
              "4   27        No  ...                       2                     2\n",
              "\n",
              "[5 rows x 35 columns]"
            ]
          },
          "metadata": {
            "tags": []
          },
          "execution_count": 1547
        }
      ]
    },
    {
      "cell_type": "code",
      "metadata": {
        "colab": {
          "base_uri": "https://localhost:8080/"
        },
        "id": "Q7BaB-cXWO8W",
        "outputId": "36a7c227-7545-474e-9023-b1801011559e"
      },
      "source": [
        "df.dtypes.value_counts()"
      ],
      "execution_count": 1548,
      "outputs": [
        {
          "output_type": "execute_result",
          "data": {
            "text/plain": [
              "int64     26\n",
              "object     9\n",
              "dtype: int64"
            ]
          },
          "metadata": {
            "tags": []
          },
          "execution_count": 1548
        }
      ]
    },
    {
      "cell_type": "markdown",
      "metadata": {
        "id": "-wuWPbg7WUSc"
      },
      "source": [
        "* Chỉ có 2 loại datatypes trong toàn bộ tập dataset: kiểu số nguyên và kiểu object "
      ]
    },
    {
      "cell_type": "code",
      "metadata": {
        "id": "zQm2x8SQ_xGn"
      },
      "source": [
        "impact_to_attrition = []\n",
        "impact_to_satisfaction = []\n",
        "anova_col_list = []"
      ],
      "execution_count": 1549,
      "outputs": []
    },
    {
      "cell_type": "markdown",
      "metadata": {
        "id": "KH67T_dQtxnN"
      },
      "source": [
        "## **Data normalization**"
      ]
    },
    {
      "cell_type": "markdown",
      "metadata": {
        "id": "odJ-isAEt5Ov"
      },
      "source": [
        "Ta thấy rằng, vùng giá trị của các feature rất khác nhau, vì thế ta cần chuẩn hóa các feature này để phạm vi các giá trị nhất quán với nhau. Điều này giúp cho việc thực hiện một số phân tích thống kê được dễ dàng hơn.<br>\n",
        "Ta có thể dùng một trong ba cách normalization sau:<br>\n",
        "\n",
        "\n",
        "1.   Simple feature scaling: chia mỗi giá trị của feature cho max của feature đó => result thuộc [0, 1]\n",
        "2.   Min-Max: với mỗi giá trị của feature ta thực hiện gán lại bằng ***(x - x_min) / (x_max - x_min)*** => result thuộc [0, 1]\n",
        "3.   Z-score:  với mỗi giá trị của feature ta thực hiện gán lại bằng ***(x - mean) / std*** => result nằm xung quanh 0, thường từ -3 đến 3 nhưng cũng có thể cao hoặc thấp hơn\n",
        "\n",
        "\n"
      ]
    },
    {
      "cell_type": "markdown",
      "metadata": {
        "id": "8o9T_FJvFyYC"
      },
      "source": [
        "## **Kiểm tra, xử lý missing value**"
      ]
    },
    {
      "cell_type": "code",
      "metadata": {
        "id": "Hyc__QWqsEe2"
      },
      "source": [
        "def missing_data(data):\n",
        "    total = data.isnull().sum()\n",
        "    percent = (data.isnull().sum()/data.isnull().count()*100)\n",
        "    tt = pd.concat([total, percent], axis=1, keys=['Total', 'Percent'])\n",
        "    types = []\n",
        "    for col in data.columns:\n",
        "        dtype = str(data[col].dtype)\n",
        "        types.append(dtype)\n",
        "    tt['Types'] = types\n",
        "    return(np.transpose(tt))"
      ],
      "execution_count": 1550,
      "outputs": []
    },
    {
      "cell_type": "code",
      "metadata": {
        "colab": {
          "base_uri": "https://localhost:8080/",
          "height": 190
        },
        "id": "3iO9R0bYsFUl",
        "outputId": "0943283e-129c-42aa-aba6-a7742a75ed96"
      },
      "source": [
        "%%time\n",
        "missing_data(df)"
      ],
      "execution_count": 1551,
      "outputs": [
        {
          "output_type": "stream",
          "text": [
            "CPU times: user 14 ms, sys: 993 µs, total: 15 ms\n",
            "Wall time: 15.7 ms\n"
          ],
          "name": "stdout"
        },
        {
          "output_type": "execute_result",
          "data": {
            "text/html": [
              "<div>\n",
              "<style scoped>\n",
              "    .dataframe tbody tr th:only-of-type {\n",
              "        vertical-align: middle;\n",
              "    }\n",
              "\n",
              "    .dataframe tbody tr th {\n",
              "        vertical-align: top;\n",
              "    }\n",
              "\n",
              "    .dataframe thead th {\n",
              "        text-align: right;\n",
              "    }\n",
              "</style>\n",
              "<table border=\"1\" class=\"dataframe\">\n",
              "  <thead>\n",
              "    <tr style=\"text-align: right;\">\n",
              "      <th></th>\n",
              "      <th>Age</th>\n",
              "      <th>Attrition</th>\n",
              "      <th>BusinessTravel</th>\n",
              "      <th>DailyRate</th>\n",
              "      <th>Department</th>\n",
              "      <th>DistanceFromHome</th>\n",
              "      <th>Education</th>\n",
              "      <th>EducationField</th>\n",
              "      <th>EmployeeCount</th>\n",
              "      <th>EmployeeNumber</th>\n",
              "      <th>EnvironmentSatisfaction</th>\n",
              "      <th>Gender</th>\n",
              "      <th>HourlyRate</th>\n",
              "      <th>JobInvolvement</th>\n",
              "      <th>JobLevel</th>\n",
              "      <th>JobRole</th>\n",
              "      <th>JobSatisfaction</th>\n",
              "      <th>MaritalStatus</th>\n",
              "      <th>MonthlyIncome</th>\n",
              "      <th>MonthlyRate</th>\n",
              "      <th>NumCompaniesWorked</th>\n",
              "      <th>Over18</th>\n",
              "      <th>OverTime</th>\n",
              "      <th>PercentSalaryHike</th>\n",
              "      <th>PerformanceRating</th>\n",
              "      <th>RelationshipSatisfaction</th>\n",
              "      <th>StandardHours</th>\n",
              "      <th>StockOptionLevel</th>\n",
              "      <th>TotalWorkingYears</th>\n",
              "      <th>TrainingTimesLastYear</th>\n",
              "      <th>WorkLifeBalance</th>\n",
              "      <th>YearsAtCompany</th>\n",
              "      <th>YearsInCurrentRole</th>\n",
              "      <th>YearsSinceLastPromotion</th>\n",
              "      <th>YearsWithCurrManager</th>\n",
              "    </tr>\n",
              "  </thead>\n",
              "  <tbody>\n",
              "    <tr>\n",
              "      <th>Total</th>\n",
              "      <td>0</td>\n",
              "      <td>0</td>\n",
              "      <td>0</td>\n",
              "      <td>0</td>\n",
              "      <td>0</td>\n",
              "      <td>0</td>\n",
              "      <td>0</td>\n",
              "      <td>0</td>\n",
              "      <td>0</td>\n",
              "      <td>0</td>\n",
              "      <td>0</td>\n",
              "      <td>0</td>\n",
              "      <td>0</td>\n",
              "      <td>0</td>\n",
              "      <td>0</td>\n",
              "      <td>0</td>\n",
              "      <td>0</td>\n",
              "      <td>0</td>\n",
              "      <td>0</td>\n",
              "      <td>0</td>\n",
              "      <td>0</td>\n",
              "      <td>0</td>\n",
              "      <td>0</td>\n",
              "      <td>0</td>\n",
              "      <td>0</td>\n",
              "      <td>0</td>\n",
              "      <td>0</td>\n",
              "      <td>0</td>\n",
              "      <td>0</td>\n",
              "      <td>0</td>\n",
              "      <td>0</td>\n",
              "      <td>0</td>\n",
              "      <td>0</td>\n",
              "      <td>0</td>\n",
              "      <td>0</td>\n",
              "    </tr>\n",
              "    <tr>\n",
              "      <th>Percent</th>\n",
              "      <td>0</td>\n",
              "      <td>0</td>\n",
              "      <td>0</td>\n",
              "      <td>0</td>\n",
              "      <td>0</td>\n",
              "      <td>0</td>\n",
              "      <td>0</td>\n",
              "      <td>0</td>\n",
              "      <td>0</td>\n",
              "      <td>0</td>\n",
              "      <td>0</td>\n",
              "      <td>0</td>\n",
              "      <td>0</td>\n",
              "      <td>0</td>\n",
              "      <td>0</td>\n",
              "      <td>0</td>\n",
              "      <td>0</td>\n",
              "      <td>0</td>\n",
              "      <td>0</td>\n",
              "      <td>0</td>\n",
              "      <td>0</td>\n",
              "      <td>0</td>\n",
              "      <td>0</td>\n",
              "      <td>0</td>\n",
              "      <td>0</td>\n",
              "      <td>0</td>\n",
              "      <td>0</td>\n",
              "      <td>0</td>\n",
              "      <td>0</td>\n",
              "      <td>0</td>\n",
              "      <td>0</td>\n",
              "      <td>0</td>\n",
              "      <td>0</td>\n",
              "      <td>0</td>\n",
              "      <td>0</td>\n",
              "    </tr>\n",
              "    <tr>\n",
              "      <th>Types</th>\n",
              "      <td>int64</td>\n",
              "      <td>object</td>\n",
              "      <td>object</td>\n",
              "      <td>int64</td>\n",
              "      <td>object</td>\n",
              "      <td>int64</td>\n",
              "      <td>int64</td>\n",
              "      <td>object</td>\n",
              "      <td>int64</td>\n",
              "      <td>int64</td>\n",
              "      <td>int64</td>\n",
              "      <td>object</td>\n",
              "      <td>int64</td>\n",
              "      <td>int64</td>\n",
              "      <td>int64</td>\n",
              "      <td>object</td>\n",
              "      <td>int64</td>\n",
              "      <td>object</td>\n",
              "      <td>int64</td>\n",
              "      <td>int64</td>\n",
              "      <td>int64</td>\n",
              "      <td>object</td>\n",
              "      <td>object</td>\n",
              "      <td>int64</td>\n",
              "      <td>int64</td>\n",
              "      <td>int64</td>\n",
              "      <td>int64</td>\n",
              "      <td>int64</td>\n",
              "      <td>int64</td>\n",
              "      <td>int64</td>\n",
              "      <td>int64</td>\n",
              "      <td>int64</td>\n",
              "      <td>int64</td>\n",
              "      <td>int64</td>\n",
              "      <td>int64</td>\n",
              "    </tr>\n",
              "  </tbody>\n",
              "</table>\n",
              "</div>"
            ],
            "text/plain": [
              "           Age Attrition  ... YearsSinceLastPromotion YearsWithCurrManager\n",
              "Total        0         0  ...                       0                    0\n",
              "Percent      0         0  ...                       0                    0\n",
              "Types    int64    object  ...                   int64                int64\n",
              "\n",
              "[3 rows x 35 columns]"
            ]
          },
          "metadata": {
            "tags": []
          },
          "execution_count": 1551
        }
      ]
    },
    {
      "cell_type": "code",
      "metadata": {
        "colab": {
          "base_uri": "https://localhost:8080/"
        },
        "id": "2tffpth4ZpaE",
        "outputId": "01ed4f68-28d9-410b-f5d3-d65a947b5de3"
      },
      "source": [
        "df.info()"
      ],
      "execution_count": 1552,
      "outputs": [
        {
          "output_type": "stream",
          "text": [
            "<class 'pandas.core.frame.DataFrame'>\n",
            "RangeIndex: 1470 entries, 0 to 1469\n",
            "Data columns (total 35 columns):\n",
            " #   Column                    Non-Null Count  Dtype \n",
            "---  ------                    --------------  ----- \n",
            " 0   Age                       1470 non-null   int64 \n",
            " 1   Attrition                 1470 non-null   object\n",
            " 2   BusinessTravel            1470 non-null   object\n",
            " 3   DailyRate                 1470 non-null   int64 \n",
            " 4   Department                1470 non-null   object\n",
            " 5   DistanceFromHome          1470 non-null   int64 \n",
            " 6   Education                 1470 non-null   int64 \n",
            " 7   EducationField            1470 non-null   object\n",
            " 8   EmployeeCount             1470 non-null   int64 \n",
            " 9   EmployeeNumber            1470 non-null   int64 \n",
            " 10  EnvironmentSatisfaction   1470 non-null   int64 \n",
            " 11  Gender                    1470 non-null   object\n",
            " 12  HourlyRate                1470 non-null   int64 \n",
            " 13  JobInvolvement            1470 non-null   int64 \n",
            " 14  JobLevel                  1470 non-null   int64 \n",
            " 15  JobRole                   1470 non-null   object\n",
            " 16  JobSatisfaction           1470 non-null   int64 \n",
            " 17  MaritalStatus             1470 non-null   object\n",
            " 18  MonthlyIncome             1470 non-null   int64 \n",
            " 19  MonthlyRate               1470 non-null   int64 \n",
            " 20  NumCompaniesWorked        1470 non-null   int64 \n",
            " 21  Over18                    1470 non-null   object\n",
            " 22  OverTime                  1470 non-null   object\n",
            " 23  PercentSalaryHike         1470 non-null   int64 \n",
            " 24  PerformanceRating         1470 non-null   int64 \n",
            " 25  RelationshipSatisfaction  1470 non-null   int64 \n",
            " 26  StandardHours             1470 non-null   int64 \n",
            " 27  StockOptionLevel          1470 non-null   int64 \n",
            " 28  TotalWorkingYears         1470 non-null   int64 \n",
            " 29  TrainingTimesLastYear     1470 non-null   int64 \n",
            " 30  WorkLifeBalance           1470 non-null   int64 \n",
            " 31  YearsAtCompany            1470 non-null   int64 \n",
            " 32  YearsInCurrentRole        1470 non-null   int64 \n",
            " 33  YearsSinceLastPromotion   1470 non-null   int64 \n",
            " 34  YearsWithCurrManager      1470 non-null   int64 \n",
            "dtypes: int64(26), object(9)\n",
            "memory usage: 402.1+ KB\n"
          ],
          "name": "stdout"
        }
      ]
    },
    {
      "cell_type": "code",
      "metadata": {
        "id": "pK7_UqEXMsXR"
      },
      "source": [
        "# remove cac hang co missing value (neu co)\n",
        "# df.dropna(axis=0, inplace = True) or\n",
        "df = df.dropna(axis=0)\n",
        "\n",
        "# df.dropna(axis=0) => Khong lam thay doi dataframe"
      ],
      "execution_count": 1553,
      "outputs": []
    },
    {
      "cell_type": "code",
      "metadata": {
        "id": "aGQu0u4OPQ0a"
      },
      "source": [
        "def replace_na(df, col, val):\n",
        "  df[col].replace(np.nan, val)\n",
        "  return df"
      ],
      "execution_count": 1554,
      "outputs": []
    },
    {
      "cell_type": "code",
      "metadata": {
        "id": "z0OWwCd3RLG0"
      },
      "source": [
        "def convert_data_type(df, col, ntype):\n",
        "  df[col].astype(ntype)\n",
        "  return df"
      ],
      "execution_count": 1555,
      "outputs": []
    },
    {
      "cell_type": "code",
      "metadata": {
        "colab": {
          "base_uri": "https://localhost:8080/"
        },
        "id": "supoYvFhIA_e",
        "outputId": "521f5f3e-bfbe-4411-9d03-2801c62c430e"
      },
      "source": [
        "# Kiem tra cac hang trung lap nhau\n",
        "duplicateRows = df[df.duplicated()]\n",
        "if not duplicateRows.empty:\n",
        "  print(duplicateRows)\n",
        "else:\n",
        "  print('Khong co hang nao trung lap')\n"
      ],
      "execution_count": 1556,
      "outputs": [
        {
          "output_type": "stream",
          "text": [
            "Khong co hang nao trung lap\n"
          ],
          "name": "stdout"
        }
      ]
    },
    {
      "cell_type": "code",
      "metadata": {
        "id": "Czpw699Rjo3N"
      },
      "source": [
        "def binning(df, col, group_names):\n",
        "  bins = np.linspace(min(df[col]), max(df[col]), len(group_names) + 1)\n",
        "  df[col + '_binned'] = pd.cut(df[col], bins, labels=group_names, include_lowest=True)\n",
        "  "
      ],
      "execution_count": 1557,
      "outputs": []
    },
    {
      "cell_type": "markdown",
      "metadata": {
        "id": "FIc--zybKCqV"
      },
      "source": [
        "## **Thống kê mô tả**"
      ]
    },
    {
      "cell_type": "markdown",
      "metadata": {
        "id": "qmHO_97UZuV5"
      },
      "source": [
        "\n",
        "\n",
        "\n",
        "1.   Kiểm tra các số liệu \"bất thường\": xem xét số tối đa\n",
        "> Xem xét số tối đa, tối thiểu<br>\n",
        "> Tính hợp lý (validity)<br>\n",
        "> Tính nhất quán (consistency)<br>\n",
        "> Lẫn lộn biến\n",
        "\n",
        "2.   Xác định muc tiêu phân tích, thông điệp muốn chuyển tải\n",
        "3.   Xác định các biến số cần thiết\n",
        "4.   Xác định phương pháp thống kê\n",
        "> Tùy thuộc mục tiêu và biến số<br>\n",
        "> Mô tả: mean, standard deviation, median, proportion,..<br>\n",
        "> Tương quan: regression models<br>\n",
        "> So sánh 2 nhóm: \n",
        ">> Biến liên tục: T-test, Wilcoxon's signed rank test, permutation,..\n",
        ">> Biến phân nhóm: Chi-squared test, Binomial test\n",
        "5.   Xác định lệnh, hàm trong python\n",
        "\n",
        "\n",
        "\n",
        "\n",
        "\n",
        "\n",
        "\n"
      ]
    },
    {
      "cell_type": "code",
      "metadata": {
        "id": "XmAFw402aQgv"
      },
      "source": [
        "pd.set_option('precision', 3)"
      ],
      "execution_count": 1558,
      "outputs": []
    },
    {
      "cell_type": "markdown",
      "metadata": {
        "id": "H0eMydlONGGZ"
      },
      "source": [
        "**<h5> Categorical data**"
      ]
    },
    {
      "cell_type": "code",
      "metadata": {
        "colab": {
          "base_uri": "https://localhost:8080/",
          "height": 166
        },
        "id": "tSV55iedKJEg",
        "outputId": "029fd966-b6f6-47d8-cdeb-bd5338c9ec98"
      },
      "source": [
        "df.describe(percentiles=[.01, .25, .5, .75, .99], include='object')"
      ],
      "execution_count": 1559,
      "outputs": [
        {
          "output_type": "execute_result",
          "data": {
            "text/html": [
              "<div>\n",
              "<style scoped>\n",
              "    .dataframe tbody tr th:only-of-type {\n",
              "        vertical-align: middle;\n",
              "    }\n",
              "\n",
              "    .dataframe tbody tr th {\n",
              "        vertical-align: top;\n",
              "    }\n",
              "\n",
              "    .dataframe thead th {\n",
              "        text-align: right;\n",
              "    }\n",
              "</style>\n",
              "<table border=\"1\" class=\"dataframe\">\n",
              "  <thead>\n",
              "    <tr style=\"text-align: right;\">\n",
              "      <th></th>\n",
              "      <th>Attrition</th>\n",
              "      <th>BusinessTravel</th>\n",
              "      <th>Department</th>\n",
              "      <th>EducationField</th>\n",
              "      <th>Gender</th>\n",
              "      <th>JobRole</th>\n",
              "      <th>MaritalStatus</th>\n",
              "      <th>Over18</th>\n",
              "      <th>OverTime</th>\n",
              "    </tr>\n",
              "  </thead>\n",
              "  <tbody>\n",
              "    <tr>\n",
              "      <th>count</th>\n",
              "      <td>1470</td>\n",
              "      <td>1470</td>\n",
              "      <td>1470</td>\n",
              "      <td>1470</td>\n",
              "      <td>1470</td>\n",
              "      <td>1470</td>\n",
              "      <td>1470</td>\n",
              "      <td>1470</td>\n",
              "      <td>1470</td>\n",
              "    </tr>\n",
              "    <tr>\n",
              "      <th>unique</th>\n",
              "      <td>2</td>\n",
              "      <td>3</td>\n",
              "      <td>3</td>\n",
              "      <td>6</td>\n",
              "      <td>2</td>\n",
              "      <td>9</td>\n",
              "      <td>3</td>\n",
              "      <td>1</td>\n",
              "      <td>2</td>\n",
              "    </tr>\n",
              "    <tr>\n",
              "      <th>top</th>\n",
              "      <td>No</td>\n",
              "      <td>Travel_Rarely</td>\n",
              "      <td>Research &amp; Development</td>\n",
              "      <td>Life Sciences</td>\n",
              "      <td>Male</td>\n",
              "      <td>Sales Executive</td>\n",
              "      <td>Married</td>\n",
              "      <td>Y</td>\n",
              "      <td>No</td>\n",
              "    </tr>\n",
              "    <tr>\n",
              "      <th>freq</th>\n",
              "      <td>1233</td>\n",
              "      <td>1043</td>\n",
              "      <td>961</td>\n",
              "      <td>606</td>\n",
              "      <td>882</td>\n",
              "      <td>326</td>\n",
              "      <td>673</td>\n",
              "      <td>1470</td>\n",
              "      <td>1054</td>\n",
              "    </tr>\n",
              "  </tbody>\n",
              "</table>\n",
              "</div>"
            ],
            "text/plain": [
              "       Attrition BusinessTravel  ... Over18 OverTime\n",
              "count       1470           1470  ...   1470     1470\n",
              "unique         2              3  ...      1        2\n",
              "top           No  Travel_Rarely  ...      Y       No\n",
              "freq        1233           1043  ...   1470     1054\n",
              "\n",
              "[4 rows x 9 columns]"
            ]
          },
          "metadata": {
            "tags": []
          },
          "execution_count": 1559
        }
      ]
    },
    {
      "cell_type": "code",
      "metadata": {
        "colab": {
          "base_uri": "https://localhost:8080/",
          "height": 136
        },
        "id": "7JcbiK2CNmCq",
        "outputId": "462ac2a4-66a5-4a26-f6d8-50273c0fb13c"
      },
      "source": [
        "business_travel_count = df['BusinessTravel'].value_counts().to_frame()\n",
        "business_travel_count"
      ],
      "execution_count": 1560,
      "outputs": [
        {
          "output_type": "execute_result",
          "data": {
            "text/html": [
              "<div>\n",
              "<style scoped>\n",
              "    .dataframe tbody tr th:only-of-type {\n",
              "        vertical-align: middle;\n",
              "    }\n",
              "\n",
              "    .dataframe tbody tr th {\n",
              "        vertical-align: top;\n",
              "    }\n",
              "\n",
              "    .dataframe thead th {\n",
              "        text-align: right;\n",
              "    }\n",
              "</style>\n",
              "<table border=\"1\" class=\"dataframe\">\n",
              "  <thead>\n",
              "    <tr style=\"text-align: right;\">\n",
              "      <th></th>\n",
              "      <th>BusinessTravel</th>\n",
              "    </tr>\n",
              "  </thead>\n",
              "  <tbody>\n",
              "    <tr>\n",
              "      <th>Travel_Rarely</th>\n",
              "      <td>1043</td>\n",
              "    </tr>\n",
              "    <tr>\n",
              "      <th>Travel_Frequently</th>\n",
              "      <td>277</td>\n",
              "    </tr>\n",
              "    <tr>\n",
              "      <th>Non-Travel</th>\n",
              "      <td>150</td>\n",
              "    </tr>\n",
              "  </tbody>\n",
              "</table>\n",
              "</div>"
            ],
            "text/plain": [
              "                   BusinessTravel\n",
              "Travel_Rarely                1043\n",
              "Travel_Frequently             277\n",
              "Non-Travel                    150"
            ]
          },
          "metadata": {
            "tags": []
          },
          "execution_count": 1560
        }
      ]
    },
    {
      "cell_type": "code",
      "metadata": {
        "colab": {
          "base_uri": "https://localhost:8080/",
          "height": 136
        },
        "id": "zgH6X8tKOVsk",
        "outputId": "7819221e-c0b9-475d-f372-b39a014faae2"
      },
      "source": [
        "marital_status_count = df['MaritalStatus'].value_counts().to_frame()\n",
        "marital_status_count"
      ],
      "execution_count": 1561,
      "outputs": [
        {
          "output_type": "execute_result",
          "data": {
            "text/html": [
              "<div>\n",
              "<style scoped>\n",
              "    .dataframe tbody tr th:only-of-type {\n",
              "        vertical-align: middle;\n",
              "    }\n",
              "\n",
              "    .dataframe tbody tr th {\n",
              "        vertical-align: top;\n",
              "    }\n",
              "\n",
              "    .dataframe thead th {\n",
              "        text-align: right;\n",
              "    }\n",
              "</style>\n",
              "<table border=\"1\" class=\"dataframe\">\n",
              "  <thead>\n",
              "    <tr style=\"text-align: right;\">\n",
              "      <th></th>\n",
              "      <th>MaritalStatus</th>\n",
              "    </tr>\n",
              "  </thead>\n",
              "  <tbody>\n",
              "    <tr>\n",
              "      <th>Married</th>\n",
              "      <td>673</td>\n",
              "    </tr>\n",
              "    <tr>\n",
              "      <th>Single</th>\n",
              "      <td>470</td>\n",
              "    </tr>\n",
              "    <tr>\n",
              "      <th>Divorced</th>\n",
              "      <td>327</td>\n",
              "    </tr>\n",
              "  </tbody>\n",
              "</table>\n",
              "</div>"
            ],
            "text/plain": [
              "          MaritalStatus\n",
              "Married             673\n",
              "Single              470\n",
              "Divorced            327"
            ]
          },
          "metadata": {
            "tags": []
          },
          "execution_count": 1561
        }
      ]
    },
    {
      "cell_type": "code",
      "metadata": {
        "colab": {
          "base_uri": "https://localhost:8080/",
          "height": 106
        },
        "id": "3SsRuH-yOWYl",
        "outputId": "7d985ed2-9515-4a37-ba05-8bc45913a2d2"
      },
      "source": [
        "over_time_count = df['OverTime'].value_counts().to_frame()\n",
        "over_time_count"
      ],
      "execution_count": 1562,
      "outputs": [
        {
          "output_type": "execute_result",
          "data": {
            "text/html": [
              "<div>\n",
              "<style scoped>\n",
              "    .dataframe tbody tr th:only-of-type {\n",
              "        vertical-align: middle;\n",
              "    }\n",
              "\n",
              "    .dataframe tbody tr th {\n",
              "        vertical-align: top;\n",
              "    }\n",
              "\n",
              "    .dataframe thead th {\n",
              "        text-align: right;\n",
              "    }\n",
              "</style>\n",
              "<table border=\"1\" class=\"dataframe\">\n",
              "  <thead>\n",
              "    <tr style=\"text-align: right;\">\n",
              "      <th></th>\n",
              "      <th>OverTime</th>\n",
              "    </tr>\n",
              "  </thead>\n",
              "  <tbody>\n",
              "    <tr>\n",
              "      <th>No</th>\n",
              "      <td>1054</td>\n",
              "    </tr>\n",
              "    <tr>\n",
              "      <th>Yes</th>\n",
              "      <td>416</td>\n",
              "    </tr>\n",
              "  </tbody>\n",
              "</table>\n",
              "</div>"
            ],
            "text/plain": [
              "     OverTime\n",
              "No       1054\n",
              "Yes       416"
            ]
          },
          "metadata": {
            "tags": []
          },
          "execution_count": 1562
        }
      ]
    },
    {
      "cell_type": "markdown",
      "metadata": {
        "id": "0MHnqn08NLg0"
      },
      "source": [
        "**<h5> Numeric data <h5>**"
      ]
    },
    {
      "cell_type": "code",
      "metadata": {
        "colab": {
          "base_uri": "https://localhost:8080/",
          "height": 363
        },
        "id": "hSTL8TrAEsjS",
        "outputId": "f192eae8-d770-4d93-c32a-ef895daeae95"
      },
      "source": [
        "df.describe(percentiles=[.01, .25, .5, .75, .99])"
      ],
      "execution_count": 1563,
      "outputs": [
        {
          "output_type": "execute_result",
          "data": {
            "text/html": [
              "<div>\n",
              "<style scoped>\n",
              "    .dataframe tbody tr th:only-of-type {\n",
              "        vertical-align: middle;\n",
              "    }\n",
              "\n",
              "    .dataframe tbody tr th {\n",
              "        vertical-align: top;\n",
              "    }\n",
              "\n",
              "    .dataframe thead th {\n",
              "        text-align: right;\n",
              "    }\n",
              "</style>\n",
              "<table border=\"1\" class=\"dataframe\">\n",
              "  <thead>\n",
              "    <tr style=\"text-align: right;\">\n",
              "      <th></th>\n",
              "      <th>Age</th>\n",
              "      <th>DailyRate</th>\n",
              "      <th>DistanceFromHome</th>\n",
              "      <th>Education</th>\n",
              "      <th>EmployeeCount</th>\n",
              "      <th>EmployeeNumber</th>\n",
              "      <th>EnvironmentSatisfaction</th>\n",
              "      <th>HourlyRate</th>\n",
              "      <th>JobInvolvement</th>\n",
              "      <th>JobLevel</th>\n",
              "      <th>JobSatisfaction</th>\n",
              "      <th>MonthlyIncome</th>\n",
              "      <th>MonthlyRate</th>\n",
              "      <th>NumCompaniesWorked</th>\n",
              "      <th>PercentSalaryHike</th>\n",
              "      <th>PerformanceRating</th>\n",
              "      <th>RelationshipSatisfaction</th>\n",
              "      <th>StandardHours</th>\n",
              "      <th>StockOptionLevel</th>\n",
              "      <th>TotalWorkingYears</th>\n",
              "      <th>TrainingTimesLastYear</th>\n",
              "      <th>WorkLifeBalance</th>\n",
              "      <th>YearsAtCompany</th>\n",
              "      <th>YearsInCurrentRole</th>\n",
              "      <th>YearsSinceLastPromotion</th>\n",
              "      <th>YearsWithCurrManager</th>\n",
              "    </tr>\n",
              "  </thead>\n",
              "  <tbody>\n",
              "    <tr>\n",
              "      <th>count</th>\n",
              "      <td>1470.000</td>\n",
              "      <td>1470.000</td>\n",
              "      <td>1470.000</td>\n",
              "      <td>1470.000</td>\n",
              "      <td>1470.0</td>\n",
              "      <td>1470.000</td>\n",
              "      <td>1470.000</td>\n",
              "      <td>1470.000</td>\n",
              "      <td>1470.000</td>\n",
              "      <td>1470.000</td>\n",
              "      <td>1470.000</td>\n",
              "      <td>1470.000</td>\n",
              "      <td>1470.000</td>\n",
              "      <td>1470.000</td>\n",
              "      <td>1470.00</td>\n",
              "      <td>1470.000</td>\n",
              "      <td>1470.000</td>\n",
              "      <td>1470.0</td>\n",
              "      <td>1470.000</td>\n",
              "      <td>1470.000</td>\n",
              "      <td>1470.000</td>\n",
              "      <td>1470.000</td>\n",
              "      <td>1470.000</td>\n",
              "      <td>1470.000</td>\n",
              "      <td>1470.000</td>\n",
              "      <td>1470.000</td>\n",
              "    </tr>\n",
              "    <tr>\n",
              "      <th>mean</th>\n",
              "      <td>36.924</td>\n",
              "      <td>802.486</td>\n",
              "      <td>9.193</td>\n",
              "      <td>2.913</td>\n",
              "      <td>1.0</td>\n",
              "      <td>1024.865</td>\n",
              "      <td>2.722</td>\n",
              "      <td>65.891</td>\n",
              "      <td>2.730</td>\n",
              "      <td>2.064</td>\n",
              "      <td>2.729</td>\n",
              "      <td>6502.931</td>\n",
              "      <td>14313.103</td>\n",
              "      <td>2.693</td>\n",
              "      <td>15.21</td>\n",
              "      <td>3.154</td>\n",
              "      <td>2.712</td>\n",
              "      <td>80.0</td>\n",
              "      <td>0.794</td>\n",
              "      <td>11.280</td>\n",
              "      <td>2.799</td>\n",
              "      <td>2.761</td>\n",
              "      <td>7.008</td>\n",
              "      <td>4.229</td>\n",
              "      <td>2.188</td>\n",
              "      <td>4.123</td>\n",
              "    </tr>\n",
              "    <tr>\n",
              "      <th>std</th>\n",
              "      <td>9.135</td>\n",
              "      <td>403.509</td>\n",
              "      <td>8.107</td>\n",
              "      <td>1.024</td>\n",
              "      <td>0.0</td>\n",
              "      <td>602.024</td>\n",
              "      <td>1.093</td>\n",
              "      <td>20.329</td>\n",
              "      <td>0.712</td>\n",
              "      <td>1.107</td>\n",
              "      <td>1.103</td>\n",
              "      <td>4707.957</td>\n",
              "      <td>7117.786</td>\n",
              "      <td>2.498</td>\n",
              "      <td>3.66</td>\n",
              "      <td>0.361</td>\n",
              "      <td>1.081</td>\n",
              "      <td>0.0</td>\n",
              "      <td>0.852</td>\n",
              "      <td>7.781</td>\n",
              "      <td>1.289</td>\n",
              "      <td>0.706</td>\n",
              "      <td>6.127</td>\n",
              "      <td>3.623</td>\n",
              "      <td>3.222</td>\n",
              "      <td>3.568</td>\n",
              "    </tr>\n",
              "    <tr>\n",
              "      <th>min</th>\n",
              "      <td>18.000</td>\n",
              "      <td>102.000</td>\n",
              "      <td>1.000</td>\n",
              "      <td>1.000</td>\n",
              "      <td>1.0</td>\n",
              "      <td>1.000</td>\n",
              "      <td>1.000</td>\n",
              "      <td>30.000</td>\n",
              "      <td>1.000</td>\n",
              "      <td>1.000</td>\n",
              "      <td>1.000</td>\n",
              "      <td>1009.000</td>\n",
              "      <td>2094.000</td>\n",
              "      <td>0.000</td>\n",
              "      <td>11.00</td>\n",
              "      <td>3.000</td>\n",
              "      <td>1.000</td>\n",
              "      <td>80.0</td>\n",
              "      <td>0.000</td>\n",
              "      <td>0.000</td>\n",
              "      <td>0.000</td>\n",
              "      <td>1.000</td>\n",
              "      <td>0.000</td>\n",
              "      <td>0.000</td>\n",
              "      <td>0.000</td>\n",
              "      <td>0.000</td>\n",
              "    </tr>\n",
              "    <tr>\n",
              "      <th>1%</th>\n",
              "      <td>19.000</td>\n",
              "      <td>117.000</td>\n",
              "      <td>1.000</td>\n",
              "      <td>1.000</td>\n",
              "      <td>1.0</td>\n",
              "      <td>19.690</td>\n",
              "      <td>1.000</td>\n",
              "      <td>30.000</td>\n",
              "      <td>1.000</td>\n",
              "      <td>1.000</td>\n",
              "      <td>1.000</td>\n",
              "      <td>1382.460</td>\n",
              "      <td>2325.070</td>\n",
              "      <td>0.000</td>\n",
              "      <td>11.00</td>\n",
              "      <td>3.000</td>\n",
              "      <td>1.000</td>\n",
              "      <td>80.0</td>\n",
              "      <td>0.000</td>\n",
              "      <td>1.000</td>\n",
              "      <td>0.000</td>\n",
              "      <td>1.000</td>\n",
              "      <td>0.000</td>\n",
              "      <td>0.000</td>\n",
              "      <td>0.000</td>\n",
              "      <td>0.000</td>\n",
              "    </tr>\n",
              "    <tr>\n",
              "      <th>25%</th>\n",
              "      <td>30.000</td>\n",
              "      <td>465.000</td>\n",
              "      <td>2.000</td>\n",
              "      <td>2.000</td>\n",
              "      <td>1.0</td>\n",
              "      <td>491.250</td>\n",
              "      <td>2.000</td>\n",
              "      <td>48.000</td>\n",
              "      <td>2.000</td>\n",
              "      <td>1.000</td>\n",
              "      <td>2.000</td>\n",
              "      <td>2911.000</td>\n",
              "      <td>8047.000</td>\n",
              "      <td>1.000</td>\n",
              "      <td>12.00</td>\n",
              "      <td>3.000</td>\n",
              "      <td>2.000</td>\n",
              "      <td>80.0</td>\n",
              "      <td>0.000</td>\n",
              "      <td>6.000</td>\n",
              "      <td>2.000</td>\n",
              "      <td>2.000</td>\n",
              "      <td>3.000</td>\n",
              "      <td>2.000</td>\n",
              "      <td>0.000</td>\n",
              "      <td>2.000</td>\n",
              "    </tr>\n",
              "    <tr>\n",
              "      <th>50%</th>\n",
              "      <td>36.000</td>\n",
              "      <td>802.000</td>\n",
              "      <td>7.000</td>\n",
              "      <td>3.000</td>\n",
              "      <td>1.0</td>\n",
              "      <td>1020.500</td>\n",
              "      <td>3.000</td>\n",
              "      <td>66.000</td>\n",
              "      <td>3.000</td>\n",
              "      <td>2.000</td>\n",
              "      <td>3.000</td>\n",
              "      <td>4919.000</td>\n",
              "      <td>14235.500</td>\n",
              "      <td>2.000</td>\n",
              "      <td>14.00</td>\n",
              "      <td>3.000</td>\n",
              "      <td>3.000</td>\n",
              "      <td>80.0</td>\n",
              "      <td>1.000</td>\n",
              "      <td>10.000</td>\n",
              "      <td>3.000</td>\n",
              "      <td>3.000</td>\n",
              "      <td>5.000</td>\n",
              "      <td>3.000</td>\n",
              "      <td>1.000</td>\n",
              "      <td>3.000</td>\n",
              "    </tr>\n",
              "    <tr>\n",
              "      <th>75%</th>\n",
              "      <td>43.000</td>\n",
              "      <td>1157.000</td>\n",
              "      <td>14.000</td>\n",
              "      <td>4.000</td>\n",
              "      <td>1.0</td>\n",
              "      <td>1555.750</td>\n",
              "      <td>4.000</td>\n",
              "      <td>83.750</td>\n",
              "      <td>3.000</td>\n",
              "      <td>3.000</td>\n",
              "      <td>4.000</td>\n",
              "      <td>8379.000</td>\n",
              "      <td>20461.500</td>\n",
              "      <td>4.000</td>\n",
              "      <td>18.00</td>\n",
              "      <td>3.000</td>\n",
              "      <td>4.000</td>\n",
              "      <td>80.0</td>\n",
              "      <td>1.000</td>\n",
              "      <td>15.000</td>\n",
              "      <td>3.000</td>\n",
              "      <td>3.000</td>\n",
              "      <td>9.000</td>\n",
              "      <td>7.000</td>\n",
              "      <td>3.000</td>\n",
              "      <td>7.000</td>\n",
              "    </tr>\n",
              "    <tr>\n",
              "      <th>99%</th>\n",
              "      <td>58.310</td>\n",
              "      <td>1485.000</td>\n",
              "      <td>29.000</td>\n",
              "      <td>5.000</td>\n",
              "      <td>1.0</td>\n",
              "      <td>2046.620</td>\n",
              "      <td>4.000</td>\n",
              "      <td>100.000</td>\n",
              "      <td>4.000</td>\n",
              "      <td>5.000</td>\n",
              "      <td>4.000</td>\n",
              "      <td>19626.310</td>\n",
              "      <td>26704.240</td>\n",
              "      <td>9.000</td>\n",
              "      <td>25.00</td>\n",
              "      <td>4.000</td>\n",
              "      <td>4.000</td>\n",
              "      <td>80.0</td>\n",
              "      <td>3.000</td>\n",
              "      <td>35.000</td>\n",
              "      <td>6.000</td>\n",
              "      <td>4.000</td>\n",
              "      <td>31.000</td>\n",
              "      <td>15.000</td>\n",
              "      <td>14.000</td>\n",
              "      <td>14.000</td>\n",
              "    </tr>\n",
              "    <tr>\n",
              "      <th>max</th>\n",
              "      <td>60.000</td>\n",
              "      <td>1499.000</td>\n",
              "      <td>29.000</td>\n",
              "      <td>5.000</td>\n",
              "      <td>1.0</td>\n",
              "      <td>2068.000</td>\n",
              "      <td>4.000</td>\n",
              "      <td>100.000</td>\n",
              "      <td>4.000</td>\n",
              "      <td>5.000</td>\n",
              "      <td>4.000</td>\n",
              "      <td>19999.000</td>\n",
              "      <td>26999.000</td>\n",
              "      <td>9.000</td>\n",
              "      <td>25.00</td>\n",
              "      <td>4.000</td>\n",
              "      <td>4.000</td>\n",
              "      <td>80.0</td>\n",
              "      <td>3.000</td>\n",
              "      <td>40.000</td>\n",
              "      <td>6.000</td>\n",
              "      <td>4.000</td>\n",
              "      <td>40.000</td>\n",
              "      <td>18.000</td>\n",
              "      <td>15.000</td>\n",
              "      <td>17.000</td>\n",
              "    </tr>\n",
              "  </tbody>\n",
              "</table>\n",
              "</div>"
            ],
            "text/plain": [
              "            Age  DailyRate  ...  YearsSinceLastPromotion  YearsWithCurrManager\n",
              "count  1470.000   1470.000  ...                 1470.000              1470.000\n",
              "mean     36.924    802.486  ...                    2.188                 4.123\n",
              "std       9.135    403.509  ...                    3.222                 3.568\n",
              "min      18.000    102.000  ...                    0.000                 0.000\n",
              "1%       19.000    117.000  ...                    0.000                 0.000\n",
              "25%      30.000    465.000  ...                    0.000                 2.000\n",
              "50%      36.000    802.000  ...                    1.000                 3.000\n",
              "75%      43.000   1157.000  ...                    3.000                 7.000\n",
              "99%      58.310   1485.000  ...                   14.000                14.000\n",
              "max      60.000   1499.000  ...                   15.000                17.000\n",
              "\n",
              "[10 rows x 26 columns]"
            ]
          },
          "metadata": {
            "tags": []
          },
          "execution_count": 1563
        }
      ]
    },
    {
      "cell_type": "markdown",
      "metadata": {
        "id": "OgBl1u86eM0b"
      },
      "source": [
        "## **Define function**"
      ]
    },
    {
      "cell_type": "code",
      "metadata": {
        "id": "1b9d0YcQjqXr"
      },
      "source": [
        "# def plot_horizontal_bar_chart(x_, y_, xlabel, ylabel, savename):\n",
        "#   plt.figure(figsize=(6, 4))\n",
        "#   splot=sns.barplot(x=x_,y=y_)\n",
        "#   for p in splot.patches:\n",
        "#       width = p.get_width()    # get bar length\n",
        "#       splot.text(width + 1,       # set the text at 1 unit right of the bar\n",
        "#               p.get_y() + p.get_height() / 2, # get Y coordinate + X coordinate / 2\n",
        "#               '{:1.0f}'.format(width), # set variable to display, 2 decimals\n",
        "#               ha = 'left',   # horizontal alignment\n",
        "#               va = 'center')  # vertical alignment\n",
        "#   plt.xlabel(xlabel, size=10)\n",
        "#   plt.ylabel(ylabel, size=10)\n",
        "#   plt.savefig(savename)"
      ],
      "execution_count": 1564,
      "outputs": []
    },
    {
      "cell_type": "code",
      "metadata": {
        "id": "PEUJmYcDlkcf"
      },
      "source": [
        "def plot_horizontal_bar_chart(x_, y_, xlabel, ylabel, ax_, title):\n",
        "  # plt.figure(figsize=(6, 4))\n",
        "  splot=sns.barplot(x=x_,y=y_,ax=ax_)\n",
        "  for p in splot.patches:\n",
        "      width = p.get_width()    # get bar length\n",
        "      splot.text(width + 1,       # set the text at 1 unit right of the bar\n",
        "              p.get_y() + p.get_height() / 2, # get Y coordinate + X coordinate / 2\n",
        "              '{:1.0f}'.format(width), # set variable to display, 2 decimals\n",
        "              ha = 'left',   # horizontal alignment\n",
        "              va = 'center')  # vertical alignment\n",
        "  plt.xlabel(xlabel, size=10)\n",
        "  plt.ylabel(ylabel, size=10)\n",
        "  ax_.set_title(title)"
      ],
      "execution_count": 1565,
      "outputs": []
    },
    {
      "cell_type": "code",
      "metadata": {
        "id": "QqjhiXujqYJD"
      },
      "source": [
        "# def plot_pie_chart(labels, sizes):\n",
        "#   # pie chart of workers\n",
        "#   # param: labels: list of str\n",
        "#   #        sizes: list of value_counts\n",
        "  \n",
        "#   # print(sizes) # adds up to 1433, which is the total number of participants\n",
        "#   fig1, ax1 = plt.subplots()\n",
        "#   ax1.pie(sizes, labels=labels, autopct='%1.1f%%', shadow=True)\n",
        "#   ax1.axis('equal')\n",
        "#   plt.show()"
      ],
      "execution_count": 1566,
      "outputs": []
    },
    {
      "cell_type": "code",
      "metadata": {
        "id": "zWjXNuGOi9qj"
      },
      "source": [
        "def plot_pie_chart(labels, sizes, ax, title):\n",
        "  # pie chart of workers\n",
        "  # param: labels: list of str\n",
        "  #        sizes: list of value_counts\n",
        "  \n",
        "  # print(sizes) # adds up to 1433, which is the total number of participants\n",
        "  ax.pie(sizes, labels=labels, autopct='%1.1f%%', shadow=False)\n",
        "  ax.axis('equal')\n",
        "  ax.set_title(title)"
      ],
      "execution_count": 1567,
      "outputs": []
    },
    {
      "cell_type": "code",
      "metadata": {
        "id": "b5HHSFT1f7Hd"
      },
      "source": [
        "def plot_density_chart(x, ax_, title):\n",
        "  ax = sns.kdeplot(x, shade=False, color='crimson', ax=ax_)\n",
        "  kdeline = ax.lines[0]\n",
        "  mean = x.mean()\n",
        "  xs = kdeline.get_xdata()\n",
        "  ys = kdeline.get_ydata()\n",
        "  height = np.interp(mean, xs, ys)\n",
        "  ax.vlines(mean, 0, height, color='crimson', ls=':')\n",
        "  ax.fill_between(xs, 0, ys, facecolor='crimson', alpha=0.2)\n",
        "  ax_.set_title(title)"
      ],
      "execution_count": 1568,
      "outputs": []
    },
    {
      "cell_type": "code",
      "metadata": {
        "id": "uxo9Guqkb_Im"
      },
      "source": [
        "def plot_pyramid(df, tickvals, ticktext, title):\n",
        "  # Creating instance of the figure \n",
        "  fig = gp.Figure() \n",
        "    \n",
        "  # Adding Male data to the figure \n",
        "  fig.add_trace(gp.Bar(y= df.index.to_list(), x = -1 * df['Attrition'],  \n",
        "                      name = 'Attrition',  \n",
        "                      orientation = 'h')) \n",
        "    \n",
        "  # Adding Female data to the figure \n",
        "  fig.add_trace(gp.Bar(y = df.index.to_list(), x = df['NoAttrition'], \n",
        "                      name = 'No Attrition', orientation = 'h')) \n",
        "    \n",
        "  # Updating the layout for our graph \n",
        "  fig.update_layout(title = title, \n",
        "                  title_font_size = 22, barmode = 'relative', \n",
        "                  bargap = 0.0, bargroupgap = 0, \n",
        "                  # xaxis = dict(tickvals = [-300, -250, -200, -150, -100, -50, \n",
        "                  #                           0, 50, 100, 150, 200, 250, 300], \n",
        "                                  \n",
        "                  #               ticktext = [300, 250, 200, 150, 100, 50, \n",
        "                  #                           0, 50, 100, 150, 200, 250, 300],\n",
        "                  xaxis = dict(tickvals = tickvals, \n",
        "                                  \n",
        "                                ticktext = ticktext,\n",
        "                                  \n",
        "                                title = 'Amount', \n",
        "                                title_font_size = 14) \n",
        "                  ) \n",
        "    \n",
        "  fig.show()"
      ],
      "execution_count": 1569,
      "outputs": []
    },
    {
      "cell_type": "code",
      "metadata": {
        "id": "lkO6naHVo5lJ"
      },
      "source": [
        "def one_way_anova(df1, col):\n",
        "  anova_col_list.append(col)\n",
        "  result = df1.groupby(col)['Attrition'].apply(list)\n",
        "  anova = f_oneway(*result)\n",
        "  if anova.pvalue < 0.05:\n",
        "    if 'bins' in col:\n",
        "      impact_to_attrition.append(col[:len(col) - 5])\n",
        "    else:\n",
        "      impact_to_attrition.append(col)\n",
        "  return anova"
      ],
      "execution_count": 1570,
      "outputs": []
    },
    {
      "cell_type": "code",
      "metadata": {
        "id": "gA_3qRMbCn-T"
      },
      "source": [
        "def hypothesis_testing(df, target, col_list):\n",
        "  impact_list = []\n",
        "  for col in col_list:\n",
        "    col_name = col\n",
        "    if 'bins' in col:\n",
        "        col_name = col[:len(col) - 5]\n",
        "    if col_name == target: continue\n",
        "    print('* ', col_name)\n",
        "    result = df.groupby(col)[target].apply(list)\n",
        "    anova = f_oneway(*result)\n",
        "    print(anova)\n",
        "    if anova.pvalue < 0.05:\n",
        "        impact_list.append(col_name)\n",
        "        print('Bác bỏ H0')\n",
        "    else:\n",
        "        print('Chấp nhận H0 với xác suất có ý nghĩa {0}%'.format((1 - anova.pvalue)*100))\n",
        "    print('--------------------------------------------------')\n",
        "  return impact_list"
      ],
      "execution_count": 1571,
      "outputs": []
    },
    {
      "cell_type": "code",
      "metadata": {
        "id": "AaSWokaFJo2Z"
      },
      "source": [
        "def print_res(res, target):\n",
        "  print('Các yếu tố ảnh hưởng tới {0}: '.format(target))\n",
        "  for item in res:\n",
        "    print('- ', item)"
      ],
      "execution_count": 1572,
      "outputs": []
    },
    {
      "cell_type": "markdown",
      "metadata": {
        "id": "CXCOTaP3LAG3"
      },
      "source": [
        "## **EDA**"
      ]
    },
    {
      "cell_type": "markdown",
      "metadata": {
        "id": "OZivumfXa-NJ"
      },
      "source": [
        "**Attrition**"
      ]
    },
    {
      "cell_type": "code",
      "metadata": {
        "colab": {
          "base_uri": "https://localhost:8080/",
          "height": 106
        },
        "id": "SVOwzYnBa9FY",
        "outputId": "c07e6aee-8084-4a87-abad-fac1b027f97b"
      },
      "source": [
        "attrition_count = df['Attrition'].value_counts().to_frame()\n",
        "attrition_count"
      ],
      "execution_count": 1573,
      "outputs": [
        {
          "output_type": "execute_result",
          "data": {
            "text/html": [
              "<div>\n",
              "<style scoped>\n",
              "    .dataframe tbody tr th:only-of-type {\n",
              "        vertical-align: middle;\n",
              "    }\n",
              "\n",
              "    .dataframe tbody tr th {\n",
              "        vertical-align: top;\n",
              "    }\n",
              "\n",
              "    .dataframe thead th {\n",
              "        text-align: right;\n",
              "    }\n",
              "</style>\n",
              "<table border=\"1\" class=\"dataframe\">\n",
              "  <thead>\n",
              "    <tr style=\"text-align: right;\">\n",
              "      <th></th>\n",
              "      <th>Attrition</th>\n",
              "    </tr>\n",
              "  </thead>\n",
              "  <tbody>\n",
              "    <tr>\n",
              "      <th>No</th>\n",
              "      <td>1233</td>\n",
              "    </tr>\n",
              "    <tr>\n",
              "      <th>Yes</th>\n",
              "      <td>237</td>\n",
              "    </tr>\n",
              "  </tbody>\n",
              "</table>\n",
              "</div>"
            ],
            "text/plain": [
              "     Attrition\n",
              "No        1233\n",
              "Yes        237"
            ]
          },
          "metadata": {
            "tags": []
          },
          "execution_count": 1573
        }
      ]
    },
    {
      "cell_type": "code",
      "metadata": {
        "colab": {
          "base_uri": "https://localhost:8080/",
          "height": 313
        },
        "id": "SIaLGptSkGhr",
        "outputId": "ba1feb1b-ccda-417a-c35a-c6af585f12a9"
      },
      "source": [
        "fig1, axs = plt.subplots(constrained_layout=True)\n",
        "plot_horizontal_bar_chart(attrition_count['Attrition'], attrition_count.index.tolist(), 'Employee Attrition', 'Amount', axs,'employee_attrition_bar_chart.png')\n",
        "# plot_horizontal_bar_chart(attrition_count['Attrition'], attrition_count.index.tolist(), 'Employee Attrition', 'Amount', axs[1],'employee_attrition_bar_chart.png')"
      ],
      "execution_count": 1574,
      "outputs": [
        {
          "output_type": "display_data",
          "data": {
            "image/png": "[encoded data removed]",
            "text/plain": [
              "<Figure size 432x288 with 1 Axes>"
            ]
          },
          "metadata": {
            "tags": [],
            "needs_background": "light"
          }
        }
      ]
    },
    {
      "cell_type": "code",
      "metadata": {
        "colab": {
          "base_uri": "https://localhost:8080/",
          "height": 313
        },
        "id": "OT0JrFIGoQyC",
        "outputId": "c1c04e1e-2833-43a2-a415-1e4d180269ce"
      },
      "source": [
        "fig1, axs = plt.subplots(constrained_layout=True)\n",
        "plot_pie_chart(attrition_count.index.tolist(), attrition_count['Attrition'], axs, 'Employee Attrition (%)')\n",
        "# plot_pie_chart(over_time_count.index.tolist(), over_time_count['OverTime'], axs[1], 'Employee OverTime (%)')\n",
        "plt.show()"
      ],
      "execution_count": 1575,
      "outputs": [
        {
          "output_type": "display_data",
          "data": {
            "image/png": "[encoded data removed]",
            "text/plain": [
              "<Figure size 432x288 with 1 Axes>"
            ]
          },
          "metadata": {
            "tags": []
          }
        }
      ]
    },
    {
      "cell_type": "code",
      "metadata": {
        "id": "g8LhJO0qXJck"
      },
      "source": [
        "# attrition_count.index.tolist()"
      ],
      "execution_count": 1576,
      "outputs": []
    },
    {
      "cell_type": "code",
      "metadata": {
        "id": "gVhbnDrWXQjY"
      },
      "source": [
        "# attrition_count['Attrition'].to_list()"
      ],
      "execution_count": 1577,
      "outputs": []
    },
    {
      "cell_type": "markdown",
      "metadata": {
        "id": "KEqf7fqIr4cg"
      },
      "source": [
        "* Ta thấy rằng, tỉ lệ nhân viên nghỉ việc chiếm 16.1% thấp hơn rất nhiều so với tỉ lệ 83.9% của nhóm nhân viên không nghỉ việc => **imbalanced data**"
      ]
    },
    {
      "cell_type": "code",
      "metadata": {
        "id": "T73-wZMIdPoT"
      },
      "source": [
        "data = df"
      ],
      "execution_count": 1578,
      "outputs": []
    },
    {
      "cell_type": "markdown",
      "metadata": {
        "id": "MEJ21WueFUZp"
      },
      "source": [
        "**<h5> Age <h5>**"
      ]
    },
    {
      "cell_type": "code",
      "metadata": {
        "colab": {
          "base_uri": "https://localhost:8080/",
          "height": 313
        },
        "id": "onzLREq9QQOj",
        "outputId": "5be689cd-ecf3-4623-92c1-97acc0479eaf"
      },
      "source": [
        "fig1, axs = plt.subplots(2, 2, constrained_layout=True)\n",
        "plot_density_chart(df['Age'], axs[0][0], 'Age distribution')\n",
        "plot_density_chart(df[df['Gender'] == 'Male']['Age'], axs[1][0], 'Age distribution in male')\n",
        "plot_density_chart(df[df['Gender'] == 'Female']['Age'], axs[1][1], 'Age distribution in female')\n",
        "axs[0,1].set_visible(False)\n",
        "plt.show()"
      ],
      "execution_count": 1579,
      "outputs": [
        {
          "output_type": "display_data",
          "data": {
            "image/png": "[encoded data removed]",
            "text/plain": [
              "<Figure size 432x288 with 4 Axes>"
            ]
          },
          "metadata": {
            "tags": [],
            "needs_background": "light"
          }
        }
      ]
    },
    {
      "cell_type": "markdown",
      "metadata": {
        "id": "_hH6jUYkWi2E"
      },
      "source": [
        "* Phân phối về độ tuổi lệch phải (right-skewed) "
      ]
    },
    {
      "cell_type": "code",
      "metadata": {
        "id": "jWAiIY0Ka1eV",
        "colab": {
          "base_uri": "https://localhost:8080/",
          "height": 296
        },
        "outputId": "118881cf-a902-4546-be8e-600de03d4b17"
      },
      "source": [
        "sns.boxplot(x='Attrition', y='Age', data=df)"
      ],
      "execution_count": 1580,
      "outputs": [
        {
          "output_type": "execute_result",
          "data": {
            "text/plain": [
              "<matplotlib.axes._subplots.AxesSubplot at 0x7f6b334d4b10>"
            ]
          },
          "metadata": {
            "tags": []
          },
          "execution_count": 1580
        },
        {
          "output_type": "display_data",
          "data": {
            "image/png": "[encoded data removed]",
            "text/plain": [
              "<Figure size 432x288 with 1 Axes>"
            ]
          },
          "metadata": {
            "tags": [],
            "needs_background": "light"
          }
        }
      ]
    },
    {
      "cell_type": "markdown",
      "metadata": {
        "id": "kPs3qWD3EJSq"
      },
      "source": [
        "* Nhóm người đã nghỉ việc có tuổi trung bình thấp hơn nhóm còn lại\n",
        "* Có khả năng có một vài điểm dữ liệu bất thường (oulier) trong dữ liệu về độ tuổi của nhóm nhân viên nghỉ việc "
      ]
    },
    {
      "cell_type": "code",
      "metadata": {
        "colab": {
          "base_uri": "https://localhost:8080/",
          "height": 296
        },
        "id": "ZAEKUJhqfEsv",
        "outputId": "297097cb-d3b9-4907-9b3d-b9249094c2c8"
      },
      "source": [
        "sns.boxplot(x=\"Gender\", y=\"Age\", hue=\"Attrition\",\n",
        "                 data=df, palette=\"Set2\")"
      ],
      "execution_count": 1581,
      "outputs": [
        {
          "output_type": "execute_result",
          "data": {
            "text/plain": [
              "<matplotlib.axes._subplots.AxesSubplot at 0x7f6b3408ef50>"
            ]
          },
          "metadata": {
            "tags": []
          },
          "execution_count": 1581
        },
        {
          "output_type": "display_data",
          "data": {
            "image/png": "[encoded data removed]",
            "text/plain": [
              "<Figure size 432x288 with 1 Axes>"
            ]
          },
          "metadata": {
            "tags": [],
            "needs_background": "light"
          }
        }
      ]
    },
    {
      "cell_type": "markdown",
      "metadata": {
        "id": "Rv-2_2wP2UYH"
      },
      "source": [
        "* Không có nhiều sự khác biệt về độ tuổi trung bình của nhóm người nghỉ việc (và không nghỉ việc) giữa nam so với nữ"
      ]
    },
    {
      "cell_type": "markdown",
      "metadata": {
        "id": "WmlS38tD3nCM"
      },
      "source": [
        "**Gender**"
      ]
    },
    {
      "cell_type": "code",
      "metadata": {
        "colab": {
          "base_uri": "https://localhost:8080/",
          "height": 106
        },
        "id": "lY-4QJ6C32K5",
        "outputId": "d20e66d7-5279-466b-f297-9e6f436dabe7"
      },
      "source": [
        "gender_count = df['Gender'].value_counts().to_frame()\n",
        "gender_count"
      ],
      "execution_count": 1582,
      "outputs": [
        {
          "output_type": "execute_result",
          "data": {
            "text/html": [
              "<div>\n",
              "<style scoped>\n",
              "    .dataframe tbody tr th:only-of-type {\n",
              "        vertical-align: middle;\n",
              "    }\n",
              "\n",
              "    .dataframe tbody tr th {\n",
              "        vertical-align: top;\n",
              "    }\n",
              "\n",
              "    .dataframe thead th {\n",
              "        text-align: right;\n",
              "    }\n",
              "</style>\n",
              "<table border=\"1\" class=\"dataframe\">\n",
              "  <thead>\n",
              "    <tr style=\"text-align: right;\">\n",
              "      <th></th>\n",
              "      <th>Gender</th>\n",
              "    </tr>\n",
              "  </thead>\n",
              "  <tbody>\n",
              "    <tr>\n",
              "      <th>Male</th>\n",
              "      <td>882</td>\n",
              "    </tr>\n",
              "    <tr>\n",
              "      <th>Female</th>\n",
              "      <td>588</td>\n",
              "    </tr>\n",
              "  </tbody>\n",
              "</table>\n",
              "</div>"
            ],
            "text/plain": [
              "        Gender\n",
              "Male       882\n",
              "Female     588"
            ]
          },
          "metadata": {
            "tags": []
          },
          "execution_count": 1582
        }
      ]
    },
    {
      "cell_type": "code",
      "metadata": {
        "id": "bIcurVAq4cEa"
      },
      "source": [
        "male_df = df[df['Gender'] == 'Male']\n",
        "female_df = df[df['Gender'] == 'Female']"
      ],
      "execution_count": 1583,
      "outputs": []
    },
    {
      "cell_type": "code",
      "metadata": {
        "colab": {
          "base_uri": "https://localhost:8080/",
          "height": 513
        },
        "id": "OEOiL-C633Ig",
        "outputId": "ccd4b577-a6c5-4739-da9a-915a587f925c"
      },
      "source": [
        "fig1, axs = plt.subplots(2, 2, figsize=(10,7))\n",
        "plot_horizontal_bar_chart(gender_count['Gender'], gender_count.index.tolist(), 'Employee Gender', 'Amount', axs[0, 0],'Employee gender (Amount)')\n",
        "plot_horizontal_bar_chart(male_df['Attrition'].value_counts().to_frame()['Attrition'], male_df['Attrition'].value_counts().to_frame().index.to_list(), \n",
        "                          'Gender', 'Attrition', axs[1, 0], 'Male Attrition (Amount)')\n",
        "plot_horizontal_bar_chart(female_df['Attrition'].value_counts().to_frame()['Attrition'], female_df['Attrition'].value_counts().to_frame().index.to_list(), \n",
        "                          'Gender', 'Attrition', axs[1, 1], 'Female Attrition (Amount)')\n",
        "axs[0, 1].set_visible(False)\n",
        "plt.tight_layout()"
      ],
      "execution_count": 1584,
      "outputs": [
        {
          "output_type": "display_data",
          "data": {
            "image/png": "[encoded data removed]",
            "text/plain": [
              "<Figure size 720x504 with 4 Axes>"
            ]
          },
          "metadata": {
            "tags": [],
            "needs_background": "light"
          }
        }
      ]
    },
    {
      "cell_type": "code",
      "metadata": {
        "colab": {
          "base_uri": "https://localhost:8080/",
          "height": 457
        },
        "id": "oI9zhPZV4PyB",
        "outputId": "7eb16434-55d2-44cb-e860-2cd64ff89ddd"
      },
      "source": [
        "fig1, axs = plt.subplots(2, 2, constrained_layout=True, figsize=(8, 6))\n",
        "plot_pie_chart(gender_count.index.tolist(), gender_count['Gender'], axs[0, 0], 'Employee Gender (%)')\n",
        "plot_pie_chart(male_df['Attrition'].value_counts().to_frame().index.to_list(), male_df['Attrition'].value_counts().to_frame()['Attrition'],axs[1, 0], 'Male Attrition (%)')\n",
        "plot_pie_chart(female_df['Attrition'].value_counts().to_frame().index.to_list(), female_df['Attrition'].value_counts().to_frame()['Attrition'],axs[1, 1], 'Female Attrition (%)')\n",
        "axs[0,1].set_visible(False)\n",
        "plt.show()"
      ],
      "execution_count": 1585,
      "outputs": [
        {
          "output_type": "display_data",
          "data": {
            "image/png": "[encoded data removed]",
            "text/plain": [
              "<Figure size 576x432 with 4 Axes>"
            ]
          },
          "metadata": {
            "tags": [],
            "needs_background": "light"
          }
        }
      ]
    },
    {
      "cell_type": "markdown",
      "metadata": {
        "id": "9BFyMegmzOUe"
      },
      "source": [
        "**Department**"
      ]
    },
    {
      "cell_type": "code",
      "metadata": {
        "colab": {
          "base_uri": "https://localhost:8080/",
          "height": 136
        },
        "id": "tv7LEWGezcCZ",
        "outputId": "c0b720de-f50e-4fe1-9d10-a09aa78a597d"
      },
      "source": [
        "department_count = df['Department'].value_counts().to_frame()\n",
        "department_count"
      ],
      "execution_count": 1586,
      "outputs": [
        {
          "output_type": "execute_result",
          "data": {
            "text/html": [
              "<div>\n",
              "<style scoped>\n",
              "    .dataframe tbody tr th:only-of-type {\n",
              "        vertical-align: middle;\n",
              "    }\n",
              "\n",
              "    .dataframe tbody tr th {\n",
              "        vertical-align: top;\n",
              "    }\n",
              "\n",
              "    .dataframe thead th {\n",
              "        text-align: right;\n",
              "    }\n",
              "</style>\n",
              "<table border=\"1\" class=\"dataframe\">\n",
              "  <thead>\n",
              "    <tr style=\"text-align: right;\">\n",
              "      <th></th>\n",
              "      <th>Department</th>\n",
              "    </tr>\n",
              "  </thead>\n",
              "  <tbody>\n",
              "    <tr>\n",
              "      <th>Research &amp; Development</th>\n",
              "      <td>961</td>\n",
              "    </tr>\n",
              "    <tr>\n",
              "      <th>Sales</th>\n",
              "      <td>446</td>\n",
              "    </tr>\n",
              "    <tr>\n",
              "      <th>Human Resources</th>\n",
              "      <td>63</td>\n",
              "    </tr>\n",
              "  </tbody>\n",
              "</table>\n",
              "</div>"
            ],
            "text/plain": [
              "                        Department\n",
              "Research & Development         961\n",
              "Sales                          446\n",
              "Human Resources                 63"
            ]
          },
          "metadata": {
            "tags": []
          },
          "execution_count": 1586
        }
      ]
    },
    {
      "cell_type": "code",
      "metadata": {
        "id": "xEJdQuXX0AOc"
      },
      "source": [
        "dev_df = df[df['Department'] == 'Research & Development']\n",
        "sale_df = df[df['Department'] == 'Sales']\n",
        "hr_df = df[df['Department'] == 'Human Resources']"
      ],
      "execution_count": 1587,
      "outputs": []
    },
    {
      "cell_type": "code",
      "metadata": {
        "colab": {
          "base_uri": "https://localhost:8080/",
          "height": 513
        },
        "id": "zXUqe2v3Lb8J",
        "outputId": "1470e1e9-b569-4cad-e530-ffac254755c3"
      },
      "source": [
        "fig1, axs = plt.subplots(2, 3, figsize=(15,7))\n",
        "plot_horizontal_bar_chart(department_count['Department'], department_count.index.tolist(), 'Employee Department', 'Amount', axs[0, 0],'Employee department (Amount)')\n",
        "plot_horizontal_bar_chart(dev_df['Attrition'].value_counts().to_frame()['Attrition'], dev_df['Attrition'].value_counts().to_frame().index.to_list(), \n",
        "                          'Amount', 'Attrition', axs[1, 0], 'Dev Department Attrition (Amount)')\n",
        "plot_horizontal_bar_chart(sale_df['Attrition'].value_counts().to_frame()['Attrition'], sale_df['Attrition'].value_counts().to_frame().index.to_list(), \n",
        "                          'Amount', 'Attrition', axs[1, 1], 'Sales Department Attrition (Amount)')\n",
        "plot_horizontal_bar_chart(hr_df['Attrition'].value_counts().to_frame()['Attrition'], hr_df['Attrition'].value_counts().to_frame().index.to_list(), \n",
        "                          'Amount', 'Attrition', axs[1, 2], 'HR Department Attrition (Amount)')\n",
        "axs[0, 1].set_visible(False)\n",
        "axs[0, 2].set_visible(False)\n",
        "plt.tight_layout()"
      ],
      "execution_count": 1588,
      "outputs": [
        {
          "output_type": "display_data",
          "data": {
            "image/png": "[encoded data removed]",
            "text/plain": [
              "<Figure size 1080x504 with 6 Axes>"
            ]
          },
          "metadata": {
            "tags": [],
            "needs_background": "light"
          }
        }
      ]
    },
    {
      "cell_type": "code",
      "metadata": {
        "colab": {
          "base_uri": "https://localhost:8080/",
          "height": 441
        },
        "id": "ci9U0BimzwKN",
        "outputId": "55a0b125-478e-424e-82b7-c906019c490b"
      },
      "source": [
        "fig1, axs = plt.subplots(2, 3, figsize=(12,6))\n",
        "plot_pie_chart(department_count.index.tolist(), department_count['Department'], axs[0, 0], 'Employee Department (%)')\n",
        "plot_pie_chart(dev_df['Attrition'].value_counts().to_frame().index.to_list(), dev_df['Attrition'].value_counts().to_frame()['Attrition'],axs[1, 2], 'Dev Department Attrition(%)')\n",
        "plot_pie_chart(sale_df['Attrition'].value_counts().to_frame().index.to_list(), sale_df['Attrition'].value_counts().to_frame()['Attrition'],axs[1, 0], 'Sales Department Attrition(%)')\n",
        "plot_pie_chart(hr_df['Attrition'].value_counts().to_frame().index.to_list(), hr_df['Attrition'].value_counts().to_frame()['Attrition'],axs[1, 1], 'HR Department Attrition(%)')\n",
        "axs[0, 1].set_visible(False)\n",
        "axs[0, 2].set_visible(False)\n",
        "plt.tight_layout()\n",
        "plt.show()"
      ],
      "execution_count": 1589,
      "outputs": [
        {
          "output_type": "display_data",
          "data": {
            "image/png": "[encoded data removed]",
            "text/plain": [
              "<Figure size 864x432 with 6 Axes>"
            ]
          },
          "metadata": {
            "tags": [],
            "needs_background": "light"
          }
        }
      ]
    },
    {
      "cell_type": "markdown",
      "metadata": {
        "id": "UkNQ6zRq7jgE"
      },
      "source": [
        "**Job Role**"
      ]
    },
    {
      "cell_type": "code",
      "metadata": {
        "colab": {
          "base_uri": "https://localhost:8080/",
          "height": 314
        },
        "id": "Lm9jw3hYA5Nk",
        "outputId": "f8045dc5-4e60-4531-ced1-301e77612935"
      },
      "source": [
        "job_role_count = df['JobRole'].value_counts().to_frame()\n",
        "job_role_count['Attrition'] = list(map(lambda x: df[(df['JobRole'] == x) & (df['Attrition'] == 'Yes')]['JobRole'].value_counts()[x], job_role_count.index.tolist()))\n",
        "job_role_count['NoAttrition'] = job_role_count['JobRole'] - job_role_count['Attrition']\n",
        "job_role_count"
      ],
      "execution_count": 1590,
      "outputs": [
        {
          "output_type": "execute_result",
          "data": {
            "text/html": [
              "<div>\n",
              "<style scoped>\n",
              "    .dataframe tbody tr th:only-of-type {\n",
              "        vertical-align: middle;\n",
              "    }\n",
              "\n",
              "    .dataframe tbody tr th {\n",
              "        vertical-align: top;\n",
              "    }\n",
              "\n",
              "    .dataframe thead th {\n",
              "        text-align: right;\n",
              "    }\n",
              "</style>\n",
              "<table border=\"1\" class=\"dataframe\">\n",
              "  <thead>\n",
              "    <tr style=\"text-align: right;\">\n",
              "      <th></th>\n",
              "      <th>JobRole</th>\n",
              "      <th>Attrition</th>\n",
              "      <th>NoAttrition</th>\n",
              "    </tr>\n",
              "  </thead>\n",
              "  <tbody>\n",
              "    <tr>\n",
              "      <th>Sales Executive</th>\n",
              "      <td>326</td>\n",
              "      <td>57</td>\n",
              "      <td>269</td>\n",
              "    </tr>\n",
              "    <tr>\n",
              "      <th>Research Scientist</th>\n",
              "      <td>292</td>\n",
              "      <td>47</td>\n",
              "      <td>245</td>\n",
              "    </tr>\n",
              "    <tr>\n",
              "      <th>Laboratory Technician</th>\n",
              "      <td>259</td>\n",
              "      <td>62</td>\n",
              "      <td>197</td>\n",
              "    </tr>\n",
              "    <tr>\n",
              "      <th>Manufacturing Director</th>\n",
              "      <td>145</td>\n",
              "      <td>10</td>\n",
              "      <td>135</td>\n",
              "    </tr>\n",
              "    <tr>\n",
              "      <th>Healthcare Representative</th>\n",
              "      <td>131</td>\n",
              "      <td>9</td>\n",
              "      <td>122</td>\n",
              "    </tr>\n",
              "    <tr>\n",
              "      <th>Manager</th>\n",
              "      <td>102</td>\n",
              "      <td>5</td>\n",
              "      <td>97</td>\n",
              "    </tr>\n",
              "    <tr>\n",
              "      <th>Sales Representative</th>\n",
              "      <td>83</td>\n",
              "      <td>33</td>\n",
              "      <td>50</td>\n",
              "    </tr>\n",
              "    <tr>\n",
              "      <th>Research Director</th>\n",
              "      <td>80</td>\n",
              "      <td>2</td>\n",
              "      <td>78</td>\n",
              "    </tr>\n",
              "    <tr>\n",
              "      <th>Human Resources</th>\n",
              "      <td>52</td>\n",
              "      <td>12</td>\n",
              "      <td>40</td>\n",
              "    </tr>\n",
              "  </tbody>\n",
              "</table>\n",
              "</div>"
            ],
            "text/plain": [
              "                           JobRole  Attrition  NoAttrition\n",
              "Sales Executive                326         57          269\n",
              "Research Scientist             292         47          245\n",
              "Laboratory Technician          259         62          197\n",
              "Manufacturing Director         145         10          135\n",
              "Healthcare Representative      131          9          122\n",
              "Manager                        102          5           97\n",
              "Sales Representative            83         33           50\n",
              "Research Director               80          2           78\n",
              "Human Resources                 52         12           40"
            ]
          },
          "metadata": {
            "tags": []
          },
          "execution_count": 1590
        }
      ]
    },
    {
      "cell_type": "code",
      "metadata": {
        "id": "8g3EaZ4oS_2P"
      },
      "source": [
        "SE_df = job_role_count[job_role_count['JobRole'].index == 'Sales Executive']\n",
        "RS_df = job_role_count[job_role_count['JobRole'].index == 'Research Scientist']\n",
        "LT_df = job_role_count[job_role_count['JobRole'].index == 'Laboratory Technician']\n",
        "MD_df = job_role_count[job_role_count['JobRole'].index == 'Manufacturing Director']\n",
        "HRe_df = job_role_count[job_role_count['JobRole'].index == 'Healthcare Representative']\n",
        "M_df = job_role_count[job_role_count['JobRole'].index == 'Manager']\n",
        "SR_df = job_role_count[job_role_count['JobRole'].index == 'Sales Representative']\n",
        "RD_df = job_role_count[job_role_count['JobRole'].index == 'Research Director']\n",
        "HR_df = job_role_count[job_role_count['JobRole'].index == 'Human Resources']"
      ],
      "execution_count": 1591,
      "outputs": []
    },
    {
      "cell_type": "code",
      "metadata": {
        "colab": {
          "base_uri": "https://localhost:8080/",
          "height": 295
        },
        "id": "mrehJpJrBCRL",
        "outputId": "9b646931-0391-41b6-b5bf-2ee1806102c7"
      },
      "source": [
        "fig1, axs = plt.subplots()\n",
        "plot_horizontal_bar_chart(job_role_count['JobRole'], job_role_count.index.tolist(), 'Employee Job Role', 'Amount', axs,'Employee job role (Amount)')\n",
        "plt.show()"
      ],
      "execution_count": 1592,
      "outputs": [
        {
          "output_type": "display_data",
          "data": {
            "image/png": "[encoded data removed]",
            "text/plain": [
              "<Figure size 432x288 with 1 Axes>"
            ]
          },
          "metadata": {
            "tags": [],
            "needs_background": "light"
          }
        }
      ]
    },
    {
      "cell_type": "code",
      "metadata": {
        "colab": {
          "base_uri": "https://localhost:8080/",
          "height": 542
        },
        "id": "aWnTPzcRLFX7",
        "outputId": "5f40c466-8c3e-4511-ea1c-3967a088925b"
      },
      "source": [
        "tickvals = [-300, -250, -200, -150, -100, -50, 0, 50, 100, 150, 200, 250, 300]\n",
        "ticktext = [300, 250, 200, 150, 100, 50, 0, 50, 100, 150, 200, 250, 300]\n",
        "title = 'Attrition by Job Role Pyramid'\n",
        "plot_pyramid(job_role_count, tickvals, ticktext, title)"
      ],
      "execution_count": 1593,
      "outputs": [
        {
          "output_type": "display_data",
          "data": {
            "text/html": [
              "<html>\n",
              "<head><meta charset=\"utf-8\" /></head>\n",
              "<body>\n",
              "    <div>\n",
              "            <script src=\"https://cdnjs.cloudflare.com/ajax/libs/mathjax/2.7.5/MathJax.js?config=TeX-AMS-MML_SVG\"></script><script type=\"text/javascript\">if (window.MathJax) {MathJax.Hub.Config({SVG: {font: \"STIX-Web\"}});}</script>\n",
              "                <script type=\"text/javascript\">window.PlotlyConfig = {MathJaxConfig: 'local'};</script>\n",
              "        <script src=\"https://cdn.plot.ly/plotly-latest.min.js\"></script>    \n",
              "            <div id=\"ab6026bc-973b-47dc-b470-e9d5dde142b2\" class=\"plotly-graph-div\" style=\"height:525px; width:100%;\"></div>\n",
              "            <script type=\"text/javascript\">\n",
              "                \n",
              "                    window.PLOTLYENV=window.PLOTLYENV || {};\n",
              "                    \n",
              "                if (document.getElementById(\"ab6026bc-973b-47dc-b470-e9d5dde142b2\")) {\n",
              "                    Plotly.newPlot(\n",
              "                        'ab6026bc-973b-47dc-b470-e9d5dde142b2',\n",
              "                        [{\"name\": \"Attrition\", \"orientation\": \"h\", \"type\": \"bar\", \"x\": [-57, -47, -62, -10, -9, -5, -33, -2, -12], \"y\": [\"Sales Executive\", \"Research Scientist\", \"Laboratory Technician\", \"Manufacturing Director\", \"Healthcare Representative\", \"Manager\", \"Sales Representative\", \"Research Director\", \"Human Resources\"]}, {\"name\": \"No Attrition\", \"orientation\": \"h\", \"type\": \"bar\", \"x\": [269, 245, 197, 135, 122, 97, 50, 78, 40], \"y\": [\"Sales Executive\", \"Research Scientist\", \"Laboratory Technician\", \"Manufacturing Director\", \"Healthcare Representative\", \"Manager\", \"Sales Representative\", \"Research Director\", \"Human Resources\"]}],\n",
              "                        {\"bargap\": 0.0, \"bargroupgap\": 0, \"barmode\": \"relative\", \"template\": {\"data\": {\"bar\": [{\"error_x\": {\"color\": \"#2a3f5f\"}, \"error_y\": {\"color\": \"#2a3f5f\"}, \"marker\": {\"line\": {\"color\": \"#E5ECF6\", \"width\": 0.5}}, \"type\": \"bar\"}], \"barpolar\": [{\"marker\": {\"line\": {\"color\": \"#E5ECF6\", \"width\": 0.5}}, \"type\": \"barpolar\"}], \"carpet\": [{\"aaxis\": {\"endlinecolor\": \"#2a3f5f\", \"gridcolor\": \"white\", \"linecolor\": \"white\", \"minorgridcolor\": \"white\", \"startlinecolor\": \"#2a3f5f\"}, \"baxis\": {\"endlinecolor\": \"#2a3f5f\", \"gridcolor\": \"white\", \"linecolor\": \"white\", \"minorgridcolor\": \"white\", \"startlinecolor\": \"#2a3f5f\"}, \"type\": \"carpet\"}], \"choropleth\": [{\"colorbar\": {\"outlinewidth\": 0, \"ticks\": \"\"}, \"type\": \"choropleth\"}], \"contour\": [{\"colorbar\": {\"outlinewidth\": 0, \"ticks\": \"\"}, \"colorscale\": [[0.0, \"#0d0887\"], [0.1111111111111111, \"#46039f\"], [0.2222222222222222, \"#7201a8\"], [0.3333333333333333, \"#9c179e\"], [0.4444444444444444, \"#bd3786\"], [0.5555555555555556, \"#d8576b\"], [0.6666666666666666, \"#ed7953\"], [0.7777777777777778, \"#fb9f3a\"], [0.8888888888888888, \"#fdca26\"], [1.0, \"#f0f921\"]], \"type\": \"contour\"}], \"contourcarpet\": [{\"colorbar\": {\"outlinewidth\": 0, \"ticks\": \"\"}, \"type\": \"contourcarpet\"}], \"heatmap\": [{\"colorbar\": {\"outlinewidth\": 0, \"ticks\": \"\"}, \"colorscale\": [[0.0, \"#0d0887\"], [0.1111111111111111, \"#46039f\"], [0.2222222222222222, \"#7201a8\"], [0.3333333333333333, \"#9c179e\"], [0.4444444444444444, \"#bd3786\"], [0.5555555555555556, \"#d8576b\"], [0.6666666666666666, \"#ed7953\"], [0.7777777777777778, \"#fb9f3a\"], [0.8888888888888888, \"#fdca26\"], [1.0, \"#f0f921\"]], \"type\": \"heatmap\"}], \"heatmapgl\": [{\"colorbar\": {\"outlinewidth\": 0, \"ticks\": \"\"}, \"colorscale\": [[0.0, \"#0d0887\"], [0.1111111111111111, \"#46039f\"], [0.2222222222222222, \"#7201a8\"], [0.3333333333333333, \"#9c179e\"], [0.4444444444444444, \"#bd3786\"], [0.5555555555555556, \"#d8576b\"], [0.6666666666666666, \"#ed7953\"], [0.7777777777777778, \"#fb9f3a\"], [0.8888888888888888, \"#fdca26\"], [1.0, \"#f0f921\"]], \"type\": \"heatmapgl\"}], \"histogram\": [{\"marker\": {\"colorbar\": {\"outlinewidth\": 0, \"ticks\": \"\"}}, \"type\": \"histogram\"}], \"histogram2d\": [{\"colorbar\": {\"outlinewidth\": 0, \"ticks\": \"\"}, \"colorscale\": [[0.0, \"#0d0887\"], [0.1111111111111111, \"#46039f\"], [0.2222222222222222, \"#7201a8\"], [0.3333333333333333, \"#9c179e\"], [0.4444444444444444, \"#bd3786\"], [0.5555555555555556, \"#d8576b\"], [0.6666666666666666, \"#ed7953\"], [0.7777777777777778, \"#fb9f3a\"], [0.8888888888888888, \"#fdca26\"], [1.0, \"#f0f921\"]], \"type\": \"histogram2d\"}], \"histogram2dcontour\": [{\"colorbar\": {\"outlinewidth\": 0, \"ticks\": \"\"}, \"colorscale\": [[0.0, \"#0d0887\"], [0.1111111111111111, \"#46039f\"], [0.2222222222222222, \"#7201a8\"], [0.3333333333333333, \"#9c179e\"], [0.4444444444444444, \"#bd3786\"], [0.5555555555555556, \"#d8576b\"], [0.6666666666666666, \"#ed7953\"], [0.7777777777777778, \"#fb9f3a\"], [0.8888888888888888, \"#fdca26\"], [1.0, \"#f0f921\"]], \"type\": \"histogram2dcontour\"}], \"mesh3d\": [{\"colorbar\": {\"outlinewidth\": 0, \"ticks\": \"\"}, \"type\": \"mesh3d\"}], \"parcoords\": [{\"line\": {\"colorbar\": {\"outlinewidth\": 0, \"ticks\": \"\"}}, \"type\": \"parcoords\"}], \"pie\": [{\"automargin\": true, \"type\": \"pie\"}], \"scatter\": [{\"marker\": {\"colorbar\": {\"outlinewidth\": 0, \"ticks\": \"\"}}, \"type\": \"scatter\"}], \"scatter3d\": [{\"line\": {\"colorbar\": {\"outlinewidth\": 0, \"ticks\": \"\"}}, \"marker\": {\"colorbar\": {\"outlinewidth\": 0, \"ticks\": \"\"}}, \"type\": \"scatter3d\"}], \"scattercarpet\": [{\"marker\": {\"colorbar\": {\"outlinewidth\": 0, \"ticks\": \"\"}}, \"type\": \"scattercarpet\"}], \"scattergeo\": [{\"marker\": {\"colorbar\": {\"outlinewidth\": 0, \"ticks\": \"\"}}, \"type\": \"scattergeo\"}], \"scattergl\": [{\"marker\": {\"colorbar\": {\"outlinewidth\": 0, \"ticks\": \"\"}}, \"type\": \"scattergl\"}], \"scattermapbox\": [{\"marker\": {\"colorbar\": {\"outlinewidth\": 0, \"ticks\": \"\"}}, \"type\": \"scattermapbox\"}], \"scatterpolar\": [{\"marker\": {\"colorbar\": {\"outlinewidth\": 0, \"ticks\": \"\"}}, \"type\": \"scatterpolar\"}], \"scatterpolargl\": [{\"marker\": {\"colorbar\": {\"outlinewidth\": 0, \"ticks\": \"\"}}, \"type\": \"scatterpolargl\"}], \"scatterternary\": [{\"marker\": {\"colorbar\": {\"outlinewidth\": 0, \"ticks\": \"\"}}, \"type\": \"scatterternary\"}], \"surface\": [{\"colorbar\": {\"outlinewidth\": 0, \"ticks\": \"\"}, \"colorscale\": [[0.0, \"#0d0887\"], [0.1111111111111111, \"#46039f\"], [0.2222222222222222, \"#7201a8\"], [0.3333333333333333, \"#9c179e\"], [0.4444444444444444, \"#bd3786\"], [0.5555555555555556, \"#d8576b\"], [0.6666666666666666, \"#ed7953\"], [0.7777777777777778, \"#fb9f3a\"], [0.8888888888888888, \"#fdca26\"], [1.0, \"#f0f921\"]], \"type\": \"surface\"}], \"table\": [{\"cells\": {\"fill\": {\"color\": \"#EBF0F8\"}, \"line\": {\"color\": \"white\"}}, \"header\": {\"fill\": {\"color\": \"#C8D4E3\"}, \"line\": {\"color\": \"white\"}}, \"type\": \"table\"}]}, \"layout\": {\"annotationdefaults\": {\"arrowcolor\": \"#2a3f5f\", \"arrowhead\": 0, \"arrowwidth\": 1}, \"coloraxis\": {\"colorbar\": {\"outlinewidth\": 0, \"ticks\": \"\"}}, \"colorscale\": {\"diverging\": [[0, \"#8e0152\"], [0.1, \"#c51b7d\"], [0.2, \"#de77ae\"], [0.3, \"#f1b6da\"], [0.4, \"#fde0ef\"], [0.5, \"#f7f7f7\"], [0.6, \"#e6f5d0\"], [0.7, \"#b8e186\"], [0.8, \"#7fbc41\"], [0.9, \"#4d9221\"], [1, \"#276419\"]], \"sequential\": [[0.0, \"#0d0887\"], [0.1111111111111111, \"#46039f\"], [0.2222222222222222, \"#7201a8\"], [0.3333333333333333, \"#9c179e\"], [0.4444444444444444, \"#bd3786\"], [0.5555555555555556, \"#d8576b\"], [0.6666666666666666, \"#ed7953\"], [0.7777777777777778, \"#fb9f3a\"], [0.8888888888888888, \"#fdca26\"], [1.0, \"#f0f921\"]], \"sequentialminus\": [[0.0, \"#0d0887\"], [0.1111111111111111, \"#46039f\"], [0.2222222222222222, \"#7201a8\"], [0.3333333333333333, \"#9c179e\"], [0.4444444444444444, \"#bd3786\"], [0.5555555555555556, \"#d8576b\"], [0.6666666666666666, \"#ed7953\"], [0.7777777777777778, \"#fb9f3a\"], [0.8888888888888888, \"#fdca26\"], [1.0, \"#f0f921\"]]}, \"colorway\": [\"#636efa\", \"#EF553B\", \"#00cc96\", \"#ab63fa\", \"#FFA15A\", \"#19d3f3\", \"#FF6692\", \"#B6E880\", \"#FF97FF\", \"#FECB52\"], \"font\": {\"color\": \"#2a3f5f\"}, \"geo\": {\"bgcolor\": \"white\", \"lakecolor\": \"white\", \"landcolor\": \"#E5ECF6\", \"showlakes\": true, \"showland\": true, \"subunitcolor\": \"white\"}, \"hoverlabel\": {\"align\": \"left\"}, \"hovermode\": \"closest\", \"mapbox\": {\"style\": \"light\"}, \"paper_bgcolor\": \"white\", \"plot_bgcolor\": \"#E5ECF6\", \"polar\": {\"angularaxis\": {\"gridcolor\": \"white\", \"linecolor\": \"white\", \"ticks\": \"\"}, \"bgcolor\": \"#E5ECF6\", \"radialaxis\": {\"gridcolor\": \"white\", \"linecolor\": \"white\", \"ticks\": \"\"}}, \"scene\": {\"xaxis\": {\"backgroundcolor\": \"#E5ECF6\", \"gridcolor\": \"white\", \"gridwidth\": 2, \"linecolor\": \"white\", \"showbackground\": true, \"ticks\": \"\", \"zerolinecolor\": \"white\"}, \"yaxis\": {\"backgroundcolor\": \"#E5ECF6\", \"gridcolor\": \"white\", \"gridwidth\": 2, \"linecolor\": \"white\", \"showbackground\": true, \"ticks\": \"\", \"zerolinecolor\": \"white\"}, \"zaxis\": {\"backgroundcolor\": \"#E5ECF6\", \"gridcolor\": \"white\", \"gridwidth\": 2, \"linecolor\": \"white\", \"showbackground\": true, \"ticks\": \"\", \"zerolinecolor\": \"white\"}}, \"shapedefaults\": {\"line\": {\"color\": \"#2a3f5f\"}}, \"ternary\": {\"aaxis\": {\"gridcolor\": \"white\", \"linecolor\": \"white\", \"ticks\": \"\"}, \"baxis\": {\"gridcolor\": \"white\", \"linecolor\": \"white\", \"ticks\": \"\"}, \"bgcolor\": \"#E5ECF6\", \"caxis\": {\"gridcolor\": \"white\", \"linecolor\": \"white\", \"ticks\": \"\"}}, \"title\": {\"x\": 0.05}, \"xaxis\": {\"automargin\": true, \"gridcolor\": \"white\", \"linecolor\": \"white\", \"ticks\": \"\", \"title\": {\"standoff\": 15}, \"zerolinecolor\": \"white\", \"zerolinewidth\": 2}, \"yaxis\": {\"automargin\": true, \"gridcolor\": \"white\", \"linecolor\": \"white\", \"ticks\": \"\", \"title\": {\"standoff\": 15}, \"zerolinecolor\": \"white\", \"zerolinewidth\": 2}}}, \"title\": {\"font\": {\"size\": 22}, \"text\": \"Attrition by Job Role Pyramid\"}, \"xaxis\": {\"ticktext\": [300, 250, 200, 150, 100, 50, 0, 50, 100, 150, 200, 250, 300], \"tickvals\": [-300, -250, -200, -150, -100, -50, 0, 50, 100, 150, 200, 250, 300], \"title\": {\"font\": {\"size\": 14}, \"text\": \"Amount\"}}},\n",
              "                        {\"responsive\": true}\n",
              "                    ).then(function(){\n",
              "                            \n",
              "var gd = document.getElementById('ab6026bc-973b-47dc-b470-e9d5dde142b2');\n",
              "var x = new MutationObserver(function (mutations, observer) {{\n",
              "        var display = window.getComputedStyle(gd).display;\n",
              "        if (!display || display === 'none') {{\n",
              "            console.log([gd, 'removed!']);\n",
              "            Plotly.purge(gd);\n",
              "            observer.disconnect();\n",
              "        }}\n",
              "}});\n",
              "\n",
              "// Listen for the removal of the full notebook cells\n",
              "var notebookContainer = gd.closest('#notebook-container');\n",
              "if (notebookContainer) {{\n",
              "    x.observe(notebookContainer, {childList: true});\n",
              "}}\n",
              "\n",
              "// Listen for the clearing of the current output cell\n",
              "var outputEl = gd.closest('.output');\n",
              "if (outputEl) {{\n",
              "    x.observe(outputEl, {childList: true});\n",
              "}}\n",
              "\n",
              "                        })\n",
              "                };\n",
              "                \n",
              "            </script>\n",
              "        </div>\n",
              "</body>\n",
              "</html>"
            ]
          },
          "metadata": {
            "tags": []
          }
        }
      ]
    },
    {
      "cell_type": "code",
      "metadata": {
        "colab": {
          "base_uri": "https://localhost:8080/",
          "height": 1000
        },
        "id": "zOCAl4-dRyeG",
        "outputId": "7a0d8b88-6d11-4395-a1f5-6e409a906e22"
      },
      "source": [
        "fig1, axs = plt.subplots(4, 3, figsize=(12,15))\n",
        "plot_pie_chart(job_role_count.index.tolist(), job_role_count['JobRole'], axs[0, 0], 'Employee Job Role (%)')\n",
        "plot_pie_chart(['Yes', 'No'], [SE_df['Attrition'].item(), SE_df['NoAttrition'].item()], axs[1, 0], 'Sales Executive Attrition(%)')\n",
        "plot_pie_chart(['Yes', 'No'], [RS_df['Attrition'].item(), RS_df['NoAttrition'].item()], axs[1, 1], 'Research Scientist Attrition(%)')\n",
        "plot_pie_chart(['Yes', 'No'], [LT_df['Attrition'].item(), LT_df['NoAttrition'].item()], axs[1, 2], 'Laboratory Technician Attrition(%)')\n",
        "plot_pie_chart(['Yes', 'No'], [MD_df['Attrition'].item(), MD_df['NoAttrition'].item()], axs[2, 0], 'Manufacturing Director Attrition(%)')\n",
        "plot_pie_chart(['Yes', 'No'], [HRe_df['Attrition'].item(), HRe_df['NoAttrition'].item()], axs[2, 1], 'Healthcare Representative Attrition(%)')\n",
        "plot_pie_chart(['Yes', 'No'], [M_df['Attrition'].item(), M_df['NoAttrition'].item()], axs[2, 2], 'Manager Attrition(%)')\n",
        "plot_pie_chart(['Yes', 'No'], [SR_df['Attrition'].item(), SR_df['NoAttrition'].item()], axs[3, 0], 'Sales Representative Attrition(%)')\n",
        "plot_pie_chart(['Yes', 'No'], [RD_df['Attrition'].item(), RD_df['NoAttrition'].item()], axs[3, 1], 'Research Director Attrition(%)')\n",
        "plot_pie_chart(['Yes', 'No'], [HR_df['Attrition'].item(), HR_df['NoAttrition'].item()], axs[3, 2], 'Human Resources Attrition(%)')\n",
        "axs[0, 1].set_visible(False)\n",
        "axs[0, 2].set_visible(False)\n",
        "plt.tight_layout()\n",
        "plt.show()"
      ],
      "execution_count": 1594,
      "outputs": [
        {
          "output_type": "display_data",
          "data": {
            "image/png": "[encoded data removed]",
            "text/plain": [
              "<Figure size 864x1080 with 12 Axes>"
            ]
          },
          "metadata": {
            "tags": [],
            "needs_background": "light"
          }
        }
      ]
    },
    {
      "cell_type": "markdown",
      "metadata": {
        "id": "E42alR6lRYaE"
      },
      "source": [
        "* Các vị trí cấp cao (Manufacturing Director, Research Director, Manager), Healcare có tỉ lệ nghỉ việc thấp (< 7%)\n",
        "* Các vị trí công việc khác có tỉ lệ nghỉ việc tương đối cao"
      ]
    },
    {
      "cell_type": "markdown",
      "metadata": {
        "id": "3-gEhZMSZ6W2"
      },
      "source": [
        "**Education Field**"
      ]
    },
    {
      "cell_type": "code",
      "metadata": {
        "colab": {
          "base_uri": "https://localhost:8080/",
          "height": 225
        },
        "id": "Wmecz6gdaNZI",
        "outputId": "94d7a531-3f90-4b58-9235-e7b2222a96ce"
      },
      "source": [
        "education_field_count = df['EducationField'].value_counts().to_frame()\n",
        "education_field_count['Attrition'] = list(map(lambda x: df[(df['EducationField'] == x) & (df['Attrition'] == 'Yes')]['EducationField'].value_counts()[x], education_field_count.index.tolist()))\n",
        "education_field_count['NoAttrition'] = education_field_count['EducationField'] - education_field_count['Attrition']\n",
        "education_field_count"
      ],
      "execution_count": 1595,
      "outputs": [
        {
          "output_type": "execute_result",
          "data": {
            "text/html": [
              "<div>\n",
              "<style scoped>\n",
              "    .dataframe tbody tr th:only-of-type {\n",
              "        vertical-align: middle;\n",
              "    }\n",
              "\n",
              "    .dataframe tbody tr th {\n",
              "        vertical-align: top;\n",
              "    }\n",
              "\n",
              "    .dataframe thead th {\n",
              "        text-align: right;\n",
              "    }\n",
              "</style>\n",
              "<table border=\"1\" class=\"dataframe\">\n",
              "  <thead>\n",
              "    <tr style=\"text-align: right;\">\n",
              "      <th></th>\n",
              "      <th>EducationField</th>\n",
              "      <th>Attrition</th>\n",
              "      <th>NoAttrition</th>\n",
              "    </tr>\n",
              "  </thead>\n",
              "  <tbody>\n",
              "    <tr>\n",
              "      <th>Life Sciences</th>\n",
              "      <td>606</td>\n",
              "      <td>89</td>\n",
              "      <td>517</td>\n",
              "    </tr>\n",
              "    <tr>\n",
              "      <th>Medical</th>\n",
              "      <td>464</td>\n",
              "      <td>63</td>\n",
              "      <td>401</td>\n",
              "    </tr>\n",
              "    <tr>\n",
              "      <th>Marketing</th>\n",
              "      <td>159</td>\n",
              "      <td>35</td>\n",
              "      <td>124</td>\n",
              "    </tr>\n",
              "    <tr>\n",
              "      <th>Technical Degree</th>\n",
              "      <td>132</td>\n",
              "      <td>32</td>\n",
              "      <td>100</td>\n",
              "    </tr>\n",
              "    <tr>\n",
              "      <th>Other</th>\n",
              "      <td>82</td>\n",
              "      <td>11</td>\n",
              "      <td>71</td>\n",
              "    </tr>\n",
              "    <tr>\n",
              "      <th>Human Resources</th>\n",
              "      <td>27</td>\n",
              "      <td>7</td>\n",
              "      <td>20</td>\n",
              "    </tr>\n",
              "  </tbody>\n",
              "</table>\n",
              "</div>"
            ],
            "text/plain": [
              "                  EducationField  Attrition  NoAttrition\n",
              "Life Sciences                606         89          517\n",
              "Medical                      464         63          401\n",
              "Marketing                    159         35          124\n",
              "Technical Degree             132         32          100\n",
              "Other                         82         11           71\n",
              "Human Resources               27          7           20"
            ]
          },
          "metadata": {
            "tags": []
          },
          "execution_count": 1595
        }
      ]
    },
    {
      "cell_type": "code",
      "metadata": {
        "id": "xTxpYdDBat-H"
      },
      "source": [
        "LS_df = education_field_count[education_field_count.index == 'Life Sciences']\n",
        "Me_df = education_field_count[education_field_count.index == 'Medical']\n",
        "Ma_df = education_field_count[education_field_count.index == 'Marketing']\n",
        "TD_df = education_field_count[education_field_count.index == 'Technical Degree']\n",
        "O_df = education_field_count[education_field_count.index == 'Other']\n",
        "HR_df = education_field_count[education_field_count.index == 'Human Resources']"
      ],
      "execution_count": 1596,
      "outputs": []
    },
    {
      "cell_type": "code",
      "metadata": {
        "colab": {
          "base_uri": "https://localhost:8080/",
          "height": 295
        },
        "id": "4-Ophcrbatbc",
        "outputId": "2ad4150a-1cd4-4b5d-e8f0-98377e32f1d0"
      },
      "source": [
        "fig1, axs = plt.subplots()\n",
        "plot_horizontal_bar_chart(education_field_count['EducationField'], education_field_count.index.tolist(), 'Employee Education Field', 'Amount', axs,'Employee Education Field (Amount)')\n",
        "plt.show()"
      ],
      "execution_count": 1597,
      "outputs": [
        {
          "output_type": "display_data",
          "data": {
            "image/png": "[encoded data removed]",
            "text/plain": [
              "<Figure size 432x288 with 1 Axes>"
            ]
          },
          "metadata": {
            "tags": [],
            "needs_background": "light"
          }
        }
      ]
    },
    {
      "cell_type": "code",
      "metadata": {
        "colab": {
          "base_uri": "https://localhost:8080/",
          "height": 542
        },
        "id": "CBDF1keRcfyQ",
        "outputId": "859fbd25-8ad3-44cc-a5fc-d1f39934c1b9"
      },
      "source": [
        "tickvals = [-550, -500, -450, -400, -350, -300, -250, -200, -150, -100, -50, 0, 50, 100, 150, 200, 250, 300, 350, 400, 450, 500, 550]\n",
        "ticktext = [550, 500, 450, 400, 350, 300, 250, 200, 150, 100, 50, 0, 50, 100, 150, 200, 250, 300, 350, 400, 450, 500, 550]\n",
        "title = 'Attrition by Education Field Pyramid'\n",
        "plot_pyramid(education_field_count, tickvals, ticktext, title)"
      ],
      "execution_count": 1598,
      "outputs": [
        {
          "output_type": "display_data",
          "data": {
            "text/html": [
              "<html>\n",
              "<head><meta charset=\"utf-8\" /></head>\n",
              "<body>\n",
              "    <div>\n",
              "            <script src=\"https://cdnjs.cloudflare.com/ajax/libs/mathjax/2.7.5/MathJax.js?config=TeX-AMS-MML_SVG\"></script><script type=\"text/javascript\">if (window.MathJax) {MathJax.Hub.Config({SVG: {font: \"STIX-Web\"}});}</script>\n",
              "                <script type=\"text/javascript\">window.PlotlyConfig = {MathJaxConfig: 'local'};</script>\n",
              "        <script src=\"https://cdn.plot.ly/plotly-latest.min.js\"></script>    \n",
              "            <div id=\"af54d4dc-5f83-44c0-a4ef-4ee14f04396b\" class=\"plotly-graph-div\" style=\"height:525px; width:100%;\"></div>\n",
              "            <script type=\"text/javascript\">\n",
              "                \n",
              "                    window.PLOTLYENV=window.PLOTLYENV || {};\n",
              "                    \n",
              "                if (document.getElementById(\"af54d4dc-5f83-44c0-a4ef-4ee14f04396b\")) {\n",
              "                    Plotly.newPlot(\n",
              "                        'af54d4dc-5f83-44c0-a4ef-4ee14f04396b',\n",
              "                        [{\"name\": \"Attrition\", \"orientation\": \"h\", \"type\": \"bar\", \"x\": [-89, -63, -35, -32, -11, -7], \"y\": [\"Life Sciences\", \"Medical\", \"Marketing\", \"Technical Degree\", \"Other\", \"Human Resources\"]}, {\"name\": \"No Attrition\", \"orientation\": \"h\", \"type\": \"bar\", \"x\": [517, 401, 124, 100, 71, 20], \"y\": [\"Life Sciences\", \"Medical\", \"Marketing\", \"Technical Degree\", \"Other\", \"Human Resources\"]}],\n",
              "                        {\"bargap\": 0.0, \"bargroupgap\": 0, \"barmode\": \"relative\", \"template\": {\"data\": {\"bar\": [{\"error_x\": {\"color\": \"#2a3f5f\"}, \"error_y\": {\"color\": \"#2a3f5f\"}, \"marker\": {\"line\": {\"color\": \"#E5ECF6\", \"width\": 0.5}}, \"type\": \"bar\"}], \"barpolar\": [{\"marker\": {\"line\": {\"color\": \"#E5ECF6\", \"width\": 0.5}}, \"type\": \"barpolar\"}], \"carpet\": [{\"aaxis\": {\"endlinecolor\": \"#2a3f5f\", \"gridcolor\": \"white\", \"linecolor\": \"white\", \"minorgridcolor\": \"white\", \"startlinecolor\": \"#2a3f5f\"}, \"baxis\": {\"endlinecolor\": \"#2a3f5f\", \"gridcolor\": \"white\", \"linecolor\": \"white\", \"minorgridcolor\": \"white\", \"startlinecolor\": \"#2a3f5f\"}, \"type\": \"carpet\"}], \"choropleth\": [{\"colorbar\": {\"outlinewidth\": 0, \"ticks\": \"\"}, \"type\": \"choropleth\"}], \"contour\": [{\"colorbar\": {\"outlinewidth\": 0, \"ticks\": \"\"}, \"colorscale\": [[0.0, \"#0d0887\"], [0.1111111111111111, \"#46039f\"], [0.2222222222222222, \"#7201a8\"], [0.3333333333333333, \"#9c179e\"], [0.4444444444444444, \"#bd3786\"], [0.5555555555555556, \"#d8576b\"], [0.6666666666666666, \"#ed7953\"], [0.7777777777777778, \"#fb9f3a\"], [0.8888888888888888, \"#fdca26\"], [1.0, \"#f0f921\"]], \"type\": \"contour\"}], \"contourcarpet\": [{\"colorbar\": {\"outlinewidth\": 0, \"ticks\": \"\"}, \"type\": \"contourcarpet\"}], \"heatmap\": [{\"colorbar\": {\"outlinewidth\": 0, \"ticks\": \"\"}, \"colorscale\": [[0.0, \"#0d0887\"], [0.1111111111111111, \"#46039f\"], [0.2222222222222222, \"#7201a8\"], [0.3333333333333333, \"#9c179e\"], [0.4444444444444444, \"#bd3786\"], [0.5555555555555556, \"#d8576b\"], [0.6666666666666666, \"#ed7953\"], [0.7777777777777778, \"#fb9f3a\"], [0.8888888888888888, \"#fdca26\"], [1.0, \"#f0f921\"]], \"type\": \"heatmap\"}], \"heatmapgl\": [{\"colorbar\": {\"outlinewidth\": 0, \"ticks\": \"\"}, \"colorscale\": [[0.0, \"#0d0887\"], [0.1111111111111111, \"#46039f\"], [0.2222222222222222, \"#7201a8\"], [0.3333333333333333, \"#9c179e\"], [0.4444444444444444, \"#bd3786\"], [0.5555555555555556, \"#d8576b\"], [0.6666666666666666, \"#ed7953\"], [0.7777777777777778, \"#fb9f3a\"], [0.8888888888888888, \"#fdca26\"], [1.0, \"#f0f921\"]], \"type\": \"heatmapgl\"}], \"histogram\": [{\"marker\": {\"colorbar\": {\"outlinewidth\": 0, \"ticks\": \"\"}}, \"type\": \"histogram\"}], \"histogram2d\": [{\"colorbar\": {\"outlinewidth\": 0, \"ticks\": \"\"}, \"colorscale\": [[0.0, \"#0d0887\"], [0.1111111111111111, \"#46039f\"], [0.2222222222222222, \"#7201a8\"], [0.3333333333333333, \"#9c179e\"], [0.4444444444444444, \"#bd3786\"], [0.5555555555555556, \"#d8576b\"], [0.6666666666666666, \"#ed7953\"], [0.7777777777777778, \"#fb9f3a\"], [0.8888888888888888, \"#fdca26\"], [1.0, \"#f0f921\"]], \"type\": \"histogram2d\"}], \"histogram2dcontour\": [{\"colorbar\": {\"outlinewidth\": 0, \"ticks\": \"\"}, \"colorscale\": [[0.0, \"#0d0887\"], [0.1111111111111111, \"#46039f\"], [0.2222222222222222, \"#7201a8\"], [0.3333333333333333, \"#9c179e\"], [0.4444444444444444, \"#bd3786\"], [0.5555555555555556, \"#d8576b\"], [0.6666666666666666, \"#ed7953\"], [0.7777777777777778, \"#fb9f3a\"], [0.8888888888888888, \"#fdca26\"], [1.0, \"#f0f921\"]], \"type\": \"histogram2dcontour\"}], \"mesh3d\": [{\"colorbar\": {\"outlinewidth\": 0, \"ticks\": \"\"}, \"type\": \"mesh3d\"}], \"parcoords\": [{\"line\": {\"colorbar\": {\"outlinewidth\": 0, \"ticks\": \"\"}}, \"type\": \"parcoords\"}], \"pie\": [{\"automargin\": true, \"type\": \"pie\"}], \"scatter\": [{\"marker\": {\"colorbar\": {\"outlinewidth\": 0, \"ticks\": \"\"}}, \"type\": \"scatter\"}], \"scatter3d\": [{\"line\": {\"colorbar\": {\"outlinewidth\": 0, \"ticks\": \"\"}}, \"marker\": {\"colorbar\": {\"outlinewidth\": 0, \"ticks\": \"\"}}, \"type\": \"scatter3d\"}], \"scattercarpet\": [{\"marker\": {\"colorbar\": {\"outlinewidth\": 0, \"ticks\": \"\"}}, \"type\": \"scattercarpet\"}], \"scattergeo\": [{\"marker\": {\"colorbar\": {\"outlinewidth\": 0, \"ticks\": \"\"}}, \"type\": \"scattergeo\"}], \"scattergl\": [{\"marker\": {\"colorbar\": {\"outlinewidth\": 0, \"ticks\": \"\"}}, \"type\": \"scattergl\"}], \"scattermapbox\": [{\"marker\": {\"colorbar\": {\"outlinewidth\": 0, \"ticks\": \"\"}}, \"type\": \"scattermapbox\"}], \"scatterpolar\": [{\"marker\": {\"colorbar\": {\"outlinewidth\": 0, \"ticks\": \"\"}}, \"type\": \"scatterpolar\"}], \"scatterpolargl\": [{\"marker\": {\"colorbar\": {\"outlinewidth\": 0, \"ticks\": \"\"}}, \"type\": \"scatterpolargl\"}], \"scatterternary\": [{\"marker\": {\"colorbar\": {\"outlinewidth\": 0, \"ticks\": \"\"}}, \"type\": \"scatterternary\"}], \"surface\": [{\"colorbar\": {\"outlinewidth\": 0, \"ticks\": \"\"}, \"colorscale\": [[0.0, \"#0d0887\"], [0.1111111111111111, \"#46039f\"], [0.2222222222222222, \"#7201a8\"], [0.3333333333333333, \"#9c179e\"], [0.4444444444444444, \"#bd3786\"], [0.5555555555555556, \"#d8576b\"], [0.6666666666666666, \"#ed7953\"], [0.7777777777777778, \"#fb9f3a\"], [0.8888888888888888, \"#fdca26\"], [1.0, \"#f0f921\"]], \"type\": \"surface\"}], \"table\": [{\"cells\": {\"fill\": {\"color\": \"#EBF0F8\"}, \"line\": {\"color\": \"white\"}}, \"header\": {\"fill\": {\"color\": \"#C8D4E3\"}, \"line\": {\"color\": \"white\"}}, \"type\": \"table\"}]}, \"layout\": {\"annotationdefaults\": {\"arrowcolor\": \"#2a3f5f\", \"arrowhead\": 0, \"arrowwidth\": 1}, \"coloraxis\": {\"colorbar\": {\"outlinewidth\": 0, \"ticks\": \"\"}}, \"colorscale\": {\"diverging\": [[0, \"#8e0152\"], [0.1, \"#c51b7d\"], [0.2, \"#de77ae\"], [0.3, \"#f1b6da\"], [0.4, \"#fde0ef\"], [0.5, \"#f7f7f7\"], [0.6, \"#e6f5d0\"], [0.7, \"#b8e186\"], [0.8, \"#7fbc41\"], [0.9, \"#4d9221\"], [1, \"#276419\"]], \"sequential\": [[0.0, \"#0d0887\"], [0.1111111111111111, \"#46039f\"], [0.2222222222222222, \"#7201a8\"], [0.3333333333333333, \"#9c179e\"], [0.4444444444444444, \"#bd3786\"], [0.5555555555555556, \"#d8576b\"], [0.6666666666666666, \"#ed7953\"], [0.7777777777777778, \"#fb9f3a\"], [0.8888888888888888, \"#fdca26\"], [1.0, \"#f0f921\"]], \"sequentialminus\": [[0.0, \"#0d0887\"], [0.1111111111111111, \"#46039f\"], [0.2222222222222222, \"#7201a8\"], [0.3333333333333333, \"#9c179e\"], [0.4444444444444444, \"#bd3786\"], [0.5555555555555556, \"#d8576b\"], [0.6666666666666666, \"#ed7953\"], [0.7777777777777778, \"#fb9f3a\"], [0.8888888888888888, \"#fdca26\"], [1.0, \"#f0f921\"]]}, \"colorway\": [\"#636efa\", \"#EF553B\", \"#00cc96\", \"#ab63fa\", \"#FFA15A\", \"#19d3f3\", \"#FF6692\", \"#B6E880\", \"#FF97FF\", \"#FECB52\"], \"font\": {\"color\": \"#2a3f5f\"}, \"geo\": {\"bgcolor\": \"white\", \"lakecolor\": \"white\", \"landcolor\": \"#E5ECF6\", \"showlakes\": true, \"showland\": true, \"subunitcolor\": \"white\"}, \"hoverlabel\": {\"align\": \"left\"}, \"hovermode\": \"closest\", \"mapbox\": {\"style\": \"light\"}, \"paper_bgcolor\": \"white\", \"plot_bgcolor\": \"#E5ECF6\", \"polar\": {\"angularaxis\": {\"gridcolor\": \"white\", \"linecolor\": \"white\", \"ticks\": \"\"}, \"bgcolor\": \"#E5ECF6\", \"radialaxis\": {\"gridcolor\": \"white\", \"linecolor\": \"white\", \"ticks\": \"\"}}, \"scene\": {\"xaxis\": {\"backgroundcolor\": \"#E5ECF6\", \"gridcolor\": \"white\", \"gridwidth\": 2, \"linecolor\": \"white\", \"showbackground\": true, \"ticks\": \"\", \"zerolinecolor\": \"white\"}, \"yaxis\": {\"backgroundcolor\": \"#E5ECF6\", \"gridcolor\": \"white\", \"gridwidth\": 2, \"linecolor\": \"white\", \"showbackground\": true, \"ticks\": \"\", \"zerolinecolor\": \"white\"}, \"zaxis\": {\"backgroundcolor\": \"#E5ECF6\", \"gridcolor\": \"white\", \"gridwidth\": 2, \"linecolor\": \"white\", \"showbackground\": true, \"ticks\": \"\", \"zerolinecolor\": \"white\"}}, \"shapedefaults\": {\"line\": {\"color\": \"#2a3f5f\"}}, \"ternary\": {\"aaxis\": {\"gridcolor\": \"white\", \"linecolor\": \"white\", \"ticks\": \"\"}, \"baxis\": {\"gridcolor\": \"white\", \"linecolor\": \"white\", \"ticks\": \"\"}, \"bgcolor\": \"#E5ECF6\", \"caxis\": {\"gridcolor\": \"white\", \"linecolor\": \"white\", \"ticks\": \"\"}}, \"title\": {\"x\": 0.05}, \"xaxis\": {\"automargin\": true, \"gridcolor\": \"white\", \"linecolor\": \"white\", \"ticks\": \"\", \"title\": {\"standoff\": 15}, \"zerolinecolor\": \"white\", \"zerolinewidth\": 2}, \"yaxis\": {\"automargin\": true, \"gridcolor\": \"white\", \"linecolor\": \"white\", \"ticks\": \"\", \"title\": {\"standoff\": 15}, \"zerolinecolor\": \"white\", \"zerolinewidth\": 2}}}, \"title\": {\"font\": {\"size\": 22}, \"text\": \"Attrition by Education Field Pyramid\"}, \"xaxis\": {\"ticktext\": [550, 500, 450, 400, 350, 300, 250, 200, 150, 100, 50, 0, 50, 100, 150, 200, 250, 300, 350, 400, 450, 500, 550], \"tickvals\": [-550, -500, -450, -400, -350, -300, -250, -200, -150, -100, -50, 0, 50, 100, 150, 200, 250, 300, 350, 400, 450, 500, 550], \"title\": {\"font\": {\"size\": 14}, \"text\": \"Amount\"}}},\n",
              "                        {\"responsive\": true}\n",
              "                    ).then(function(){\n",
              "                            \n",
              "var gd = document.getElementById('af54d4dc-5f83-44c0-a4ef-4ee14f04396b');\n",
              "var x = new MutationObserver(function (mutations, observer) {{\n",
              "        var display = window.getComputedStyle(gd).display;\n",
              "        if (!display || display === 'none') {{\n",
              "            console.log([gd, 'removed!']);\n",
              "            Plotly.purge(gd);\n",
              "            observer.disconnect();\n",
              "        }}\n",
              "}});\n",
              "\n",
              "// Listen for the removal of the full notebook cells\n",
              "var notebookContainer = gd.closest('#notebook-container');\n",
              "if (notebookContainer) {{\n",
              "    x.observe(notebookContainer, {childList: true});\n",
              "}}\n",
              "\n",
              "// Listen for the clearing of the current output cell\n",
              "var outputEl = gd.closest('.output');\n",
              "if (outputEl) {{\n",
              "    x.observe(outputEl, {childList: true});\n",
              "}}\n",
              "\n",
              "                        })\n",
              "                };\n",
              "                \n",
              "            </script>\n",
              "        </div>\n",
              "</body>\n",
              "</html>"
            ]
          },
          "metadata": {
            "tags": []
          }
        }
      ]
    },
    {
      "cell_type": "code",
      "metadata": {
        "colab": {
          "base_uri": "https://localhost:8080/",
          "height": 1000
        },
        "id": "vtu4AMV-cnMK",
        "outputId": "d4443d49-388c-49f2-ca28-d60f2a9ac270"
      },
      "source": [
        "fig1, axs = plt.subplots(3, 3, figsize=(12,15))\n",
        "plot_pie_chart(education_field_count.index.tolist(), education_field_count['EducationField'], axs[0, 0], 'Employee Education Field (%)')\n",
        "plot_pie_chart(['Yes', 'No'], [LS_df['Attrition'].item(), LS_df['NoAttrition'].item()], axs[1, 0], 'Life Science Attrition(%)')\n",
        "plot_pie_chart(['Yes', 'No'], [Me_df['Attrition'].item(), Me_df['NoAttrition'].item()], axs[1, 1], 'Medical Attrition(%)')\n",
        "plot_pie_chart(['Yes', 'No'], [Ma_df['Attrition'].item(), Ma_df['NoAttrition'].item()], axs[1, 2], 'Marketing Attrition(%)')\n",
        "plot_pie_chart(['Yes', 'No'], [TD_df['Attrition'].item(), TD_df['NoAttrition'].item()], axs[2, 0], 'Technical Degree Attrition(%)')\n",
        "plot_pie_chart(['Yes', 'No'], [O_df['Attrition'].item(), O_df['NoAttrition'].item()], axs[2, 1], 'Other Attrition(%)')\n",
        "plot_pie_chart(['Yes', 'No'], [HR_df['Attrition'].item(), HR_df['NoAttrition'].item()], axs[2, 2], 'HR Attrition(%)')\n",
        "axs[0, 1].set_visible(False)\n",
        "axs[0, 2].set_visible(False)\n",
        "plt.tight_layout()\n",
        "plt.show()"
      ],
      "execution_count": 1599,
      "outputs": [
        {
          "output_type": "display_data",
          "data": {
            "image/png": "[encoded data removed]",
            "text/plain": [
              "<Figure size 864x1080 with 9 Axes>"
            ]
          },
          "metadata": {
            "tags": [],
            "needs_background": "light"
          }
        }
      ]
    },
    {
      "cell_type": "markdown",
      "metadata": {
        "id": "FgD9f5DPgROG"
      },
      "source": [
        "**..**"
      ]
    },
    {
      "cell_type": "code",
      "metadata": {
        "colab": {
          "base_uri": "https://localhost:8080/",
          "height": 343
        },
        "id": "3q2G9jWrZVxF",
        "outputId": "ec35c61e-8e79-46d1-a931-f8444c56b639"
      },
      "source": [
        "df2 = df_grp = df1[['Education', 'JobRole']].value_counts().to_frame(name='Amount').reset_index()\n",
        "df_grp = df2.groupby(['Education', 'JobRole'], as_index=False).sum()\n",
        "df_pivot = df_grp.pivot(index='JobRole', columns='Education', values='Amount')\n",
        "df_pivot"
      ],
      "execution_count": 1615,
      "outputs": [
        {
          "output_type": "execute_result",
          "data": {
            "text/html": [
              "<div>\n",
              "<style scoped>\n",
              "    .dataframe tbody tr th:only-of-type {\n",
              "        vertical-align: middle;\n",
              "    }\n",
              "\n",
              "    .dataframe tbody tr th {\n",
              "        vertical-align: top;\n",
              "    }\n",
              "\n",
              "    .dataframe thead th {\n",
              "        text-align: right;\n",
              "    }\n",
              "</style>\n",
              "<table border=\"1\" class=\"dataframe\">\n",
              "  <thead>\n",
              "    <tr style=\"text-align: right;\">\n",
              "      <th>Education</th>\n",
              "      <th>1</th>\n",
              "      <th>2</th>\n",
              "      <th>3</th>\n",
              "      <th>4</th>\n",
              "      <th>5</th>\n",
              "    </tr>\n",
              "    <tr>\n",
              "      <th>JobRole</th>\n",
              "      <th></th>\n",
              "      <th></th>\n",
              "      <th></th>\n",
              "      <th></th>\n",
              "      <th></th>\n",
              "    </tr>\n",
              "  </thead>\n",
              "  <tbody>\n",
              "    <tr>\n",
              "      <th>Healthcare Representative</th>\n",
              "      <td>15.0</td>\n",
              "      <td>21.0</td>\n",
              "      <td>48.0</td>\n",
              "      <td>44.0</td>\n",
              "      <td>3.0</td>\n",
              "    </tr>\n",
              "    <tr>\n",
              "      <th>Human Resources</th>\n",
              "      <td>5.0</td>\n",
              "      <td>12.0</td>\n",
              "      <td>22.0</td>\n",
              "      <td>10.0</td>\n",
              "      <td>3.0</td>\n",
              "    </tr>\n",
              "    <tr>\n",
              "      <th>Laboratory Technician</th>\n",
              "      <td>35.0</td>\n",
              "      <td>57.0</td>\n",
              "      <td>104.0</td>\n",
              "      <td>58.0</td>\n",
              "      <td>5.0</td>\n",
              "    </tr>\n",
              "    <tr>\n",
              "      <th>Manager</th>\n",
              "      <td>9.0</td>\n",
              "      <td>19.0</td>\n",
              "      <td>40.0</td>\n",
              "      <td>29.0</td>\n",
              "      <td>5.0</td>\n",
              "    </tr>\n",
              "    <tr>\n",
              "      <th>Manufacturing Director</th>\n",
              "      <td>15.0</td>\n",
              "      <td>33.0</td>\n",
              "      <td>54.0</td>\n",
              "      <td>38.0</td>\n",
              "      <td>5.0</td>\n",
              "    </tr>\n",
              "    <tr>\n",
              "      <th>Research Director</th>\n",
              "      <td>7.0</td>\n",
              "      <td>13.0</td>\n",
              "      <td>30.0</td>\n",
              "      <td>23.0</td>\n",
              "      <td>7.0</td>\n",
              "    </tr>\n",
              "    <tr>\n",
              "      <th>Research Scientist</th>\n",
              "      <td>37.0</td>\n",
              "      <td>46.0</td>\n",
              "      <td>122.0</td>\n",
              "      <td>79.0</td>\n",
              "      <td>8.0</td>\n",
              "    </tr>\n",
              "    <tr>\n",
              "      <th>Sales Executive</th>\n",
              "      <td>27.0</td>\n",
              "      <td>66.0</td>\n",
              "      <td>120.0</td>\n",
              "      <td>101.0</td>\n",
              "      <td>12.0</td>\n",
              "    </tr>\n",
              "    <tr>\n",
              "      <th>Sales Representative</th>\n",
              "      <td>20.0</td>\n",
              "      <td>15.0</td>\n",
              "      <td>32.0</td>\n",
              "      <td>16.0</td>\n",
              "      <td>NaN</td>\n",
              "    </tr>\n",
              "  </tbody>\n",
              "</table>\n",
              "</div>"
            ],
            "text/plain": [
              "Education                     1     2      3      4     5\n",
              "JobRole                                                  \n",
              "Healthcare Representative  15.0  21.0   48.0   44.0   3.0\n",
              "Human Resources             5.0  12.0   22.0   10.0   3.0\n",
              "Laboratory Technician      35.0  57.0  104.0   58.0   5.0\n",
              "Manager                     9.0  19.0   40.0   29.0   5.0\n",
              "Manufacturing Director     15.0  33.0   54.0   38.0   5.0\n",
              "Research Director           7.0  13.0   30.0   23.0   7.0\n",
              "Research Scientist         37.0  46.0  122.0   79.0   8.0\n",
              "Sales Executive            27.0  66.0  120.0  101.0  12.0\n",
              "Sales Representative       20.0  15.0   32.0   16.0   NaN"
            ]
          },
          "metadata": {
            "tags": []
          },
          "execution_count": 1615
        }
      ]
    },
    {
      "cell_type": "code",
      "metadata": {
        "colab": {
          "base_uri": "https://localhost:8080/",
          "height": 297
        },
        "id": "Vq0fjhXnQFYL",
        "outputId": "75e652aa-d4ca-444a-a28b-e5a351309a78"
      },
      "source": [
        "sns.heatmap(df_pivot, annot=True)"
      ],
      "execution_count": 1616,
      "outputs": [
        {
          "output_type": "execute_result",
          "data": {
            "text/plain": [
              "<matplotlib.axes._subplots.AxesSubplot at 0x7f6b34c20d10>"
            ]
          },
          "metadata": {
            "tags": []
          },
          "execution_count": 1616
        },
        {
          "output_type": "display_data",
          "data": {
            "image/png": "[encoded data removed]",
            "text/plain": [
              "<Figure size 432x288 with 2 Axes>"
            ]
          },
          "metadata": {
            "tags": [],
            "needs_background": "light"
          }
        }
      ]
    },
    {
      "cell_type": "markdown",
      "metadata": {
        "id": "w7_wzKb3Maja"
      },
      "source": [
        "## **Hypothesis testing**"
      ]
    },
    {
      "cell_type": "markdown",
      "metadata": {
        "id": "v8LL7B9X_lIK"
      },
      "source": [
        "**<h2> Attrition <h2>**"
      ]
    },
    {
      "cell_type": "code",
      "metadata": {
        "id": "c3UPj7TYgHtQ"
      },
      "source": [
        "df1 = pd.DataFrame(df)\n",
        "df1['Attrition'] = df1['Attrition'].apply(lambda x: 0 if x == 'No' else 1)"
      ],
      "execution_count": 1600,
      "outputs": []
    },
    {
      "cell_type": "markdown",
      "metadata": {
        "id": "VOjmzS9oMaR0"
      },
      "source": [
        "**Business Travel**\n",
        "\n",
        "\n",
        "*   null hypothesis (H0): không có sự khác biệt tỉ lệ nghỉ việc giữa các loại tần suất đi công tác\n",
        "*   alternative hypothesis: có ít nhất một sự khác biết về tỉ lệ nghỉ việc giữa các loại tần suất đi công tác\n",
        "\n"
      ]
    },
    {
      "cell_type": "code",
      "metadata": {
        "id": "PgkFCYNDMer6"
      },
      "source": [
        "# model = ols('Attrition~C(BusinessTravel)', data=df1).fit()"
      ],
      "execution_count": 1601,
      "outputs": []
    },
    {
      "cell_type": "code",
      "metadata": {
        "id": "Jj1jM_p6dvsT"
      },
      "source": [
        "# aov = sm.stats.anova_lm(model, typ=2)\n",
        "# aov"
      ],
      "execution_count": 1602,
      "outputs": []
    },
    {
      "cell_type": "code",
      "metadata": {
        "id": "rwu0m4WamDfb"
      },
      "source": [
        "# f_oneway(df1['Attrition'][df1['BusinessTravel'] == 'Travel_Rarely'],\n",
        "#          df1['Attrition'][df1['BusinessTravel'] == 'Travel_Frequently'],\n",
        "#         df1['Attrition'][df1['BusinessTravel'] == 'Non-Travel'])\n"
      ],
      "execution_count": 1603,
      "outputs": []
    },
    {
      "cell_type": "code",
      "metadata": {
        "colab": {
          "base_uri": "https://localhost:8080/"
        },
        "id": "SlPM-jbjorsj",
        "outputId": "fbf10363-55bf-4aa4-dd5d-dced3867cde2"
      },
      "source": [
        "one_way_anova(df1, 'BusinessTravel')"
      ],
      "execution_count": 1604,
      "outputs": [
        {
          "output_type": "execute_result",
          "data": {
            "text/plain": [
              "F_onewayResult(statistic=12.26835294184309, pvalue=5.1998333569549645e-06)"
            ]
          },
          "metadata": {
            "tags": []
          },
          "execution_count": 1604
        }
      ]
    },
    {
      "cell_type": "markdown",
      "metadata": {
        "id": "RX2VS5N-pTdR"
      },
      "source": [
        "* pvalue < 0.05 => bác bỏ H0 => có ít nhất một sự khác biết về tỉ lệ nghỉ việc giữa các loại tần suất đi công tác => **BusinessTravel có ảnh hưởng tới Attrition rate**"
      ]
    },
    {
      "cell_type": "markdown",
      "metadata": {
        "id": "MOEYgwfWsWE8"
      },
      "source": [
        "**Department**\n",
        "\n",
        "\n",
        "*   null hypothesis (H0): không có sự khác biệt tỉ lệ nghỉ việc giữa các phòng ban khác nhau\n",
        "*   alternative hypothesis: có ít nhất một sự khác biết về tỉ lệ nghỉ việc giữa các phòng ban khác nhau\n",
        "\n"
      ]
    },
    {
      "cell_type": "code",
      "metadata": {
        "colab": {
          "base_uri": "https://localhost:8080/"
        },
        "id": "taTs9Dw0sVxH",
        "outputId": "989ba0b5-e011-4969-f1e1-1d441d87e7ae"
      },
      "source": [
        "one_way_anova(df1, 'Department')"
      ],
      "execution_count": 1605,
      "outputs": [
        {
          "output_type": "execute_result",
          "data": {
            "text/plain": [
              "F_onewayResult(statistic=5.426843272582723, pvalue=0.004485674813058454)"
            ]
          },
          "metadata": {
            "tags": []
          },
          "execution_count": 1605
        }
      ]
    },
    {
      "cell_type": "markdown",
      "metadata": {
        "id": "-XbH5A3Vta7Y"
      },
      "source": [
        "* pvalue < 0.05 => bác bỏ H0 => có ít nhất một sự khác biết về tỉ lệ nghỉ việc giữa các phòng ban khác nhau => **Department có ảnh hưởng tới Attrition rate**"
      ]
    },
    {
      "cell_type": "markdown",
      "metadata": {
        "id": "x7y56HERtiWo"
      },
      "source": [
        "**Education Field**\n",
        "\n",
        "\n",
        "*   null hypothesis (H0): không có sự khác biệt tỉ lệ nghỉ việc giữa các lĩnh vực giáo dục khác nhau\n",
        "*   alternative hypothesis: có ít nhất một sự khác biết về tỉ lệ nghỉ việc giữa các lĩnh vực giáo dục khác nhau"
      ]
    },
    {
      "cell_type": "code",
      "metadata": {
        "colab": {
          "base_uri": "https://localhost:8080/"
        },
        "id": "-X0lsaxst5u-",
        "outputId": "d5ffda19-329f-4470-abe1-e38b1a771aaf"
      },
      "source": [
        "one_way_anova(df1, 'EducationField')"
      ],
      "execution_count": 1606,
      "outputs": [
        {
          "output_type": "execute_result",
          "data": {
            "text/plain": [
              "F_onewayResult(statistic=3.2270317788051086, pvalue=0.006665621672291533)"
            ]
          },
          "metadata": {
            "tags": []
          },
          "execution_count": 1606
        }
      ]
    },
    {
      "cell_type": "markdown",
      "metadata": {
        "id": "DiFFEj9nt_Zv"
      },
      "source": [
        "* pvalue < 0.05 => bác bỏ H0 => có ít nhất một sự khác biết về tỉ lệ nghỉ việc giữa các lĩnh vực giáo dục khác nhau => **EducationField có ảnh hưởng tới Attrition rate**"
      ]
    },
    {
      "cell_type": "markdown",
      "metadata": {
        "id": "w7AIis_PuKoQ"
      },
      "source": [
        "**Gender**\n",
        "\n",
        "\n",
        "*   null hypothesis (H0): không có sự khác biệt tỉ lệ nghỉ việc giữa nam và nữ\n",
        "*   alternative hypothesis: có ít nhất một sự khác biết về tỉ lệ nghỉ việc giữa nam và nữ"
      ]
    },
    {
      "cell_type": "code",
      "metadata": {
        "colab": {
          "base_uri": "https://localhost:8080/"
        },
        "id": "sYA26cziuJ96",
        "outputId": "b3f6e3eb-9515-4c11-f4d0-4f9589c7d64a"
      },
      "source": [
        "one_way_anova(df1, 'Gender')"
      ],
      "execution_count": 1607,
      "outputs": [
        {
          "output_type": "execute_result",
          "data": {
            "text/plain": [
              "F_onewayResult(statistic=1.2745870687662155, pvalue=0.2590923641414023)"
            ]
          },
          "metadata": {
            "tags": []
          },
          "execution_count": 1607
        }
      ]
    },
    {
      "cell_type": "markdown",
      "metadata": {
        "id": "TyB1cl4uuWoG"
      },
      "source": [
        "* pvalue > 0.05 => chấp nhận H0 với xác suất có ý nghĩa là 74% => không có sự khác biệt tỉ lệ nghỉ việc giữa nam và nữ => **Gender không ảnh hưởng tới Attrition rate**"
      ]
    },
    {
      "cell_type": "markdown",
      "metadata": {
        "id": "YMcb-zB5u5h3"
      },
      "source": [
        "**JobRole**\n",
        "\n",
        "\n",
        "*   null hypothesis (H0): không có sự khác biệt tỉ lệ nghỉ việc giữa các vai trò công việc\n",
        "*   alternative hypothesis: có ít nhất một sự khác biết về tỉ lệ nghỉ việc giữa các vai trò công việc"
      ]
    },
    {
      "cell_type": "code",
      "metadata": {
        "colab": {
          "base_uri": "https://localhost:8080/"
        },
        "id": "4zP3dJsUvFDt",
        "outputId": "aa95a519-480b-4e82-b824-d12e09b9af6d"
      },
      "source": [
        "one_way_anova(df1, 'JobRole')"
      ],
      "execution_count": 1608,
      "outputs": [
        {
          "output_type": "execute_result",
          "data": {
            "text/plain": [
              "F_onewayResult(statistic=11.374753732967797, pvalue=9.562555450860023e-16)"
            ]
          },
          "metadata": {
            "tags": []
          },
          "execution_count": 1608
        }
      ]
    },
    {
      "cell_type": "markdown",
      "metadata": {
        "id": "QVrj6Y8MvLS0"
      },
      "source": [
        "* pvalue < 0.05 => bác bỏ H0 => có ít nhất một sự khác biết về tỉ lệ nghỉ việc giữa các vai trò công việc khác nhau => **JobRole có ảnh hưởng tới Attrition rate**"
      ]
    },
    {
      "cell_type": "markdown",
      "metadata": {
        "id": "OqFEOd_LvVh3"
      },
      "source": [
        "**MaritalStatus**\n",
        "\n",
        "\n",
        "*   null hypothesis (H0): không có sự khác biệt tỉ lệ nghỉ việc giữa nhân viên đã và chưa kết hôn\n",
        "*   alternative hypothesis: có ít nhất một sự khác biết về tỉ lệ nghỉ việc giữa nhân viên đã và chưa kết hôn"
      ]
    },
    {
      "cell_type": "code",
      "metadata": {
        "colab": {
          "base_uri": "https://localhost:8080/"
        },
        "id": "MRBvZjURvpT5",
        "outputId": "3a627043-0735-44a7-f3ec-07315656fd65"
      },
      "source": [
        "one_way_anova(df1, 'MaritalStatus')"
      ],
      "execution_count": 1609,
      "outputs": [
        {
          "output_type": "execute_result",
          "data": {
            "text/plain": [
              "F_onewayResult(statistic=23.78156546845813, pvalue=6.850067559825624e-11)"
            ]
          },
          "metadata": {
            "tags": []
          },
          "execution_count": 1609
        }
      ]
    },
    {
      "cell_type": "markdown",
      "metadata": {
        "id": "S3OCHDoIvx3u"
      },
      "source": [
        "* pvalue < 0.05 => bác bỏ H0 => có ít nhất một sự khác biết về tỉ lệ nghỉ việc giữa nhân viên đã và chưa kết hôn => **MaritalStatus có ảnh hưởng tới Attrition rate**"
      ]
    },
    {
      "cell_type": "markdown",
      "metadata": {
        "id": "TLGDNdSVwQhS"
      },
      "source": [
        "**OverTime**\n",
        "\n",
        "\n",
        "*   null hypothesis (H0): không có sự khác biệt tỉ lệ nghỉ việc giữa nhân viên có tăng ca và không tăng ca\n",
        "*   alternative hypothesis: có ít nhất một sự khác biết về tỉ lệ nghỉ việc giữa nhân viên có tăng ca và không tăng ca"
      ]
    },
    {
      "cell_type": "code",
      "metadata": {
        "colab": {
          "base_uri": "https://localhost:8080/"
        },
        "id": "JjPgtyo2wlOu",
        "outputId": "b205f2d5-f9c2-42a0-f477-2cd1d290193f"
      },
      "source": [
        "one_way_anova(df1, 'OverTime')"
      ],
      "execution_count": 1610,
      "outputs": [
        {
          "output_type": "execute_result",
          "data": {
            "text/plain": [
              "F_onewayResult(statistic=94.65645707175152, pvalue=1.0092540336562444e-21)"
            ]
          },
          "metadata": {
            "tags": []
          },
          "execution_count": 1610
        }
      ]
    },
    {
      "cell_type": "markdown",
      "metadata": {
        "id": "SBFipM8Jwp3h"
      },
      "source": [
        "* pvalue < 0.05 => bác bỏ H0 => có ít nhất một sự khác biết về tỉ lệ nghỉ việc giữa nhân viên có tăng ca và không tăng ca => **MaritalStatus có ảnh hưởng tới Attrition rate**"
      ]
    },
    {
      "cell_type": "markdown",
      "metadata": {
        "id": "QsrT3hA9xfsy"
      },
      "source": [
        "**Age**\n",
        "\n",
        "\n",
        "*   null hypothesis (H0): không có sự khác biệt tỉ lệ nghỉ việc giữa các khoảng độ tuổi của nhân viên\n",
        "*   alternative hypothesis: có ít nhất một sự khác biết về tỉ lệ nghỉ việc giữa các khoảng độ tuổi của nhân viên"
      ]
    },
    {
      "cell_type": "code",
      "metadata": {
        "id": "TDjOk1ayJcHl"
      },
      "source": [
        "df1['Age_bins'] = pd.cut(x=df1['Age'], bins=[17, 28, 38, 48, 60])"
      ],
      "execution_count": 1611,
      "outputs": []
    },
    {
      "cell_type": "code",
      "metadata": {
        "colab": {
          "base_uri": "https://localhost:8080/"
        },
        "id": "KupGKbKOLuvF",
        "outputId": "2d036264-7c7c-4981-9286-c6f361003e9d"
      },
      "source": [
        "one_way_anova(df1, 'Age_bins')"
      ],
      "execution_count": 1612,
      "outputs": [
        {
          "output_type": "execute_result",
          "data": {
            "text/plain": [
              "F_onewayResult(statistic=13.37061686704299, pvalue=1.3038441648164675e-08)"
            ]
          },
          "metadata": {
            "tags": []
          },
          "execution_count": 1612
        }
      ]
    },
    {
      "cell_type": "markdown",
      "metadata": {
        "id": "ICSqED80L_JR"
      },
      "source": [
        "* pvalue < 0.05 => bác bỏ H0 => có ít nhất một sự khác biết về tỉ lệ nghỉ việc giữa các khoảng độ tuổi của nhân viên => **Age có ảnh hưởng tới Attrition rate**"
      ]
    },
    {
      "cell_type": "markdown",
      "metadata": {
        "id": "BAt5Kq6JMRsD"
      },
      "source": [
        "**DistanceFromHome**\n",
        "\n",
        "*   null hypothesis (H0): không có sự khác biệt tỉ lệ nghỉ việc giữa các khoảng về khoảng cách từ nhà đến công ty của nhân viên\n",
        "*   alternative hypothesis: có ít nhất một sự khác biết về tỉ lệ nghỉ việc giữa các khoảng về khoảng cách từ nhà đến công ty của nhân viên"
      ]
    },
    {
      "cell_type": "code",
      "metadata": {
        "id": "BtiO9BXhMxIJ"
      },
      "source": [
        "df1['DistanceFromHome_bins'] = pd.cut(x=df1['DistanceFromHome'], bins=[0, 7, 14, 21, 29])"
      ],
      "execution_count": 1613,
      "outputs": []
    },
    {
      "cell_type": "code",
      "metadata": {
        "colab": {
          "base_uri": "https://localhost:8080/"
        },
        "id": "NCrHhvmgNnSB",
        "outputId": "d932c71f-5f90-4409-a102-a742e649780d"
      },
      "source": [
        "one_way_anova(df1, 'DistanceFromHome_bins')"
      ],
      "execution_count": 1614,
      "outputs": [
        {
          "output_type": "execute_result",
          "data": {
            "text/plain": [
              "F_onewayResult(statistic=3.5259916140841407, pvalue=0.014468123188561357)"
            ]
          },
          "metadata": {
            "tags": []
          },
          "execution_count": 1614
        }
      ]
    },
    {
      "cell_type": "markdown",
      "metadata": {
        "id": "wEyADArnNtaS"
      },
      "source": [
        "* pvalue < 0.05 => bác bỏ H0 => có ít nhất một sự khác biết về tỉ lệ nghỉ việc giữa các khoảng về khoảng cách từ nhà đến công ty của nhân viên => **DistanceFromHome có ảnh hưởng tới Attrition rate**"
      ]
    },
    {
      "cell_type": "markdown",
      "metadata": {
        "id": "hhwNjydpOBfv"
      },
      "source": [
        "**Education**\n",
        "\n",
        "*   null hypothesis (H0): không có sự khác biệt tỉ lệ nghỉ việc giữa các trình độ học vấn khác nhau của nhân viên\n",
        "*   alternative hypothesis: có ít nhất một sự khác biết về tỉ lệ nghỉ việc các trình độ học vấn khác nhau của nhân viên"
      ]
    },
    {
      "cell_type": "code",
      "metadata": {
        "colab": {
          "base_uri": "https://localhost:8080/"
        },
        "id": "C3MF3IyPgg3q",
        "outputId": "7739df5a-a9b5-42bf-e317-7121a312a106"
      },
      "source": [
        "one_way_anova(df1, 'Education')"
      ],
      "execution_count": 1617,
      "outputs": [
        {
          "output_type": "execute_result",
          "data": {
            "text/plain": [
              "F_onewayResult(statistic=0.7674813402162518, pvalue=0.5463777137937058)"
            ]
          },
          "metadata": {
            "tags": []
          },
          "execution_count": 1617
        }
      ]
    },
    {
      "cell_type": "markdown",
      "metadata": {
        "id": "Ga9VWqpwgxSO"
      },
      "source": [
        "* pvalue > 0.05 => chấp nhận H0 với xác suất có ý nghĩa 45% => không có sự khác biết về tỉ lệ nghỉ việc giữa các trình độ học vấn khác nhau của nhân viên => **Education không ảnh hưởng tới Attrition rate**"
      ]
    },
    {
      "cell_type": "markdown",
      "metadata": {
        "id": "35nAmIFQglZ1"
      },
      "source": [
        "**EnvironmentSatisfaction**\n",
        "\n",
        "*   null hypothesis (H0): không có sự khác biệt tỉ lệ nghỉ việc giữa các mức độ hài lòng về môi trường làm việc khác nhau của nhân viên\n",
        "*   alternative hypothesis: có ít nhất một sự khác biệt về tỉ lệ nghỉ việc giữa các mức độ hài lòng về môi trường làm việc khác nhau của nhân viên"
      ]
    },
    {
      "cell_type": "code",
      "metadata": {
        "colab": {
          "base_uri": "https://localhost:8080/"
        },
        "id": "x7ZrbRhxiST7",
        "outputId": "4b00a268-a346-4da2-fa40-9cd11b3e1310"
      },
      "source": [
        "one_way_anova(df1, 'EnvironmentSatisfaction')"
      ],
      "execution_count": 1618,
      "outputs": [
        {
          "output_type": "execute_result",
          "data": {
            "text/plain": [
              "F_onewayResult(statistic=7.597185641660514, pvalue=4.8368800677021675e-05)"
            ]
          },
          "metadata": {
            "tags": []
          },
          "execution_count": 1618
        }
      ]
    },
    {
      "cell_type": "markdown",
      "metadata": {
        "id": "It4mqFS7jvQm"
      },
      "source": [
        "* pvalue < 0.05 => bác bỏ H0 => có ít nhất một sự khác biết về tỉ lệ nghỉ việc giữa các mức độ hài lòng về môi trường làm việc khác nhau của nhân viên => **EnvironmentSatisfaction có ảnh hưởng tới Attrition rate**"
      ]
    },
    {
      "cell_type": "markdown",
      "metadata": {
        "id": "cJPYaPDskK7i"
      },
      "source": [
        "**HourlyRate**\n",
        "\n",
        "*   null hypothesis (H0): không có sự khác biệt tỉ lệ nghỉ việc giữa các mức tiền công theo giờ khác nhau của nhân viên\n",
        "*   alternative hypothesis: có ít nhất một sự khác biệt về tỉ lệ nghỉ việc giữa các mức tiền công theo giờ khác nhau của nhân viên"
      ]
    },
    {
      "cell_type": "code",
      "metadata": {
        "id": "o_7Z0OPllBEf"
      },
      "source": [
        "df1['HourlyRate_bins'] = pd.cut(x=df1['HourlyRate'], bins=[29, 45, 60, 75, 90, 100])"
      ],
      "execution_count": 1619,
      "outputs": []
    },
    {
      "cell_type": "code",
      "metadata": {
        "colab": {
          "base_uri": "https://localhost:8080/"
        },
        "id": "svtADJJSlYNj",
        "outputId": "62b2d0de-31b2-4e64-b324-69acbe5586c3"
      },
      "source": [
        "df1['HourlyRate_bins'].describe()"
      ],
      "execution_count": 1620,
      "outputs": [
        {
          "output_type": "execute_result",
          "data": {
            "text/plain": [
              "count         1470\n",
              "unique           5\n",
              "top       (75, 90]\n",
              "freq           327\n",
              "Name: HourlyRate_bins, dtype: object"
            ]
          },
          "metadata": {
            "tags": []
          },
          "execution_count": 1620
        }
      ]
    },
    {
      "cell_type": "code",
      "metadata": {
        "colab": {
          "base_uri": "https://localhost:8080/"
        },
        "id": "-fjBJl4AlXmf",
        "outputId": "8828523b-7f35-4b49-fddc-b3f4d1469311"
      },
      "source": [
        "one_way_anova(df1, 'HourlyRate_bins')"
      ],
      "execution_count": 1621,
      "outputs": [
        {
          "output_type": "execute_result",
          "data": {
            "text/plain": [
              "F_onewayResult(statistic=0.7563183510859414, pvalue=0.553781137903282)"
            ]
          },
          "metadata": {
            "tags": []
          },
          "execution_count": 1621
        }
      ]
    },
    {
      "cell_type": "markdown",
      "metadata": {
        "id": "kMY4xFalmE40"
      },
      "source": [
        "* pvalue > 0.05 => chấp nhận H0 với xác suất có ý nghĩa là 45% => không có sự khác biết về tỉ lệ nghỉ việc giữa các mức tiền công theo giờ khác nhau của nhân viên => **HourlyRate không ảnh hưởng tới Attrition rate**"
      ]
    },
    {
      "cell_type": "markdown",
      "metadata": {
        "id": "7YeJNXXbmW4m"
      },
      "source": [
        "**JobInvolvement**\n",
        "\n",
        "*   null hypothesis (H0): không có sự khác biệt tỉ lệ nghỉ việc giữa các mức độ tham gia công việc khác nhau của nhân viên\n",
        "*   alternative hypothesis: có ít nhất một sự khác biệt về tỉ lệ nghỉ việc giữa các mức độ tham gia công việc khác nhau của nhân viên"
      ]
    },
    {
      "cell_type": "code",
      "metadata": {
        "colab": {
          "base_uri": "https://localhost:8080/"
        },
        "id": "9Cek5Lm7ml3v",
        "outputId": "c5c481b8-92c8-4693-c40c-625e2cd13e67"
      },
      "source": [
        "one_way_anova(df1, 'JobInvolvement')"
      ],
      "execution_count": 1622,
      "outputs": [
        {
          "output_type": "execute_result",
          "data": {
            "text/plain": [
              "F_onewayResult(statistic=9.658705500376106, pvalue=2.585146625138106e-06)"
            ]
          },
          "metadata": {
            "tags": []
          },
          "execution_count": 1622
        }
      ]
    },
    {
      "cell_type": "markdown",
      "metadata": {
        "id": "LKrp6eaDmzRe"
      },
      "source": [
        "* pvalue < 0.05 => bác bỏ H0 => có ít nhất một sự khác biết về tỉ lệ nghỉ việc giữa các mức độ tham gia công việc khác nhau của nhân viên => **JobInvolvement có ảnh hưởng tới Attrition rate**"
      ]
    },
    {
      "cell_type": "markdown",
      "metadata": {
        "id": "9L1lAmYsnULy"
      },
      "source": [
        "**JobLevel**\n",
        "\n",
        "*   null hypothesis (H0): không có sự khác biệt tỉ lệ nghỉ việc giữa các mức độ công việc khác nhau của nhân viên\n",
        "*   alternative hypothesis: có ít nhất một sự khác biệt về tỉ lệ nghỉ việc giữa các mức độ công việc khác nhau của nhân viên"
      ]
    },
    {
      "cell_type": "code",
      "metadata": {
        "colab": {
          "base_uri": "https://localhost:8080/"
        },
        "id": "2KhutPVFnQrT",
        "outputId": "ab5ac9f4-5e8e-45cb-e7e8-d6814be3c02b"
      },
      "source": [
        "one_way_anova(df1, 'JobLevel')"
      ],
      "execution_count": 1623,
      "outputs": [
        {
          "output_type": "execute_result",
          "data": {
            "text/plain": [
              "F_onewayResult(statistic=19.0084454700361, pvalue=2.975150100310332e-15)"
            ]
          },
          "metadata": {
            "tags": []
          },
          "execution_count": 1623
        }
      ]
    },
    {
      "cell_type": "markdown",
      "metadata": {
        "id": "eGIoJ3uTn4Kg"
      },
      "source": [
        "* pvalue < 0.05 => bác bỏ H0 => có ít nhất một sự khác biết về tỉ lệ nghỉ việc giữa các mức độ công việc khác nhau của nhân viên => **JobLevel có ảnh hưởng tới Attrition rate**"
      ]
    },
    {
      "cell_type": "markdown",
      "metadata": {
        "id": "qZY2RE_YoOVF"
      },
      "source": [
        "**JobSatisfaction**\n",
        "\n",
        "*   null hypothesis (H0): không có sự khác biệt tỉ lệ nghỉ việc giữa các mức độ hài lòng với công việc khác nhau của nhân viên\n",
        "*   alternative hypothesis: có ít nhất một sự khác biệt về tỉ lệ nghỉ việc giữa các mức độ hài lòng với công việc khác nhau của nhân viên"
      ]
    },
    {
      "cell_type": "code",
      "metadata": {
        "colab": {
          "base_uri": "https://localhost:8080/"
        },
        "id": "ebtrNyTAofT0",
        "outputId": "73527df1-5d81-4377-acb0-259b0593c6df"
      },
      "source": [
        "one_way_anova(df1, 'JobSatisfaction')"
      ],
      "execution_count": 1624,
      "outputs": [
        {
          "output_type": "execute_result",
          "data": {
            "text/plain": [
              "F_onewayResult(statistic=5.8892788518552335, pvalue=0.0005398918860203367)"
            ]
          },
          "metadata": {
            "tags": []
          },
          "execution_count": 1624
        }
      ]
    },
    {
      "cell_type": "markdown",
      "metadata": {
        "id": "pWanw4deoovP"
      },
      "source": [
        "* pvalue < 0.05 => bác bỏ H0 => có ít nhất một sự khác biết về tỉ lệ nghỉ việc giữa các mức độ hài lòng với công việc khác nhau của nhân viên => **JobSatisfaction có ảnh hưởng tới Attrition rate**"
      ]
    },
    {
      "cell_type": "markdown",
      "metadata": {
        "id": "9ADzKaVoo3UF"
      },
      "source": [
        "**MonthlyIncome**\n",
        "\n",
        "*   null hypothesis (H0): không có sự khác biệt tỉ lệ nghỉ việc giữa các mức thu nhập hàng tháng khác nhau của nhân viên\n",
        "*   alternative hypothesis: có ít nhất một sự khác biệt về tỉ lệ nghỉ việc giữa các mức thu nhập hàng tháng khác nhau của nhân viên"
      ]
    },
    {
      "cell_type": "code",
      "metadata": {
        "id": "pIYbgWJYpAk1"
      },
      "source": [
        "df1['MonthlyIncome_bins'] = pd.cut(x=df1['MonthlyIncome'], bins=[1000, 5000, 10000, 15000, 20000])"
      ],
      "execution_count": 1625,
      "outputs": []
    },
    {
      "cell_type": "code",
      "metadata": {
        "colab": {
          "base_uri": "https://localhost:8080/"
        },
        "id": "Y7zeGfEaqBCh",
        "outputId": "ab337e04-2f4d-40f6-fe68-4b931e3b4642"
      },
      "source": [
        "one_way_anova(df1, 'MonthlyIncome_bins')"
      ],
      "execution_count": 1626,
      "outputs": [
        {
          "output_type": "execute_result",
          "data": {
            "text/plain": [
              "F_onewayResult(statistic=14.190812243833498, pvalue=4.050982111143871e-09)"
            ]
          },
          "metadata": {
            "tags": []
          },
          "execution_count": 1626
        }
      ]
    },
    {
      "cell_type": "markdown",
      "metadata": {
        "id": "n8Xa5WssqGLt"
      },
      "source": [
        "* pvalue < 0.05 => bác bỏ H0 => có ít nhất một sự khác biết về tỉ lệ nghỉ việc giữa các mức thu nhập hàng tháng khác nhau của nhân viên => **MonthlyIncome có ảnh hưởng tới Attrition rate**"
      ]
    },
    {
      "cell_type": "markdown",
      "metadata": {
        "id": "0lOSeiBhqiAk"
      },
      "source": [
        "**MonthlyRate**\n",
        "\n",
        "*   null hypothesis (H0): không có sự khác biệt tỉ lệ nghỉ việc giữa các mức MonthlyRate khác nhau của nhân viên\n",
        "*   alternative hypothesis: có ít nhất một sự khác biệt về tỉ lệ nghỉ việc giữa các mức MonthlyRate khác nhau của nhân viên"
      ]
    },
    {
      "cell_type": "code",
      "metadata": {
        "id": "Jqkb8kA7rk0a"
      },
      "source": [
        "df1['MonthlyRate_bins'] = pd.cut(x=df1['MonthlyRate'], bins=5)"
      ],
      "execution_count": 1627,
      "outputs": []
    },
    {
      "cell_type": "code",
      "metadata": {
        "colab": {
          "base_uri": "https://localhost:8080/"
        },
        "id": "kOuKdelIsaLO",
        "outputId": "297b8920-065f-4990-9263-535a2775e018"
      },
      "source": [
        "one_way_anova(df1, 'MonthlyRate_bins')"
      ],
      "execution_count": 1628,
      "outputs": [
        {
          "output_type": "execute_result",
          "data": {
            "text/plain": [
              "F_onewayResult(statistic=0.5404973972365893, pvalue=0.706015808151448)"
            ]
          },
          "metadata": {
            "tags": []
          },
          "execution_count": 1628
        }
      ]
    },
    {
      "cell_type": "markdown",
      "metadata": {
        "id": "Py7yOl6csj2b"
      },
      "source": [
        "* pvalue > 0.05 => chấp nhận H0 với xác suất có ý nghĩa là 29% => không có sự khác biết về tỉ lệ nghỉ việc giữa các mức thu nhập hàng tháng khác nhau của nhân viên => **MonthlyRate không ảnh hưởng tới Attrition rate**"
      ]
    },
    {
      "cell_type": "markdown",
      "metadata": {
        "id": "0aYyU9Xhst7Z"
      },
      "source": [
        "**NumCompaniesWorked**\n",
        "\n",
        "*   null hypothesis (H0): không có sự khác biệt tỉ lệ nghỉ việc giữa số lượng công ty đã từng làm việc khác nhau của nhân viên\n",
        "*   alternative hypothesis: có ít nhất một sự khác biệt về tỉ lệ nghỉ việc giữa số lượng công ty đã từng làm việc khác nhau của nhân viên"
      ]
    },
    {
      "cell_type": "code",
      "metadata": {
        "id": "IyFrSjMAs4Rz"
      },
      "source": [
        "df1['NumCompaniesWorked_bins'] = pd.cut(x=df1['NumCompaniesWorked'], bins=4)"
      ],
      "execution_count": 1629,
      "outputs": []
    },
    {
      "cell_type": "code",
      "metadata": {
        "colab": {
          "base_uri": "https://localhost:8080/"
        },
        "id": "n4emnD0dtn46",
        "outputId": "e67144c2-39a5-42e9-b1ed-682338a0c0dd"
      },
      "source": [
        "one_way_anova(df1, 'NumCompaniesWorked_bins')"
      ],
      "execution_count": 1630,
      "outputs": [
        {
          "output_type": "execute_result",
          "data": {
            "text/plain": [
              "F_onewayResult(statistic=4.632450692354977, pvalue=0.0031362106895095536)"
            ]
          },
          "metadata": {
            "tags": []
          },
          "execution_count": 1630
        }
      ]
    },
    {
      "cell_type": "markdown",
      "metadata": {
        "id": "pZePlNGStq19"
      },
      "source": [
        "* pvalue < 0.05 => bác bỏ H0 => có ít nhất một sự khác biệt về tỉ lệ nghỉ việc giữa số lượng công ty đã từng làm việc khác nhau của nhân viên => **NumCompaniesWorked có ảnh hưởng tới Attrition rate**"
      ]
    },
    {
      "cell_type": "markdown",
      "metadata": {
        "id": "auEAP2IDu1tp"
      },
      "source": [
        "**PercentSalaryHike**\n",
        "\n",
        "*   null hypothesis (H0): không có sự khác biệt tỉ lệ nghỉ việc giữa các mức tỉ lệ tăng lương khác nhau của nhân viên\n",
        "*   alternative hypothesis: có ít nhất một sự khác biệt về tỉ lệ nghỉ việc giữa các mức tỉ lệ tăng lương khác nhau của nhân viên"
      ]
    },
    {
      "cell_type": "code",
      "metadata": {
        "id": "rUNq97ZEvUvw"
      },
      "source": [
        "df1['PercentSalaryHike_bins'] = pd.cut(x=df1['PercentSalaryHike'], bins=3)"
      ],
      "execution_count": 1631,
      "outputs": []
    },
    {
      "cell_type": "code",
      "metadata": {
        "colab": {
          "base_uri": "https://localhost:8080/"
        },
        "id": "6l5sN8-SvlGz",
        "outputId": "b53e9af2-e12d-4523-ffd5-003856590e90"
      },
      "source": [
        "one_way_anova(df1, 'PercentSalaryHike_bins')"
      ],
      "execution_count": 1632,
      "outputs": [
        {
          "output_type": "execute_result",
          "data": {
            "text/plain": [
              "F_onewayResult(statistic=0.3177861899691451, pvalue=0.7278084598581223)"
            ]
          },
          "metadata": {
            "tags": []
          },
          "execution_count": 1632
        }
      ]
    },
    {
      "cell_type": "markdown",
      "metadata": {
        "id": "SZb-q9Jrvqtc"
      },
      "source": [
        "* pvalue > 0.05 => chấp nhận H0 với xác suất có ý nghĩa là 27% => không có sự khác biệt về tỉ lệ nghỉ việc giữa các mức tỉ lệ tăng lương khác nhau của nhân viên => **PercentSalaryHike không ảnh hưởng tới Attrition rate**"
      ]
    },
    {
      "cell_type": "markdown",
      "metadata": {
        "id": "7iReYG4IwLS8"
      },
      "source": [
        "**PerformanceRating**\n",
        "\n",
        "*   null hypothesis (H0): không có sự khác biệt tỉ lệ nghỉ việc giữa các mức PerformanceRating khác nhau của nhân viên\n",
        "*   alternative hypothesis: có ít nhất một sự khác biệt về tỉ lệ nghỉ việc giữa các mức PerformanceRating khác nhau của nhân viên"
      ]
    },
    {
      "cell_type": "code",
      "metadata": {
        "colab": {
          "base_uri": "https://localhost:8080/"
        },
        "id": "p5kc_vO_wmrp",
        "outputId": "164371a8-6e86-4711-f1ce-ecd9cca8e85a"
      },
      "source": [
        "one_way_anova(df1, 'PerformanceRating')"
      ],
      "execution_count": 1633,
      "outputs": [
        {
          "output_type": "execute_result",
          "data": {
            "text/plain": [
              "F_onewayResult(statistic=0.01225039553422336, pvalue=0.9118840421067758)"
            ]
          },
          "metadata": {
            "tags": []
          },
          "execution_count": 1633
        }
      ]
    },
    {
      "cell_type": "markdown",
      "metadata": {
        "id": "UZORzZZTwtBX"
      },
      "source": [
        "* pvalue > 0.05 => chấp nhận H0 với xác suất có ý nghĩa là 9% => không có sự khác biệt về tỉ lệ nghỉ việc giữa các mức PerformanceRating khác nhau của nhân viên => **PerformanceRating không ảnh hưởng tới Attrition rate**"
      ]
    },
    {
      "cell_type": "markdown",
      "metadata": {
        "id": "_2HQfGo82E1v"
      },
      "source": [
        "**RelationshipSatisfaction**\n",
        "\n",
        "*   null hypothesis (H0): không có sự khác biệt tỉ lệ nghỉ việc giữa các mức độ hài lòng về các mối quan hệ khác nhau của nhân viên\n",
        "*   alternative hypothesis: có ít nhất một sự khác biệt về tỉ lệ nghỉ việc giữa các mức độ hài lòng về các mối quan hệ khác nhau của nhân viên"
      ]
    },
    {
      "cell_type": "code",
      "metadata": {
        "colab": {
          "base_uri": "https://localhost:8080/"
        },
        "id": "hvXpE30W2gRc",
        "outputId": "b4bfbc95-21b6-48a6-e0e8-abe2f21a3011"
      },
      "source": [
        "one_way_anova(df1, 'RelationshipSatisfaction')"
      ],
      "execution_count": 1634,
      "outputs": [
        {
          "output_type": "execute_result",
          "data": {
            "text/plain": [
              "F_onewayResult(statistic=1.7485028454735576, pvalue=0.15518102813593446)"
            ]
          },
          "metadata": {
            "tags": []
          },
          "execution_count": 1634
        }
      ]
    },
    {
      "cell_type": "markdown",
      "metadata": {
        "id": "G9ANNtm42jVV"
      },
      "source": [
        "* pvalue > 0.05 => chấp nhận H0 với xác suất có ý nghĩa là 84% => không có sự khác biệt về tỉ lệ nghỉ việc giữa các mức độ hài lòng về các mối quan hệ khác nhau của nhân viên => **RelationshipSatisfaction không ảnh hưởng tới Attrition rate**"
      ]
    },
    {
      "cell_type": "markdown",
      "metadata": {
        "id": "mAluaJn420Hr"
      },
      "source": [
        "**StockOptionLevel**\n",
        "\n",
        "*   null hypothesis (H0): không có sự khác biệt tỉ lệ nghỉ việc giữa các StockOptionLevel khác nhau của nhân viên\n",
        "*   alternative hypothesis: có ít nhất một sự khác biệt về tỉ lệ nghỉ việc giữa StockOptionLevel khác nhau của nhân viên"
      ]
    },
    {
      "cell_type": "code",
      "metadata": {
        "colab": {
          "base_uri": "https://localhost:8080/"
        },
        "id": "qiCtXZsE2_pm",
        "outputId": "8889a174-e187-4daa-f7a0-47bc74325375"
      },
      "source": [
        "one_way_anova(df1, 'StockOptionLevel')"
      ],
      "execution_count": 1635,
      "outputs": [
        {
          "output_type": "execute_result",
          "data": {
            "text/plain": [
              "F_onewayResult(statistic=21.010596070828136, pvalue=2.5027655843129855e-13)"
            ]
          },
          "metadata": {
            "tags": []
          },
          "execution_count": 1635
        }
      ]
    },
    {
      "cell_type": "markdown",
      "metadata": {
        "id": "FhN60dJ13ajE"
      },
      "source": [
        "* pvalue < 0.05 => bác bỏ H0 => có ít nhất một sự khác biệt về tỉ lệ nghỉ việc giữa các StockOptionLevel khác nhau của nhân viên => **StockOptionLevel có ảnh hưởng tới Attrition rate**"
      ]
    },
    {
      "cell_type": "markdown",
      "metadata": {
        "id": "YdnEo9di3imi"
      },
      "source": [
        "**TotalWorkingYears**\n",
        "\n",
        "*   null hypothesis (H0): không có sự khác biệt tỉ lệ nghỉ việc giữa tổng số năm làm việc khác nhau của nhân viên\n",
        "*   alternative hypothesis: có ít nhất một sự khác biệt về tỉ lệ nghỉ việc giữa tổng số năm làm việc khác nhau của nhân viên"
      ]
    },
    {
      "cell_type": "code",
      "metadata": {
        "id": "URwCs4tG4LEg"
      },
      "source": [
        "df1['TotalWorkingYears_bins'] = pd.cut(x=df1['TotalWorkingYears'], bins=8)"
      ],
      "execution_count": 1636,
      "outputs": []
    },
    {
      "cell_type": "code",
      "metadata": {
        "colab": {
          "base_uri": "https://localhost:8080/"
        },
        "id": "fTZIwOX5vDZV",
        "outputId": "cea69392-7ab2-4f83-9a09-d7a4f01489f8"
      },
      "source": [
        "one_way_anova(df1, 'TotalWorkingYears_bins')"
      ],
      "execution_count": 1637,
      "outputs": [
        {
          "output_type": "execute_result",
          "data": {
            "text/plain": [
              "F_onewayResult(statistic=8.26167730474947, pvalue=6.509218582541345e-10)"
            ]
          },
          "metadata": {
            "tags": []
          },
          "execution_count": 1637
        }
      ]
    },
    {
      "cell_type": "markdown",
      "metadata": {
        "id": "synBSgHl4Vmo"
      },
      "source": [
        "* pvalue < 0.05 => bác bỏ H0 => có ít nhất một sự khác biệt về tỉ lệ nghỉ việc giữa tổng số năm làm việc khác nhau của nhân viên => **TotalWorkingYears có ảnh hưởng tới Attrition rate**"
      ]
    },
    {
      "cell_type": "markdown",
      "metadata": {
        "id": "QArzzSnQ4eKR"
      },
      "source": [
        "**TrainingTimesLastYear**\n",
        "\n",
        "*   null hypothesis (H0): không có sự khác biệt tỉ lệ nghỉ việc giữa thời gian đào tạo khác nhau vào năm trước của nhân viên\n",
        "*   alternative hypothesis: có ít nhất một sự khác biệt về tỉ lệ nghỉ việc giữa thời gian đào tạo khác nhau vào năm trước của nhân viên"
      ]
    },
    {
      "cell_type": "code",
      "metadata": {
        "colab": {
          "base_uri": "https://localhost:8080/"
        },
        "id": "Z002GLoX4uaG",
        "outputId": "e260d1f8-bbb3-46d8-ac55-858722b67a0d"
      },
      "source": [
        "one_way_anova(df1, 'TrainingTimesLastYear')"
      ],
      "execution_count": 1638,
      "outputs": [
        {
          "output_type": "execute_result",
          "data": {
            "text/plain": [
              "F_onewayResult(statistic=2.538544003912546, pvalue=0.01895147009863248)"
            ]
          },
          "metadata": {
            "tags": []
          },
          "execution_count": 1638
        }
      ]
    },
    {
      "cell_type": "markdown",
      "metadata": {
        "id": "NtpJ-iBE5CC5"
      },
      "source": [
        "* pvalue < 0.05 => bác bỏ H0 => có ít nhất một sự khác biệt về tỉ lệ nghỉ việc giữa thời gian đào tạo khác nhau vào năm trước của nhân viên => **TrainingTimesLastYear có ảnh hưởng tới Attrition rate**"
      ]
    },
    {
      "cell_type": "markdown",
      "metadata": {
        "id": "W5JifGph5MK1"
      },
      "source": [
        "**WorkLifeBalance**\n",
        "\n",
        "*   null hypothesis (H0): không có sự khác biệt tỉ lệ nghỉ việc giữa các mức độ cân bằng giữa cuộc sống và công việc khác nhau nhân viên\n",
        "*   alternative hypothesis: có ít nhất một sự khác biệt về tỉ lệ nghỉ việc giữa các mức độ cân bằng giữa cuộc sống và công việc khác nhau nhân viên"
      ]
    },
    {
      "cell_type": "code",
      "metadata": {
        "colab": {
          "base_uri": "https://localhost:8080/"
        },
        "id": "56T1c6Uh5iHX",
        "outputId": "6f83729d-35c3-400d-b6ab-a165418aa55c"
      },
      "source": [
        "one_way_anova(df1, 'WorkLifeBalance')"
      ],
      "execution_count": 1639,
      "outputs": [
        {
          "output_type": "execute_result",
          "data": {
            "text/plain": [
              "F_onewayResult(statistic=5.487836904127922, pvalue=0.0009488552748376356)"
            ]
          },
          "metadata": {
            "tags": []
          },
          "execution_count": 1639
        }
      ]
    },
    {
      "cell_type": "markdown",
      "metadata": {
        "id": "lin6d9Yp5k-s"
      },
      "source": [
        "* pvalue < 0.05 => bác bỏ H0 => có ít nhất một sự khác biệt về tỉ lệ nghỉ việc giữa các mức độ cân bằng giữa cuộc sống và công việc khác nhau nhân viên => **WorkLifeBalance có ảnh hưởng tới Attrition rate**"
      ]
    },
    {
      "cell_type": "markdown",
      "metadata": {
        "id": "NqdPSUeF5sbg"
      },
      "source": [
        "**YearsAtCompany**\n",
        "\n",
        "*   null hypothesis (H0): không có sự khác biệt tỉ lệ nghỉ việc giữa YearsAtCompany khác nhau nhân viên\n",
        "*   alternative hypothesis: có ít nhất một sự khác biệt về tỉ lệ nghỉ việc giữa YearsAtCompany khác nhau nhân viên"
      ]
    },
    {
      "cell_type": "code",
      "metadata": {
        "id": "q8Kqswof6EoS"
      },
      "source": [
        "df1['YearsAtCompany_bins'] = pd.cut(x=df1['YearsAtCompany'], bins=8)"
      ],
      "execution_count": 1640,
      "outputs": []
    },
    {
      "cell_type": "code",
      "metadata": {
        "colab": {
          "base_uri": "https://localhost:8080/"
        },
        "id": "FuTFnj8U6EJB",
        "outputId": "33ac9afd-67a2-4ed7-fcd5-40789b027dca"
      },
      "source": [
        "one_way_anova(df1, 'YearsAtCompany_bins')"
      ],
      "execution_count": 1641,
      "outputs": [
        {
          "output_type": "execute_result",
          "data": {
            "text/plain": [
              "F_onewayResult(statistic=4.895471637811031, pvalue=1.774711912124958e-05)"
            ]
          },
          "metadata": {
            "tags": []
          },
          "execution_count": 1641
        }
      ]
    },
    {
      "cell_type": "markdown",
      "metadata": {
        "id": "8nt2GhBk6XqQ"
      },
      "source": [
        "* pvalue < 0.05 => bác bỏ H0 => có ít nhất một sự khác biệt về tỉ lệ nghỉ việc giữa các YearsAtCompany khác nhau nhân viên => **YearsAtCompany có ảnh hưởng tới Attrition rate**"
      ]
    },
    {
      "cell_type": "markdown",
      "metadata": {
        "id": "Pv8LoWlz6fn0"
      },
      "source": [
        "**YearsInCurrentRole**\n",
        "\n",
        "*   null hypothesis (H0): không có sự khác biệt tỉ lệ nghỉ việc giữa số năm làm việc trong vai trò công việc hiện tại khác nhau của nhân viên\n",
        "*   alternative hypothesis: có ít nhất một sự khác biệt về tỉ lệ nghỉ việc giữa số năm làm việc trong vai trò công việc hiện tại khác nhau của nhân viên"
      ]
    },
    {
      "cell_type": "code",
      "metadata": {
        "id": "mFpzok196zo6"
      },
      "source": [
        "df1['YearsInCurrentRole_bins'] = pd.cut(x=df1['YearsInCurrentRole'], bins=3)"
      ],
      "execution_count": 1642,
      "outputs": []
    },
    {
      "cell_type": "code",
      "metadata": {
        "colab": {
          "base_uri": "https://localhost:8080/"
        },
        "id": "Zb4AyU5E64zm",
        "outputId": "d0925764-cf4d-4283-e304-a8ab593c8b03"
      },
      "source": [
        "one_way_anova(df1, 'YearsInCurrentRole_bins')"
      ],
      "execution_count": 1643,
      "outputs": [
        {
          "output_type": "execute_result",
          "data": {
            "text/plain": [
              "F_onewayResult(statistic=8.557071335623231, pvalue=0.00020193949805399027)"
            ]
          },
          "metadata": {
            "tags": []
          },
          "execution_count": 1643
        }
      ]
    },
    {
      "cell_type": "markdown",
      "metadata": {
        "id": "mpYQKfsg69KU"
      },
      "source": [
        "* pvalue < 0.05 => bác bỏ H0 => có ít nhất một sự khác biệt về tỉ lệ nghỉ việc giữa số năm làm việc trong vai trò công việc hiện tại khác nhau nhân viên => **YearsInCurrentRole có ảnh hưởng tới Attrition rate**"
      ]
    },
    {
      "cell_type": "markdown",
      "metadata": {
        "id": "RhwPr-8_7D-Z"
      },
      "source": [
        "**YearsSinceLastPromotion**\n",
        "\n",
        "*   null hypothesis (H0): không có sự khác biệt tỉ lệ nghỉ việc giữa số năm kể từ lần thăng tiến cuối cùng khác nhau của nhân viên\n",
        "*   alternative hypothesis: có ít nhất một sự khác biệt về tỉ lệ nghỉ việc giữa số năm kể từ lần thăng tiến cuối cùng khác nhau của nhân viên"
      ]
    },
    {
      "cell_type": "code",
      "metadata": {
        "id": "2z2_zF9H7a5H"
      },
      "source": [
        "df1['YearsSinceLastPromotion_bins'] = pd.cut(x=df1['YearsSinceLastPromotion'], bins=3)"
      ],
      "execution_count": 1644,
      "outputs": []
    },
    {
      "cell_type": "code",
      "metadata": {
        "colab": {
          "base_uri": "https://localhost:8080/"
        },
        "id": "1E-BH_mi7fDx",
        "outputId": "b3e37a00-2233-4192-ac3d-764bfbfe673a"
      },
      "source": [
        "one_way_anova(df1, 'YearsSinceLastPromotion_bins')"
      ],
      "execution_count": 1645,
      "outputs": [
        {
          "output_type": "execute_result",
          "data": {
            "text/plain": [
              "F_onewayResult(statistic=0.6102798744741438, pvalue=0.5433366685117054)"
            ]
          },
          "metadata": {
            "tags": []
          },
          "execution_count": 1645
        }
      ]
    },
    {
      "cell_type": "markdown",
      "metadata": {
        "id": "ZjIUkVcF7oNJ"
      },
      "source": [
        "* pvalue > 0.05 => chấp nhận H0 với xác suất có ý nghĩa là 66% => không có sự khác biệt về tỉ lệ nghỉ việc giữa số năm kể từ lần thăng tiến cuối cùng khác nhau của nhân viên => **YearsSinceLastPromotion không ảnh hưởng tới Attrition rate**"
      ]
    },
    {
      "cell_type": "markdown",
      "metadata": {
        "id": "LlUEArET79KL"
      },
      "source": [
        "**YearsWithCurrManager**\n",
        "\n",
        "*   null hypothesis (H0): không có sự khác biệt tỉ lệ nghỉ việc giữa YearsWithCurrManager khác nhau của nhân viên\n",
        "*   alternative hypothesis: có ít nhất một sự khác biệt về tỉ lệ nghỉ việc giữa YearsWithCurrManager khác nhau của nhân viên"
      ]
    },
    {
      "cell_type": "code",
      "metadata": {
        "id": "rIozfLZY8ZIx"
      },
      "source": [
        "df1['YearsWithCurrManager_bins'] = pd.cut(x=df1['YearsWithCurrManager'], bins=3)"
      ],
      "execution_count": 1646,
      "outputs": []
    },
    {
      "cell_type": "code",
      "metadata": {
        "colab": {
          "base_uri": "https://localhost:8080/"
        },
        "id": "kHaUsv2o8vCP",
        "outputId": "942a931d-02c3-4351-efee-56b0980ebbc2"
      },
      "source": [
        "one_way_anova(df1, 'YearsWithCurrManager_bins')"
      ],
      "execution_count": 1647,
      "outputs": [
        {
          "output_type": "execute_result",
          "data": {
            "text/plain": [
              "F_onewayResult(statistic=8.721429178226092, pvalue=0.00017166134060922367)"
            ]
          },
          "metadata": {
            "tags": []
          },
          "execution_count": 1647
        }
      ]
    },
    {
      "cell_type": "markdown",
      "metadata": {
        "id": "4sFNVBGr9ZKe"
      },
      "source": [
        "* pvalue < 0.05 => bác bỏ H0 => có ít nhất một sự khác biệt về tỉ lệ nghỉ việc giữa YearsWithCurrManager khác nhau nhân viên => **YearsWithCurrManager có ảnh hưởng tới Attrition rate**"
      ]
    },
    {
      "cell_type": "code",
      "metadata": {
        "colab": {
          "base_uri": "https://localhost:8080/"
        },
        "id": "7b4P_O_LBM1j",
        "outputId": "38699cd7-3054-4e1e-d472-ee934ca02985"
      },
      "source": [
        "print('Các yếu tố ảnh hưởng tới Attrition: ')\n",
        "for item in impact_to_attrition:\n",
        "  print('- ', item)"
      ],
      "execution_count": 1648,
      "outputs": [
        {
          "output_type": "stream",
          "text": [
            "Các yếu tố ảnh hưởng tới Attrition: \n",
            "-  BusinessTravel\n",
            "-  Department\n",
            "-  EducationField\n",
            "-  JobRole\n",
            "-  MaritalStatus\n",
            "-  OverTime\n",
            "-  Age\n",
            "-  DistanceFromHome\n",
            "-  EnvironmentSatisfaction\n",
            "-  JobInvolvement\n",
            "-  JobLevel\n",
            "-  JobSatisfaction\n",
            "-  MonthlyIncome\n",
            "-  NumCompaniesWorked\n",
            "-  StockOptionLevel\n",
            "-  TotalWorkingYears\n",
            "-  TrainingTimesLastYear\n",
            "-  WorkLifeBalance\n",
            "-  YearsAtCompany\n",
            "-  YearsInCurrentRole\n",
            "-  YearsWithCurrManager\n"
          ],
          "name": "stdout"
        }
      ]
    },
    {
      "cell_type": "markdown",
      "metadata": {
        "id": "HTPmuZerCFH7"
      },
      "source": [
        "**<h2>Satisfaction<h2>**"
      ]
    },
    {
      "cell_type": "code",
      "metadata": {
        "colab": {
          "base_uri": "https://localhost:8080/"
        },
        "id": "FJT_PfPOFl9n",
        "outputId": "494d6bea-e9fd-4ae6-9af0-50cace773621"
      },
      "source": [
        "res = hypothesis_testing(df1, 'JobSatisfaction', anova_col_list)"
      ],
      "execution_count": 1649,
      "outputs": [
        {
          "output_type": "stream",
          "text": [
            "*  BusinessTravel\n",
            "F_onewayResult(statistic=0.9821326689375071, pvalue=0.37475764819502955)\n",
            "Chấp nhận H0 với xác suất có ý nghĩa 62.524235180497044%\n",
            "--------------------------------------------------\n",
            "*  Department\n",
            "F_onewayResult(statistic=0.5021228767277305, pvalue=0.6053484180286459)\n",
            "Chấp nhận H0 với xác suất có ý nghĩa 39.46515819713541%\n",
            "--------------------------------------------------\n",
            "*  EducationField\n",
            "F_onewayResult(statistic=0.955880626351784, pvalue=0.4437603241839597)\n",
            "Chấp nhận H0 với xác suất có ý nghĩa 55.62396758160403%\n",
            "--------------------------------------------------\n",
            "*  Gender\n",
            "F_onewayResult(statistic=1.6249281030056668, pvalue=0.20260772654830392)\n",
            "Chấp nhận H0 với xác suất có ý nghĩa 79.73922734516961%\n",
            "--------------------------------------------------\n",
            "*  JobRole\n",
            "F_onewayResult(statistic=0.3652125646086403, pvalue=0.9389893610579624)\n",
            "Chấp nhận H0 với xác suất có ý nghĩa 6.101063894203762%\n",
            "--------------------------------------------------\n",
            "*  MaritalStatus\n",
            "F_onewayResult(statistic=0.4755984241973605, pvalue=0.6216088125839607)\n",
            "Chấp nhận H0 với xác suất có ý nghĩa 37.839118741603926%\n",
            "--------------------------------------------------\n",
            "*  OverTime\n",
            "F_onewayResult(statistic=0.8845418987246396, pvalue=0.34711542949761853)\n",
            "Chấp nhận H0 với xác suất có ý nghĩa 65.28845705023815%\n",
            "--------------------------------------------------\n",
            "*  Age\n",
            "F_onewayResult(statistic=0.3968301540983075, pvalue=0.7553045598320943)\n",
            "Chấp nhận H0 với xác suất có ý nghĩa 24.469544016790568%\n",
            "--------------------------------------------------\n",
            "*  DistanceFromHome\n",
            "F_onewayResult(statistic=0.7017496707076981, pvalue=0.5510117988944971)\n",
            "Chấp nhận H0 với xác suất có ý nghĩa 44.89882011055029%\n",
            "--------------------------------------------------\n",
            "*  Education\n",
            "F_onewayResult(statistic=1.2756302329699398, pvalue=0.2774757289336202)\n",
            "Chấp nhận H0 với xác suất có ý nghĩa 72.25242710663797%\n",
            "--------------------------------------------------\n",
            "*  EnvironmentSatisfaction\n",
            "F_onewayResult(statistic=0.10883970981560172, pvalue=0.9549516584390016)\n",
            "Chấp nhận H0 với xác suất có ý nghĩa 4.504834156099835%\n",
            "--------------------------------------------------\n",
            "*  HourlyRate\n",
            "F_onewayResult(statistic=2.1581840629172957, pvalue=0.07152718984955694)\n",
            "Chấp nhận H0 với xác suất có ý nghĩa 92.8472810150443%\n",
            "--------------------------------------------------\n",
            "*  JobInvolvement\n",
            "F_onewayResult(statistic=1.3772063950676345, pvalue=0.2480508772030438)\n",
            "Chấp nhận H0 với xác suất có ý nghĩa 75.19491227969561%\n",
            "--------------------------------------------------\n",
            "*  JobLevel\n",
            "F_onewayResult(statistic=0.22153965412935642, pvalue=0.9264902612085092)\n",
            "Chấp nhận H0 với xác suất có ý nghĩa 7.35097387914908%\n",
            "--------------------------------------------------\n",
            "*  MonthlyIncome\n",
            "F_onewayResult(statistic=0.2673287104635187, pvalue=0.8489789803249271)\n",
            "Chấp nhận H0 với xác suất có ý nghĩa 15.102101967507286%\n",
            "--------------------------------------------------\n",
            "*  MonthlyRate\n",
            "F_onewayResult(statistic=0.40691355575234006, pvalue=0.803776220926476)\n",
            "Chấp nhận H0 với xác suất có ý nghĩa 19.622377907352394%\n",
            "--------------------------------------------------\n",
            "*  NumCompaniesWorked\n",
            "F_onewayResult(statistic=3.0392005043454686, pvalue=0.028086465517832327)\n",
            "Bác bỏ H0\n",
            "--------------------------------------------------\n",
            "*  PercentSalaryHike\n",
            "F_onewayResult(statistic=0.13154688636823086, pvalue=0.8767485078447218)\n",
            "Chấp nhận H0 với xác suất có ý nghĩa 12.32514921552782%\n",
            "--------------------------------------------------\n",
            "*  PerformanceRating\n",
            "F_onewayResult(statistic=0.007746844746552206, pvalue=0.9298758353182159)\n",
            "Chấp nhận H0 với xác suất có ý nghĩa 7.012416468178406%\n",
            "--------------------------------------------------\n",
            "*  RelationshipSatisfaction\n",
            "F_onewayResult(statistic=0.4313877081874043, pvalue=0.730550421698079)\n",
            "Chấp nhận H0 với xác suất có ý nghĩa 26.944957830192095%\n",
            "--------------------------------------------------\n",
            "*  StockOptionLevel\n",
            "F_onewayResult(statistic=0.4410428044127667, pvalue=0.7236830029698238)\n",
            "Chấp nhận H0 với xác suất có ý nghĩa 27.63169970301762%\n",
            "--------------------------------------------------\n",
            "*  TotalWorkingYears\n",
            "F_onewayResult(statistic=0.6149958628827515, pvalue=0.7439355349416106)\n",
            "Chấp nhận H0 với xác suất có ý nghĩa 25.606446505838942%\n",
            "--------------------------------------------------\n",
            "*  TrainingTimesLastYear\n",
            "F_onewayResult(statistic=1.4623692889892805, pvalue=0.18753477171612962)\n",
            "Chấp nhận H0 với xác suất có ý nghĩa 81.24652282838703%\n",
            "--------------------------------------------------\n",
            "*  WorkLifeBalance\n",
            "F_onewayResult(statistic=1.6082529279025715, pvalue=0.18558190136236025)\n",
            "Chấp nhận H0 với xác suất có ý nghĩa 81.44180986376396%\n",
            "--------------------------------------------------\n",
            "*  YearsAtCompany\n",
            "F_onewayResult(statistic=0.601280854634711, pvalue=0.7552849296028619)\n",
            "Chấp nhận H0 với xác suất có ý nghĩa 24.471507039713813%\n",
            "--------------------------------------------------\n",
            "*  YearsInCurrentRole\n",
            "F_onewayResult(statistic=1.1855671700935237, pvalue=0.3058654204660658)\n",
            "Chấp nhận H0 với xác suất có ý nghĩa 69.41345795339342%\n",
            "--------------------------------------------------\n",
            "*  YearsSinceLastPromotion\n",
            "F_onewayResult(statistic=0.9818298944763553, pvalue=0.3748709806711087)\n",
            "Chấp nhận H0 với xác suất có ý nghĩa 62.51290193288913%\n",
            "--------------------------------------------------\n",
            "*  YearsWithCurrManager\n",
            "F_onewayResult(statistic=1.6755919315687453, pvalue=0.18755540239504573)\n",
            "Chấp nhận H0 với xác suất có ý nghĩa 81.24445976049543%\n",
            "--------------------------------------------------\n"
          ],
          "name": "stdout"
        }
      ]
    },
    {
      "cell_type": "code",
      "metadata": {
        "colab": {
          "base_uri": "https://localhost:8080/"
        },
        "id": "LCKH6aR9Jg9o",
        "outputId": "abda1214-dc6f-4afd-a330-93d6863ea4a5"
      },
      "source": [
        "print_res(res, 'JobSatisfaction')"
      ],
      "execution_count": 1650,
      "outputs": [
        {
          "output_type": "stream",
          "text": [
            "Các yếu tố ảnh hưởng tới JobSatisfaction: \n",
            "-  NumCompaniesWorked\n"
          ],
          "name": "stdout"
        }
      ]
    },
    {
      "cell_type": "markdown",
      "metadata": {
        "id": "NLD4v7GtKIvO"
      },
      "source": [
        "**<h2>EnvironmentSatisfaction<h2>**"
      ]
    },
    {
      "cell_type": "code",
      "metadata": {
        "colab": {
          "base_uri": "https://localhost:8080/"
        },
        "id": "oyZIJnzWKGsU",
        "outputId": "2a0e6a66-492e-4c06-d298-16d7ccc006fb"
      },
      "source": [
        "res = hypothesis_testing(df1, 'EnvironmentSatisfaction', anova_col_list)"
      ],
      "execution_count": 1651,
      "outputs": [
        {
          "output_type": "stream",
          "text": [
            "*  BusinessTravel\n",
            "F_onewayResult(statistic=0.11865152086672413, pvalue=0.8881257591781646)\n",
            "Chấp nhận H0 với xác suất có ý nghĩa 11.18742408218354%\n",
            "--------------------------------------------------\n",
            "*  Department\n",
            "F_onewayResult(statistic=0.5747652749053414, pvalue=0.5629636591377534)\n",
            "Chấp nhận H0 với xác suất có ý nghĩa 43.70363408622466%\n",
            "--------------------------------------------------\n",
            "*  EducationField\n",
            "F_onewayResult(statistic=1.5750621591041187, pvalue=0.1639927635769397)\n",
            "Chấp nhận H0 với xác suất có ý nghĩa 83.60072364230604%\n",
            "--------------------------------------------------\n",
            "*  Gender\n",
            "F_onewayResult(statistic=0.00037930635770939606, pvalue=0.9844641975864159)\n",
            "Chấp nhận H0 với xác suất có ý nghĩa 1.5535802413584099%\n",
            "--------------------------------------------------\n",
            "*  JobRole\n",
            "F_onewayResult(statistic=1.2190555948776438, pvalue=0.28375260917113615)\n",
            "Chấp nhận H0 với xác suất có ý nghĩa 71.62473908288638%\n",
            "--------------------------------------------------\n",
            "*  MaritalStatus\n",
            "F_onewayResult(statistic=0.39071065170064506, pvalue=0.676646276404391)\n",
            "Chấp nhận H0 với xác suất có ý nghĩa 32.3353723595609%\n",
            "--------------------------------------------------\n",
            "*  OverTime\n",
            "F_onewayResult(statistic=7.255986230772849, pvalue=0.0071469973990702035)\n",
            "Bác bỏ H0\n",
            "--------------------------------------------------\n",
            "*  Age\n",
            "F_onewayResult(statistic=0.46341367143271817, pvalue=0.7078673076148814)\n",
            "Chấp nhận H0 với xác suất có ý nghĩa 29.213269238511863%\n",
            "--------------------------------------------------\n",
            "*  DistanceFromHome\n",
            "F_onewayResult(statistic=0.9990354876319842, pvalue=0.392386269621959)\n",
            "Chấp nhận H0 với xác suất có ý nghĩa 60.7613730378041%\n",
            "--------------------------------------------------\n",
            "*  Education\n",
            "F_onewayResult(statistic=0.9186223775677086, pvalue=0.45215397012486414)\n",
            "Chấp nhận H0 với xác suất có ý nghĩa 54.78460298751359%\n",
            "--------------------------------------------------\n",
            "*  HourlyRate\n",
            "F_onewayResult(statistic=1.6054356570106665, pvalue=0.1704150562176866)\n",
            "Chấp nhận H0 với xác suất có ý nghĩa 82.95849437823134%\n",
            "--------------------------------------------------\n",
            "*  JobInvolvement\n",
            "F_onewayResult(statistic=1.7758216823488768, pvalue=0.14983426634224895)\n",
            "Chấp nhận H0 với xác suất có ý nghĩa 85.0165733657751%\n",
            "--------------------------------------------------\n",
            "*  JobLevel\n",
            "F_onewayResult(statistic=0.24651120646532307, pvalue=0.9118532862111687)\n",
            "Chấp nhận H0 với xác suất có ý nghĩa 8.814671378883132%\n",
            "--------------------------------------------------\n",
            "*  JobSatisfaction\n",
            "F_onewayResult(statistic=0.8862211783945757, pvalue=0.44755645631696017)\n",
            "Chấp nhận H0 với xác suất có ý nghĩa 55.24435436830398%\n",
            "--------------------------------------------------\n",
            "*  MonthlyIncome\n",
            "F_onewayResult(statistic=0.31502384562665275, pvalue=0.8145353400844662)\n",
            "Chấp nhận H0 với xác suất có ý nghĩa 18.546465991553383%\n",
            "--------------------------------------------------\n",
            "*  MonthlyRate\n",
            "F_onewayResult(statistic=0.5796282153030332, pvalue=0.6774464024002618)\n",
            "Chấp nhận H0 với xác suất có ý nghĩa 32.25535975997382%\n",
            "--------------------------------------------------\n",
            "*  NumCompaniesWorked\n",
            "F_onewayResult(statistic=0.37612987190175623, pvalue=0.7702374373622429)\n",
            "Chấp nhận H0 với xác suất có ý nghĩa 22.976256263775706%\n",
            "--------------------------------------------------\n",
            "*  PercentSalaryHike\n",
            "F_onewayResult(statistic=0.7407726880442145, pvalue=0.4769236418170357)\n",
            "Chấp nhận H0 với xác suất có ý nghĩa 52.307635818296426%\n",
            "--------------------------------------------------\n",
            "*  PerformanceRating\n",
            "F_onewayResult(statistic=1.2828036120420283, pvalue=0.25756335639290673)\n",
            "Chấp nhận H0 với xác suất có ý nghĩa 74.24366436070933%\n",
            "--------------------------------------------------\n",
            "*  RelationshipSatisfaction\n",
            "F_onewayResult(statistic=0.6712669071278629, pvalue=0.5696911880084292)\n",
            "Chấp nhận H0 với xác suất có ý nghĩa 43.03088119915708%\n",
            "--------------------------------------------------\n",
            "*  StockOptionLevel\n",
            "F_onewayResult(statistic=0.5962479695069772, pvalue=0.617492364557422)\n",
            "Chấp nhận H0 với xác suất có ý nghĩa 38.25076354425781%\n",
            "--------------------------------------------------\n",
            "*  TotalWorkingYears\n",
            "F_onewayResult(statistic=0.8472507605552492, pvalue=0.5480789399113895)\n",
            "Chấp nhận H0 với xác suất có ý nghĩa 45.19210600886105%\n",
            "--------------------------------------------------\n",
            "*  TrainingTimesLastYear\n",
            "F_onewayResult(statistic=1.7596898630993356, pvalue=0.10387029337329577)\n",
            "Chấp nhận H0 với xác suất có ý nghĩa 89.61297066267042%\n",
            "--------------------------------------------------\n",
            "*  WorkLifeBalance\n",
            "F_onewayResult(statistic=0.4996637389736423, pvalue=0.6825620503442413)\n",
            "Chấp nhận H0 với xác suất có ý nghĩa 31.743794965575866%\n",
            "--------------------------------------------------\n",
            "*  YearsAtCompany\n",
            "F_onewayResult(statistic=0.979193603098499, pvalue=0.44466112248150547)\n",
            "Chấp nhận H0 với xác suất có ý nghĩa 55.533887751849456%\n",
            "--------------------------------------------------\n",
            "*  YearsInCurrentRole\n",
            "F_onewayResult(statistic=0.9541432810286123, pvalue=0.38538083967293535)\n",
            "Chấp nhận H0 với xác suất có ý nghĩa 61.46191603270646%\n",
            "--------------------------------------------------\n",
            "*  YearsSinceLastPromotion\n",
            "F_onewayResult(statistic=0.06313246149611083, pvalue=0.9388216586134501)\n",
            "Chấp nhận H0 với xác suất có ý nghĩa 6.117834138654987%\n",
            "--------------------------------------------------\n",
            "*  YearsWithCurrManager\n",
            "F_onewayResult(statistic=1.3295840851388936, pvalue=0.264905929438148)\n",
            "Chấp nhận H0 với xác suất có ý nghĩa 73.50940705618521%\n",
            "--------------------------------------------------\n"
          ],
          "name": "stdout"
        }
      ]
    },
    {
      "cell_type": "code",
      "metadata": {
        "colab": {
          "base_uri": "https://localhost:8080/"
        },
        "id": "GCU_jzRiKHtZ",
        "outputId": "d791cbeb-817a-491b-beb7-90ba9f24486b"
      },
      "source": [
        "print_res(res, 'EnvironmentSatisfaction')"
      ],
      "execution_count": 1652,
      "outputs": [
        {
          "output_type": "stream",
          "text": [
            "Các yếu tố ảnh hưởng tới EnvironmentSatisfaction: \n",
            "-  OverTime\n"
          ],
          "name": "stdout"
        }
      ]
    },
    {
      "cell_type": "markdown",
      "metadata": {
        "id": "8G4whPnYKa43"
      },
      "source": [
        "**<h2>RelationshipSatisfaction<h2>**"
      ]
    },
    {
      "cell_type": "code",
      "metadata": {
        "colab": {
          "base_uri": "https://localhost:8080/"
        },
        "id": "e57np7MaKeEQ",
        "outputId": "9a38ceea-ea34-40ed-9c96-e993c8210c48"
      },
      "source": [
        "res = hypothesis_testing(df1, 'RelationshipSatisfaction', anova_col_list)"
      ],
      "execution_count": 1653,
      "outputs": [
        {
          "output_type": "stream",
          "text": [
            "*  BusinessTravel\n",
            "F_onewayResult(statistic=1.0974210553903598, pvalue=0.3340044630155087)\n",
            "Chấp nhận H0 với xác suất có ý nghĩa 66.59955369844913%\n",
            "--------------------------------------------------\n",
            "*  Department\n",
            "F_onewayResult(statistic=0.902311342521813, pvalue=0.40585602099732065)\n",
            "Chấp nhận H0 với xác suất có ý nghĩa 59.414397900267936%\n",
            "--------------------------------------------------\n",
            "*  EducationField\n",
            "F_onewayResult(statistic=0.901172404506994, pvalue=0.4794087666222866)\n",
            "Chấp nhận H0 với xác suất có ý nghĩa 52.05912333777134%\n",
            "--------------------------------------------------\n",
            "*  Gender\n",
            "F_onewayResult(statistic=0.7681104152760331, pvalue=0.3809456347397697)\n",
            "Chấp nhận H0 với xác suất có ý nghĩa 61.905436526023024%\n",
            "--------------------------------------------------\n",
            "*  JobRole\n",
            "F_onewayResult(statistic=0.5974525303861897, pvalue=0.7806426574236731)\n",
            "Chấp nhận H0 với xác suất có ý nghĩa 21.93573425763269%\n",
            "--------------------------------------------------\n",
            "*  MaritalStatus\n",
            "F_onewayResult(statistic=1.6051877760415805, pvalue=0.20120440611876003)\n",
            "Chấp nhận H0 với xác suất có ý nghĩa 79.879559388124%\n",
            "--------------------------------------------------\n",
            "*  OverTime\n",
            "F_onewayResult(statistic=3.4602151090553126, pvalue=0.06306200332195969)\n",
            "Chấp nhận H0 với xác suất có ý nghĩa 93.69379966780403%\n",
            "--------------------------------------------------\n",
            "*  Age\n",
            "F_onewayResult(statistic=2.165558919820164, pvalue=0.09027446959174232)\n",
            "Chấp nhận H0 với xác suất có ý nghĩa 90.97255304082577%\n",
            "--------------------------------------------------\n",
            "*  DistanceFromHome\n",
            "F_onewayResult(statistic=0.21884404288007017, pvalue=0.8833593110581344)\n",
            "Chấp nhận H0 với xác suất có ý nghĩa 11.664068894186563%\n",
            "--------------------------------------------------\n",
            "*  Education\n",
            "F_onewayResult(statistic=0.6589579240039884, pvalue=0.6205898388369258)\n",
            "Chấp nhận H0 với xác suất có ý nghĩa 37.94101611630742%\n",
            "--------------------------------------------------\n",
            "*  EnvironmentSatisfaction\n",
            "F_onewayResult(statistic=0.13966123448708365, pvalue=0.9362762045492213)\n",
            "Chấp nhận H0 với xác suất có ý nghĩa 6.372379545077866%\n",
            "--------------------------------------------------\n",
            "*  HourlyRate\n",
            "F_onewayResult(statistic=1.479838824093274, pvalue=0.20585890877945856)\n",
            "Chấp nhận H0 với xác suất có ý nghĩa 79.41410912205414%\n",
            "--------------------------------------------------\n",
            "*  JobInvolvement\n",
            "F_onewayResult(statistic=0.6529961130099982, pvalue=0.5810965704805022)\n",
            "Chấp nhận H0 với xác suất có ý nghĩa 41.890342951949776%\n",
            "--------------------------------------------------\n",
            "*  JobLevel\n",
            "F_onewayResult(statistic=0.7097779253859777, pvalue=0.5852398230982461)\n",
            "Chấp nhận H0 với xác suất có ý nghĩa 41.4760176901754%\n",
            "--------------------------------------------------\n",
            "*  JobSatisfaction\n",
            "F_onewayResult(statistic=0.11502850546907442, pvalue=0.9513223788692188)\n",
            "Chấp nhận H0 với xác suất có ý nghĩa 4.867762113078122%\n",
            "--------------------------------------------------\n",
            "*  MonthlyIncome\n",
            "F_onewayResult(statistic=0.7077997428627003, pvalue=0.5473569304937226)\n",
            "Chấp nhận H0 với xác suất có ý nghĩa 45.26430695062774%\n",
            "--------------------------------------------------\n",
            "*  MonthlyRate\n",
            "F_onewayResult(statistic=0.9040629055665627, pvalue=0.4607188397280273)\n",
            "Chấp nhận H0 với xác suất có ý nghĩa 53.92811602719727%\n",
            "--------------------------------------------------\n",
            "*  NumCompaniesWorked\n",
            "F_onewayResult(statistic=2.212482725961651, pvalue=0.08487133806876938)\n",
            "Chấp nhận H0 với xác suất có ý nghĩa 91.51286619312306%\n",
            "--------------------------------------------------\n",
            "*  PercentSalaryHike\n",
            "F_onewayResult(statistic=1.7011104166030038, pvalue=0.1828405385738771)\n",
            "Chấp nhận H0 với xác suất có ý nghĩa 81.71594614261228%\n",
            "--------------------------------------------------\n",
            "*  PerformanceRating\n",
            "F_onewayResult(statistic=1.4443370560369486, pvalue=0.22963263459992894)\n",
            "Chấp nhận H0 với xác suất có ý nghĩa 77.03673654000711%\n",
            "--------------------------------------------------\n",
            "*  StockOptionLevel\n",
            "F_onewayResult(statistic=1.741603875547455, pvalue=0.15655952560838818)\n",
            "Chấp nhận H0 với xác suất có ý nghĩa 84.34404743916119%\n",
            "--------------------------------------------------\n",
            "*  TotalWorkingYears\n",
            "F_onewayResult(statistic=1.5447011517793063, pvalue=0.14797491525138914)\n",
            "Chấp nhận H0 với xác suất có ý nghĩa 85.20250847486108%\n",
            "--------------------------------------------------\n",
            "*  TrainingTimesLastYear\n",
            "F_onewayResult(statistic=0.27820976285390453, pvalue=0.9473693832679083)\n",
            "Chấp nhận H0 với xác suất có ý nghĩa 5.263061673209169%\n",
            "--------------------------------------------------\n",
            "*  WorkLifeBalance\n",
            "F_onewayResult(statistic=0.3376438031829589, pvalue=0.7981240770740268)\n",
            "Chấp nhận H0 với xác suất có ý nghĩa 20.187592292597323%\n",
            "--------------------------------------------------\n",
            "*  YearsAtCompany\n",
            "F_onewayResult(statistic=1.1191694290819412, pvalue=0.3481306514967125)\n",
            "Chấp nhận H0 với xác suất có ý nghĩa 65.18693485032875%\n",
            "--------------------------------------------------\n",
            "*  YearsInCurrentRole\n",
            "F_onewayResult(statistic=1.8976652738738857, pvalue=0.15028605927984193)\n",
            "Chấp nhận H0 với xác suất có ý nghĩa 84.9713940720158%\n",
            "--------------------------------------------------\n",
            "*  YearsSinceLastPromotion\n",
            "F_onewayResult(statistic=3.3930978694392873, pvalue=0.03386836376911626)\n",
            "Bác bỏ H0\n",
            "--------------------------------------------------\n",
            "*  YearsWithCurrManager\n",
            "F_onewayResult(statistic=0.8624347295774402, pvalue=0.4223469654118218)\n",
            "Chấp nhận H0 với xác suất có ý nghĩa 57.76530345881782%\n",
            "--------------------------------------------------\n"
          ],
          "name": "stdout"
        }
      ]
    },
    {
      "cell_type": "code",
      "metadata": {
        "colab": {
          "base_uri": "https://localhost:8080/"
        },
        "id": "Mb2cEg85KfHP",
        "outputId": "2a23ad63-ad37-45ef-8f3b-036621756823"
      },
      "source": [
        "print_res(res, 'RelationshipSatisfaction')"
      ],
      "execution_count": 1654,
      "outputs": [
        {
          "output_type": "stream",
          "text": [
            "Các yếu tố ảnh hưởng tới RelationshipSatisfaction: \n",
            "-  YearsSinceLastPromotion\n"
          ],
          "name": "stdout"
        }
      ]
    },
    {
      "cell_type": "markdown",
      "metadata": {
        "id": "qPYcNvRbMhqq"
      },
      "source": [
        "## **Feature selection**"
      ]
    },
    {
      "cell_type": "code",
      "metadata": {
        "id": "aX-DeRcQMmi4"
      },
      "source": [
        "\t\t\t\t\t\t\t\t\n",
        "\t\t\t"
      ],
      "execution_count": 1654,
      "outputs": []
    },
    {
      "cell_type": "markdown",
      "metadata": {
        "id": "yt_sxtAvMuS9"
      },
      "source": [
        "## **Feature transform & PCA**"
      ]
    },
    {
      "cell_type": "code",
      "metadata": {
        "id": "Nhr9YGiYM4C3"
      },
      "source": [
        ""
      ],
      "execution_count": 1655,
      "outputs": []
    },
    {
      "cell_type": "markdown",
      "metadata": {
        "id": "ujApQwhdM4S3"
      },
      "source": [
        "## **Train test split**"
      ]
    },
    {
      "cell_type": "code",
      "metadata": {
        "id": "amsE8pVzNCPx"
      },
      "source": [
        ""
      ],
      "execution_count": 1655,
      "outputs": []
    },
    {
      "cell_type": "markdown",
      "metadata": {
        "id": "Q5QVrfdPNChs"
      },
      "source": [
        "## **Train model**"
      ]
    },
    {
      "cell_type": "markdown",
      "metadata": {
        "id": "UjGJQIW-NGak"
      },
      "source": [
        "## **Tuning**"
      ]
    },
    {
      "cell_type": "code",
      "metadata": {
        "id": "AGP_3LosNI-k"
      },
      "source": [
        ""
      ],
      "execution_count": 1655,
      "outputs": []
    },
    {
      "cell_type": "markdown",
      "metadata": {
        "id": "JSoQAKoPNJOb"
      },
      "source": [
        "## **Run back test**"
      ]
    },
    {
      "cell_type": "code",
      "metadata": {
        "id": "ZVdS81_xNNM6"
      },
      "source": [
        ""
      ],
      "execution_count": 1655,
      "outputs": []
    },
    {
      "cell_type": "markdown",
      "metadata": {
        "id": "UxKa6JdWNNsX"
      },
      "source": [
        "## **Strategy analysis**"
      ]
    },
    {
      "cell_type": "code",
      "metadata": {
        "id": "Wq7m7si5NTSK"
      },
      "source": [
        ""
      ],
      "execution_count": 1655,
      "outputs": []
    },
    {
      "cell_type": "markdown",
      "metadata": {
        "id": "1hCj_ClFNSum"
      },
      "source": [
        "## **Deploy model**"
      ]
    },
    {
      "cell_type": "code",
      "metadata": {
        "id": "EB08shUXNXPb"
      },
      "source": [
        ""
      ],
      "execution_count": 1655,
      "outputs": []
    },
    {
      "cell_type": "markdown",
      "metadata": {
        "id": "S9tmRQYTNXcS"
      },
      "source": [
        "## **Model performance monitoring**"
      ]
    },
    {
      "cell_type": "code",
      "metadata": {
        "id": "VXIIOe1UNeHU"
      },
      "source": [
        ""
      ],
      "execution_count": 1655,
      "outputs": []
    }
  ]
}