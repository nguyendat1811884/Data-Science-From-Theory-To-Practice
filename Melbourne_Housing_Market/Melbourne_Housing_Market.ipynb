{
  "nbformat": 4,
  "nbformat_minor": 0,
  "metadata": {
    "colab": {
      "name": "Melbourne_Housing_Market.ipynb",
      "provenance": [],
      "collapsed_sections": [],
      "toc_visible": true,
      "authorship_tag": "ABX9TyPygTYQ5N3IjJ5Gza5uVIiC",
      "include_colab_link": true
    },
    "kernelspec": {
      "display_name": "Python 3",
      "name": "python3"
    },
    "language_info": {
      "name": "python"
    }
  },
  "cells": [
    {
      "cell_type": "markdown",
      "metadata": {
        "id": "view-in-github",
        "colab_type": "text"
      },
      "source": [
        "<a href=\"https://colab.research.google.com/github/nguyendat1811884/Data-Science-From-Theory-To-Practice/blob/main/Melbourne_Housing_Market/Melbourne_Housing_Market.ipynb\" target=\"_parent\"><img src=\"https://colab.research.google.com/assets/colab-badge.svg\" alt=\"Open In Colab\"/></a>"
      ]
    },
    {
      "cell_type": "markdown",
      "metadata": {
        "id": "-YGBvnzY0gs6"
      },
      "source": [
        "## **Import library**"
      ]
    },
    {
      "cell_type": "code",
      "metadata": {
        "id": "8FWGu1Mm0Ku_",
        "colab": {
          "base_uri": "https://localhost:8080/"
        },
        "outputId": "d1a2b792-be37-442f-d0d8-e77eb3324704"
      },
      "source": [
        "import numpy as np\n",
        "import pandas as pd\n",
        "import matplotlib.pyplot as plt\n",
        "import pandas_profiling\n",
        "import seaborn as sns\n",
        "import plotly.graph_objs as go\n",
        "import plotly.offline as py\n",
        "import plotly.graph_objects as gp\n",
        "\n",
        "from scipy.stats import f_oneway\n",
        "import statsmodels.api as sm\n",
        "from statsmodels.formula.api import ols\n",
        "from wordcloud import WordCloud, STOPWORDS\n",
        "from sklearn.ensemble import IsolationForest\n",
        "from sklearn.impute import SimpleImputer\n",
        "import datetime as dt\n",
        "\n",
        "from sklearn.model_selection import train_test_split\n",
        "from sklearn.linear_model import LinearRegression\n",
        "from sklearn.preprocessing import OneHotEncoder\n",
        "from sklearn import metrics\n",
        "from sklearn.decomposition import PCA\n",
        "from sklearn.preprocessing import StandardScaler\n",
        "from sklearn.preprocessing import MinMaxScaler\n",
        "from sklearn.model_selection import cross_val_score"
      ],
      "execution_count": 1,
      "outputs": [
        {
          "output_type": "stream",
          "text": [
            "/usr/local/lib/python3.7/dist-packages/statsmodels/tools/_testing.py:19: FutureWarning:\n",
            "\n",
            "pandas.util.testing is deprecated. Use the functions in the public API at pandas.testing instead.\n",
            "\n"
          ],
          "name": "stderr"
        }
      ]
    },
    {
      "cell_type": "code",
      "metadata": {
        "id": "Lwz9uXGKWmfk"
      },
      "source": [
        "pd.set_option('precision', 4)"
      ],
      "execution_count": 2,
      "outputs": []
    },
    {
      "cell_type": "markdown",
      "metadata": {
        "id": "a5rvhtYFWTyj"
      },
      "source": [
        "## **Funtion define**"
      ]
    },
    {
      "cell_type": "code",
      "metadata": {
        "id": "Xi-vxmYFWYeN"
      },
      "source": [
        "def missing_data(data):\n",
        "    total = data.isnull().sum()\n",
        "    percent = (data.isnull().sum()/data.isnull().count()*100)\n",
        "    tt = pd.concat([total, percent], axis=1, keys=['Total', 'Percent'])\n",
        "    types = []\n",
        "    for col in data.columns:\n",
        "        dtype = str(data[col].dtype)\n",
        "        types.append(dtype)\n",
        "    tt['Types'] = types\n",
        "    return(np.transpose(tt))"
      ],
      "execution_count": 3,
      "outputs": []
    },
    {
      "cell_type": "code",
      "metadata": {
        "id": "XDJnGxQ3EdVW"
      },
      "source": [
        "def Zscore_Outliers(s, steps):\n",
        "  \"\"\"\n",
        "  param:\n",
        "        s: series of feature\n",
        "        steps: 1, 2 or 3\n",
        "  \"\"\"\n",
        "  m = s.mean()\n",
        "  sd = s.std()\n",
        "  upper_whisker = m + steps*sd\n",
        "  lower_whisker = m - steps*sd\n",
        "  return [False if (val > lower_whisker and val < upper_whisker) else True for val in s]"
      ],
      "execution_count": 4,
      "outputs": []
    },
    {
      "cell_type": "code",
      "metadata": {
        "id": "pWIIlWZPQz5t"
      },
      "source": [
        "def IQR_Outliers(s):\n",
        "  q1 = s.quantile(0.25)\n",
        "  q3 = s.quantile(0.75)\n",
        "  iqr = q3 - q1\n",
        "  lower_tail = q1 - 1.5 * iqr\n",
        "  upper_tail = q3 + 1.5 * iqr\n",
        "  return [False if (val > lower_tail and val < upper_tail) else True for val in s]"
      ],
      "execution_count": 5,
      "outputs": []
    },
    {
      "cell_type": "code",
      "metadata": {
        "id": "ysI3M805S7jU"
      },
      "source": [
        "def Iso_outliers(df):\n",
        "    iso = IsolationForest( behaviour = 'new', random_state = 1, contamination= 'auto')\n",
        "    preds = iso.fit_predict(df.values.reshape(-1,1))\n",
        "    data = pd.DataFrame()\n",
        "    data['cluster'] = preds\n",
        "    print(data['cluster'].value_counts().sort_values(ascending=False))\n",
        "    return data"
      ],
      "execution_count": 6,
      "outputs": []
    },
    {
      "cell_type": "code",
      "metadata": {
        "id": "Q3Vui-HIf2hS"
      },
      "source": [
        "# !gdown --id 11jJHP2ibxuzLPSpCD9UW-oWilasQeGCN"
      ],
      "execution_count": 7,
      "outputs": []
    },
    {
      "cell_type": "code",
      "metadata": {
        "id": "Nb4Hmz0e6hUW"
      },
      "source": [
        "def mode_imputed(df, cols):\n",
        "  for col in cols:\n",
        "    df[col] = df[col].fillna(df[col].mode()[0])\n",
        "  return df"
      ],
      "execution_count": 8,
      "outputs": []
    },
    {
      "cell_type": "code",
      "metadata": {
        "id": "9AcmBvqW83is"
      },
      "source": [
        "def mean_imputed(df, cols):\n",
        "  for col in cols:\n",
        "    df[col] = df[col].fillna(df[col].mean())\n",
        "  return df"
      ],
      "execution_count": 9,
      "outputs": []
    },
    {
      "cell_type": "code",
      "metadata": {
        "id": "XbqIUQgJ13zT"
      },
      "source": [
        "def plot_missing(df):\n",
        "  labels = list(df)\n",
        "  missing = df.isnull().sum()\n",
        "  non_missing = df.notnull().sum()\n",
        "\n",
        "  fig, axes = plt.subplots()\n",
        "  plt.bar(labels, non_missing, 0.9, label='Non Missing')\n",
        "  plt.bar(labels, missing, 0.9, bottom=non_missing, label='Missing')\n",
        "  plt.xlabel('Features')\n",
        "  plt.ylabel('Amount')\n",
        "  plt.setp(axes.get_xticklabels(), rotation=40, horizontalalignment='right')\n",
        "  plt.legend()\n",
        "  plt.tight_layout()\n",
        "  plt.show()"
      ],
      "execution_count": 10,
      "outputs": []
    },
    {
      "cell_type": "code",
      "metadata": {
        "id": "lfV_hO-qFzAO"
      },
      "source": [
        "def duplicateRows(df):\n",
        "  # Check if contain duplicate rows\n",
        "  duplicateRows = df[df.duplicated()]\n",
        "  if not duplicateRows.empty:\n",
        "    return duplicateRows\n",
        "    print(duplicateRows.shape)\n",
        "  else:\n",
        "    print('There are no duplicate rows')"
      ],
      "execution_count": 11,
      "outputs": []
    },
    {
      "cell_type": "code",
      "metadata": {
        "id": "XRBC07vNjk0_"
      },
      "source": [
        "def one_way_anova(df1, col):\n",
        "  result = df1.groupby(col)['Price'].apply(list)\n",
        "  anova = f_oneway(*result)\n",
        "  return anova"
      ],
      "execution_count": 12,
      "outputs": []
    },
    {
      "cell_type": "code",
      "metadata": {
        "id": "ak8Ap_7Kjocf"
      },
      "source": [
        "def hypothesis_testing(df, target, col_list):\n",
        "  impact_list = []\n",
        "  for col in col_list:\n",
        "    col_name = col\n",
        "    if 'bins' in col:\n",
        "        col_name = col[:len(col) - 5]\n",
        "    if col_name == target: continue\n",
        "    print('* ', col_name)\n",
        "    result = df.groupby(col)[target].apply(list)\n",
        "    anova = f_oneway(*result)\n",
        "    print(anova)\n",
        "    if anova.pvalue < 0.05:\n",
        "        impact_list.append(col_name)\n",
        "        print('Bác bỏ H0')\n",
        "    else:\n",
        "        print('Chấp nhận H0 với xác suất có ý nghĩa {0}%'.format((1 - anova.pvalue)*100))\n",
        "    print('--------------------------------------------------')\n",
        "  return impact_list"
      ],
      "execution_count": 13,
      "outputs": []
    },
    {
      "cell_type": "markdown",
      "metadata": {
        "id": "rtbSUx1QY4df"
      },
      "source": [
        "## **Dowload and read data**"
      ]
    },
    {
      "cell_type": "code",
      "metadata": {
        "colab": {
          "base_uri": "https://localhost:8080/"
        },
        "id": "uDhE252o0fx_",
        "outputId": "10cfbe2f-18ab-492f-8f26-c23b2b6d0a73"
      },
      "source": [
        "!gdown --id 1I57t_JKvxYDfCBVh-QmKCGxaEWkmNnBG\n",
        "df = pd.read_csv('/content/Melbourne_housing_FULL.csv')"
      ],
      "execution_count": 14,
      "outputs": [
        {
          "output_type": "stream",
          "text": [
            "Downloading...\n",
            "From: https://drive.google.com/uc?id=1I57t_JKvxYDfCBVh-QmKCGxaEWkmNnBG\n",
            "To: /content/Melbourne_housing_FULL.csv\n",
            "5.02MB [00:00, 9.75MB/s]\n"
          ],
          "name": "stdout"
        }
      ]
    },
    {
      "cell_type": "code",
      "metadata": {
        "id": "9TfAAA6UMjW-"
      },
      "source": [
        "# df = pd.read_csv('/content/MELBOURNE_HOUSE_PRICES_LESS.csv')"
      ],
      "execution_count": 15,
      "outputs": []
    },
    {
      "cell_type": "code",
      "metadata": {
        "colab": {
          "base_uri": "https://localhost:8080/",
          "height": 316
        },
        "id": "hIlZ9VJ6MpFk",
        "outputId": "6b8ebadb-2155-4925-a121-7cfdab500eda"
      },
      "source": [
        "df.head()"
      ],
      "execution_count": 16,
      "outputs": [
        {
          "output_type": "execute_result",
          "data": {
            "text/html": [
              "<div>\n",
              "<style scoped>\n",
              "    .dataframe tbody tr th:only-of-type {\n",
              "        vertical-align: middle;\n",
              "    }\n",
              "\n",
              "    .dataframe tbody tr th {\n",
              "        vertical-align: top;\n",
              "    }\n",
              "\n",
              "    .dataframe thead th {\n",
              "        text-align: right;\n",
              "    }\n",
              "</style>\n",
              "<table border=\"1\" class=\"dataframe\">\n",
              "  <thead>\n",
              "    <tr style=\"text-align: right;\">\n",
              "      <th></th>\n",
              "      <th>Suburb</th>\n",
              "      <th>Address</th>\n",
              "      <th>Rooms</th>\n",
              "      <th>Type</th>\n",
              "      <th>Price</th>\n",
              "      <th>Method</th>\n",
              "      <th>SellerG</th>\n",
              "      <th>Date</th>\n",
              "      <th>Distance</th>\n",
              "      <th>Postcode</th>\n",
              "      <th>Bedroom2</th>\n",
              "      <th>Bathroom</th>\n",
              "      <th>Car</th>\n",
              "      <th>Landsize</th>\n",
              "      <th>BuildingArea</th>\n",
              "      <th>YearBuilt</th>\n",
              "      <th>CouncilArea</th>\n",
              "      <th>Lattitude</th>\n",
              "      <th>Longtitude</th>\n",
              "      <th>Regionname</th>\n",
              "      <th>Propertycount</th>\n",
              "    </tr>\n",
              "  </thead>\n",
              "  <tbody>\n",
              "    <tr>\n",
              "      <th>0</th>\n",
              "      <td>Abbotsford</td>\n",
              "      <td>68 Studley St</td>\n",
              "      <td>2</td>\n",
              "      <td>h</td>\n",
              "      <td>NaN</td>\n",
              "      <td>SS</td>\n",
              "      <td>Jellis</td>\n",
              "      <td>3/09/2016</td>\n",
              "      <td>2.5</td>\n",
              "      <td>3067.0</td>\n",
              "      <td>2.0</td>\n",
              "      <td>1.0</td>\n",
              "      <td>1.0</td>\n",
              "      <td>126.0</td>\n",
              "      <td>NaN</td>\n",
              "      <td>NaN</td>\n",
              "      <td>Yarra City Council</td>\n",
              "      <td>-37.8014</td>\n",
              "      <td>144.9958</td>\n",
              "      <td>Northern Metropolitan</td>\n",
              "      <td>4019.0</td>\n",
              "    </tr>\n",
              "    <tr>\n",
              "      <th>1</th>\n",
              "      <td>Abbotsford</td>\n",
              "      <td>85 Turner St</td>\n",
              "      <td>2</td>\n",
              "      <td>h</td>\n",
              "      <td>1480000.0</td>\n",
              "      <td>S</td>\n",
              "      <td>Biggin</td>\n",
              "      <td>3/12/2016</td>\n",
              "      <td>2.5</td>\n",
              "      <td>3067.0</td>\n",
              "      <td>2.0</td>\n",
              "      <td>1.0</td>\n",
              "      <td>1.0</td>\n",
              "      <td>202.0</td>\n",
              "      <td>NaN</td>\n",
              "      <td>NaN</td>\n",
              "      <td>Yarra City Council</td>\n",
              "      <td>-37.7996</td>\n",
              "      <td>144.9984</td>\n",
              "      <td>Northern Metropolitan</td>\n",
              "      <td>4019.0</td>\n",
              "    </tr>\n",
              "    <tr>\n",
              "      <th>2</th>\n",
              "      <td>Abbotsford</td>\n",
              "      <td>25 Bloomburg St</td>\n",
              "      <td>2</td>\n",
              "      <td>h</td>\n",
              "      <td>1035000.0</td>\n",
              "      <td>S</td>\n",
              "      <td>Biggin</td>\n",
              "      <td>4/02/2016</td>\n",
              "      <td>2.5</td>\n",
              "      <td>3067.0</td>\n",
              "      <td>2.0</td>\n",
              "      <td>1.0</td>\n",
              "      <td>0.0</td>\n",
              "      <td>156.0</td>\n",
              "      <td>79.0</td>\n",
              "      <td>1900.0</td>\n",
              "      <td>Yarra City Council</td>\n",
              "      <td>-37.8079</td>\n",
              "      <td>144.9934</td>\n",
              "      <td>Northern Metropolitan</td>\n",
              "      <td>4019.0</td>\n",
              "    </tr>\n",
              "    <tr>\n",
              "      <th>3</th>\n",
              "      <td>Abbotsford</td>\n",
              "      <td>18/659 Victoria St</td>\n",
              "      <td>3</td>\n",
              "      <td>u</td>\n",
              "      <td>NaN</td>\n",
              "      <td>VB</td>\n",
              "      <td>Rounds</td>\n",
              "      <td>4/02/2016</td>\n",
              "      <td>2.5</td>\n",
              "      <td>3067.0</td>\n",
              "      <td>3.0</td>\n",
              "      <td>2.0</td>\n",
              "      <td>1.0</td>\n",
              "      <td>0.0</td>\n",
              "      <td>NaN</td>\n",
              "      <td>NaN</td>\n",
              "      <td>Yarra City Council</td>\n",
              "      <td>-37.8114</td>\n",
              "      <td>145.0116</td>\n",
              "      <td>Northern Metropolitan</td>\n",
              "      <td>4019.0</td>\n",
              "    </tr>\n",
              "    <tr>\n",
              "      <th>4</th>\n",
              "      <td>Abbotsford</td>\n",
              "      <td>5 Charles St</td>\n",
              "      <td>3</td>\n",
              "      <td>h</td>\n",
              "      <td>1465000.0</td>\n",
              "      <td>SP</td>\n",
              "      <td>Biggin</td>\n",
              "      <td>4/03/2017</td>\n",
              "      <td>2.5</td>\n",
              "      <td>3067.0</td>\n",
              "      <td>3.0</td>\n",
              "      <td>2.0</td>\n",
              "      <td>0.0</td>\n",
              "      <td>134.0</td>\n",
              "      <td>150.0</td>\n",
              "      <td>1900.0</td>\n",
              "      <td>Yarra City Council</td>\n",
              "      <td>-37.8093</td>\n",
              "      <td>144.9944</td>\n",
              "      <td>Northern Metropolitan</td>\n",
              "      <td>4019.0</td>\n",
              "    </tr>\n",
              "  </tbody>\n",
              "</table>\n",
              "</div>"
            ],
            "text/plain": [
              "       Suburb             Address  ...             Regionname Propertycount\n",
              "0  Abbotsford       68 Studley St  ...  Northern Metropolitan        4019.0\n",
              "1  Abbotsford        85 Turner St  ...  Northern Metropolitan        4019.0\n",
              "2  Abbotsford     25 Bloomburg St  ...  Northern Metropolitan        4019.0\n",
              "3  Abbotsford  18/659 Victoria St  ...  Northern Metropolitan        4019.0\n",
              "4  Abbotsford        5 Charles St  ...  Northern Metropolitan        4019.0\n",
              "\n",
              "[5 rows x 21 columns]"
            ]
          },
          "metadata": {
            "tags": []
          },
          "execution_count": 16
        }
      ]
    },
    {
      "cell_type": "code",
      "metadata": {
        "colab": {
          "base_uri": "https://localhost:8080/"
        },
        "id": "-Lc4qyBBMrW-",
        "outputId": "3e3165df-b3f7-423d-b6b5-aa05ed5f20e2"
      },
      "source": [
        "df.shape"
      ],
      "execution_count": 17,
      "outputs": [
        {
          "output_type": "execute_result",
          "data": {
            "text/plain": [
              "(34857, 21)"
            ]
          },
          "metadata": {
            "tags": []
          },
          "execution_count": 17
        }
      ]
    },
    {
      "cell_type": "markdown",
      "metadata": {
        "id": "d-O_v3djMtxk"
      },
      "source": [
        "* Data has 34857 data points (rows) and 21 features (columns)"
      ]
    },
    {
      "cell_type": "markdown",
      "metadata": {
        "id": "8uEFWh2ElpHM"
      },
      "source": [
        "## **Improve Feature**"
      ]
    },
    {
      "cell_type": "markdown",
      "metadata": {
        "id": "1bQPo3XSqFMg"
      },
      "source": [
        "According to the dataset's description, both the columns 'Rooms' and 'Bedroom2' contain information about the number of bedrooms for each house but were gathered from different sources. We will consider whether data from these 2 columns are duplicated or related or not"
      ]
    },
    {
      "cell_type": "code",
      "metadata": {
        "colab": {
          "base_uri": "https://localhost:8080/"
        },
        "id": "8Y655ppaqETM",
        "outputId": "edbca522-e8ac-43a6-8da3-4eeaffd57dc7"
      },
      "source": [
        "cond = (df['Bedroom2'].notnull()) & (df['Rooms'] != df['Bedroom2'])\n",
        "print('Num of difference rows: ', df[cond].shape[0])\n",
        "print('Rate of difference: {0}%'.format(df[cond].shape[0] * 100 / df['Bedroom2'].notnull().sum()))"
      ],
      "execution_count": 18,
      "outputs": [
        {
          "output_type": "stream",
          "text": [
            "Num of difference rows:  948\n",
            "Rate of difference: 3.5585585585585586%\n"
          ],
          "name": "stdout"
        }
      ]
    },
    {
      "cell_type": "code",
      "metadata": {
        "colab": {
          "base_uri": "https://localhost:8080/"
        },
        "id": "Grwef_vyqMXF",
        "outputId": "26f26f9f-303f-4bbd-ada0-f44042caa453"
      },
      "source": [
        "abs(df[df['Rooms'] != df['Bedroom2']]['Rooms'] - df[df['Rooms'] != df['Bedroom2']]['Bedroom2']).sum()"
      ],
      "execution_count": 19,
      "outputs": [
        {
          "output_type": "execute_result",
          "data": {
            "text/plain": [
              "1169.0"
            ]
          },
          "metadata": {
            "tags": []
          },
          "execution_count": 19
        }
      ]
    },
    {
      "cell_type": "markdown",
      "metadata": {
        "id": "O3MELeGqqS1r"
      },
      "source": [
        "* We see that the difference between the two columns is not significant so we can remove 1 of the two columns. Besides, due to the amount of non-null values of 'Rooms' is 0 so that we will remove 'Bedroom2'"
      ]
    },
    {
      "cell_type": "code",
      "metadata": {
        "id": "qi3GvA0RqSFC"
      },
      "source": [
        "df.drop(['Bedroom2'], axis=1, inplace=True)"
      ],
      "execution_count": 20,
      "outputs": []
    },
    {
      "cell_type": "markdown",
      "metadata": {
        "id": "a-ncQp3VluTw"
      },
      "source": [
        "Instead of using 'YearBuilt' as a feature, we will transform it to 'Age'. The use of 'Age' instead of 'YearBuilt' will make more sense to indicate how many years since the house was built"
      ]
    },
    {
      "cell_type": "code",
      "metadata": {
        "id": "aTkx5KEeltxY"
      },
      "source": [
        "df['Age'] = 2021 - df['YearBuilt']"
      ],
      "execution_count": 21,
      "outputs": []
    },
    {
      "cell_type": "markdown",
      "metadata": {
        "id": "DehH2zuRpMPd"
      },
      "source": [
        "Now, drop column 'YearBuilt'"
      ]
    },
    {
      "cell_type": "code",
      "metadata": {
        "id": "eSds33LapG-3"
      },
      "source": [
        "df.drop(['YearBuilt'], axis=1, inplace=True)"
      ],
      "execution_count": 22,
      "outputs": []
    },
    {
      "cell_type": "markdown",
      "metadata": {
        "id": "HuO95jkYpD_9"
      },
      "source": [
        "Convert to Datetime Format"
      ]
    },
    {
      "cell_type": "code",
      "metadata": {
        "id": "vnLzczplpIN8"
      },
      "source": [
        "df['Date'] = pd.to_datetime(df['Date'], format=\"%d/%m/%Y\")"
      ],
      "execution_count": 23,
      "outputs": []
    },
    {
      "cell_type": "code",
      "metadata": {
        "id": "8PbODSNbpNsT"
      },
      "source": [
        "df['Month'] = df['Date'].dt.month\n",
        "df['Year'] = df['Date'].dt.year"
      ],
      "execution_count": 24,
      "outputs": []
    },
    {
      "cell_type": "code",
      "metadata": {
        "id": "35RlnqY6PZy7"
      },
      "source": [
        "df = df.drop(['Date'], axis = 1)"
      ],
      "execution_count": 25,
      "outputs": []
    },
    {
      "cell_type": "markdown",
      "metadata": {
        "id": "F-jlU7V1ONQ0"
      },
      "source": [
        "## **Check and handle missing value**"
      ]
    },
    {
      "cell_type": "code",
      "metadata": {
        "colab": {
          "base_uri": "https://localhost:8080/"
        },
        "id": "0DlGKPt9OG-n",
        "outputId": "f9f41148-c81d-4ba7-d564-8e1426bf0a6d"
      },
      "source": [
        "df.info()"
      ],
      "execution_count": 26,
      "outputs": [
        {
          "output_type": "stream",
          "text": [
            "<class 'pandas.core.frame.DataFrame'>\n",
            "RangeIndex: 34857 entries, 0 to 34856\n",
            "Data columns (total 21 columns):\n",
            " #   Column         Non-Null Count  Dtype  \n",
            "---  ------         --------------  -----  \n",
            " 0   Suburb         34857 non-null  object \n",
            " 1   Address        34857 non-null  object \n",
            " 2   Rooms          34857 non-null  int64  \n",
            " 3   Type           34857 non-null  object \n",
            " 4   Price          27247 non-null  float64\n",
            " 5   Method         34857 non-null  object \n",
            " 6   SellerG        34857 non-null  object \n",
            " 7   Distance       34856 non-null  float64\n",
            " 8   Postcode       34856 non-null  float64\n",
            " 9   Bathroom       26631 non-null  float64\n",
            " 10  Car            26129 non-null  float64\n",
            " 11  Landsize       23047 non-null  float64\n",
            " 12  BuildingArea   13742 non-null  float64\n",
            " 13  CouncilArea    34854 non-null  object \n",
            " 14  Lattitude      26881 non-null  float64\n",
            " 15  Longtitude     26881 non-null  float64\n",
            " 16  Regionname     34854 non-null  object \n",
            " 17  Propertycount  34854 non-null  float64\n",
            " 18  Age            15551 non-null  float64\n",
            " 19  Month          34857 non-null  int64  \n",
            " 20  Year           34857 non-null  int64  \n",
            "dtypes: float64(11), int64(3), object(7)\n",
            "memory usage: 5.6+ MB\n"
          ],
          "name": "stdout"
        }
      ]
    },
    {
      "cell_type": "markdown",
      "metadata": {
        "id": "G-u2q_jzR1Fp"
      },
      "source": [
        "* There are 9 columns that have data type float, 3 of data type int, and 7 of data type object\n",
        "* There are a few columns that have less than 34875 non-null values => missing data"
      ]
    },
    {
      "cell_type": "code",
      "metadata": {
        "colab": {
          "base_uri": "https://localhost:8080/",
          "height": 156
        },
        "id": "gNfPaVKOT6mQ",
        "outputId": "813cd6fc-b122-4c76-8984-c89dc981ca93"
      },
      "source": [
        "df_missing = missing_data(df)\n",
        "df_missing "
      ],
      "execution_count": 27,
      "outputs": [
        {
          "output_type": "execute_result",
          "data": {
            "text/html": [
              "<div>\n",
              "<style scoped>\n",
              "    .dataframe tbody tr th:only-of-type {\n",
              "        vertical-align: middle;\n",
              "    }\n",
              "\n",
              "    .dataframe tbody tr th {\n",
              "        vertical-align: top;\n",
              "    }\n",
              "\n",
              "    .dataframe thead th {\n",
              "        text-align: right;\n",
              "    }\n",
              "</style>\n",
              "<table border=\"1\" class=\"dataframe\">\n",
              "  <thead>\n",
              "    <tr style=\"text-align: right;\">\n",
              "      <th></th>\n",
              "      <th>Suburb</th>\n",
              "      <th>Address</th>\n",
              "      <th>Rooms</th>\n",
              "      <th>Type</th>\n",
              "      <th>Price</th>\n",
              "      <th>Method</th>\n",
              "      <th>SellerG</th>\n",
              "      <th>Distance</th>\n",
              "      <th>Postcode</th>\n",
              "      <th>Bathroom</th>\n",
              "      <th>Car</th>\n",
              "      <th>Landsize</th>\n",
              "      <th>BuildingArea</th>\n",
              "      <th>CouncilArea</th>\n",
              "      <th>Lattitude</th>\n",
              "      <th>Longtitude</th>\n",
              "      <th>Regionname</th>\n",
              "      <th>Propertycount</th>\n",
              "      <th>Age</th>\n",
              "      <th>Month</th>\n",
              "      <th>Year</th>\n",
              "    </tr>\n",
              "  </thead>\n",
              "  <tbody>\n",
              "    <tr>\n",
              "      <th>Total</th>\n",
              "      <td>0</td>\n",
              "      <td>0</td>\n",
              "      <td>0</td>\n",
              "      <td>0</td>\n",
              "      <td>7610</td>\n",
              "      <td>0</td>\n",
              "      <td>0</td>\n",
              "      <td>1</td>\n",
              "      <td>1</td>\n",
              "      <td>8226</td>\n",
              "      <td>8728</td>\n",
              "      <td>11810</td>\n",
              "      <td>21115</td>\n",
              "      <td>3</td>\n",
              "      <td>7976</td>\n",
              "      <td>7976</td>\n",
              "      <td>3</td>\n",
              "      <td>3</td>\n",
              "      <td>19306</td>\n",
              "      <td>0</td>\n",
              "      <td>0</td>\n",
              "    </tr>\n",
              "    <tr>\n",
              "      <th>Percent</th>\n",
              "      <td>0</td>\n",
              "      <td>0</td>\n",
              "      <td>0</td>\n",
              "      <td>0</td>\n",
              "      <td>21.83</td>\n",
              "      <td>0</td>\n",
              "      <td>0</td>\n",
              "      <td>0.002869</td>\n",
              "      <td>0.002869</td>\n",
              "      <td>23.6</td>\n",
              "      <td>25.04</td>\n",
              "      <td>33.88</td>\n",
              "      <td>60.58</td>\n",
              "      <td>0.008607</td>\n",
              "      <td>22.88</td>\n",
              "      <td>22.88</td>\n",
              "      <td>0.008607</td>\n",
              "      <td>0.008607</td>\n",
              "      <td>55.39</td>\n",
              "      <td>0</td>\n",
              "      <td>0</td>\n",
              "    </tr>\n",
              "    <tr>\n",
              "      <th>Types</th>\n",
              "      <td>object</td>\n",
              "      <td>object</td>\n",
              "      <td>int64</td>\n",
              "      <td>object</td>\n",
              "      <td>float64</td>\n",
              "      <td>object</td>\n",
              "      <td>object</td>\n",
              "      <td>float64</td>\n",
              "      <td>float64</td>\n",
              "      <td>float64</td>\n",
              "      <td>float64</td>\n",
              "      <td>float64</td>\n",
              "      <td>float64</td>\n",
              "      <td>object</td>\n",
              "      <td>float64</td>\n",
              "      <td>float64</td>\n",
              "      <td>object</td>\n",
              "      <td>float64</td>\n",
              "      <td>float64</td>\n",
              "      <td>int64</td>\n",
              "      <td>int64</td>\n",
              "    </tr>\n",
              "  </tbody>\n",
              "</table>\n",
              "</div>"
            ],
            "text/plain": [
              "         Suburb Address  Rooms    Type  ... Propertycount      Age  Month   Year\n",
              "Total         0       0      0       0  ...             3    19306      0      0\n",
              "Percent       0       0      0       0  ...      0.008607    55.39      0      0\n",
              "Types    object  object  int64  object  ...       float64  float64  int64  int64\n",
              "\n",
              "[3 rows x 21 columns]"
            ]
          },
          "metadata": {
            "tags": []
          },
          "execution_count": 27
        }
      ]
    },
    {
      "cell_type": "markdown",
      "metadata": {
        "id": "9KPhHVjjxPfZ"
      },
      "source": [
        "First, we drop all rows with missing price (target)"
      ]
    },
    {
      "cell_type": "code",
      "metadata": {
        "id": "ThiWiJ4Lui97"
      },
      "source": [
        "df.dropna(subset=['Price'], inplace=True)"
      ],
      "execution_count": 28,
      "outputs": []
    },
    {
      "cell_type": "code",
      "metadata": {
        "id": "DUvcv8U_S9EQ",
        "colab": {
          "base_uri": "https://localhost:8080/",
          "height": 297
        },
        "outputId": "46ba85d6-8638-44fb-d2ed-a83e99cd27cf"
      },
      "source": [
        "plot_missing(df)"
      ],
      "execution_count": 29,
      "outputs": [
        {
          "output_type": "display_data",
          "data": {
            "image/png": "[encoded data removed]",
            "text/plain": [
              "<Figure size 432x288 with 1 Axes>"
            ]
          },
          "metadata": {
            "tags": [],
            "needs_background": "light"
          }
        }
      ]
    },
    {
      "cell_type": "markdown",
      "metadata": {
        "id": "ykpPhZByZuQO"
      },
      "source": [
        "* As we can see, quite a lot of data is missing, some more than 50%."
      ]
    },
    {
      "cell_type": "markdown",
      "metadata": {
        "id": "02DRwVovaubQ"
      },
      "source": [
        "Now, let's handle them\n",
        "\n",
        "1.   First, the simplest way to handle missing values is dropping columns or rows that have missing values. </b>\n",
        "     However, in the case of this data, we should not use this method as a significant amount of data will be lost. \n",
        "\n",
        "2. So, we can using better way: imputation\n"
      ]
    },
    {
      "cell_type": "markdown",
      "metadata": {
        "id": "OxgZ_rBbyer3"
      },
      "source": [
        "* We will impute 'Car' and 'Bathroom' with mode"
      ]
    },
    {
      "cell_type": "code",
      "metadata": {
        "id": "gg5CXqIR4PlR"
      },
      "source": [
        "mode_imputed_features = ['Bathroom', 'Car', 'Postcode', 'Regionname', 'CouncilArea']\n",
        "df = mode_imputed(df, mode_imputed_features)"
      ],
      "execution_count": 30,
      "outputs": []
    },
    {
      "cell_type": "code",
      "metadata": {
        "colab": {
          "base_uri": "https://localhost:8080/",
          "height": 297
        },
        "id": "0CHf03abyjor",
        "outputId": "53b74ad6-afca-42b9-d40c-581f22f00172"
      },
      "source": [
        "plot_missing(df)"
      ],
      "execution_count": 31,
      "outputs": [
        {
          "output_type": "display_data",
          "data": {
            "image/png": "[encoded data removed]",
            "text/plain": [
              "<Figure size 432x288 with 1 Axes>"
            ]
          },
          "metadata": {
            "tags": [],
            "needs_background": "light"
          }
        }
      ]
    },
    {
      "cell_type": "markdown",
      "metadata": {
        "id": "LselbLbp0u9a"
      },
      "source": [
        "* The remain, we will impute with mean value"
      ]
    },
    {
      "cell_type": "code",
      "metadata": {
        "id": "OtqnRmC00utU"
      },
      "source": [
        "mean_imputed_features = ['Landsize', 'BuildingArea', 'Lattitude', 'Longtitude', 'Age', 'Distance', 'Propertycount']\n",
        "df = mean_imputed(df, mean_imputed_features)"
      ],
      "execution_count": 32,
      "outputs": []
    },
    {
      "cell_type": "code",
      "metadata": {
        "colab": {
          "base_uri": "https://localhost:8080/",
          "height": 297
        },
        "id": "vSbL93Wu2Hw9",
        "outputId": "b93c54c8-a494-4039-a0fb-8d0c33530fb9"
      },
      "source": [
        "plot_missing(df)"
      ],
      "execution_count": 33,
      "outputs": [
        {
          "output_type": "display_data",
          "data": {
            "image/png": "[encoded data removed]",
            "text/plain": [
              "<Figure size 432x288 with 1 Axes>"
            ]
          },
          "metadata": {
            "tags": [],
            "needs_background": "light"
          }
        }
      ]
    },
    {
      "cell_type": "code",
      "metadata": {
        "colab": {
          "base_uri": "https://localhost:8080/"
        },
        "id": "1opQz2Mj-1-1",
        "outputId": "6afc88c6-e520-407e-bb38-36edda9bac8b"
      },
      "source": [
        "df.info()"
      ],
      "execution_count": 34,
      "outputs": [
        {
          "output_type": "stream",
          "text": [
            "<class 'pandas.core.frame.DataFrame'>\n",
            "Int64Index: 27247 entries, 1 to 34856\n",
            "Data columns (total 21 columns):\n",
            " #   Column         Non-Null Count  Dtype  \n",
            "---  ------         --------------  -----  \n",
            " 0   Suburb         27247 non-null  object \n",
            " 1   Address        27247 non-null  object \n",
            " 2   Rooms          27247 non-null  int64  \n",
            " 3   Type           27247 non-null  object \n",
            " 4   Price          27247 non-null  float64\n",
            " 5   Method         27247 non-null  object \n",
            " 6   SellerG        27247 non-null  object \n",
            " 7   Distance       27247 non-null  float64\n",
            " 8   Postcode       27247 non-null  float64\n",
            " 9   Bathroom       27247 non-null  float64\n",
            " 10  Car            27247 non-null  float64\n",
            " 11  Landsize       27247 non-null  float64\n",
            " 12  BuildingArea   27247 non-null  float64\n",
            " 13  CouncilArea    27247 non-null  object \n",
            " 14  Lattitude      27247 non-null  float64\n",
            " 15  Longtitude     27247 non-null  float64\n",
            " 16  Regionname     27247 non-null  object \n",
            " 17  Propertycount  27247 non-null  float64\n",
            " 18  Age            27247 non-null  float64\n",
            " 19  Month          27247 non-null  int64  \n",
            " 20  Year           27247 non-null  int64  \n",
            "dtypes: float64(11), int64(3), object(7)\n",
            "memory usage: 4.6+ MB\n"
          ],
          "name": "stdout"
        }
      ]
    },
    {
      "cell_type": "code",
      "metadata": {
        "colab": {
          "base_uri": "https://localhost:8080/",
          "height": 1000
        },
        "id": "g9DNsKyOYfm_",
        "outputId": "96709fd1-c1f3-46f1-f67f-4833a617c65c"
      },
      "source": [
        "duplicateRows(df)"
      ],
      "execution_count": 35,
      "outputs": [
        {
          "output_type": "execute_result",
          "data": {
            "text/html": [
              "<div>\n",
              "<style scoped>\n",
              "    .dataframe tbody tr th:only-of-type {\n",
              "        vertical-align: middle;\n",
              "    }\n",
              "\n",
              "    .dataframe tbody tr th {\n",
              "        vertical-align: top;\n",
              "    }\n",
              "\n",
              "    .dataframe thead th {\n",
              "        text-align: right;\n",
              "    }\n",
              "</style>\n",
              "<table border=\"1\" class=\"dataframe\">\n",
              "  <thead>\n",
              "    <tr style=\"text-align: right;\">\n",
              "      <th></th>\n",
              "      <th>Suburb</th>\n",
              "      <th>Address</th>\n",
              "      <th>Rooms</th>\n",
              "      <th>Type</th>\n",
              "      <th>Price</th>\n",
              "      <th>Method</th>\n",
              "      <th>SellerG</th>\n",
              "      <th>Distance</th>\n",
              "      <th>Postcode</th>\n",
              "      <th>Bathroom</th>\n",
              "      <th>Car</th>\n",
              "      <th>Landsize</th>\n",
              "      <th>BuildingArea</th>\n",
              "      <th>CouncilArea</th>\n",
              "      <th>Lattitude</th>\n",
              "      <th>Longtitude</th>\n",
              "      <th>Regionname</th>\n",
              "      <th>Propertycount</th>\n",
              "      <th>Age</th>\n",
              "      <th>Month</th>\n",
              "      <th>Year</th>\n",
              "    </tr>\n",
              "  </thead>\n",
              "  <tbody>\n",
              "    <tr>\n",
              "      <th>2260</th>\n",
              "      <td>Brunswick</td>\n",
              "      <td>8/2 Pottery Ct</td>\n",
              "      <td>3</td>\n",
              "      <td>t</td>\n",
              "      <td>641000.0</td>\n",
              "      <td>SP</td>\n",
              "      <td>RW</td>\n",
              "      <td>5.2</td>\n",
              "      <td>3056.0</td>\n",
              "      <td>2.0</td>\n",
              "      <td>1.0</td>\n",
              "      <td>0.0000</td>\n",
              "      <td>112.0000</td>\n",
              "      <td>Moreland City Council</td>\n",
              "      <td>-37.7703</td>\n",
              "      <td>144.9533</td>\n",
              "      <td>Northern Metropolitan</td>\n",
              "      <td>11918.0</td>\n",
              "      <td>121.0000</td>\n",
              "      <td>5</td>\n",
              "      <td>2016</td>\n",
              "    </tr>\n",
              "    <tr>\n",
              "      <th>2690</th>\n",
              "      <td>Camberwell</td>\n",
              "      <td>3/220 Warrigal Rd</td>\n",
              "      <td>2</td>\n",
              "      <td>u</td>\n",
              "      <td>435000.0</td>\n",
              "      <td>SP</td>\n",
              "      <td>LITTLE</td>\n",
              "      <td>7.8</td>\n",
              "      <td>3124.0</td>\n",
              "      <td>1.0</td>\n",
              "      <td>1.0</td>\n",
              "      <td>896.0000</td>\n",
              "      <td>77.0000</td>\n",
              "      <td>Boroondara City Council</td>\n",
              "      <td>-37.8479</td>\n",
              "      <td>145.0958</td>\n",
              "      <td>Southern Metropolitan</td>\n",
              "      <td>8920.0</td>\n",
              "      <td>61.0000</td>\n",
              "      <td>11</td>\n",
              "      <td>2016</td>\n",
              "    </tr>\n",
              "    <tr>\n",
              "      <th>5833</th>\n",
              "      <td>Kensington</td>\n",
              "      <td>106/80 Speakmen St</td>\n",
              "      <td>1</td>\n",
              "      <td>u</td>\n",
              "      <td>312000.0</td>\n",
              "      <td>SP</td>\n",
              "      <td>Edward</td>\n",
              "      <td>4.2</td>\n",
              "      <td>3031.0</td>\n",
              "      <td>1.0</td>\n",
              "      <td>2.0</td>\n",
              "      <td>593.4889</td>\n",
              "      <td>156.8346</td>\n",
              "      <td>Melbourne City Council</td>\n",
              "      <td>-37.8070</td>\n",
              "      <td>144.9967</td>\n",
              "      <td>Northern Metropolitan</td>\n",
              "      <td>5263.0</td>\n",
              "      <td>54.3908</td>\n",
              "      <td>8</td>\n",
              "      <td>2016</td>\n",
              "    </tr>\n",
              "    <tr>\n",
              "      <th>6127</th>\n",
              "      <td>Kew East</td>\n",
              "      <td>36 Belford Rd</td>\n",
              "      <td>4</td>\n",
              "      <td>h</td>\n",
              "      <td>1315000.0</td>\n",
              "      <td>SP</td>\n",
              "      <td>Nelson</td>\n",
              "      <td>7.5</td>\n",
              "      <td>3102.0</td>\n",
              "      <td>2.0</td>\n",
              "      <td>2.0</td>\n",
              "      <td>458.0000</td>\n",
              "      <td>200.0000</td>\n",
              "      <td>Boroondara City Council</td>\n",
              "      <td>-37.7981</td>\n",
              "      <td>145.0472</td>\n",
              "      <td>Southern Metropolitan</td>\n",
              "      <td>2671.0</td>\n",
              "      <td>91.0000</td>\n",
              "      <td>9</td>\n",
              "      <td>2016</td>\n",
              "    </tr>\n",
              "    <tr>\n",
              "      <th>7661</th>\n",
              "      <td>Pascoe Vale</td>\n",
              "      <td>2 Hazel Gr</td>\n",
              "      <td>2</td>\n",
              "      <td>h</td>\n",
              "      <td>915000.0</td>\n",
              "      <td>S</td>\n",
              "      <td>New</td>\n",
              "      <td>9.9</td>\n",
              "      <td>3044.0</td>\n",
              "      <td>1.0</td>\n",
              "      <td>3.0</td>\n",
              "      <td>629.0000</td>\n",
              "      <td>156.8346</td>\n",
              "      <td>Moreland City Council</td>\n",
              "      <td>-37.7312</td>\n",
              "      <td>144.9399</td>\n",
              "      <td>Northern Metropolitan</td>\n",
              "      <td>7485.0</td>\n",
              "      <td>46.0000</td>\n",
              "      <td>12</td>\n",
              "      <td>2016</td>\n",
              "    </tr>\n",
              "    <tr>\n",
              "      <th>8492</th>\n",
              "      <td>Reservoir</td>\n",
              "      <td>2/102 Rathcown Rd</td>\n",
              "      <td>2</td>\n",
              "      <td>u</td>\n",
              "      <td>440000.0</td>\n",
              "      <td>SP</td>\n",
              "      <td>Ray</td>\n",
              "      <td>11.2</td>\n",
              "      <td>3073.0</td>\n",
              "      <td>1.0</td>\n",
              "      <td>2.0</td>\n",
              "      <td>132.0000</td>\n",
              "      <td>83.0000</td>\n",
              "      <td>Darebin City Council</td>\n",
              "      <td>-37.7090</td>\n",
              "      <td>145.0219</td>\n",
              "      <td>Northern Metropolitan</td>\n",
              "      <td>21650.0</td>\n",
              "      <td>41.0000</td>\n",
              "      <td>10</td>\n",
              "      <td>2016</td>\n",
              "    </tr>\n",
              "    <tr>\n",
              "      <th>14110</th>\n",
              "      <td>Kensington</td>\n",
              "      <td>33 McCracken St</td>\n",
              "      <td>4</td>\n",
              "      <td>h</td>\n",
              "      <td>1817000.0</td>\n",
              "      <td>SP</td>\n",
              "      <td>Hodges</td>\n",
              "      <td>4.2</td>\n",
              "      <td>3031.0</td>\n",
              "      <td>2.0</td>\n",
              "      <td>1.0</td>\n",
              "      <td>309.0000</td>\n",
              "      <td>156.8346</td>\n",
              "      <td>Melbourne City Council</td>\n",
              "      <td>-37.7910</td>\n",
              "      <td>144.9280</td>\n",
              "      <td>Northern Metropolitan</td>\n",
              "      <td>5263.0</td>\n",
              "      <td>54.3908</td>\n",
              "      <td>4</td>\n",
              "      <td>2017</td>\n",
              "    </tr>\n",
              "    <tr>\n",
              "      <th>15799</th>\n",
              "      <td>Moonee Ponds</td>\n",
              "      <td>36 Aberfeldie St</td>\n",
              "      <td>3</td>\n",
              "      <td>h</td>\n",
              "      <td>1850000.0</td>\n",
              "      <td>SP</td>\n",
              "      <td>McDonald</td>\n",
              "      <td>6.2</td>\n",
              "      <td>3039.0</td>\n",
              "      <td>2.0</td>\n",
              "      <td>2.0</td>\n",
              "      <td>596.0000</td>\n",
              "      <td>203.0000</td>\n",
              "      <td>Moonee Valley City Council</td>\n",
              "      <td>-37.7609</td>\n",
              "      <td>144.9050</td>\n",
              "      <td>Western Metropolitan</td>\n",
              "      <td>6232.0</td>\n",
              "      <td>71.0000</td>\n",
              "      <td>6</td>\n",
              "      <td>2017</td>\n",
              "    </tr>\n",
              "    <tr>\n",
              "      <th>16460</th>\n",
              "      <td>Oak Park</td>\n",
              "      <td>79 New Rd</td>\n",
              "      <td>4</td>\n",
              "      <td>h</td>\n",
              "      <td>1071888.0</td>\n",
              "      <td>SP</td>\n",
              "      <td>Rendina</td>\n",
              "      <td>11.2</td>\n",
              "      <td>3046.0</td>\n",
              "      <td>2.0</td>\n",
              "      <td>4.0</td>\n",
              "      <td>553.0000</td>\n",
              "      <td>190.0000</td>\n",
              "      <td>Moreland City Council</td>\n",
              "      <td>-37.7133</td>\n",
              "      <td>144.9058</td>\n",
              "      <td>Northern Metropolitan</td>\n",
              "      <td>2651.0</td>\n",
              "      <td>20.0000</td>\n",
              "      <td>6</td>\n",
              "      <td>2017</td>\n",
              "    </tr>\n",
              "    <tr>\n",
              "      <th>16476</th>\n",
              "      <td>Parkdale</td>\n",
              "      <td>22 Keith St</td>\n",
              "      <td>4</td>\n",
              "      <td>h</td>\n",
              "      <td>1300000.0</td>\n",
              "      <td>SP</td>\n",
              "      <td>Buxton</td>\n",
              "      <td>21.5</td>\n",
              "      <td>3195.0</td>\n",
              "      <td>2.0</td>\n",
              "      <td>2.0</td>\n",
              "      <td>597.0000</td>\n",
              "      <td>150.0000</td>\n",
              "      <td>Kingston City Council</td>\n",
              "      <td>-37.9923</td>\n",
              "      <td>145.0847</td>\n",
              "      <td>South-Eastern Metropolitan</td>\n",
              "      <td>5087.0</td>\n",
              "      <td>51.0000</td>\n",
              "      <td>6</td>\n",
              "      <td>2017</td>\n",
              "    </tr>\n",
              "    <tr>\n",
              "      <th>18466</th>\n",
              "      <td>Collingwood</td>\n",
              "      <td>6/13 Alexander St</td>\n",
              "      <td>1</td>\n",
              "      <td>u</td>\n",
              "      <td>365000.0</td>\n",
              "      <td>SP</td>\n",
              "      <td>Jellis</td>\n",
              "      <td>2.0</td>\n",
              "      <td>3066.0</td>\n",
              "      <td>1.0</td>\n",
              "      <td>0.0</td>\n",
              "      <td>0.0000</td>\n",
              "      <td>46.0000</td>\n",
              "      <td>Yarra City Council</td>\n",
              "      <td>-37.7960</td>\n",
              "      <td>144.9911</td>\n",
              "      <td>Northern Metropolitan</td>\n",
              "      <td>4553.0</td>\n",
              "      <td>61.0000</td>\n",
              "      <td>7</td>\n",
              "      <td>2017</td>\n",
              "    </tr>\n",
              "    <tr>\n",
              "      <th>19346</th>\n",
              "      <td>Carlton</td>\n",
              "      <td>66 Palmerston St</td>\n",
              "      <td>3</td>\n",
              "      <td>h</td>\n",
              "      <td>920000.0</td>\n",
              "      <td>S</td>\n",
              "      <td>Nelson</td>\n",
              "      <td>1.6</td>\n",
              "      <td>3053.0</td>\n",
              "      <td>1.0</td>\n",
              "      <td>0.0</td>\n",
              "      <td>98.0000</td>\n",
              "      <td>156.8346</td>\n",
              "      <td>Melbourne City Council</td>\n",
              "      <td>-37.7963</td>\n",
              "      <td>144.9727</td>\n",
              "      <td>Northern Metropolitan</td>\n",
              "      <td>6786.0</td>\n",
              "      <td>54.3908</td>\n",
              "      <td>7</td>\n",
              "      <td>2017</td>\n",
              "    </tr>\n",
              "    <tr>\n",
              "      <th>19616</th>\n",
              "      <td>Pascoe Vale</td>\n",
              "      <td>16/43 Arndt Rd</td>\n",
              "      <td>2</td>\n",
              "      <td>u</td>\n",
              "      <td>541000.0</td>\n",
              "      <td>S</td>\n",
              "      <td>Nelson</td>\n",
              "      <td>8.5</td>\n",
              "      <td>3044.0</td>\n",
              "      <td>1.0</td>\n",
              "      <td>1.0</td>\n",
              "      <td>133.0000</td>\n",
              "      <td>156.8346</td>\n",
              "      <td>Moreland City Council</td>\n",
              "      <td>-37.7214</td>\n",
              "      <td>144.9293</td>\n",
              "      <td>Northern Metropolitan</td>\n",
              "      <td>7485.0</td>\n",
              "      <td>54.3908</td>\n",
              "      <td>7</td>\n",
              "      <td>2017</td>\n",
              "    </tr>\n",
              "    <tr>\n",
              "      <th>21208</th>\n",
              "      <td>Glen Iris</td>\n",
              "      <td>1/16 Osborne Av</td>\n",
              "      <td>2</td>\n",
              "      <td>t</td>\n",
              "      <td>965000.0</td>\n",
              "      <td>S</td>\n",
              "      <td>hockingstuart</td>\n",
              "      <td>7.3</td>\n",
              "      <td>3146.0</td>\n",
              "      <td>2.0</td>\n",
              "      <td>1.0</td>\n",
              "      <td>704.0000</td>\n",
              "      <td>156.8346</td>\n",
              "      <td>Boroondara City Council</td>\n",
              "      <td>-37.8570</td>\n",
              "      <td>145.0469</td>\n",
              "      <td>Southern Metropolitan</td>\n",
              "      <td>10412.0</td>\n",
              "      <td>54.3908</td>\n",
              "      <td>9</td>\n",
              "      <td>2017</td>\n",
              "    </tr>\n",
              "    <tr>\n",
              "      <th>22278</th>\n",
              "      <td>Brunswick</td>\n",
              "      <td>7/39 Davies St</td>\n",
              "      <td>2</td>\n",
              "      <td>u</td>\n",
              "      <td>495000.0</td>\n",
              "      <td>SP</td>\n",
              "      <td>Nelson</td>\n",
              "      <td>5.2</td>\n",
              "      <td>3056.0</td>\n",
              "      <td>1.0</td>\n",
              "      <td>1.0</td>\n",
              "      <td>593.4889</td>\n",
              "      <td>61.0000</td>\n",
              "      <td>Moreland City Council</td>\n",
              "      <td>-37.7567</td>\n",
              "      <td>144.9675</td>\n",
              "      <td>Northern Metropolitan</td>\n",
              "      <td>11918.0</td>\n",
              "      <td>51.0000</td>\n",
              "      <td>9</td>\n",
              "      <td>2017</td>\n",
              "    </tr>\n",
              "    <tr>\n",
              "      <th>24451</th>\n",
              "      <td>Hampton</td>\n",
              "      <td>2/481 Bluff Rd</td>\n",
              "      <td>3</td>\n",
              "      <td>t</td>\n",
              "      <td>1100000.0</td>\n",
              "      <td>SP</td>\n",
              "      <td>Buxton</td>\n",
              "      <td>13.8</td>\n",
              "      <td>3188.0</td>\n",
              "      <td>1.0</td>\n",
              "      <td>2.0</td>\n",
              "      <td>593.4889</td>\n",
              "      <td>156.8346</td>\n",
              "      <td>Bayside City Council</td>\n",
              "      <td>-37.8070</td>\n",
              "      <td>144.9967</td>\n",
              "      <td>Southern Metropolitan</td>\n",
              "      <td>5454.0</td>\n",
              "      <td>54.3908</td>\n",
              "      <td>10</td>\n",
              "      <td>2017</td>\n",
              "    </tr>\n",
              "    <tr>\n",
              "      <th>24582</th>\n",
              "      <td>Mount Waverley</td>\n",
              "      <td>46 Outlook Rd</td>\n",
              "      <td>3</td>\n",
              "      <td>h</td>\n",
              "      <td>1360000.0</td>\n",
              "      <td>SP</td>\n",
              "      <td>Jellis</td>\n",
              "      <td>14.2</td>\n",
              "      <td>3149.0</td>\n",
              "      <td>1.0</td>\n",
              "      <td>1.0</td>\n",
              "      <td>593.4889</td>\n",
              "      <td>156.8346</td>\n",
              "      <td>Monash City Council</td>\n",
              "      <td>-37.8655</td>\n",
              "      <td>145.1174</td>\n",
              "      <td>Eastern Metropolitan</td>\n",
              "      <td>13366.0</td>\n",
              "      <td>54.3908</td>\n",
              "      <td>10</td>\n",
              "      <td>2017</td>\n",
              "    </tr>\n",
              "    <tr>\n",
              "      <th>24604</th>\n",
              "      <td>Northcote</td>\n",
              "      <td>112/405 High St</td>\n",
              "      <td>2</td>\n",
              "      <td>u</td>\n",
              "      <td>585000.0</td>\n",
              "      <td>SP</td>\n",
              "      <td>Ray</td>\n",
              "      <td>5.3</td>\n",
              "      <td>3070.0</td>\n",
              "      <td>1.0</td>\n",
              "      <td>2.0</td>\n",
              "      <td>593.4889</td>\n",
              "      <td>156.8346</td>\n",
              "      <td>Darebin City Council</td>\n",
              "      <td>-37.8070</td>\n",
              "      <td>144.9967</td>\n",
              "      <td>Northern Metropolitan</td>\n",
              "      <td>11364.0</td>\n",
              "      <td>54.3908</td>\n",
              "      <td>10</td>\n",
              "      <td>2017</td>\n",
              "    </tr>\n",
              "    <tr>\n",
              "      <th>25301</th>\n",
              "      <td>Prahran</td>\n",
              "      <td>1 Trinian St</td>\n",
              "      <td>3</td>\n",
              "      <td>h</td>\n",
              "      <td>3250000.0</td>\n",
              "      <td>SP</td>\n",
              "      <td>Jellis</td>\n",
              "      <td>4.6</td>\n",
              "      <td>3181.0</td>\n",
              "      <td>2.0</td>\n",
              "      <td>2.0</td>\n",
              "      <td>593.4889</td>\n",
              "      <td>200.0000</td>\n",
              "      <td>Stonnington City Council</td>\n",
              "      <td>-37.8526</td>\n",
              "      <td>145.0014</td>\n",
              "      <td>Southern Metropolitan</td>\n",
              "      <td>7717.0</td>\n",
              "      <td>141.0000</td>\n",
              "      <td>10</td>\n",
              "      <td>2017</td>\n",
              "    </tr>\n",
              "    <tr>\n",
              "      <th>26380</th>\n",
              "      <td>Richmond</td>\n",
              "      <td>11 Judd St</td>\n",
              "      <td>2</td>\n",
              "      <td>h</td>\n",
              "      <td>1250000.0</td>\n",
              "      <td>SP</td>\n",
              "      <td>Biggin</td>\n",
              "      <td>2.4</td>\n",
              "      <td>3121.0</td>\n",
              "      <td>2.0</td>\n",
              "      <td>2.0</td>\n",
              "      <td>593.4889</td>\n",
              "      <td>124.0000</td>\n",
              "      <td>Yarra City Council</td>\n",
              "      <td>-37.8167</td>\n",
              "      <td>144.9955</td>\n",
              "      <td>Northern Metropolitan</td>\n",
              "      <td>14949.0</td>\n",
              "      <td>11.0000</td>\n",
              "      <td>10</td>\n",
              "      <td>2017</td>\n",
              "    </tr>\n",
              "  </tbody>\n",
              "</table>\n",
              "</div>"
            ],
            "text/plain": [
              "               Suburb             Address  Rooms  ...       Age  Month  Year\n",
              "2260        Brunswick      8/2 Pottery Ct      3  ...  121.0000      5  2016\n",
              "2690       Camberwell   3/220 Warrigal Rd      2  ...   61.0000     11  2016\n",
              "5833       Kensington  106/80 Speakmen St      1  ...   54.3908      8  2016\n",
              "6127         Kew East       36 Belford Rd      4  ...   91.0000      9  2016\n",
              "7661      Pascoe Vale          2 Hazel Gr      2  ...   46.0000     12  2016\n",
              "8492        Reservoir   2/102 Rathcown Rd      2  ...   41.0000     10  2016\n",
              "14110      Kensington     33 McCracken St      4  ...   54.3908      4  2017\n",
              "15799    Moonee Ponds    36 Aberfeldie St      3  ...   71.0000      6  2017\n",
              "16460        Oak Park           79 New Rd      4  ...   20.0000      6  2017\n",
              "16476        Parkdale         22 Keith St      4  ...   51.0000      6  2017\n",
              "18466     Collingwood   6/13 Alexander St      1  ...   61.0000      7  2017\n",
              "19346         Carlton    66 Palmerston St      3  ...   54.3908      7  2017\n",
              "19616     Pascoe Vale      16/43 Arndt Rd      2  ...   54.3908      7  2017\n",
              "21208       Glen Iris     1/16 Osborne Av      2  ...   54.3908      9  2017\n",
              "22278       Brunswick      7/39 Davies St      2  ...   51.0000      9  2017\n",
              "24451         Hampton      2/481 Bluff Rd      3  ...   54.3908     10  2017\n",
              "24582  Mount Waverley       46 Outlook Rd      3  ...   54.3908     10  2017\n",
              "24604       Northcote     112/405 High St      2  ...   54.3908     10  2017\n",
              "25301         Prahran        1 Trinian St      3  ...  141.0000     10  2017\n",
              "26380        Richmond          11 Judd St      2  ...   11.0000     10  2017\n",
              "\n",
              "[20 rows x 21 columns]"
            ]
          },
          "metadata": {
            "tags": []
          },
          "execution_count": 35
        }
      ]
    },
    {
      "cell_type": "code",
      "metadata": {
        "colab": {
          "base_uri": "https://localhost:8080/"
        },
        "id": "J5WS3rEPPxxW",
        "outputId": "a1edaff1-e115-479d-cfb6-280f4cf30931"
      },
      "source": [
        "df = df.drop_duplicates()\n",
        "df.shape"
      ],
      "execution_count": 36,
      "outputs": [
        {
          "output_type": "execute_result",
          "data": {
            "text/plain": [
              "(27227, 21)"
            ]
          },
          "metadata": {
            "tags": []
          },
          "execution_count": 36
        }
      ]
    },
    {
      "cell_type": "markdown",
      "metadata": {
        "id": "YKfQB9RPY3Rc"
      },
      "source": [
        "## **Descriptive Statistics**"
      ]
    },
    {
      "cell_type": "markdown",
      "metadata": {
        "id": "AEIs-tSh08EY"
      },
      "source": [
        "**<h5> Categorical data <h5>**"
      ]
    },
    {
      "cell_type": "code",
      "metadata": {
        "colab": {
          "base_uri": "https://localhost:8080/",
          "height": 166
        },
        "id": "CkpfNv_UZA5A",
        "outputId": "072e149f-636c-4fd1-e52a-3a8ca6e0b438"
      },
      "source": [
        "df.describe(percentiles=[.01, .25, .5, .75, .99], include='object')"
      ],
      "execution_count": 37,
      "outputs": [
        {
          "output_type": "execute_result",
          "data": {
            "text/html": [
              "<div>\n",
              "<style scoped>\n",
              "    .dataframe tbody tr th:only-of-type {\n",
              "        vertical-align: middle;\n",
              "    }\n",
              "\n",
              "    .dataframe tbody tr th {\n",
              "        vertical-align: top;\n",
              "    }\n",
              "\n",
              "    .dataframe thead th {\n",
              "        text-align: right;\n",
              "    }\n",
              "</style>\n",
              "<table border=\"1\" class=\"dataframe\">\n",
              "  <thead>\n",
              "    <tr style=\"text-align: right;\">\n",
              "      <th></th>\n",
              "      <th>Suburb</th>\n",
              "      <th>Address</th>\n",
              "      <th>Type</th>\n",
              "      <th>Method</th>\n",
              "      <th>SellerG</th>\n",
              "      <th>CouncilArea</th>\n",
              "      <th>Regionname</th>\n",
              "    </tr>\n",
              "  </thead>\n",
              "  <tbody>\n",
              "    <tr>\n",
              "      <th>count</th>\n",
              "      <td>27227</td>\n",
              "      <td>27227</td>\n",
              "      <td>27227</td>\n",
              "      <td>27227</td>\n",
              "      <td>27227</td>\n",
              "      <td>27227</td>\n",
              "      <td>27227</td>\n",
              "    </tr>\n",
              "    <tr>\n",
              "      <th>unique</th>\n",
              "      <td>345</td>\n",
              "      <td>26751</td>\n",
              "      <td>3</td>\n",
              "      <td>5</td>\n",
              "      <td>349</td>\n",
              "      <td>33</td>\n",
              "      <td>8</td>\n",
              "    </tr>\n",
              "    <tr>\n",
              "      <th>top</th>\n",
              "      <td>Reservoir</td>\n",
              "      <td>5 Charles St</td>\n",
              "      <td>h</td>\n",
              "      <td>S</td>\n",
              "      <td>Nelson</td>\n",
              "      <td>Boroondara City Council</td>\n",
              "      <td>Southern Metropolitan</td>\n",
              "    </tr>\n",
              "    <tr>\n",
              "      <th>freq</th>\n",
              "      <td>726</td>\n",
              "      <td>4</td>\n",
              "      <td>18462</td>\n",
              "      <td>17511</td>\n",
              "      <td>2731</td>\n",
              "      <td>2520</td>\n",
              "      <td>8522</td>\n",
              "    </tr>\n",
              "  </tbody>\n",
              "</table>\n",
              "</div>"
            ],
            "text/plain": [
              "           Suburb       Address  ...              CouncilArea             Regionname\n",
              "count       27227         27227  ...                    27227                  27227\n",
              "unique        345         26751  ...                       33                      8\n",
              "top     Reservoir  5 Charles St  ...  Boroondara City Council  Southern Metropolitan\n",
              "freq          726             4  ...                     2520                   8522\n",
              "\n",
              "[4 rows x 7 columns]"
            ]
          },
          "metadata": {
            "tags": []
          },
          "execution_count": 37
        }
      ]
    },
    {
      "cell_type": "markdown",
      "metadata": {
        "id": "wgNRudG0zgFU"
      },
      "source": [
        "* Observing the unique values, we notice that, for the Address column, the unique value is very high, almost equal to count, so the Address column cannot be used as a feature to building the model. => drop Address column\n",
        "* The remaining columns can be used as features to build the model"
      ]
    },
    {
      "cell_type": "code",
      "metadata": {
        "colab": {
          "base_uri": "https://localhost:8080/",
          "height": 166
        },
        "id": "j2Vj-eYQIfiE",
        "outputId": "f3876646-f614-4389-abe4-5d4ecb6c9ae0"
      },
      "source": [
        "# drop Address column\n",
        "df.drop(['Address'], axis=1, inplace=True)\n",
        "df.describe(percentiles=[.01, .25, .5, .75, .99], include='object')"
      ],
      "execution_count": 38,
      "outputs": [
        {
          "output_type": "execute_result",
          "data": {
            "text/html": [
              "<div>\n",
              "<style scoped>\n",
              "    .dataframe tbody tr th:only-of-type {\n",
              "        vertical-align: middle;\n",
              "    }\n",
              "\n",
              "    .dataframe tbody tr th {\n",
              "        vertical-align: top;\n",
              "    }\n",
              "\n",
              "    .dataframe thead th {\n",
              "        text-align: right;\n",
              "    }\n",
              "</style>\n",
              "<table border=\"1\" class=\"dataframe\">\n",
              "  <thead>\n",
              "    <tr style=\"text-align: right;\">\n",
              "      <th></th>\n",
              "      <th>Suburb</th>\n",
              "      <th>Type</th>\n",
              "      <th>Method</th>\n",
              "      <th>SellerG</th>\n",
              "      <th>CouncilArea</th>\n",
              "      <th>Regionname</th>\n",
              "    </tr>\n",
              "  </thead>\n",
              "  <tbody>\n",
              "    <tr>\n",
              "      <th>count</th>\n",
              "      <td>27227</td>\n",
              "      <td>27227</td>\n",
              "      <td>27227</td>\n",
              "      <td>27227</td>\n",
              "      <td>27227</td>\n",
              "      <td>27227</td>\n",
              "    </tr>\n",
              "    <tr>\n",
              "      <th>unique</th>\n",
              "      <td>345</td>\n",
              "      <td>3</td>\n",
              "      <td>5</td>\n",
              "      <td>349</td>\n",
              "      <td>33</td>\n",
              "      <td>8</td>\n",
              "    </tr>\n",
              "    <tr>\n",
              "      <th>top</th>\n",
              "      <td>Reservoir</td>\n",
              "      <td>h</td>\n",
              "      <td>S</td>\n",
              "      <td>Nelson</td>\n",
              "      <td>Boroondara City Council</td>\n",
              "      <td>Southern Metropolitan</td>\n",
              "    </tr>\n",
              "    <tr>\n",
              "      <th>freq</th>\n",
              "      <td>726</td>\n",
              "      <td>18462</td>\n",
              "      <td>17511</td>\n",
              "      <td>2731</td>\n",
              "      <td>2520</td>\n",
              "      <td>8522</td>\n",
              "    </tr>\n",
              "  </tbody>\n",
              "</table>\n",
              "</div>"
            ],
            "text/plain": [
              "           Suburb   Type  ...              CouncilArea             Regionname\n",
              "count       27227  27227  ...                    27227                  27227\n",
              "unique        345      3  ...                       33                      8\n",
              "top     Reservoir      h  ...  Boroondara City Council  Southern Metropolitan\n",
              "freq          726  18462  ...                     2520                   8522\n",
              "\n",
              "[4 rows x 6 columns]"
            ]
          },
          "metadata": {
            "tags": []
          },
          "execution_count": 38
        }
      ]
    },
    {
      "cell_type": "code",
      "metadata": {
        "colab": {
          "base_uri": "https://localhost:8080/"
        },
        "id": "UnIz1riJGMC1",
        "outputId": "2daafdb3-5c8e-4ff2-b79a-938552fea442"
      },
      "source": [
        "duplicateRows(df).shape"
      ],
      "execution_count": 39,
      "outputs": [
        {
          "output_type": "execute_result",
          "data": {
            "text/plain": [
              "(12, 20)"
            ]
          },
          "metadata": {
            "tags": []
          },
          "execution_count": 39
        }
      ]
    },
    {
      "cell_type": "code",
      "metadata": {
        "colab": {
          "base_uri": "https://localhost:8080/"
        },
        "id": "AhErbsNeGVE9",
        "outputId": "787ba725-28d2-45b9-e8a9-9ce2a9e396e3"
      },
      "source": [
        "df = df.drop_duplicates()\n",
        "df.shape"
      ],
      "execution_count": 40,
      "outputs": [
        {
          "output_type": "execute_result",
          "data": {
            "text/plain": [
              "(27215, 20)"
            ]
          },
          "metadata": {
            "tags": []
          },
          "execution_count": 40
        }
      ]
    },
    {
      "cell_type": "markdown",
      "metadata": {
        "id": "Rg-Y15YI_sP4"
      },
      "source": [
        "**<h5> Numeric data <h5>**"
      ]
    },
    {
      "cell_type": "code",
      "metadata": {
        "colab": {
          "base_uri": "https://localhost:8080/",
          "height": 422
        },
        "id": "JbEZyhtK_qg7",
        "outputId": "5d400b9e-9fb6-4662-a868-baf1421ba90c"
      },
      "source": [
        "df.describe(percentiles=[.01, .1, .25, .5, .75, .95, .99])"
      ],
      "execution_count": 41,
      "outputs": [
        {
          "output_type": "execute_result",
          "data": {
            "text/html": [
              "<div>\n",
              "<style scoped>\n",
              "    .dataframe tbody tr th:only-of-type {\n",
              "        vertical-align: middle;\n",
              "    }\n",
              "\n",
              "    .dataframe tbody tr th {\n",
              "        vertical-align: top;\n",
              "    }\n",
              "\n",
              "    .dataframe thead th {\n",
              "        text-align: right;\n",
              "    }\n",
              "</style>\n",
              "<table border=\"1\" class=\"dataframe\">\n",
              "  <thead>\n",
              "    <tr style=\"text-align: right;\">\n",
              "      <th></th>\n",
              "      <th>Rooms</th>\n",
              "      <th>Price</th>\n",
              "      <th>Distance</th>\n",
              "      <th>Postcode</th>\n",
              "      <th>Bathroom</th>\n",
              "      <th>Car</th>\n",
              "      <th>Landsize</th>\n",
              "      <th>BuildingArea</th>\n",
              "      <th>Lattitude</th>\n",
              "      <th>Longtitude</th>\n",
              "      <th>Propertycount</th>\n",
              "      <th>Age</th>\n",
              "      <th>Month</th>\n",
              "      <th>Year</th>\n",
              "    </tr>\n",
              "  </thead>\n",
              "  <tbody>\n",
              "    <tr>\n",
              "      <th>count</th>\n",
              "      <td>27215.0000</td>\n",
              "      <td>2.7215e+04</td>\n",
              "      <td>27215.0000</td>\n",
              "      <td>27215.0000</td>\n",
              "      <td>27215.0000</td>\n",
              "      <td>27215.0000</td>\n",
              "      <td>27215.0000</td>\n",
              "      <td>27215.0000</td>\n",
              "      <td>27215.0000</td>\n",
              "      <td>27215.0000</td>\n",
              "      <td>27215.0000</td>\n",
              "      <td>27215.0000</td>\n",
              "      <td>27215.0000</td>\n",
              "      <td>27215.0000</td>\n",
              "    </tr>\n",
              "    <tr>\n",
              "      <th>mean</th>\n",
              "      <td>2.9927</td>\n",
              "      <td>1.0502e+06</td>\n",
              "      <td>11.2838</td>\n",
              "      <td>3113.8169</td>\n",
              "      <td>1.4519</td>\n",
              "      <td>1.7867</td>\n",
              "      <td>593.5848</td>\n",
              "      <td>156.8448</td>\n",
              "      <td>-37.8070</td>\n",
              "      <td>144.9967</td>\n",
              "      <td>7566.6174</td>\n",
              "      <td>54.3867</td>\n",
              "      <td>7.1547</td>\n",
              "      <td>2016.8394</td>\n",
              "    </tr>\n",
              "    <tr>\n",
              "      <th>std</th>\n",
              "      <td>0.9548</td>\n",
              "      <td>6.4153e+05</td>\n",
              "      <td>6.7886</td>\n",
              "      <td>111.1837</td>\n",
              "      <td>0.6622</td>\n",
              "      <td>0.8697</td>\n",
              "      <td>3054.0868</td>\n",
              "      <td>281.0852</td>\n",
              "      <td>0.0804</td>\n",
              "      <td>0.1060</td>\n",
              "      <td>4492.5168</td>\n",
              "      <td>24.4832</td>\n",
              "      <td>3.1540</td>\n",
              "      <td>0.6362</td>\n",
              "    </tr>\n",
              "    <tr>\n",
              "      <th>min</th>\n",
              "      <td>1.0000</td>\n",
              "      <td>8.5000e+04</td>\n",
              "      <td>0.0000</td>\n",
              "      <td>3000.0000</td>\n",
              "      <td>0.0000</td>\n",
              "      <td>0.0000</td>\n",
              "      <td>0.0000</td>\n",
              "      <td>0.0000</td>\n",
              "      <td>-38.1904</td>\n",
              "      <td>144.4238</td>\n",
              "      <td>83.0000</td>\n",
              "      <td>2.0000</td>\n",
              "      <td>1.0000</td>\n",
              "      <td>2016.0000</td>\n",
              "    </tr>\n",
              "    <tr>\n",
              "      <th>1%</th>\n",
              "      <td>1.0000</td>\n",
              "      <td>3.1000e+05</td>\n",
              "      <td>1.6000</td>\n",
              "      <td>3006.0000</td>\n",
              "      <td>1.0000</td>\n",
              "      <td>0.0000</td>\n",
              "      <td>0.0000</td>\n",
              "      <td>40.1400</td>\n",
              "      <td>-38.0530</td>\n",
              "      <td>144.6621</td>\n",
              "      <td>852.0000</td>\n",
              "      <td>6.0000</td>\n",
              "      <td>1.0000</td>\n",
              "      <td>2016.0000</td>\n",
              "    </tr>\n",
              "    <tr>\n",
              "      <th>10%</th>\n",
              "      <td>2.0000</td>\n",
              "      <td>4.8600e+05</td>\n",
              "      <td>4.0000</td>\n",
              "      <td>3023.0000</td>\n",
              "      <td>1.0000</td>\n",
              "      <td>1.0000</td>\n",
              "      <td>130.4000</td>\n",
              "      <td>101.0000</td>\n",
              "      <td>-37.9059</td>\n",
              "      <td>144.8786</td>\n",
              "      <td>2671.0000</td>\n",
              "      <td>21.0000</td>\n",
              "      <td>3.0000</td>\n",
              "      <td>2016.0000</td>\n",
              "    </tr>\n",
              "    <tr>\n",
              "      <th>25%</th>\n",
              "      <td>2.0000</td>\n",
              "      <td>6.3500e+05</td>\n",
              "      <td>6.4000</td>\n",
              "      <td>3046.0000</td>\n",
              "      <td>1.0000</td>\n",
              "      <td>1.0000</td>\n",
              "      <td>351.0000</td>\n",
              "      <td>156.0000</td>\n",
              "      <td>-37.8429</td>\n",
              "      <td>144.9543</td>\n",
              "      <td>4294.0000</td>\n",
              "      <td>54.3908</td>\n",
              "      <td>5.0000</td>\n",
              "      <td>2016.0000</td>\n",
              "    </tr>\n",
              "    <tr>\n",
              "      <th>50%</th>\n",
              "      <td>3.0000</td>\n",
              "      <td>8.7000e+05</td>\n",
              "      <td>10.5000</td>\n",
              "      <td>3088.0000</td>\n",
              "      <td>1.0000</td>\n",
              "      <td>2.0000</td>\n",
              "      <td>593.4889</td>\n",
              "      <td>156.8346</td>\n",
              "      <td>-37.8070</td>\n",
              "      <td>144.9967</td>\n",
              "      <td>6567.0000</td>\n",
              "      <td>54.3908</td>\n",
              "      <td>7.0000</td>\n",
              "      <td>2017.0000</td>\n",
              "    </tr>\n",
              "    <tr>\n",
              "      <th>75%</th>\n",
              "      <td>4.0000</td>\n",
              "      <td>1.2950e+06</td>\n",
              "      <td>14.0000</td>\n",
              "      <td>3153.0000</td>\n",
              "      <td>2.0000</td>\n",
              "      <td>2.0000</td>\n",
              "      <td>593.4889</td>\n",
              "      <td>156.8346</td>\n",
              "      <td>-37.7660</td>\n",
              "      <td>145.0484</td>\n",
              "      <td>10412.0000</td>\n",
              "      <td>54.3908</td>\n",
              "      <td>10.0000</td>\n",
              "      <td>2017.0000</td>\n",
              "    </tr>\n",
              "    <tr>\n",
              "      <th>95%</th>\n",
              "      <td>5.0000</td>\n",
              "      <td>2.2500e+06</td>\n",
              "      <td>24.7000</td>\n",
              "      <td>3204.0000</td>\n",
              "      <td>3.0000</td>\n",
              "      <td>3.0000</td>\n",
              "      <td>864.0000</td>\n",
              "      <td>231.0000</td>\n",
              "      <td>-37.6846</td>\n",
              "      <td>145.1653</td>\n",
              "      <td>15510.0000</td>\n",
              "      <td>108.0000</td>\n",
              "      <td>12.0000</td>\n",
              "      <td>2018.0000</td>\n",
              "    </tr>\n",
              "    <tr>\n",
              "      <th>99%</th>\n",
              "      <td>5.0000</td>\n",
              "      <td>3.4009e+06</td>\n",
              "      <td>35.4000</td>\n",
              "      <td>3754.0000</td>\n",
              "      <td>3.0000</td>\n",
              "      <td>4.0000</td>\n",
              "      <td>2033.0000</td>\n",
              "      <td>356.8600</td>\n",
              "      <td>-37.5900</td>\n",
              "      <td>145.2776</td>\n",
              "      <td>21650.0000</td>\n",
              "      <td>131.0000</td>\n",
              "      <td>12.0000</td>\n",
              "      <td>2018.0000</td>\n",
              "    </tr>\n",
              "    <tr>\n",
              "      <th>max</th>\n",
              "      <td>16.0000</td>\n",
              "      <td>1.1200e+07</td>\n",
              "      <td>48.1000</td>\n",
              "      <td>3978.0000</td>\n",
              "      <td>9.0000</td>\n",
              "      <td>18.0000</td>\n",
              "      <td>433014.0000</td>\n",
              "      <td>44515.0000</td>\n",
              "      <td>-37.3978</td>\n",
              "      <td>145.5264</td>\n",
              "      <td>21650.0000</td>\n",
              "      <td>825.0000</td>\n",
              "      <td>12.0000</td>\n",
              "      <td>2018.0000</td>\n",
              "    </tr>\n",
              "  </tbody>\n",
              "</table>\n",
              "</div>"
            ],
            "text/plain": [
              "            Rooms       Price    Distance  ...         Age       Month        Year\n",
              "count  27215.0000  2.7215e+04  27215.0000  ...  27215.0000  27215.0000  27215.0000\n",
              "mean       2.9927  1.0502e+06     11.2838  ...     54.3867      7.1547   2016.8394\n",
              "std        0.9548  6.4153e+05      6.7886  ...     24.4832      3.1540      0.6362\n",
              "min        1.0000  8.5000e+04      0.0000  ...      2.0000      1.0000   2016.0000\n",
              "1%         1.0000  3.1000e+05      1.6000  ...      6.0000      1.0000   2016.0000\n",
              "10%        2.0000  4.8600e+05      4.0000  ...     21.0000      3.0000   2016.0000\n",
              "25%        2.0000  6.3500e+05      6.4000  ...     54.3908      5.0000   2016.0000\n",
              "50%        3.0000  8.7000e+05     10.5000  ...     54.3908      7.0000   2017.0000\n",
              "75%        4.0000  1.2950e+06     14.0000  ...     54.3908     10.0000   2017.0000\n",
              "95%        5.0000  2.2500e+06     24.7000  ...    108.0000     12.0000   2018.0000\n",
              "99%        5.0000  3.4009e+06     35.4000  ...    131.0000     12.0000   2018.0000\n",
              "max       16.0000  1.1200e+07     48.1000  ...    825.0000     12.0000   2018.0000\n",
              "\n",
              "[12 rows x 14 columns]"
            ]
          },
          "metadata": {
            "tags": []
          },
          "execution_count": 41
        }
      ]
    },
    {
      "cell_type": "markdown",
      "metadata": {
        "id": "uzxEMdrS_0Wq"
      },
      "source": [
        "* Observe min values\n",
        "> min of Landsize, BuildingArea = 0 -> outliers\n",
        "* Observe and compare quartile value 99% and max value\n",
        "> Quartile 99% of Rooms, Price, Bathroom, Car, Landsize, BuildingArea, Age is pretty much smaller than the max value => may contain outliers<br>\n",
        "> Quartile 99% of Age is pretty much smaller than the max value => may contain outliers\n",
        "\n",
        "\n",
        "\n"
      ]
    },
    {
      "cell_type": "markdown",
      "metadata": {
        "id": "szrZdV_oCnGQ"
      },
      "source": [
        "## **Outliers**"
      ]
    },
    {
      "cell_type": "code",
      "metadata": {
        "colab": {
          "base_uri": "https://localhost:8080/"
        },
        "id": "mtfUpuTNEWVf",
        "outputId": "9ea52b37-db39-49b4-ee32-52f7bfbc662e"
      },
      "source": [
        "df.shape"
      ],
      "execution_count": 42,
      "outputs": [
        {
          "output_type": "execute_result",
          "data": {
            "text/plain": [
              "(27215, 20)"
            ]
          },
          "metadata": {
            "tags": []
          },
          "execution_count": 42
        }
      ]
    },
    {
      "cell_type": "code",
      "metadata": {
        "colab": {
          "base_uri": "https://localhost:8080/"
        },
        "id": "kcMuTzf4jAVS",
        "outputId": "ed39a021-3270-4f04-80e2-d0bbe55c8acd"
      },
      "source": [
        "df[df['Landsize'] == 0].shape"
      ],
      "execution_count": 43,
      "outputs": [
        {
          "output_type": "execute_result",
          "data": {
            "text/plain": [
              "(1940, 20)"
            ]
          },
          "metadata": {
            "tags": []
          },
          "execution_count": 43
        }
      ]
    },
    {
      "cell_type": "code",
      "metadata": {
        "colab": {
          "base_uri": "https://localhost:8080/"
        },
        "id": "AHGhuzSCD3LR",
        "outputId": "f74e3e47-97c2-4030-8dc3-c3a9212e84f4"
      },
      "source": [
        "df = df[df['Landsize'] != 0]\n",
        "df.shape"
      ],
      "execution_count": 44,
      "outputs": [
        {
          "output_type": "execute_result",
          "data": {
            "text/plain": [
              "(25275, 20)"
            ]
          },
          "metadata": {
            "tags": []
          },
          "execution_count": 44
        }
      ]
    },
    {
      "cell_type": "code",
      "metadata": {
        "colab": {
          "base_uri": "https://localhost:8080/"
        },
        "id": "beZXFAKOENU0",
        "outputId": "fec8509d-fda2-4276-95cc-3bc67dce7087"
      },
      "source": [
        "df[df['BuildingArea'] == 0].shape"
      ],
      "execution_count": 45,
      "outputs": [
        {
          "output_type": "execute_result",
          "data": {
            "text/plain": [
              "(61, 20)"
            ]
          },
          "metadata": {
            "tags": []
          },
          "execution_count": 45
        }
      ]
    },
    {
      "cell_type": "code",
      "metadata": {
        "colab": {
          "base_uri": "https://localhost:8080/"
        },
        "id": "hlEV-AtqEdmy",
        "outputId": "6b21efb4-7465-484e-a856-1b5c68bee1f1"
      },
      "source": [
        "df = df[df['BuildingArea'] != 0]\n",
        "df.shape"
      ],
      "execution_count": 46,
      "outputs": [
        {
          "output_type": "execute_result",
          "data": {
            "text/plain": [
              "(25214, 20)"
            ]
          },
          "metadata": {
            "tags": []
          },
          "execution_count": 46
        }
      ]
    },
    {
      "cell_type": "code",
      "metadata": {
        "colab": {
          "base_uri": "https://localhost:8080/"
        },
        "id": "KKDgyh3Giz-w",
        "outputId": "a0a1d786-fc5d-4290-be45-b691713e3bd0"
      },
      "source": [
        "df[df['Bathroom'] == 0].shape"
      ],
      "execution_count": 47,
      "outputs": [
        {
          "output_type": "execute_result",
          "data": {
            "text/plain": [
              "(16, 20)"
            ]
          },
          "metadata": {
            "tags": []
          },
          "execution_count": 47
        }
      ]
    },
    {
      "cell_type": "code",
      "metadata": {
        "colab": {
          "base_uri": "https://localhost:8080/"
        },
        "id": "eBzyn8Vli2TE",
        "outputId": "f6e141a4-c87a-4560-f3e7-1b600be87062"
      },
      "source": [
        "df = df[df['Bathroom'] != 0]\n",
        "df.shape"
      ],
      "execution_count": 48,
      "outputs": [
        {
          "output_type": "execute_result",
          "data": {
            "text/plain": [
              "(25198, 20)"
            ]
          },
          "metadata": {
            "tags": []
          },
          "execution_count": 48
        }
      ]
    },
    {
      "cell_type": "code",
      "metadata": {
        "colab": {
          "base_uri": "https://localhost:8080/"
        },
        "id": "la110iqXE2OV",
        "outputId": "8a71ff59-be85-4201-cc1f-561c9a4a1ca2"
      },
      "source": [
        "df[df['Age'] >= 200].shape"
      ],
      "execution_count": 49,
      "outputs": [
        {
          "output_type": "execute_result",
          "data": {
            "text/plain": [
              "(2, 20)"
            ]
          },
          "metadata": {
            "tags": []
          },
          "execution_count": 49
        }
      ]
    },
    {
      "cell_type": "code",
      "metadata": {
        "colab": {
          "base_uri": "https://localhost:8080/"
        },
        "id": "AuGh1V6kFIVn",
        "outputId": "1473b85a-1865-4d4f-e83f-a9fea57ab789"
      },
      "source": [
        "df = df[df['Age'] < 200]\n",
        "df.shape"
      ],
      "execution_count": 50,
      "outputs": [
        {
          "output_type": "execute_result",
          "data": {
            "text/plain": [
              "(25196, 20)"
            ]
          },
          "metadata": {
            "tags": []
          },
          "execution_count": 50
        }
      ]
    },
    {
      "cell_type": "markdown",
      "metadata": {
        "id": "ndPC-SxStKUu"
      },
      "source": [
        "**Price**"
      ]
    },
    {
      "cell_type": "code",
      "metadata": {
        "colab": {
          "base_uri": "https://localhost:8080/"
        },
        "id": "Fb9A-9hDtJkG",
        "outputId": "d2004df2-d40f-4dfd-9d1e-310f7e87b509"
      },
      "source": [
        "isOutlier = Zscore_Outliers(df['Bathroom'], 3)\n",
        "df[isOutlier].shape"
      ],
      "execution_count": 51,
      "outputs": [
        {
          "output_type": "execute_result",
          "data": {
            "text/plain": [
              "(236, 20)"
            ]
          },
          "metadata": {
            "tags": []
          },
          "execution_count": 51
        }
      ]
    },
    {
      "cell_type": "code",
      "metadata": {
        "colab": {
          "base_uri": "https://localhost:8080/"
        },
        "id": "ULATR-iqtO1c",
        "outputId": "e8ec0b76-1354-48f3-abf8-fd2d70ca9eba"
      },
      "source": [
        "isnotOutlier = [not x for x in isOutlier]\n",
        "df = df[isnotOutlier]\n",
        "df.shape"
      ],
      "execution_count": 52,
      "outputs": [
        {
          "output_type": "execute_result",
          "data": {
            "text/plain": [
              "(24960, 20)"
            ]
          },
          "metadata": {
            "tags": []
          },
          "execution_count": 52
        }
      ]
    },
    {
      "cell_type": "markdown",
      "metadata": {
        "id": "fStbZ64mVsHe"
      },
      "source": [
        "**Rooms**"
      ]
    },
    {
      "cell_type": "code",
      "metadata": {
        "colab": {
          "base_uri": "https://localhost:8080/"
        },
        "id": "KLH-3j_mShRH",
        "outputId": "9afd1548-e8c7-427c-8f64-d3b126b3c93c"
      },
      "source": [
        "isOutlier = Zscore_Outliers(df['Rooms'], 4)\n",
        "df[isOutlier].shape"
      ],
      "execution_count": 53,
      "outputs": [
        {
          "output_type": "execute_result",
          "data": {
            "text/plain": [
              "(30, 20)"
            ]
          },
          "metadata": {
            "tags": []
          },
          "execution_count": 53
        }
      ]
    },
    {
      "cell_type": "code",
      "metadata": {
        "colab": {
          "base_uri": "https://localhost:8080/"
        },
        "id": "WjyyhYWaVSBh",
        "outputId": "e83bf491-a2e1-480e-f541-8eb2e6cbd7ff"
      },
      "source": [
        "df.shape"
      ],
      "execution_count": 54,
      "outputs": [
        {
          "output_type": "execute_result",
          "data": {
            "text/plain": [
              "(24960, 20)"
            ]
          },
          "metadata": {
            "tags": []
          },
          "execution_count": 54
        }
      ]
    },
    {
      "cell_type": "code",
      "metadata": {
        "colab": {
          "base_uri": "https://localhost:8080/"
        },
        "id": "AdPJUpvhVQnw",
        "outputId": "90117eab-cd31-406f-8693-bd541720483f"
      },
      "source": [
        "isnotOutlier = [not x for x in isOutlier]\n",
        "df = df[isnotOutlier]\n",
        "df.shape"
      ],
      "execution_count": 55,
      "outputs": [
        {
          "output_type": "execute_result",
          "data": {
            "text/plain": [
              "(24930, 20)"
            ]
          },
          "metadata": {
            "tags": []
          },
          "execution_count": 55
        }
      ]
    },
    {
      "cell_type": "markdown",
      "metadata": {
        "id": "gF2W23NsVwPP"
      },
      "source": [
        "**Bathroom**"
      ]
    },
    {
      "cell_type": "code",
      "metadata": {
        "colab": {
          "base_uri": "https://localhost:8080/"
        },
        "id": "gUqwRiHRWO-n",
        "outputId": "b27d29d6-3078-410e-fc4b-caabe621934f"
      },
      "source": [
        "isOutlier = Zscore_Outliers(df['Bathroom'], 4)\n",
        "df[isOutlier].shape"
      ],
      "execution_count": 56,
      "outputs": [
        {
          "output_type": "execute_result",
          "data": {
            "text/plain": [
              "(0, 20)"
            ]
          },
          "metadata": {
            "tags": []
          },
          "execution_count": 56
        }
      ]
    },
    {
      "cell_type": "code",
      "metadata": {
        "colab": {
          "base_uri": "https://localhost:8080/"
        },
        "id": "9xKlo6gnWpB1",
        "outputId": "62b351fa-5675-422e-adbe-982e87b5088b"
      },
      "source": [
        "isnotOutlier = [not x for x in isOutlier]\n",
        "df = df[isnotOutlier]\n",
        "df.shape"
      ],
      "execution_count": 57,
      "outputs": [
        {
          "output_type": "execute_result",
          "data": {
            "text/plain": [
              "(24930, 20)"
            ]
          },
          "metadata": {
            "tags": []
          },
          "execution_count": 57
        }
      ]
    },
    {
      "cell_type": "markdown",
      "metadata": {
        "id": "QUmxoqooVvbt"
      },
      "source": [
        "**Car**"
      ]
    },
    {
      "cell_type": "code",
      "metadata": {
        "colab": {
          "base_uri": "https://localhost:8080/"
        },
        "id": "F_LKaO2xW8Gx",
        "outputId": "5eb9b80c-8f35-4ab9-ded1-0d96215ec315"
      },
      "source": [
        "isOutlier = Zscore_Outliers(df['Car'], 5)\n",
        "df[isOutlier].shape"
      ],
      "execution_count": 58,
      "outputs": [
        {
          "output_type": "execute_result",
          "data": {
            "text/plain": [
              "(38, 20)"
            ]
          },
          "metadata": {
            "tags": []
          },
          "execution_count": 58
        }
      ]
    },
    {
      "cell_type": "code",
      "metadata": {
        "colab": {
          "base_uri": "https://localhost:8080/"
        },
        "id": "Vu0h6I14XA2Y",
        "outputId": "bb027db6-bccf-45cb-9ade-faaf83eeab95"
      },
      "source": [
        "isnotOutlier = [not x for x in isOutlier]\n",
        "df = df[isnotOutlier]\n",
        "df.shape"
      ],
      "execution_count": 59,
      "outputs": [
        {
          "output_type": "execute_result",
          "data": {
            "text/plain": [
              "(24892, 20)"
            ]
          },
          "metadata": {
            "tags": []
          },
          "execution_count": 59
        }
      ]
    },
    {
      "cell_type": "markdown",
      "metadata": {
        "id": "PyhRgccxXH5F"
      },
      "source": [
        "**Landsize**"
      ]
    },
    {
      "cell_type": "code",
      "metadata": {
        "colab": {
          "base_uri": "https://localhost:8080/"
        },
        "id": "npA3I18VXHYo",
        "outputId": "77b8dab1-4d7c-409c-8670-baacdb3c5e9c"
      },
      "source": [
        "isOutlier = Zscore_Outliers(df['Landsize'], 4)\n",
        "df[isOutlier].shape"
      ],
      "execution_count": 60,
      "outputs": [
        {
          "output_type": "execute_result",
          "data": {
            "text/plain": [
              "(31, 20)"
            ]
          },
          "metadata": {
            "tags": []
          },
          "execution_count": 60
        }
      ]
    },
    {
      "cell_type": "code",
      "metadata": {
        "colab": {
          "base_uri": "https://localhost:8080/"
        },
        "id": "fP7cIpnXXKoc",
        "outputId": "fa8e67ca-51d3-435f-9926-1f54cb3c7849"
      },
      "source": [
        "isnotOutlier = [not x for x in isOutlier]\n",
        "df = df[isnotOutlier]\n",
        "df.shape"
      ],
      "execution_count": 61,
      "outputs": [
        {
          "output_type": "execute_result",
          "data": {
            "text/plain": [
              "(24861, 20)"
            ]
          },
          "metadata": {
            "tags": []
          },
          "execution_count": 61
        }
      ]
    },
    {
      "cell_type": "markdown",
      "metadata": {
        "id": "GZDkcCf8XaD2"
      },
      "source": [
        "**BuildingArea**"
      ]
    },
    {
      "cell_type": "code",
      "metadata": {
        "colab": {
          "base_uri": "https://localhost:8080/"
        },
        "id": "7AEUac6-XcF8",
        "outputId": "7d3f41b6-6c07-49b5-adaf-85a3ecf0a5ac"
      },
      "source": [
        "isOutlier = Zscore_Outliers(df['BuildingArea'], 4)\n",
        "df[isOutlier].shape"
      ],
      "execution_count": 62,
      "outputs": [
        {
          "output_type": "execute_result",
          "data": {
            "text/plain": [
              "(82, 20)"
            ]
          },
          "metadata": {
            "tags": []
          },
          "execution_count": 62
        }
      ]
    },
    {
      "cell_type": "code",
      "metadata": {
        "colab": {
          "base_uri": "https://localhost:8080/"
        },
        "id": "-ec9KGaCXeSU",
        "outputId": "0e60fff9-2309-40d9-f1a0-756380702e25"
      },
      "source": [
        "isnotOutlier = [not x for x in isOutlier]\n",
        "df = df[isnotOutlier]\n",
        "df.shape"
      ],
      "execution_count": 63,
      "outputs": [
        {
          "output_type": "execute_result",
          "data": {
            "text/plain": [
              "(24779, 20)"
            ]
          },
          "metadata": {
            "tags": []
          },
          "execution_count": 63
        }
      ]
    },
    {
      "cell_type": "markdown",
      "metadata": {
        "id": "2FbPhBSmHjdA"
      },
      "source": [
        "## **Exploratory Data Analysis (EDA)**"
      ]
    },
    {
      "cell_type": "markdown",
      "metadata": {
        "id": "QTq8VA6iNhR1"
      },
      "source": [
        "**Price**"
      ]
    },
    {
      "cell_type": "code",
      "metadata": {
        "colab": {
          "base_uri": "https://localhost:8080/",
          "height": 394
        },
        "id": "eaFxVK0KNjVW",
        "outputId": "cc028dd4-cb4f-41a7-b77a-79af4e4fa389"
      },
      "source": [
        "ax = sns.kdeplot(df['Price'], bw=0.5, shade=False, color='crimson')\n",
        "kdeline = ax.lines[0]\n",
        "mean = df['Price'].mean()\n",
        "xs = kdeline.get_xdata()\n",
        "ys = kdeline.get_ydata()\n",
        "height = np.interp(mean, xs, ys)\n",
        "ax.vlines(mean, 0, height, color='crimson', ls=':')\n",
        "ax.fill_between(xs, 0, ys, facecolor='crimson', alpha=0.2)"
      ],
      "execution_count": 64,
      "outputs": [
        {
          "output_type": "stream",
          "text": [
            "/usr/local/lib/python3.7/dist-packages/seaborn/distributions.py:1657: FutureWarning:\n",
            "\n",
            "The `bw` parameter is deprecated in favor of `bw_method` and `bw_adjust`. Using 0.5 for `bw_method`, but please see the docs for the new parameters and update your code.\n",
            "\n"
          ],
          "name": "stderr"
        },
        {
          "output_type": "execute_result",
          "data": {
            "text/plain": [
              "<matplotlib.collections.PolyCollection at 0x7f20a383bdd0>"
            ]
          },
          "metadata": {
            "tags": []
          },
          "execution_count": 64
        },
        {
          "output_type": "display_data",
          "data": {
            "image/png": "[encoded data removed]",
            "text/plain": [
              "<Figure size 432x288 with 1 Axes>"
            ]
          },
          "metadata": {
            "tags": [],
            "needs_background": "light"
          }
        }
      ]
    },
    {
      "cell_type": "markdown",
      "metadata": {
        "id": "RDqKJn6k56iB"
      },
      "source": [
        "* Most houses are priced at <= 6M\n",
        "\n"
      ]
    },
    {
      "cell_type": "code",
      "metadata": {
        "id": "T6b4C8BLHJY3"
      },
      "source": [
        "# df1 = Iso_outliers(df['Price'])\n",
        "# df1.shape"
      ],
      "execution_count": 65,
      "outputs": []
    },
    {
      "cell_type": "code",
      "metadata": {
        "id": "w_itqi-5IlHB"
      },
      "source": [
        "# df['cluster'] = list(df1['cluster'])\n",
        "# df = df[df['cluster'] == 1]\n",
        "# df.shape"
      ],
      "execution_count": 66,
      "outputs": []
    },
    {
      "cell_type": "code",
      "metadata": {
        "id": "S78G0XzPLO3O"
      },
      "source": [
        "# df = df.drop(['cluster'], axis = 1)\n",
        "# df.shape"
      ],
      "execution_count": 67,
      "outputs": []
    },
    {
      "cell_type": "markdown",
      "metadata": {
        "id": "uD4kqEnMNkvE"
      },
      "source": [
        "-------------------------------------------------------"
      ]
    },
    {
      "cell_type": "code",
      "metadata": {
        "colab": {
          "base_uri": "https://localhost:8080/"
        },
        "id": "eV3bPzeUNi0T",
        "outputId": "86391c2e-3ec6-417d-a704-eb4f0120e03f"
      },
      "source": [
        "df.select_dtypes('object').columns"
      ],
      "execution_count": 68,
      "outputs": [
        {
          "output_type": "execute_result",
          "data": {
            "text/plain": [
              "Index(['Suburb', 'Type', 'Method', 'SellerG', 'CouncilArea', 'Regionname'], dtype='object')"
            ]
          },
          "metadata": {
            "tags": []
          },
          "execution_count": 68
        }
      ]
    },
    {
      "cell_type": "markdown",
      "metadata": {
        "id": "Xd1zbKX0HxI0"
      },
      "source": [
        "**<h5> Price by Type <h5>**"
      ]
    },
    {
      "cell_type": "code",
      "metadata": {
        "id": "EDEIoM-1mDQu",
        "colab": {
          "base_uri": "https://localhost:8080/",
          "height": 136
        },
        "outputId": "4c4863a1-8666-4c5d-cf7f-e4ad1c5944a8"
      },
      "source": [
        "type_count = df['Type'].value_counts().to_frame()\n",
        "type_count"
      ],
      "execution_count": 69,
      "outputs": [
        {
          "output_type": "execute_result",
          "data": {
            "text/html": [
              "<div>\n",
              "<style scoped>\n",
              "    .dataframe tbody tr th:only-of-type {\n",
              "        vertical-align: middle;\n",
              "    }\n",
              "\n",
              "    .dataframe tbody tr th {\n",
              "        vertical-align: top;\n",
              "    }\n",
              "\n",
              "    .dataframe thead th {\n",
              "        text-align: right;\n",
              "    }\n",
              "</style>\n",
              "<table border=\"1\" class=\"dataframe\">\n",
              "  <thead>\n",
              "    <tr style=\"text-align: right;\">\n",
              "      <th></th>\n",
              "      <th>Type</th>\n",
              "    </tr>\n",
              "  </thead>\n",
              "  <tbody>\n",
              "    <tr>\n",
              "      <th>h</th>\n",
              "      <td>17838</td>\n",
              "    </tr>\n",
              "    <tr>\n",
              "      <th>u</th>\n",
              "      <td>4239</td>\n",
              "    </tr>\n",
              "    <tr>\n",
              "      <th>t</th>\n",
              "      <td>2702</td>\n",
              "    </tr>\n",
              "  </tbody>\n",
              "</table>\n",
              "</div>"
            ],
            "text/plain": [
              "    Type\n",
              "h  17838\n",
              "u   4239\n",
              "t   2702"
            ]
          },
          "metadata": {
            "tags": []
          },
          "execution_count": 69
        }
      ]
    },
    {
      "cell_type": "code",
      "metadata": {
        "colab": {
          "base_uri": "https://localhost:8080/",
          "height": 265
        },
        "id": "dvs_lLYSIuaq",
        "outputId": "1254db6c-0a7f-4d33-f454-b2d18efb4fce"
      },
      "source": [
        "vals = type_count['Type'].values\n",
        "labels = type_count.index.to_list()\n",
        "colors = plt.cm.Dark2(range(len(labels)))\n",
        "sns.set_palette(sns.color_palette(\"RdYlGn\", 8))\n",
        "sns.barplot(x=labels, y=vals)\n",
        "plt.show()"
      ],
      "execution_count": 70,
      "outputs": [
        {
          "output_type": "display_data",
          "data": {
            "image/png": "[encoded data removed]",
            "text/plain": [
              "<Figure size 432x288 with 1 Axes>"
            ]
          },
          "metadata": {
            "tags": [],
            "needs_background": "light"
          }
        }
      ]
    },
    {
      "cell_type": "code",
      "metadata": {
        "colab": {
          "base_uri": "https://localhost:8080/",
          "height": 307
        },
        "id": "Fn1kscvANDDp",
        "outputId": "3030ed61-35f0-45ae-e118-673bafabe9fb"
      },
      "source": [
        "sns.boxplot(x='Type', y='Price', data=df)"
      ],
      "execution_count": 71,
      "outputs": [
        {
          "output_type": "execute_result",
          "data": {
            "text/plain": [
              "<matplotlib.axes._subplots.AxesSubplot at 0x7f20a3761a10>"
            ]
          },
          "metadata": {
            "tags": []
          },
          "execution_count": 71
        },
        {
          "output_type": "display_data",
          "data": {
            "image/png": "[encoded data removed]",
            "text/plain": [
              "<Figure size 432x288 with 1 Axes>"
            ]
          },
          "metadata": {
            "tags": [],
            "needs_background": "light"
          }
        }
      ]
    },
    {
      "cell_type": "markdown",
      "metadata": {
        "id": "qS61XQoeL4og"
      },
      "source": [
        "* the average price of type **h** (villa) > **t** (townhouse) >> **u** (duplex)"
      ]
    },
    {
      "cell_type": "markdown",
      "metadata": {
        "id": "L95nQon-Nfj0"
      },
      "source": [
        "**Price by Method**"
      ]
    },
    {
      "cell_type": "code",
      "metadata": {
        "colab": {
          "base_uri": "https://localhost:8080/",
          "height": 195
        },
        "id": "QhDSqSMdmNPx",
        "outputId": "c6227464-a9e4-466c-9375-6608ddc6d3fb"
      },
      "source": [
        "type_count = df['Method'].value_counts().to_frame()\n",
        "type_count"
      ],
      "execution_count": 72,
      "outputs": [
        {
          "output_type": "execute_result",
          "data": {
            "text/html": [
              "<div>\n",
              "<style scoped>\n",
              "    .dataframe tbody tr th:only-of-type {\n",
              "        vertical-align: middle;\n",
              "    }\n",
              "\n",
              "    .dataframe tbody tr th {\n",
              "        vertical-align: top;\n",
              "    }\n",
              "\n",
              "    .dataframe thead th {\n",
              "        text-align: right;\n",
              "    }\n",
              "</style>\n",
              "<table border=\"1\" class=\"dataframe\">\n",
              "  <thead>\n",
              "    <tr style=\"text-align: right;\">\n",
              "      <th></th>\n",
              "      <th>Method</th>\n",
              "    </tr>\n",
              "  </thead>\n",
              "  <tbody>\n",
              "    <tr>\n",
              "      <th>S</th>\n",
              "      <td>16132</td>\n",
              "    </tr>\n",
              "    <tr>\n",
              "      <th>SP</th>\n",
              "      <td>3217</td>\n",
              "    </tr>\n",
              "    <tr>\n",
              "      <th>PI</th>\n",
              "      <td>2919</td>\n",
              "    </tr>\n",
              "    <tr>\n",
              "      <th>VB</th>\n",
              "      <td>2339</td>\n",
              "    </tr>\n",
              "    <tr>\n",
              "      <th>SA</th>\n",
              "      <td>172</td>\n",
              "    </tr>\n",
              "  </tbody>\n",
              "</table>\n",
              "</div>"
            ],
            "text/plain": [
              "    Method\n",
              "S    16132\n",
              "SP    3217\n",
              "PI    2919\n",
              "VB    2339\n",
              "SA     172"
            ]
          },
          "metadata": {
            "tags": []
          },
          "execution_count": 72
        }
      ]
    },
    {
      "cell_type": "code",
      "metadata": {
        "colab": {
          "base_uri": "https://localhost:8080/",
          "height": 265
        },
        "id": "fdrdEQRTmI9J",
        "outputId": "4581392c-f71e-42e8-e55f-f48371e344f2"
      },
      "source": [
        "vals = type_count['Method'].values\n",
        "labels = type_count.index.to_list()\n",
        "colors = plt.cm.Dark2(range(len(labels)))\n",
        "sns.set_palette(sns.color_palette(\"RdYlGn\", 8))\n",
        "sns.barplot(x=labels, y=vals)\n",
        "plt.show()"
      ],
      "execution_count": 73,
      "outputs": [
        {
          "output_type": "display_data",
          "data": {
            "image/png": "[encoded data removed]",
            "text/plain": [
              "<Figure size 432x288 with 1 Axes>"
            ]
          },
          "metadata": {
            "tags": [],
            "needs_background": "light"
          }
        }
      ]
    },
    {
      "cell_type": "code",
      "metadata": {
        "colab": {
          "base_uri": "https://localhost:8080/",
          "height": 307
        },
        "id": "Czhf-2FBOEHo",
        "outputId": "829864d9-afc0-4604-f792-fbe19d358141"
      },
      "source": [
        "sns.boxplot(x='Method', y='Price', data=df)"
      ],
      "execution_count": 74,
      "outputs": [
        {
          "output_type": "execute_result",
          "data": {
            "text/plain": [
              "<matplotlib.axes._subplots.AxesSubplot at 0x7f20a366cad0>"
            ]
          },
          "metadata": {
            "tags": []
          },
          "execution_count": 74
        },
        {
          "output_type": "display_data",
          "data": {
            "image/png": "[encoded data removed]",
            "text/plain": [
              "<Figure size 432x288 with 1 Axes>"
            ]
          },
          "metadata": {
            "tags": [],
            "needs_background": "light"
          }
        }
      ]
    },
    {
      "cell_type": "markdown",
      "metadata": {
        "id": "KkKY_BTnnCJ9"
      },
      "source": [
        "* House prices by different selling methods are similar => may not affect the target"
      ]
    },
    {
      "cell_type": "markdown",
      "metadata": {
        "id": "Sz0xASalnWo2"
      },
      "source": [
        "**Price by CouncilArea**"
      ]
    },
    {
      "cell_type": "code",
      "metadata": {
        "colab": {
          "base_uri": "https://localhost:8080/",
          "height": 521
        },
        "id": "LhDPf5tQuKJw",
        "outputId": "b6dff6e8-c96a-4f45-fd63-10792a79188c"
      },
      "source": [
        "price_by_council = df[['Price', 'CouncilArea']].groupby(['CouncilArea']).mean().sort_values('Price', ascending=0)[:15]\n",
        "price_by_council"
      ],
      "execution_count": 75,
      "outputs": [
        {
          "output_type": "execute_result",
          "data": {
            "text/html": [
              "<div>\n",
              "<style scoped>\n",
              "    .dataframe tbody tr th:only-of-type {\n",
              "        vertical-align: middle;\n",
              "    }\n",
              "\n",
              "    .dataframe tbody tr th {\n",
              "        vertical-align: top;\n",
              "    }\n",
              "\n",
              "    .dataframe thead th {\n",
              "        text-align: right;\n",
              "    }\n",
              "</style>\n",
              "<table border=\"1\" class=\"dataframe\">\n",
              "  <thead>\n",
              "    <tr style=\"text-align: right;\">\n",
              "      <th></th>\n",
              "      <th>Price</th>\n",
              "    </tr>\n",
              "    <tr>\n",
              "      <th>CouncilArea</th>\n",
              "      <th></th>\n",
              "    </tr>\n",
              "  </thead>\n",
              "  <tbody>\n",
              "    <tr>\n",
              "      <th>Stonnington City Council</th>\n",
              "      <td>1.7413e+06</td>\n",
              "    </tr>\n",
              "    <tr>\n",
              "      <th>Boroondara City Council</th>\n",
              "      <td>1.6953e+06</td>\n",
              "    </tr>\n",
              "    <tr>\n",
              "      <th>Bayside City Council</th>\n",
              "      <td>1.5657e+06</td>\n",
              "    </tr>\n",
              "    <tr>\n",
              "      <th>Port Phillip City Council</th>\n",
              "      <td>1.2935e+06</td>\n",
              "    </tr>\n",
              "    <tr>\n",
              "      <th>Manningham City Council</th>\n",
              "      <td>1.2186e+06</td>\n",
              "    </tr>\n",
              "    <tr>\n",
              "      <th>Monash City Council</th>\n",
              "      <td>1.1863e+06</td>\n",
              "    </tr>\n",
              "    <tr>\n",
              "      <th>Glen Eira City Council</th>\n",
              "      <td>1.1688e+06</td>\n",
              "    </tr>\n",
              "    <tr>\n",
              "      <th>Whitehorse City Council</th>\n",
              "      <td>1.1641e+06</td>\n",
              "    </tr>\n",
              "    <tr>\n",
              "      <th>Yarra City Council</th>\n",
              "      <td>1.1641e+06</td>\n",
              "    </tr>\n",
              "    <tr>\n",
              "      <th>Melbourne City Council</th>\n",
              "      <td>1.1601e+06</td>\n",
              "    </tr>\n",
              "    <tr>\n",
              "      <th>Moonee Valley City Council</th>\n",
              "      <td>1.0621e+06</td>\n",
              "    </tr>\n",
              "    <tr>\n",
              "      <th>Hobsons Bay City Council</th>\n",
              "      <td>1.0174e+06</td>\n",
              "    </tr>\n",
              "    <tr>\n",
              "      <th>Kingston City Council</th>\n",
              "      <td>9.5822e+05</td>\n",
              "    </tr>\n",
              "    <tr>\n",
              "      <th>Banyule City Council</th>\n",
              "      <td>9.3911e+05</td>\n",
              "    </tr>\n",
              "    <tr>\n",
              "      <th>Darebin City Council</th>\n",
              "      <td>9.1743e+05</td>\n",
              "    </tr>\n",
              "  </tbody>\n",
              "</table>\n",
              "</div>"
            ],
            "text/plain": [
              "                                 Price\n",
              "CouncilArea                           \n",
              "Stonnington City Council    1.7413e+06\n",
              "Boroondara City Council     1.6953e+06\n",
              "Bayside City Council        1.5657e+06\n",
              "Port Phillip City Council   1.2935e+06\n",
              "Manningham City Council     1.2186e+06\n",
              "Monash City Council         1.1863e+06\n",
              "Glen Eira City Council      1.1688e+06\n",
              "Whitehorse City Council     1.1641e+06\n",
              "Yarra City Council          1.1641e+06\n",
              "Melbourne City Council      1.1601e+06\n",
              "Moonee Valley City Council  1.0621e+06\n",
              "Hobsons Bay City Council    1.0174e+06\n",
              "Kingston City Council       9.5822e+05\n",
              "Banyule City Council        9.3911e+05\n",
              "Darebin City Council        9.1743e+05"
            ]
          },
          "metadata": {
            "tags": []
          },
          "execution_count": 75
        }
      ]
    },
    {
      "cell_type": "code",
      "metadata": {
        "colab": {
          "base_uri": "https://localhost:8080/",
          "height": 513
        },
        "id": "7o0xUCEgt80P",
        "outputId": "f74f229f-6ef4-47c5-c9d6-d285c51aa96b"
      },
      "source": [
        "fig, ax = fig, ax = plt.subplots(figsize=(10,7))\n",
        "ax = sns.boxplot(x='CouncilArea', y='Price', data=df[df['CouncilArea'].isin(price_by_council.index.tolist())])\n",
        "ax.set_xticklabels(ax.get_xticklabels(), rotation=40, ha=\"right\")\n",
        "plt.tight_layout()\n",
        "plt.show()"
      ],
      "execution_count": 76,
      "outputs": [
        {
          "output_type": "display_data",
          "data": {
            "image/png": "[encoded data removed]",
            "text/plain": [
              "<Figure size 720x504 with 1 Axes>"
            ]
          },
          "metadata": {
            "tags": [],
            "needs_background": "light"
          }
        }
      ]
    },
    {
      "cell_type": "markdown",
      "metadata": {
        "id": "Dw5CX5yszaAZ"
      },
      "source": [
        "* Price distribution of different Council Areas is different"
      ]
    },
    {
      "cell_type": "markdown",
      "metadata": {
        "id": "PoDkqxPo5DBD"
      },
      "source": [
        "**Price by Regionname**"
      ]
    },
    {
      "cell_type": "code",
      "metadata": {
        "colab": {
          "base_uri": "https://localhost:8080/"
        },
        "id": "uYVLIm8F5At5",
        "outputId": "1acd8ddb-3b6b-4041-fa48-3af65c79695b"
      },
      "source": [
        "regionname_count = df['Regionname'].value_counts()\n",
        "regionname_count"
      ],
      "execution_count": 77,
      "outputs": [
        {
          "output_type": "execute_result",
          "data": {
            "text/plain": [
              "Southern Metropolitan         7269\n",
              "Northern Metropolitan         7166\n",
              "Western Metropolitan          5480\n",
              "Eastern Metropolitan          3159\n",
              "South-Eastern Metropolitan    1299\n",
              "Northern Victoria              157\n",
              "Eastern Victoria               154\n",
              "Western Victoria                95\n",
              "Name: Regionname, dtype: int64"
            ]
          },
          "metadata": {
            "tags": []
          },
          "execution_count": 77
        }
      ]
    },
    {
      "cell_type": "code",
      "metadata": {
        "colab": {
          "base_uri": "https://localhost:8080/",
          "height": 351
        },
        "id": "7Mw_HKQZ6a8W",
        "outputId": "93f97a12-45ce-4482-bc42-169ec79153e4"
      },
      "source": [
        "vals = regionname_count.values\n",
        "labels = regionname_count.index.to_list()\n",
        "colors = plt.cm.Dark2(range(len(labels)))\n",
        "sns.set_palette(sns.color_palette(\"RdYlGn\", 8))\n",
        "ax = sns.barplot(x=labels, y=vals)\n",
        "ax.set_xticklabels(ax.get_xticklabels(), rotation=40, ha=\"right\")\n",
        "plt.show()"
      ],
      "execution_count": 78,
      "outputs": [
        {
          "output_type": "display_data",
          "data": {
            "image/png": "[encoded data removed]",
            "text/plain": [
              "<Figure size 432x288 with 1 Axes>"
            ]
          },
          "metadata": {
            "tags": [],
            "needs_background": "light"
          }
        }
      ]
    },
    {
      "cell_type": "code",
      "metadata": {
        "colab": {
          "base_uri": "https://localhost:8080/",
          "height": 729
        },
        "id": "i3BAeFvd5Q0Q",
        "outputId": "042e2850-e426-46d6-c00e-6d410cec08e8"
      },
      "source": [
        "fig, ax = fig, ax = plt.subplots(figsize=(10,10))\n",
        "ax = sns.boxplot(x='Regionname', y='Price', data=df)\n",
        "ax.set_xticklabels(ax.get_xticklabels(), rotation=40, ha=\"right\")\n",
        "plt.tight_layout()\n",
        "plt.show()"
      ],
      "execution_count": 79,
      "outputs": [
        {
          "output_type": "display_data",
          "data": {
            "image/png": "[encoded data removed]",
            "text/plain": [
              "<Figure size 720x720 with 1 Axes>"
            ]
          },
          "metadata": {
            "tags": [],
            "needs_background": "light"
          }
        }
      ]
    },
    {
      "cell_type": "markdown",
      "metadata": {
        "id": "VqocJ7le6FA8"
      },
      "source": [
        "* Mean price of Northern and Western, Southern and Eastern is almost no difference\n",
        "* Mean price of Metropolitan region is higher than Victoria region"
      ]
    },
    {
      "cell_type": "code",
      "metadata": {
        "colab": {
          "base_uri": "https://localhost:8080/"
        },
        "id": "hFmT2JCG-gys",
        "outputId": "aa971225-81f1-47da-cae9-c86ac82d2d4a"
      },
      "source": [
        "df.select_dtypes(exclude='object').columns"
      ],
      "execution_count": 80,
      "outputs": [
        {
          "output_type": "execute_result",
          "data": {
            "text/plain": [
              "Index(['Rooms', 'Price', 'Distance', 'Postcode', 'Bathroom', 'Car', 'Landsize',\n",
              "       'BuildingArea', 'Lattitude', 'Longtitude', 'Propertycount', 'Age',\n",
              "       'Month', 'Year'],\n",
              "      dtype='object')"
            ]
          },
          "metadata": {
            "tags": []
          },
          "execution_count": 80
        }
      ]
    },
    {
      "cell_type": "markdown",
      "metadata": {
        "id": "pJ-pCCZS-rAH"
      },
      "source": [
        "**Price by Rooms**"
      ]
    },
    {
      "cell_type": "code",
      "metadata": {
        "colab": {
          "base_uri": "https://localhost:8080/"
        },
        "id": "ql88urQs-t7M",
        "outputId": "e4bc4d4f-eaca-46e8-b0fb-10df38a24497"
      },
      "source": [
        "room_count = df['Rooms'].value_counts()\n",
        "room_count"
      ],
      "execution_count": 81,
      "outputs": [
        {
          "output_type": "execute_result",
          "data": {
            "text/plain": [
              "3    11563\n",
              "4     5719\n",
              "2     5578\n",
              "5     1066\n",
              "1      744\n",
              "6      109\n",
              "Name: Rooms, dtype: int64"
            ]
          },
          "metadata": {
            "tags": []
          },
          "execution_count": 81
        }
      ]
    },
    {
      "cell_type": "code",
      "metadata": {
        "colab": {
          "base_uri": "https://localhost:8080/",
          "height": 267
        },
        "id": "KYM69-lA-34t",
        "outputId": "6c1ecf31-d48e-48b1-8554-73b6c1696aed"
      },
      "source": [
        "vals = room_count.values\n",
        "labels = room_count.index.to_list()\n",
        "colors = plt.cm.Dark2(range(len(labels)))\n",
        "sns.set_palette(sns.color_palette(\"RdYlGn\", 8))\n",
        "ax = sns.barplot(x=labels, y=vals)\n",
        "plt.show()"
      ],
      "execution_count": 82,
      "outputs": [
        {
          "output_type": "display_data",
          "data": {
            "image/png": "[encoded data removed]",
            "text/plain": [
              "<Figure size 432x288 with 1 Axes>"
            ]
          },
          "metadata": {
            "tags": [],
            "needs_background": "light"
          }
        }
      ]
    },
    {
      "cell_type": "code",
      "metadata": {
        "colab": {
          "base_uri": "https://localhost:8080/",
          "height": 513
        },
        "id": "Fuujh0AjQm9a",
        "outputId": "0766a778-9d36-4437-cb7b-4ca50465f245"
      },
      "source": [
        "fig, ax = fig, ax = plt.subplots(figsize=(10,7))\n",
        "ax = sns.boxplot(x='Rooms', y='Price', data=df)\n",
        "plt.tight_layout()\n",
        "plt.show()"
      ],
      "execution_count": 83,
      "outputs": [
        {
          "output_type": "display_data",
          "data": {
            "image/png": "[encoded data removed]",
            "text/plain": [
              "<Figure size 720x504 with 1 Axes>"
            ]
          },
          "metadata": {
            "tags": [],
            "needs_background": "light"
          }
        }
      ]
    },
    {
      "cell_type": "code",
      "metadata": {
        "colab": {
          "base_uri": "https://localhost:8080/"
        },
        "id": "JV7eoHstZs4B",
        "outputId": "e03fec2d-f606-4876-a996-1936d6b8ff5a"
      },
      "source": [
        "# correlation \n",
        "df['Rooms'].corr(df['Price'])"
      ],
      "execution_count": 84,
      "outputs": [
        {
          "output_type": "execute_result",
          "data": {
            "text/plain": [
              "0.4194017291191197"
            ]
          },
          "metadata": {
            "tags": []
          },
          "execution_count": 84
        }
      ]
    },
    {
      "cell_type": "markdown",
      "metadata": {
        "id": "BNgvXfJDX5nP"
      },
      "source": [
        "* Number of room and price are positively correlated. The more rooms, the more expensive the price"
      ]
    },
    {
      "cell_type": "markdown",
      "metadata": {
        "id": "oq8cenLYYEBy"
      },
      "source": [
        "**Distance**"
      ]
    },
    {
      "cell_type": "code",
      "metadata": {
        "colab": {
          "base_uri": "https://localhost:8080/",
          "height": 307
        },
        "id": "omOaD_xFYH_d",
        "outputId": "42a1a6d2-e19d-4436-a73b-70dfa4d88145"
      },
      "source": [
        "sns.scatterplot(x='Distance', y='Price', data=df)"
      ],
      "execution_count": 85,
      "outputs": [
        {
          "output_type": "execute_result",
          "data": {
            "text/plain": [
              "<matplotlib.axes._subplots.AxesSubplot at 0x7f20a34d81d0>"
            ]
          },
          "metadata": {
            "tags": []
          },
          "execution_count": 85
        },
        {
          "output_type": "display_data",
          "data": {
            "image/png": "[encoded data removed]",
            "text/plain": [
              "<Figure size 432x288 with 1 Axes>"
            ]
          },
          "metadata": {
            "tags": [],
            "needs_background": "light"
          }
        }
      ]
    },
    {
      "cell_type": "code",
      "metadata": {
        "colab": {
          "base_uri": "https://localhost:8080/"
        },
        "id": "lLW52rkyaBaP",
        "outputId": "6dae9647-574e-412b-f162-e58965350716"
      },
      "source": [
        "# correlation \n",
        "df['Distance'].corr(df['Price'])"
      ],
      "execution_count": 86,
      "outputs": [
        {
          "output_type": "execute_result",
          "data": {
            "text/plain": [
              "-0.265868238453228"
            ]
          },
          "metadata": {
            "tags": []
          },
          "execution_count": 86
        }
      ]
    },
    {
      "cell_type": "markdown",
      "metadata": {
        "id": "_HbyyK9rY-bM"
      },
      "source": [
        "* Number of room and price are negatively correlated. The closer to the downtown, the higher the price"
      ]
    },
    {
      "cell_type": "markdown",
      "metadata": {
        "id": "O_XO5Shef9hB"
      },
      "source": [
        "**Bathroom**"
      ]
    },
    {
      "cell_type": "code",
      "metadata": {
        "colab": {
          "base_uri": "https://localhost:8080/",
          "height": 513
        },
        "id": "JbipI2QZjMla",
        "outputId": "87ce214a-697f-4922-cef9-771bc4353b8f"
      },
      "source": [
        "fig, ax = fig, ax = plt.subplots(figsize=(10,7))\n",
        "ax = sns.boxplot(x='Bathroom', y='Price', data=df)\n",
        "plt.tight_layout()\n",
        "plt.show()"
      ],
      "execution_count": 87,
      "outputs": [
        {
          "output_type": "display_data",
          "data": {
            "image/png": "[encoded data removed]",
            "text/plain": [
              "<Figure size 720x504 with 1 Axes>"
            ]
          },
          "metadata": {
            "tags": [],
            "needs_background": "light"
          }
        }
      ]
    },
    {
      "cell_type": "markdown",
      "metadata": {
        "id": "Nd5I0arJjTm6"
      },
      "source": [
        "* Number of bathroom and price are positively correlated. The more bathroom, the more expensive the price"
      ]
    },
    {
      "cell_type": "markdown",
      "metadata": {
        "id": "Lf6LbKeijn1p"
      },
      "source": [
        "**Car**"
      ]
    },
    {
      "cell_type": "code",
      "metadata": {
        "id": "zdcSwBaNkujg",
        "colab": {
          "base_uri": "https://localhost:8080/",
          "height": 307
        },
        "outputId": "5772b4ec-6050-4a47-bac2-182ccb4d65f4"
      },
      "source": [
        "sns.scatterplot(x='Car', y='Price', data=df)"
      ],
      "execution_count": 88,
      "outputs": [
        {
          "output_type": "execute_result",
          "data": {
            "text/plain": [
              "<matplotlib.axes._subplots.AxesSubplot at 0x7f20a340fd90>"
            ]
          },
          "metadata": {
            "tags": []
          },
          "execution_count": 88
        },
        {
          "output_type": "display_data",
          "data": {
            "image/png": "[encoded data removed]",
            "text/plain": [
              "<Figure size 432x288 with 1 Axes>"
            ]
          },
          "metadata": {
            "tags": [],
            "needs_background": "light"
          }
        }
      ]
    },
    {
      "cell_type": "code",
      "metadata": {
        "colab": {
          "base_uri": "https://localhost:8080/",
          "height": 657
        },
        "id": "emBnm1p9jTIM",
        "outputId": "eadfe730-7c64-4995-fc9d-5e1c97e661c4"
      },
      "source": [
        "fig, ax = fig, ax = plt.subplots(figsize=(10,9))\n",
        "ax = sns.boxplot(x='Car', y='Price', data=df)\n",
        "ax.set_xticklabels(ax.get_xticklabels(), rotation=40, ha=\"right\")\n",
        "plt.tight_layout()\n",
        "plt.show()"
      ],
      "execution_count": 89,
      "outputs": [
        {
          "output_type": "display_data",
          "data": {
            "image/png": "[encoded data removed]",
            "text/plain": [
              "<Figure size 720x648 with 1 Axes>"
            ]
          },
          "metadata": {
            "tags": [],
            "needs_background": "light"
          }
        }
      ]
    },
    {
      "cell_type": "markdown",
      "metadata": {
        "id": "14ojpkAIjCam"
      },
      "source": [
        "* Prices of houses with 3  car spots or no car spots are higher than the rest. \n",
        "* Houses with 1 car spot have the lowest price "
      ]
    },
    {
      "cell_type": "markdown",
      "metadata": {
        "id": "N0_bRMt-woV-"
      },
      "source": [
        "**Price by Landsize**"
      ]
    },
    {
      "cell_type": "code",
      "metadata": {
        "colab": {
          "base_uri": "https://localhost:8080/",
          "height": 307
        },
        "id": "kujnHlrVwnxK",
        "outputId": "e31be909-b829-482a-8a3b-0f994bf4e66b"
      },
      "source": [
        "sns.scatterplot(x='Landsize', y='Price', data=df)"
      ],
      "execution_count": 90,
      "outputs": [
        {
          "output_type": "execute_result",
          "data": {
            "text/plain": [
              "<matplotlib.axes._subplots.AxesSubplot at 0x7f20a33976d0>"
            ]
          },
          "metadata": {
            "tags": []
          },
          "execution_count": 90
        },
        {
          "output_type": "display_data",
          "data": {
            "image/png": "[encoded data removed]",
            "text/plain": [
              "<Figure size 432x288 with 1 Axes>"
            ]
          },
          "metadata": {
            "tags": [],
            "needs_background": "light"
          }
        }
      ]
    },
    {
      "cell_type": "code",
      "metadata": {
        "colab": {
          "base_uri": "https://localhost:8080/"
        },
        "id": "UJMez_jMxtbJ",
        "outputId": "bdbb2795-3cd3-4079-8b1b-2631cc25c1cc"
      },
      "source": [
        "# correlation \n",
        "df['Landsize'].corr(df['Price'])"
      ],
      "execution_count": 91,
      "outputs": [
        {
          "output_type": "execute_result",
          "data": {
            "text/plain": [
              "0.029602649618813044"
            ]
          },
          "metadata": {
            "tags": []
          },
          "execution_count": 91
        }
      ]
    },
    {
      "cell_type": "markdown",
      "metadata": {
        "id": "zQah8uF-xbeA"
      },
      "source": [
        "**Price by BuildingArea**"
      ]
    },
    {
      "cell_type": "code",
      "metadata": {
        "colab": {
          "base_uri": "https://localhost:8080/",
          "height": 307
        },
        "id": "CzMVrcXJxhPB",
        "outputId": "c062e482-361d-4f43-8a01-5c8c792a2895"
      },
      "source": [
        "sns.scatterplot(x='BuildingArea', y='Price', data=df)"
      ],
      "execution_count": 92,
      "outputs": [
        {
          "output_type": "execute_result",
          "data": {
            "text/plain": [
              "<matplotlib.axes._subplots.AxesSubplot at 0x7f20a31e9dd0>"
            ]
          },
          "metadata": {
            "tags": []
          },
          "execution_count": 92
        },
        {
          "output_type": "display_data",
          "data": {
            "image/png": "[encoded data removed]",
            "text/plain": [
              "<Figure size 432x288 with 1 Axes>"
            ]
          },
          "metadata": {
            "tags": [],
            "needs_background": "light"
          }
        }
      ]
    },
    {
      "cell_type": "code",
      "metadata": {
        "colab": {
          "base_uri": "https://localhost:8080/"
        },
        "id": "JiDLy4qrxnLP",
        "outputId": "29284ff1-2924-45f4-a32d-4136f0f6654f"
      },
      "source": [
        "# correlation \n",
        "df['BuildingArea'].corr(df['Price'])"
      ],
      "execution_count": 93,
      "outputs": [
        {
          "output_type": "execute_result",
          "data": {
            "text/plain": [
              "0.317922921666078"
            ]
          },
          "metadata": {
            "tags": []
          },
          "execution_count": 93
        }
      ]
    },
    {
      "cell_type": "markdown",
      "metadata": {
        "id": "CuwhmvyEyV-u"
      },
      "source": [
        "* Number of room and price are positively correlated. The lager building area, the more expensive the price"
      ]
    },
    {
      "cell_type": "markdown",
      "metadata": {
        "id": "WbHBbJk1ykQ7"
      },
      "source": [
        "**Price by Month**"
      ]
    },
    {
      "cell_type": "code",
      "metadata": {
        "colab": {
          "base_uri": "https://localhost:8080/"
        },
        "id": "PQZ8IcxN02uI",
        "outputId": "ae927550-09a8-483a-cd9b-49c3126adc17"
      },
      "source": [
        "month_count = df['Month'].value_counts()\n",
        "month_count"
      ],
      "execution_count": 94,
      "outputs": [
        {
          "output_type": "execute_result",
          "data": {
            "text/plain": [
              "11    3137\n",
              "9     2966\n",
              "10    2935\n",
              "5     2295\n",
              "3     2201\n",
              "6     2131\n",
              "8     2081\n",
              "7     2063\n",
              "2     1968\n",
              "12    1349\n",
              "4     1017\n",
              "1      636\n",
              "Name: Month, dtype: int64"
            ]
          },
          "metadata": {
            "tags": []
          },
          "execution_count": 94
        }
      ]
    },
    {
      "cell_type": "code",
      "metadata": {
        "colab": {
          "base_uri": "https://localhost:8080/",
          "height": 265
        },
        "id": "rxA2XE-c1A_d",
        "outputId": "df50c473-c480-468f-c07d-faff33fc7f6b"
      },
      "source": [
        "vals = month_count.values\n",
        "labels = month_count.index.to_list()\n",
        "colors = plt.cm.Dark2(range(len(labels)))\n",
        "sns.set_palette(sns.color_palette(\"RdYlGn\", 8))\n",
        "ax = sns.barplot(x=labels, y=vals)\n",
        "plt.show()"
      ],
      "execution_count": 95,
      "outputs": [
        {
          "output_type": "display_data",
          "data": {
            "image/png": "[encoded data removed]",
            "text/plain": [
              "<Figure size 432x288 with 1 Axes>"
            ]
          },
          "metadata": {
            "tags": [],
            "needs_background": "light"
          }
        }
      ]
    },
    {
      "cell_type": "code",
      "metadata": {
        "colab": {
          "base_uri": "https://localhost:8080/",
          "height": 729
        },
        "id": "GXcYwtRQ1dzj",
        "outputId": "acd42154-02b3-4c4c-bc9d-87795aa52b04"
      },
      "source": [
        "fig, ax = fig, ax = plt.subplots(figsize=(12,10))\n",
        "ax = sns.boxplot(x='Month', y='Price', data=df)\n",
        "ax.set_xticklabels(ax.get_xticklabels(), rotation=40, ha=\"right\")\n",
        "plt.tight_layout()\n",
        "plt.show()"
      ],
      "execution_count": 96,
      "outputs": [
        {
          "output_type": "display_data",
          "data": {
            "image/png": "[encoded data removed]",
            "text/plain": [
              "<Figure size 864x720 with 1 Axes>"
            ]
          },
          "metadata": {
            "tags": [],
            "needs_background": "light"
          }
        }
      ]
    },
    {
      "cell_type": "markdown",
      "metadata": {
        "id": "TmBNBL-W1rL_"
      },
      "source": [
        "* The mean price of houses in January and July is lower than the rest.\n",
        "* The mean price of the rest is not much different "
      ]
    },
    {
      "cell_type": "markdown",
      "metadata": {
        "id": "zSUAhlaa2p2W"
      },
      "source": [
        "**Age**"
      ]
    },
    {
      "cell_type": "code",
      "metadata": {
        "id": "RWC8pe6T2oqs"
      },
      "source": [
        "df1 = df[['Price', 'Age']].copy()"
      ],
      "execution_count": 97,
      "outputs": []
    },
    {
      "cell_type": "code",
      "metadata": {
        "id": "DOfkObq34GWx"
      },
      "source": [
        "lst = df1['Age'].tolist()\n",
        "lst = [1 if x > 100 else 0 for x in lst]\n",
        "df1['Historic'] = lst"
      ],
      "execution_count": 98,
      "outputs": []
    },
    {
      "cell_type": "code",
      "metadata": {
        "colab": {
          "base_uri": "https://localhost:8080/",
          "height": 657
        },
        "id": "_L2qdC-l4tgV",
        "outputId": "7f91fc78-83bf-4afd-d020-68094f3c9a8e"
      },
      "source": [
        "fig, ax = fig, ax = plt.subplots(figsize=(10,9))\n",
        "ax = sns.boxplot(x='Historic', y='Price', data=df1)\n",
        "plt.tight_layout()\n",
        "plt.show()"
      ],
      "execution_count": 99,
      "outputs": [
        {
          "output_type": "display_data",
          "data": {
            "image/png": "[encoded data removed]",
            "text/plain": [
              "<Figure size 720x648 with 1 Axes>"
            ]
          },
          "metadata": {
            "tags": [],
            "needs_background": "light"
          }
        }
      ]
    },
    {
      "cell_type": "markdown",
      "metadata": {
        "id": "Uol4CnQm5FWw"
      },
      "source": [
        "* The older the houses, the higher the price"
      ]
    },
    {
      "cell_type": "code",
      "metadata": {
        "id": "WEIxf4p9JfdI"
      },
      "source": [
        ""
      ],
      "execution_count": 99,
      "outputs": []
    },
    {
      "cell_type": "code",
      "metadata": {
        "colab": {
          "base_uri": "https://localhost:8080/",
          "height": 422
        },
        "id": "CA2o6t2bJfPd",
        "outputId": "1ee3be82-167b-455a-aef9-311458ef4d0c"
      },
      "source": [
        "df.describe(percentiles=[.01, .1, .25, .5, .75, .95, .99])"
      ],
      "execution_count": 100,
      "outputs": [
        {
          "output_type": "execute_result",
          "data": {
            "text/html": [
              "<div>\n",
              "<style scoped>\n",
              "    .dataframe tbody tr th:only-of-type {\n",
              "        vertical-align: middle;\n",
              "    }\n",
              "\n",
              "    .dataframe tbody tr th {\n",
              "        vertical-align: top;\n",
              "    }\n",
              "\n",
              "    .dataframe thead th {\n",
              "        text-align: right;\n",
              "    }\n",
              "</style>\n",
              "<table border=\"1\" class=\"dataframe\">\n",
              "  <thead>\n",
              "    <tr style=\"text-align: right;\">\n",
              "      <th></th>\n",
              "      <th>Rooms</th>\n",
              "      <th>Price</th>\n",
              "      <th>Distance</th>\n",
              "      <th>Postcode</th>\n",
              "      <th>Bathroom</th>\n",
              "      <th>Car</th>\n",
              "      <th>Landsize</th>\n",
              "      <th>BuildingArea</th>\n",
              "      <th>Lattitude</th>\n",
              "      <th>Longtitude</th>\n",
              "      <th>Propertycount</th>\n",
              "      <th>Age</th>\n",
              "      <th>Month</th>\n",
              "      <th>Year</th>\n",
              "    </tr>\n",
              "  </thead>\n",
              "  <tbody>\n",
              "    <tr>\n",
              "      <th>count</th>\n",
              "      <td>24779.0000</td>\n",
              "      <td>2.4779e+04</td>\n",
              "      <td>24779.0000</td>\n",
              "      <td>24779.0000</td>\n",
              "      <td>24779.0000</td>\n",
              "      <td>24779.000</td>\n",
              "      <td>24779.0000</td>\n",
              "      <td>24779.0000</td>\n",
              "      <td>24779.0000</td>\n",
              "      <td>24779.0000</td>\n",
              "      <td>24779.0000</td>\n",
              "      <td>24779.0000</td>\n",
              "      <td>24779.0000</td>\n",
              "      <td>24779.0000</td>\n",
              "    </tr>\n",
              "    <tr>\n",
              "      <th>mean</th>\n",
              "      <td>3.0449</td>\n",
              "      <td>1.0650e+06</td>\n",
              "      <td>11.6354</td>\n",
              "      <td>3113.7069</td>\n",
              "      <td>1.4382</td>\n",
              "      <td>1.819</td>\n",
              "      <td>576.3575</td>\n",
              "      <td>155.0520</td>\n",
              "      <td>-37.8054</td>\n",
              "      <td>144.9969</td>\n",
              "      <td>7510.7644</td>\n",
              "      <td>55.0737</td>\n",
              "      <td>7.1565</td>\n",
              "      <td>2016.8766</td>\n",
              "    </tr>\n",
              "    <tr>\n",
              "      <th>std</th>\n",
              "      <td>0.8864</td>\n",
              "      <td>6.1769e+05</td>\n",
              "      <td>6.7947</td>\n",
              "      <td>113.2980</td>\n",
              "      <td>0.6037</td>\n",
              "      <td>0.817</td>\n",
              "      <td>439.9907</td>\n",
              "      <td>40.9938</td>\n",
              "      <td>0.0816</td>\n",
              "      <td>0.1082</td>\n",
              "      <td>4517.2690</td>\n",
              "      <td>23.8326</td>\n",
              "      <td>3.1856</td>\n",
              "      <td>0.6320</td>\n",
              "    </tr>\n",
              "    <tr>\n",
              "      <th>min</th>\n",
              "      <td>1.0000</td>\n",
              "      <td>1.1200e+05</td>\n",
              "      <td>0.0000</td>\n",
              "      <td>3000.0000</td>\n",
              "      <td>1.0000</td>\n",
              "      <td>0.000</td>\n",
              "      <td>1.0000</td>\n",
              "      <td>1.0000</td>\n",
              "      <td>-38.1904</td>\n",
              "      <td>144.4238</td>\n",
              "      <td>121.0000</td>\n",
              "      <td>2.0000</td>\n",
              "      <td>1.0000</td>\n",
              "      <td>2016.0000</td>\n",
              "    </tr>\n",
              "    <tr>\n",
              "      <th>1%</th>\n",
              "      <td>1.0000</td>\n",
              "      <td>3.3000e+05</td>\n",
              "      <td>1.8000</td>\n",
              "      <td>3011.0000</td>\n",
              "      <td>1.0000</td>\n",
              "      <td>0.000</td>\n",
              "      <td>90.7800</td>\n",
              "      <td>54.0000</td>\n",
              "      <td>-38.0605</td>\n",
              "      <td>144.6595</td>\n",
              "      <td>852.0000</td>\n",
              "      <td>6.0000</td>\n",
              "      <td>1.0000</td>\n",
              "      <td>2016.0000</td>\n",
              "    </tr>\n",
              "    <tr>\n",
              "      <th>10%</th>\n",
              "      <td>2.0000</td>\n",
              "      <td>5.1000e+05</td>\n",
              "      <td>4.3000</td>\n",
              "      <td>3023.0000</td>\n",
              "      <td>1.0000</td>\n",
              "      <td>1.000</td>\n",
              "      <td>216.0000</td>\n",
              "      <td>110.0000</td>\n",
              "      <td>-37.9075</td>\n",
              "      <td>144.8758</td>\n",
              "      <td>2651.0000</td>\n",
              "      <td>21.0000</td>\n",
              "      <td>2.0000</td>\n",
              "      <td>2016.0000</td>\n",
              "    </tr>\n",
              "    <tr>\n",
              "      <th>25%</th>\n",
              "      <td>2.0000</td>\n",
              "      <td>6.5500e+05</td>\n",
              "      <td>6.9000</td>\n",
              "      <td>3046.0000</td>\n",
              "      <td>1.0000</td>\n",
              "      <td>1.000</td>\n",
              "      <td>452.0000</td>\n",
              "      <td>156.8346</td>\n",
              "      <td>-37.8394</td>\n",
              "      <td>144.9538</td>\n",
              "      <td>4217.0000</td>\n",
              "      <td>54.3908</td>\n",
              "      <td>5.0000</td>\n",
              "      <td>2016.0000</td>\n",
              "    </tr>\n",
              "    <tr>\n",
              "      <th>50%</th>\n",
              "      <td>3.0000</td>\n",
              "      <td>8.9600e+05</td>\n",
              "      <td>10.7000</td>\n",
              "      <td>3085.0000</td>\n",
              "      <td>1.0000</td>\n",
              "      <td>2.000</td>\n",
              "      <td>593.4889</td>\n",
              "      <td>156.8346</td>\n",
              "      <td>-37.8070</td>\n",
              "      <td>144.9967</td>\n",
              "      <td>6543.0000</td>\n",
              "      <td>54.3908</td>\n",
              "      <td>8.0000</td>\n",
              "      <td>2017.0000</td>\n",
              "    </tr>\n",
              "    <tr>\n",
              "      <th>75%</th>\n",
              "      <td>4.0000</td>\n",
              "      <td>1.3020e+06</td>\n",
              "      <td>14.3000</td>\n",
              "      <td>3152.0000</td>\n",
              "      <td>2.0000</td>\n",
              "      <td>2.000</td>\n",
              "      <td>602.0000</td>\n",
              "      <td>156.8346</td>\n",
              "      <td>-37.7632</td>\n",
              "      <td>145.0505</td>\n",
              "      <td>10331.0000</td>\n",
              "      <td>54.3908</td>\n",
              "      <td>10.0000</td>\n",
              "      <td>2017.0000</td>\n",
              "    </tr>\n",
              "    <tr>\n",
              "      <th>95%</th>\n",
              "      <td>4.0000</td>\n",
              "      <td>2.2100e+06</td>\n",
              "      <td>24.8000</td>\n",
              "      <td>3204.0000</td>\n",
              "      <td>3.0000</td>\n",
              "      <td>3.000</td>\n",
              "      <td>868.0000</td>\n",
              "      <td>224.0000</td>\n",
              "      <td>-37.6812</td>\n",
              "      <td>145.1683</td>\n",
              "      <td>15510.0000</td>\n",
              "      <td>111.0000</td>\n",
              "      <td>12.0000</td>\n",
              "      <td>2018.0000</td>\n",
              "    </tr>\n",
              "    <tr>\n",
              "      <th>99%</th>\n",
              "      <td>5.0000</td>\n",
              "      <td>3.3000e+06</td>\n",
              "      <td>35.4000</td>\n",
              "      <td>3754.0000</td>\n",
              "      <td>3.0000</td>\n",
              "      <td>4.000</td>\n",
              "      <td>1965.2200</td>\n",
              "      <td>317.0000</td>\n",
              "      <td>-37.5890</td>\n",
              "      <td>145.2800</td>\n",
              "      <td>21650.0000</td>\n",
              "      <td>131.0000</td>\n",
              "      <td>12.0000</td>\n",
              "      <td>2018.0000</td>\n",
              "    </tr>\n",
              "    <tr>\n",
              "      <th>max</th>\n",
              "      <td>6.0000</td>\n",
              "      <td>1.1200e+07</td>\n",
              "      <td>48.1000</td>\n",
              "      <td>3978.0000</td>\n",
              "      <td>3.0000</td>\n",
              "      <td>6.000</td>\n",
              "      <td>12300.0000</td>\n",
              "      <td>478.0000</td>\n",
              "      <td>-37.3978</td>\n",
              "      <td>145.5264</td>\n",
              "      <td>21650.0000</td>\n",
              "      <td>191.0000</td>\n",
              "      <td>12.0000</td>\n",
              "      <td>2018.0000</td>\n",
              "    </tr>\n",
              "  </tbody>\n",
              "</table>\n",
              "</div>"
            ],
            "text/plain": [
              "            Rooms       Price    Distance  ...         Age       Month        Year\n",
              "count  24779.0000  2.4779e+04  24779.0000  ...  24779.0000  24779.0000  24779.0000\n",
              "mean       3.0449  1.0650e+06     11.6354  ...     55.0737      7.1565   2016.8766\n",
              "std        0.8864  6.1769e+05      6.7947  ...     23.8326      3.1856      0.6320\n",
              "min        1.0000  1.1200e+05      0.0000  ...      2.0000      1.0000   2016.0000\n",
              "1%         1.0000  3.3000e+05      1.8000  ...      6.0000      1.0000   2016.0000\n",
              "10%        2.0000  5.1000e+05      4.3000  ...     21.0000      2.0000   2016.0000\n",
              "25%        2.0000  6.5500e+05      6.9000  ...     54.3908      5.0000   2016.0000\n",
              "50%        3.0000  8.9600e+05     10.7000  ...     54.3908      8.0000   2017.0000\n",
              "75%        4.0000  1.3020e+06     14.3000  ...     54.3908     10.0000   2017.0000\n",
              "95%        4.0000  2.2100e+06     24.8000  ...    111.0000     12.0000   2018.0000\n",
              "99%        5.0000  3.3000e+06     35.4000  ...    131.0000     12.0000   2018.0000\n",
              "max        6.0000  1.1200e+07     48.1000  ...    191.0000     12.0000   2018.0000\n",
              "\n",
              "[12 rows x 14 columns]"
            ]
          },
          "metadata": {
            "tags": []
          },
          "execution_count": 100
        }
      ]
    },
    {
      "cell_type": "code",
      "metadata": {
        "id": "a4qxELr4KZvq"
      },
      "source": [
        "df1 = df.copy()\n",
        "df1['Rooms'] = pd.cut(x=df1['Rooms'], bins=3)\n",
        "df1['Distance'] = pd.cut(x=df1['Distance'], bins=5)\n",
        "df1['Car'] = pd.cut(x=df1['Car'], bins=5)\n",
        "df1['Landsize'] = pd.cut(x=df1['Landsize'], bins=6)\n",
        "df1['BuildingArea'] = pd.cut(x=df1['BuildingArea'], bins=5)\n",
        "df1['Lattitude'] = pd.cut(x=df1['Lattitude'], bins=2)\n",
        "df1['Longtitude'] = pd.cut(x=df1['Longtitude'], bins=2)\n",
        "df1['Propertycount'] = pd.cut(x=df1['Propertycount'], bins=10)\n",
        "df1['Age'] = pd.cut(x=df1['Age'], bins=4)"
      ],
      "execution_count": 101,
      "outputs": []
    },
    {
      "cell_type": "code",
      "metadata": {
        "colab": {
          "base_uri": "https://localhost:8080/"
        },
        "id": "Vr3gqvKNLiAI",
        "outputId": "043daabb-d223-4b1d-98b2-b223db60e61d"
      },
      "source": [
        "hypothesis_testing(df1, 'Price', df1.columns.tolist())"
      ],
      "execution_count": 102,
      "outputs": [
        {
          "output_type": "stream",
          "text": [
            "*  Suburb\n",
            "F_onewayResult(statistic=44.284227178689996, pvalue=0.0)\n",
            "Bác bỏ H0\n",
            "--------------------------------------------------\n",
            "*  Rooms\n",
            "F_onewayResult(statistic=1786.9748871245436, pvalue=0.0)\n",
            "Bác bỏ H0\n",
            "--------------------------------------------------\n",
            "*  Type\n",
            "F_onewayResult(statistic=1549.8126605224713, pvalue=0.0)\n",
            "Bác bỏ H0\n",
            "--------------------------------------------------\n",
            "*  Method\n",
            "F_onewayResult(statistic=105.98448240281117, pvalue=1.1035900313017648e-89)\n",
            "Bác bỏ H0\n",
            "--------------------------------------------------\n",
            "*  SellerG\n",
            "F_onewayResult(statistic=27.18957471638886, pvalue=0.0)\n",
            "Bác bỏ H0\n",
            "--------------------------------------------------\n",
            "*  Distance\n",
            "F_onewayResult(statistic=441.6435849273239, pvalue=0.0)\n",
            "Bác bỏ H0\n",
            "--------------------------------------------------\n",
            "*  Postcode\n",
            "F_onewayResult(statistic=69.55454456292655, pvalue=0.0)\n",
            "Bác bỏ H0\n",
            "--------------------------------------------------\n",
            "*  Bathroom\n",
            "F_onewayResult(statistic=1647.6468693670017, pvalue=0.0)\n",
            "Bác bỏ H0\n",
            "--------------------------------------------------\n",
            "*  Car\n",
            "F_onewayResult(statistic=109.9524930908909, pvalue=4.687120877965315e-93)\n",
            "Bác bỏ H0\n",
            "--------------------------------------------------\n",
            "*  Landsize\n",
            "F_onewayResult(statistic=6.090446789574247, pvalue=1.2105888990375863e-05)\n",
            "Bác bỏ H0\n",
            "--------------------------------------------------\n",
            "*  BuildingArea\n",
            "F_onewayResult(statistic=644.1092021451617, pvalue=0.0)\n",
            "Bác bỏ H0\n",
            "--------------------------------------------------\n",
            "*  CouncilArea\n",
            "F_onewayResult(statistic=305.3008602441628, pvalue=0.0)\n",
            "Bác bỏ H0\n",
            "--------------------------------------------------\n",
            "*  Lattitude\n",
            "F_onewayResult(statistic=770.4451151669859, pvalue=5.1646243762022144e-167)\n",
            "Bác bỏ H0\n",
            "--------------------------------------------------\n",
            "*  Longtitude\n",
            "F_onewayResult(statistic=662.2878910839211, pvalue=3.72383194535493e-144)\n",
            "Bác bỏ H0\n",
            "--------------------------------------------------\n",
            "*  Regionname\n",
            "F_onewayResult(statistic=815.1026932759316, pvalue=0.0)\n",
            "Bác bỏ H0\n",
            "--------------------------------------------------\n",
            "*  Propertycount\n",
            "F_onewayResult(statistic=133.05458785582417, pvalue=4.4065764900103913e-246)\n",
            "Bác bỏ H0\n",
            "--------------------------------------------------\n",
            "*  Age\n",
            "F_onewayResult(statistic=515.287685587225, pvalue=0.0)\n",
            "Bác bỏ H0\n",
            "--------------------------------------------------\n",
            "*  Month\n",
            "F_onewayResult(statistic=19.658716822382182, pvalue=4.809652900806892e-40)\n",
            "Bác bỏ H0\n",
            "--------------------------------------------------\n",
            "*  Year\n",
            "F_onewayResult(statistic=52.139944790526904, pvalue=2.5318025815101636e-23)\n",
            "Bác bỏ H0\n",
            "--------------------------------------------------\n"
          ],
          "name": "stdout"
        },
        {
          "output_type": "execute_result",
          "data": {
            "text/plain": [
              "['Suburb',\n",
              " 'Rooms',\n",
              " 'Type',\n",
              " 'Method',\n",
              " 'SellerG',\n",
              " 'Distance',\n",
              " 'Postcode',\n",
              " 'Bathroom',\n",
              " 'Car',\n",
              " 'Landsize',\n",
              " 'BuildingArea',\n",
              " 'CouncilArea',\n",
              " 'Lattitude',\n",
              " 'Longtitude',\n",
              " 'Regionname',\n",
              " 'Propertycount',\n",
              " 'Age',\n",
              " 'Month',\n",
              " 'Year']"
            ]
          },
          "metadata": {
            "tags": []
          },
          "execution_count": 102
        }
      ]
    },
    {
      "cell_type": "markdown",
      "metadata": {
        "id": "G8xHBtr25f5R"
      },
      "source": [
        "## **Linear regression**"
      ]
    },
    {
      "cell_type": "code",
      "metadata": {
        "colab": {
          "base_uri": "https://localhost:8080/"
        },
        "id": "kHwhRQBb5jqp",
        "outputId": "5a0672c4-1677-4b20-fd46-2e0c00f50ff7"
      },
      "source": [
        "df.columns.tolist()"
      ],
      "execution_count": 103,
      "outputs": [
        {
          "output_type": "execute_result",
          "data": {
            "text/plain": [
              "['Suburb',\n",
              " 'Rooms',\n",
              " 'Type',\n",
              " 'Price',\n",
              " 'Method',\n",
              " 'SellerG',\n",
              " 'Distance',\n",
              " 'Postcode',\n",
              " 'Bathroom',\n",
              " 'Car',\n",
              " 'Landsize',\n",
              " 'BuildingArea',\n",
              " 'CouncilArea',\n",
              " 'Lattitude',\n",
              " 'Longtitude',\n",
              " 'Regionname',\n",
              " 'Propertycount',\n",
              " 'Age',\n",
              " 'Month',\n",
              " 'Year']"
            ]
          },
          "metadata": {
            "tags": []
          },
          "execution_count": 103
        }
      ]
    },
    {
      "cell_type": "code",
      "metadata": {
        "id": "CINdY5kp6_8h"
      },
      "source": [
        "features = ['Suburb','Rooms','Type','Method', 'Distance','Bathroom','Car','Landsize','BuildingArea','Lattitude','Longtitude',\n",
        "            'Regionname','Propertycount','Age','Month','Year','Postcode', 'SellerG', 'CouncilArea']"
      ],
      "execution_count": 104,
      "outputs": []
    },
    {
      "cell_type": "code",
      "metadata": {
        "id": "jXzrbkURdRpn"
      },
      "source": [
        "X = df[features]\n",
        "y = df['Price']"
      ],
      "execution_count": 105,
      "outputs": []
    },
    {
      "cell_type": "code",
      "metadata": {
        "id": "nryt2WdifK0I"
      },
      "source": [
        "columns_to_encode = X.select_dtypes(include='object').columns.tolist()"
      ],
      "execution_count": 106,
      "outputs": []
    },
    {
      "cell_type": "code",
      "metadata": {
        "colab": {
          "base_uri": "https://localhost:8080/"
        },
        "id": "wBD8dvBseaLi",
        "outputId": "2797c51d-4b8c-45bd-c682-159c9c7f6d6e"
      },
      "source": [
        "for col in columns_to_encode:\n",
        "  X[col] = X[col].astype('category')"
      ],
      "execution_count": 107,
      "outputs": [
        {
          "output_type": "stream",
          "text": [
            "/usr/local/lib/python3.7/dist-packages/ipykernel_launcher.py:2: SettingWithCopyWarning:\n",
            "\n",
            "\n",
            "A value is trying to be set on a copy of a slice from a DataFrame.\n",
            "Try using .loc[row_indexer,col_indexer] = value instead\n",
            "\n",
            "See the caveats in the documentation: https://pandas.pydata.org/pandas-docs/stable/user_guide/indexing.html#returning-a-view-versus-a-copy\n",
            "\n"
          ],
          "name": "stderr"
        }
      ]
    },
    {
      "cell_type": "code",
      "metadata": {
        "colab": {
          "base_uri": "https://localhost:8080/"
        },
        "id": "R0y3lKNQfYyR",
        "outputId": "d8325c41-84f2-4317-dc3a-56366d876589"
      },
      "source": [
        "X.info()"
      ],
      "execution_count": 108,
      "outputs": [
        {
          "output_type": "stream",
          "text": [
            "<class 'pandas.core.frame.DataFrame'>\n",
            "Int64Index: 24779 entries, 1 to 34856\n",
            "Data columns (total 19 columns):\n",
            " #   Column         Non-Null Count  Dtype   \n",
            "---  ------         --------------  -----   \n",
            " 0   Suburb         24779 non-null  category\n",
            " 1   Rooms          24779 non-null  int64   \n",
            " 2   Type           24779 non-null  category\n",
            " 3   Method         24779 non-null  category\n",
            " 4   Distance       24779 non-null  float64 \n",
            " 5   Bathroom       24779 non-null  float64 \n",
            " 6   Car            24779 non-null  float64 \n",
            " 7   Landsize       24779 non-null  float64 \n",
            " 8   BuildingArea   24779 non-null  float64 \n",
            " 9   Lattitude      24779 non-null  float64 \n",
            " 10  Longtitude     24779 non-null  float64 \n",
            " 11  Regionname     24779 non-null  category\n",
            " 12  Propertycount  24779 non-null  float64 \n",
            " 13  Age            24779 non-null  float64 \n",
            " 14  Month          24779 non-null  int64   \n",
            " 15  Year           24779 non-null  int64   \n",
            " 16  Postcode       24779 non-null  float64 \n",
            " 17  SellerG        24779 non-null  category\n",
            " 18  CouncilArea    24779 non-null  category\n",
            "dtypes: category(6), float64(10), int64(3)\n",
            "memory usage: 3.5 MB\n"
          ],
          "name": "stdout"
        }
      ]
    },
    {
      "cell_type": "code",
      "metadata": {
        "id": "HmCM3xY-2yMV"
      },
      "source": [
        "columns_to_scale = X.select_dtypes(exclude='category').columns.tolist()"
      ],
      "execution_count": 109,
      "outputs": []
    },
    {
      "cell_type": "code",
      "metadata": {
        "colab": {
          "base_uri": "https://localhost:8080/"
        },
        "id": "YzQXXNLEQXWs",
        "outputId": "48ca8560-859d-43b7-a323-af9c4daf71a2"
      },
      "source": [
        "scaler = StandardScaler()\n",
        "X[columns_to_scale] = scaler.fit_transform(X[columns_to_scale])"
      ],
      "execution_count": 110,
      "outputs": [
        {
          "output_type": "stream",
          "text": [
            "/usr/local/lib/python3.7/dist-packages/ipykernel_launcher.py:2: SettingWithCopyWarning:\n",
            "\n",
            "\n",
            "A value is trying to be set on a copy of a slice from a DataFrame.\n",
            "Try using .loc[row_indexer,col_indexer] = value instead\n",
            "\n",
            "See the caveats in the documentation: https://pandas.pydata.org/pandas-docs/stable/user_guide/indexing.html#returning-a-view-versus-a-copy\n",
            "\n",
            "/usr/local/lib/python3.7/dist-packages/pandas/core/indexing.py:1734: SettingWithCopyWarning:\n",
            "\n",
            "\n",
            "A value is trying to be set on a copy of a slice from a DataFrame.\n",
            "Try using .loc[row_indexer,col_indexer] = value instead\n",
            "\n",
            "See the caveats in the documentation: https://pandas.pydata.org/pandas-docs/stable/user_guide/indexing.html#returning-a-view-versus-a-copy\n",
            "\n"
          ],
          "name": "stderr"
        }
      ]
    },
    {
      "cell_type": "code",
      "metadata": {
        "colab": {
          "base_uri": "https://localhost:8080/",
          "height": 299
        },
        "id": "WAxIkVf1k2xI",
        "outputId": "f563481c-1e19-4b9f-ec67-9f8d618b5c5e"
      },
      "source": [
        "X.head()"
      ],
      "execution_count": 111,
      "outputs": [
        {
          "output_type": "execute_result",
          "data": {
            "text/html": [
              "<div>\n",
              "<style scoped>\n",
              "    .dataframe tbody tr th:only-of-type {\n",
              "        vertical-align: middle;\n",
              "    }\n",
              "\n",
              "    .dataframe tbody tr th {\n",
              "        vertical-align: top;\n",
              "    }\n",
              "\n",
              "    .dataframe thead th {\n",
              "        text-align: right;\n",
              "    }\n",
              "</style>\n",
              "<table border=\"1\" class=\"dataframe\">\n",
              "  <thead>\n",
              "    <tr style=\"text-align: right;\">\n",
              "      <th></th>\n",
              "      <th>Suburb</th>\n",
              "      <th>Rooms</th>\n",
              "      <th>Type</th>\n",
              "      <th>Method</th>\n",
              "      <th>Distance</th>\n",
              "      <th>Bathroom</th>\n",
              "      <th>Car</th>\n",
              "      <th>Landsize</th>\n",
              "      <th>BuildingArea</th>\n",
              "      <th>Lattitude</th>\n",
              "      <th>Longtitude</th>\n",
              "      <th>Regionname</th>\n",
              "      <th>Propertycount</th>\n",
              "      <th>Age</th>\n",
              "      <th>Month</th>\n",
              "      <th>Year</th>\n",
              "      <th>Postcode</th>\n",
              "      <th>SellerG</th>\n",
              "      <th>CouncilArea</th>\n",
              "    </tr>\n",
              "  </thead>\n",
              "  <tbody>\n",
              "    <tr>\n",
              "      <th>1</th>\n",
              "      <td>Abbotsford</td>\n",
              "      <td>-1.1788</td>\n",
              "      <td>h</td>\n",
              "      <td>S</td>\n",
              "      <td>-1.3445</td>\n",
              "      <td>-0.7259</td>\n",
              "      <td>-1.0025</td>\n",
              "      <td>-0.8508</td>\n",
              "      <td>0.0435</td>\n",
              "      <td>0.0714</td>\n",
              "      <td>1.3853e-02</td>\n",
              "      <td>Northern Metropolitan</td>\n",
              "      <td>-0.773</td>\n",
              "      <td>-0.0287</td>\n",
              "      <td>1.5205</td>\n",
              "      <td>-1.3870</td>\n",
              "      <td>-0.4123</td>\n",
              "      <td>Biggin</td>\n",
              "      <td>Yarra City Council</td>\n",
              "    </tr>\n",
              "    <tr>\n",
              "      <th>2</th>\n",
              "      <td>Abbotsford</td>\n",
              "      <td>-1.1788</td>\n",
              "      <td>h</td>\n",
              "      <td>S</td>\n",
              "      <td>-1.3445</td>\n",
              "      <td>-0.7259</td>\n",
              "      <td>-2.2264</td>\n",
              "      <td>-0.9554</td>\n",
              "      <td>-1.8552</td>\n",
              "      <td>-0.0303</td>\n",
              "      <td>-3.2339e-02</td>\n",
              "      <td>Northern Metropolitan</td>\n",
              "      <td>-0.773</td>\n",
              "      <td>2.7663</td>\n",
              "      <td>-1.6187</td>\n",
              "      <td>-1.3870</td>\n",
              "      <td>-0.4123</td>\n",
              "      <td>Biggin</td>\n",
              "      <td>Yarra City Council</td>\n",
              "    </tr>\n",
              "    <tr>\n",
              "      <th>4</th>\n",
              "      <td>Abbotsford</td>\n",
              "      <td>-0.0506</td>\n",
              "      <td>h</td>\n",
              "      <td>SP</td>\n",
              "      <td>-1.3445</td>\n",
              "      <td>0.9306</td>\n",
              "      <td>-2.2264</td>\n",
              "      <td>-1.0054</td>\n",
              "      <td>-0.1232</td>\n",
              "      <td>-0.0474</td>\n",
              "      <td>-2.3101e-02</td>\n",
              "      <td>Northern Metropolitan</td>\n",
              "      <td>-0.773</td>\n",
              "      <td>2.7663</td>\n",
              "      <td>-1.3048</td>\n",
              "      <td>0.1952</td>\n",
              "      <td>-0.4123</td>\n",
              "      <td>Biggin</td>\n",
              "      <td>Yarra City Council</td>\n",
              "    </tr>\n",
              "    <tr>\n",
              "      <th>5</th>\n",
              "      <td>Abbotsford</td>\n",
              "      <td>-0.0506</td>\n",
              "      <td>h</td>\n",
              "      <td>PI</td>\n",
              "      <td>-1.3445</td>\n",
              "      <td>0.9306</td>\n",
              "      <td>-1.0025</td>\n",
              "      <td>-1.0963</td>\n",
              "      <td>0.0435</td>\n",
              "      <td>0.1045</td>\n",
              "      <td>-4.3670e-06</td>\n",
              "      <td>Northern Metropolitan</td>\n",
              "      <td>-0.773</td>\n",
              "      <td>-0.0287</td>\n",
              "      <td>-1.3048</td>\n",
              "      <td>0.1952</td>\n",
              "      <td>-0.4123</td>\n",
              "      <td>Biggin</td>\n",
              "      <td>Yarra City Council</td>\n",
              "    </tr>\n",
              "    <tr>\n",
              "      <th>6</th>\n",
              "      <td>Abbotsford</td>\n",
              "      <td>1.0776</td>\n",
              "      <td>h</td>\n",
              "      <td>VB</td>\n",
              "      <td>-1.3445</td>\n",
              "      <td>-0.7259</td>\n",
              "      <td>0.2215</td>\n",
              "      <td>-1.0372</td>\n",
              "      <td>-0.3184</td>\n",
              "      <td>-0.0217</td>\n",
              "      <td>-2.5872e-02</td>\n",
              "      <td>Northern Metropolitan</td>\n",
              "      <td>-0.773</td>\n",
              "      <td>-2.0172</td>\n",
              "      <td>-0.3631</td>\n",
              "      <td>-1.3870</td>\n",
              "      <td>-0.4123</td>\n",
              "      <td>Nelson</td>\n",
              "      <td>Yarra City Council</td>\n",
              "    </tr>\n",
              "  </tbody>\n",
              "</table>\n",
              "</div>"
            ],
            "text/plain": [
              "       Suburb   Rooms Type Method  ...    Year  Postcode  SellerG         CouncilArea\n",
              "1  Abbotsford -1.1788    h      S  ... -1.3870   -0.4123   Biggin  Yarra City Council\n",
              "2  Abbotsford -1.1788    h      S  ... -1.3870   -0.4123   Biggin  Yarra City Council\n",
              "4  Abbotsford -0.0506    h     SP  ...  0.1952   -0.4123   Biggin  Yarra City Council\n",
              "5  Abbotsford -0.0506    h     PI  ...  0.1952   -0.4123   Biggin  Yarra City Council\n",
              "6  Abbotsford  1.0776    h     VB  ... -1.3870   -0.4123   Nelson  Yarra City Council\n",
              "\n",
              "[5 rows x 19 columns]"
            ]
          },
          "metadata": {
            "tags": []
          },
          "execution_count": 111
        }
      ]
    },
    {
      "cell_type": "code",
      "metadata": {
        "id": "4wzhiwqN1WRL"
      },
      "source": [
        "X = pd.get_dummies(X)"
      ],
      "execution_count": 112,
      "outputs": []
    },
    {
      "cell_type": "code",
      "metadata": {
        "colab": {
          "base_uri": "https://localhost:8080/",
          "height": 278
        },
        "id": "JpaFhAfh1rP7",
        "outputId": "8270bf71-b40a-43a3-b336-4d6c99a12eef"
      },
      "source": [
        "X.head()"
      ],
      "execution_count": 113,
      "outputs": [
        {
          "output_type": "execute_result",
          "data": {
            "text/html": [
              "<div>\n",
              "<style scoped>\n",
              "    .dataframe tbody tr th:only-of-type {\n",
              "        vertical-align: middle;\n",
              "    }\n",
              "\n",
              "    .dataframe tbody tr th {\n",
              "        vertical-align: top;\n",
              "    }\n",
              "\n",
              "    .dataframe thead th {\n",
              "        text-align: right;\n",
              "    }\n",
              "</style>\n",
              "<table border=\"1\" class=\"dataframe\">\n",
              "  <thead>\n",
              "    <tr style=\"text-align: right;\">\n",
              "      <th></th>\n",
              "      <th>Rooms</th>\n",
              "      <th>Distance</th>\n",
              "      <th>Bathroom</th>\n",
              "      <th>Car</th>\n",
              "      <th>Landsize</th>\n",
              "      <th>BuildingArea</th>\n",
              "      <th>Lattitude</th>\n",
              "      <th>Longtitude</th>\n",
              "      <th>Propertycount</th>\n",
              "      <th>Age</th>\n",
              "      <th>Month</th>\n",
              "      <th>Year</th>\n",
              "      <th>Postcode</th>\n",
              "      <th>Suburb_Abbotsford</th>\n",
              "      <th>Suburb_Aberfeldie</th>\n",
              "      <th>Suburb_Airport West</th>\n",
              "      <th>Suburb_Albanvale</th>\n",
              "      <th>Suburb_Albert Park</th>\n",
              "      <th>Suburb_Albion</th>\n",
              "      <th>Suburb_Alphington</th>\n",
              "      <th>Suburb_Altona</th>\n",
              "      <th>Suburb_Altona Meadows</th>\n",
              "      <th>Suburb_Altona North</th>\n",
              "      <th>Suburb_Ardeer</th>\n",
              "      <th>Suburb_Armadale</th>\n",
              "      <th>Suburb_Ascot Vale</th>\n",
              "      <th>Suburb_Ashburton</th>\n",
              "      <th>Suburb_Ashwood</th>\n",
              "      <th>Suburb_Aspendale</th>\n",
              "      <th>Suburb_Aspendale Gardens</th>\n",
              "      <th>Suburb_Attwood</th>\n",
              "      <th>Suburb_Avondale Heights</th>\n",
              "      <th>Suburb_Bacchus Marsh</th>\n",
              "      <th>Suburb_Balaclava</th>\n",
              "      <th>Suburb_Balwyn</th>\n",
              "      <th>Suburb_Balwyn North</th>\n",
              "      <th>Suburb_Bayswater</th>\n",
              "      <th>Suburb_Bayswater North</th>\n",
              "      <th>Suburb_Beaconsfield</th>\n",
              "      <th>Suburb_Beaconsfield Upper</th>\n",
              "      <th>...</th>\n",
              "      <th>SellerG_hockingstuart/Marshall</th>\n",
              "      <th>SellerG_hockingstuart/Sweeney</th>\n",
              "      <th>SellerG_hockingstuart/hockingstuart</th>\n",
              "      <th>SellerG_iHomes</th>\n",
              "      <th>SellerG_iProperty</th>\n",
              "      <th>SellerG_iSell</th>\n",
              "      <th>SellerG_iTRAK</th>\n",
              "      <th>CouncilArea_Banyule City Council</th>\n",
              "      <th>CouncilArea_Bayside City Council</th>\n",
              "      <th>CouncilArea_Boroondara City Council</th>\n",
              "      <th>CouncilArea_Brimbank City Council</th>\n",
              "      <th>CouncilArea_Cardinia Shire Council</th>\n",
              "      <th>CouncilArea_Casey City Council</th>\n",
              "      <th>CouncilArea_Darebin City Council</th>\n",
              "      <th>CouncilArea_Frankston City Council</th>\n",
              "      <th>CouncilArea_Glen Eira City Council</th>\n",
              "      <th>CouncilArea_Greater Dandenong City Council</th>\n",
              "      <th>CouncilArea_Hobsons Bay City Council</th>\n",
              "      <th>CouncilArea_Hume City Council</th>\n",
              "      <th>CouncilArea_Kingston City Council</th>\n",
              "      <th>CouncilArea_Knox City Council</th>\n",
              "      <th>CouncilArea_Macedon Ranges Shire Council</th>\n",
              "      <th>CouncilArea_Manningham City Council</th>\n",
              "      <th>CouncilArea_Maribyrnong City Council</th>\n",
              "      <th>CouncilArea_Maroondah City Council</th>\n",
              "      <th>CouncilArea_Melbourne City Council</th>\n",
              "      <th>CouncilArea_Melton City Council</th>\n",
              "      <th>CouncilArea_Mitchell Shire Council</th>\n",
              "      <th>CouncilArea_Monash City Council</th>\n",
              "      <th>CouncilArea_Moonee Valley City Council</th>\n",
              "      <th>CouncilArea_Moorabool Shire Council</th>\n",
              "      <th>CouncilArea_Moreland City Council</th>\n",
              "      <th>CouncilArea_Nillumbik Shire Council</th>\n",
              "      <th>CouncilArea_Port Phillip City Council</th>\n",
              "      <th>CouncilArea_Stonnington City Council</th>\n",
              "      <th>CouncilArea_Whitehorse City Council</th>\n",
              "      <th>CouncilArea_Whittlesea City Council</th>\n",
              "      <th>CouncilArea_Wyndham City Council</th>\n",
              "      <th>CouncilArea_Yarra City Council</th>\n",
              "      <th>CouncilArea_Yarra Ranges Shire Council</th>\n",
              "    </tr>\n",
              "  </thead>\n",
              "  <tbody>\n",
              "    <tr>\n",
              "      <th>1</th>\n",
              "      <td>-1.1788</td>\n",
              "      <td>-1.3445</td>\n",
              "      <td>-0.7259</td>\n",
              "      <td>-1.0025</td>\n",
              "      <td>-0.8508</td>\n",
              "      <td>0.0435</td>\n",
              "      <td>0.0714</td>\n",
              "      <td>1.3853e-02</td>\n",
              "      <td>-0.773</td>\n",
              "      <td>-0.0287</td>\n",
              "      <td>1.5205</td>\n",
              "      <td>-1.3870</td>\n",
              "      <td>-0.4123</td>\n",
              "      <td>1</td>\n",
              "      <td>0</td>\n",
              "      <td>0</td>\n",
              "      <td>0</td>\n",
              "      <td>0</td>\n",
              "      <td>0</td>\n",
              "      <td>0</td>\n",
              "      <td>0</td>\n",
              "      <td>0</td>\n",
              "      <td>0</td>\n",
              "      <td>0</td>\n",
              "      <td>0</td>\n",
              "      <td>0</td>\n",
              "      <td>0</td>\n",
              "      <td>0</td>\n",
              "      <td>0</td>\n",
              "      <td>0</td>\n",
              "      <td>0</td>\n",
              "      <td>0</td>\n",
              "      <td>0</td>\n",
              "      <td>0</td>\n",
              "      <td>0</td>\n",
              "      <td>0</td>\n",
              "      <td>0</td>\n",
              "      <td>0</td>\n",
              "      <td>0</td>\n",
              "      <td>0</td>\n",
              "      <td>...</td>\n",
              "      <td>0</td>\n",
              "      <td>0</td>\n",
              "      <td>0</td>\n",
              "      <td>0</td>\n",
              "      <td>0</td>\n",
              "      <td>0</td>\n",
              "      <td>0</td>\n",
              "      <td>0</td>\n",
              "      <td>0</td>\n",
              "      <td>0</td>\n",
              "      <td>0</td>\n",
              "      <td>0</td>\n",
              "      <td>0</td>\n",
              "      <td>0</td>\n",
              "      <td>0</td>\n",
              "      <td>0</td>\n",
              "      <td>0</td>\n",
              "      <td>0</td>\n",
              "      <td>0</td>\n",
              "      <td>0</td>\n",
              "      <td>0</td>\n",
              "      <td>0</td>\n",
              "      <td>0</td>\n",
              "      <td>0</td>\n",
              "      <td>0</td>\n",
              "      <td>0</td>\n",
              "      <td>0</td>\n",
              "      <td>0</td>\n",
              "      <td>0</td>\n",
              "      <td>0</td>\n",
              "      <td>0</td>\n",
              "      <td>0</td>\n",
              "      <td>0</td>\n",
              "      <td>0</td>\n",
              "      <td>0</td>\n",
              "      <td>0</td>\n",
              "      <td>0</td>\n",
              "      <td>0</td>\n",
              "      <td>1</td>\n",
              "      <td>0</td>\n",
              "    </tr>\n",
              "    <tr>\n",
              "      <th>2</th>\n",
              "      <td>-1.1788</td>\n",
              "      <td>-1.3445</td>\n",
              "      <td>-0.7259</td>\n",
              "      <td>-2.2264</td>\n",
              "      <td>-0.9554</td>\n",
              "      <td>-1.8552</td>\n",
              "      <td>-0.0303</td>\n",
              "      <td>-3.2339e-02</td>\n",
              "      <td>-0.773</td>\n",
              "      <td>2.7663</td>\n",
              "      <td>-1.6187</td>\n",
              "      <td>-1.3870</td>\n",
              "      <td>-0.4123</td>\n",
              "      <td>1</td>\n",
              "      <td>0</td>\n",
              "      <td>0</td>\n",
              "      <td>0</td>\n",
              "      <td>0</td>\n",
              "      <td>0</td>\n",
              "      <td>0</td>\n",
              "      <td>0</td>\n",
              "      <td>0</td>\n",
              "      <td>0</td>\n",
              "      <td>0</td>\n",
              "      <td>0</td>\n",
              "      <td>0</td>\n",
              "      <td>0</td>\n",
              "      <td>0</td>\n",
              "      <td>0</td>\n",
              "      <td>0</td>\n",
              "      <td>0</td>\n",
              "      <td>0</td>\n",
              "      <td>0</td>\n",
              "      <td>0</td>\n",
              "      <td>0</td>\n",
              "      <td>0</td>\n",
              "      <td>0</td>\n",
              "      <td>0</td>\n",
              "      <td>0</td>\n",
              "      <td>0</td>\n",
              "      <td>...</td>\n",
              "      <td>0</td>\n",
              "      <td>0</td>\n",
              "      <td>0</td>\n",
              "      <td>0</td>\n",
              "      <td>0</td>\n",
              "      <td>0</td>\n",
              "      <td>0</td>\n",
              "      <td>0</td>\n",
              "      <td>0</td>\n",
              "      <td>0</td>\n",
              "      <td>0</td>\n",
              "      <td>0</td>\n",
              "      <td>0</td>\n",
              "      <td>0</td>\n",
              "      <td>0</td>\n",
              "      <td>0</td>\n",
              "      <td>0</td>\n",
              "      <td>0</td>\n",
              "      <td>0</td>\n",
              "      <td>0</td>\n",
              "      <td>0</td>\n",
              "      <td>0</td>\n",
              "      <td>0</td>\n",
              "      <td>0</td>\n",
              "      <td>0</td>\n",
              "      <td>0</td>\n",
              "      <td>0</td>\n",
              "      <td>0</td>\n",
              "      <td>0</td>\n",
              "      <td>0</td>\n",
              "      <td>0</td>\n",
              "      <td>0</td>\n",
              "      <td>0</td>\n",
              "      <td>0</td>\n",
              "      <td>0</td>\n",
              "      <td>0</td>\n",
              "      <td>0</td>\n",
              "      <td>0</td>\n",
              "      <td>1</td>\n",
              "      <td>0</td>\n",
              "    </tr>\n",
              "    <tr>\n",
              "      <th>4</th>\n",
              "      <td>-0.0506</td>\n",
              "      <td>-1.3445</td>\n",
              "      <td>0.9306</td>\n",
              "      <td>-2.2264</td>\n",
              "      <td>-1.0054</td>\n",
              "      <td>-0.1232</td>\n",
              "      <td>-0.0474</td>\n",
              "      <td>-2.3101e-02</td>\n",
              "      <td>-0.773</td>\n",
              "      <td>2.7663</td>\n",
              "      <td>-1.3048</td>\n",
              "      <td>0.1952</td>\n",
              "      <td>-0.4123</td>\n",
              "      <td>1</td>\n",
              "      <td>0</td>\n",
              "      <td>0</td>\n",
              "      <td>0</td>\n",
              "      <td>0</td>\n",
              "      <td>0</td>\n",
              "      <td>0</td>\n",
              "      <td>0</td>\n",
              "      <td>0</td>\n",
              "      <td>0</td>\n",
              "      <td>0</td>\n",
              "      <td>0</td>\n",
              "      <td>0</td>\n",
              "      <td>0</td>\n",
              "      <td>0</td>\n",
              "      <td>0</td>\n",
              "      <td>0</td>\n",
              "      <td>0</td>\n",
              "      <td>0</td>\n",
              "      <td>0</td>\n",
              "      <td>0</td>\n",
              "      <td>0</td>\n",
              "      <td>0</td>\n",
              "      <td>0</td>\n",
              "      <td>0</td>\n",
              "      <td>0</td>\n",
              "      <td>0</td>\n",
              "      <td>...</td>\n",
              "      <td>0</td>\n",
              "      <td>0</td>\n",
              "      <td>0</td>\n",
              "      <td>0</td>\n",
              "      <td>0</td>\n",
              "      <td>0</td>\n",
              "      <td>0</td>\n",
              "      <td>0</td>\n",
              "      <td>0</td>\n",
              "      <td>0</td>\n",
              "      <td>0</td>\n",
              "      <td>0</td>\n",
              "      <td>0</td>\n",
              "      <td>0</td>\n",
              "      <td>0</td>\n",
              "      <td>0</td>\n",
              "      <td>0</td>\n",
              "      <td>0</td>\n",
              "      <td>0</td>\n",
              "      <td>0</td>\n",
              "      <td>0</td>\n",
              "      <td>0</td>\n",
              "      <td>0</td>\n",
              "      <td>0</td>\n",
              "      <td>0</td>\n",
              "      <td>0</td>\n",
              "      <td>0</td>\n",
              "      <td>0</td>\n",
              "      <td>0</td>\n",
              "      <td>0</td>\n",
              "      <td>0</td>\n",
              "      <td>0</td>\n",
              "      <td>0</td>\n",
              "      <td>0</td>\n",
              "      <td>0</td>\n",
              "      <td>0</td>\n",
              "      <td>0</td>\n",
              "      <td>0</td>\n",
              "      <td>1</td>\n",
              "      <td>0</td>\n",
              "    </tr>\n",
              "    <tr>\n",
              "      <th>5</th>\n",
              "      <td>-0.0506</td>\n",
              "      <td>-1.3445</td>\n",
              "      <td>0.9306</td>\n",
              "      <td>-1.0025</td>\n",
              "      <td>-1.0963</td>\n",
              "      <td>0.0435</td>\n",
              "      <td>0.1045</td>\n",
              "      <td>-4.3670e-06</td>\n",
              "      <td>-0.773</td>\n",
              "      <td>-0.0287</td>\n",
              "      <td>-1.3048</td>\n",
              "      <td>0.1952</td>\n",
              "      <td>-0.4123</td>\n",
              "      <td>1</td>\n",
              "      <td>0</td>\n",
              "      <td>0</td>\n",
              "      <td>0</td>\n",
              "      <td>0</td>\n",
              "      <td>0</td>\n",
              "      <td>0</td>\n",
              "      <td>0</td>\n",
              "      <td>0</td>\n",
              "      <td>0</td>\n",
              "      <td>0</td>\n",
              "      <td>0</td>\n",
              "      <td>0</td>\n",
              "      <td>0</td>\n",
              "      <td>0</td>\n",
              "      <td>0</td>\n",
              "      <td>0</td>\n",
              "      <td>0</td>\n",
              "      <td>0</td>\n",
              "      <td>0</td>\n",
              "      <td>0</td>\n",
              "      <td>0</td>\n",
              "      <td>0</td>\n",
              "      <td>0</td>\n",
              "      <td>0</td>\n",
              "      <td>0</td>\n",
              "      <td>0</td>\n",
              "      <td>...</td>\n",
              "      <td>0</td>\n",
              "      <td>0</td>\n",
              "      <td>0</td>\n",
              "      <td>0</td>\n",
              "      <td>0</td>\n",
              "      <td>0</td>\n",
              "      <td>0</td>\n",
              "      <td>0</td>\n",
              "      <td>0</td>\n",
              "      <td>0</td>\n",
              "      <td>0</td>\n",
              "      <td>0</td>\n",
              "      <td>0</td>\n",
              "      <td>0</td>\n",
              "      <td>0</td>\n",
              "      <td>0</td>\n",
              "      <td>0</td>\n",
              "      <td>0</td>\n",
              "      <td>0</td>\n",
              "      <td>0</td>\n",
              "      <td>0</td>\n",
              "      <td>0</td>\n",
              "      <td>0</td>\n",
              "      <td>0</td>\n",
              "      <td>0</td>\n",
              "      <td>0</td>\n",
              "      <td>0</td>\n",
              "      <td>0</td>\n",
              "      <td>0</td>\n",
              "      <td>0</td>\n",
              "      <td>0</td>\n",
              "      <td>0</td>\n",
              "      <td>0</td>\n",
              "      <td>0</td>\n",
              "      <td>0</td>\n",
              "      <td>0</td>\n",
              "      <td>0</td>\n",
              "      <td>0</td>\n",
              "      <td>1</td>\n",
              "      <td>0</td>\n",
              "    </tr>\n",
              "    <tr>\n",
              "      <th>6</th>\n",
              "      <td>1.0776</td>\n",
              "      <td>-1.3445</td>\n",
              "      <td>-0.7259</td>\n",
              "      <td>0.2215</td>\n",
              "      <td>-1.0372</td>\n",
              "      <td>-0.3184</td>\n",
              "      <td>-0.0217</td>\n",
              "      <td>-2.5872e-02</td>\n",
              "      <td>-0.773</td>\n",
              "      <td>-2.0172</td>\n",
              "      <td>-0.3631</td>\n",
              "      <td>-1.3870</td>\n",
              "      <td>-0.4123</td>\n",
              "      <td>1</td>\n",
              "      <td>0</td>\n",
              "      <td>0</td>\n",
              "      <td>0</td>\n",
              "      <td>0</td>\n",
              "      <td>0</td>\n",
              "      <td>0</td>\n",
              "      <td>0</td>\n",
              "      <td>0</td>\n",
              "      <td>0</td>\n",
              "      <td>0</td>\n",
              "      <td>0</td>\n",
              "      <td>0</td>\n",
              "      <td>0</td>\n",
              "      <td>0</td>\n",
              "      <td>0</td>\n",
              "      <td>0</td>\n",
              "      <td>0</td>\n",
              "      <td>0</td>\n",
              "      <td>0</td>\n",
              "      <td>0</td>\n",
              "      <td>0</td>\n",
              "      <td>0</td>\n",
              "      <td>0</td>\n",
              "      <td>0</td>\n",
              "      <td>0</td>\n",
              "      <td>0</td>\n",
              "      <td>...</td>\n",
              "      <td>0</td>\n",
              "      <td>0</td>\n",
              "      <td>0</td>\n",
              "      <td>0</td>\n",
              "      <td>0</td>\n",
              "      <td>0</td>\n",
              "      <td>0</td>\n",
              "      <td>0</td>\n",
              "      <td>0</td>\n",
              "      <td>0</td>\n",
              "      <td>0</td>\n",
              "      <td>0</td>\n",
              "      <td>0</td>\n",
              "      <td>0</td>\n",
              "      <td>0</td>\n",
              "      <td>0</td>\n",
              "      <td>0</td>\n",
              "      <td>0</td>\n",
              "      <td>0</td>\n",
              "      <td>0</td>\n",
              "      <td>0</td>\n",
              "      <td>0</td>\n",
              "      <td>0</td>\n",
              "      <td>0</td>\n",
              "      <td>0</td>\n",
              "      <td>0</td>\n",
              "      <td>0</td>\n",
              "      <td>0</td>\n",
              "      <td>0</td>\n",
              "      <td>0</td>\n",
              "      <td>0</td>\n",
              "      <td>0</td>\n",
              "      <td>0</td>\n",
              "      <td>0</td>\n",
              "      <td>0</td>\n",
              "      <td>0</td>\n",
              "      <td>0</td>\n",
              "      <td>0</td>\n",
              "      <td>1</td>\n",
              "      <td>0</td>\n",
              "    </tr>\n",
              "  </tbody>\n",
              "</table>\n",
              "<p>5 rows × 738 columns</p>\n",
              "</div>"
            ],
            "text/plain": [
              "    Rooms  ...  CouncilArea_Yarra Ranges Shire Council\n",
              "1 -1.1788  ...                                       0\n",
              "2 -1.1788  ...                                       0\n",
              "4 -0.0506  ...                                       0\n",
              "5 -0.0506  ...                                       0\n",
              "6  1.0776  ...                                       0\n",
              "\n",
              "[5 rows x 738 columns]"
            ]
          },
          "metadata": {
            "tags": []
          },
          "execution_count": 113
        }
      ]
    },
    {
      "cell_type": "markdown",
      "metadata": {
        "id": "LALDO0W5OBce"
      },
      "source": [
        "**Holdout**"
      ]
    },
    {
      "cell_type": "code",
      "metadata": {
        "id": "OMQv3fHDdpC0"
      },
      "source": [
        "X_train, X_test, y_train, y_test = train_test_split(X, y, test_size=0.2, random_state=0)"
      ],
      "execution_count": 114,
      "outputs": []
    },
    {
      "cell_type": "code",
      "metadata": {
        "colab": {
          "base_uri": "https://localhost:8080/"
        },
        "id": "-vXAxVCNd7VM",
        "outputId": "abcccd4d-4178-4255-d973-b9634b72b5e3"
      },
      "source": [
        "reg = LinearRegression().fit(X_train, y_train)\n",
        "reg.score(X_train, y_train)"
      ],
      "execution_count": 115,
      "outputs": [
        {
          "output_type": "execute_result",
          "data": {
            "text/plain": [
              "0.6961778495778645"
            ]
          },
          "metadata": {
            "tags": []
          },
          "execution_count": 115
        }
      ]
    },
    {
      "cell_type": "code",
      "metadata": {
        "colab": {
          "base_uri": "https://localhost:8080/"
        },
        "id": "BRbI1DIZm1kX",
        "outputId": "ece47181-cf8b-4cdb-fc19-daeb5eab21c2"
      },
      "source": [
        "reg.score(X_test, y_test)"
      ],
      "execution_count": 116,
      "outputs": [
        {
          "output_type": "execute_result",
          "data": {
            "text/plain": [
              "-6.023561274350554e+16"
            ]
          },
          "metadata": {
            "tags": []
          },
          "execution_count": 116
        }
      ]
    },
    {
      "cell_type": "code",
      "metadata": {
        "colab": {
          "base_uri": "https://localhost:8080/"
        },
        "id": "-D3bJ0qFnXhG",
        "outputId": "6a257044-9fac-438e-8235-9300bba8a7c1"
      },
      "source": [
        "predictions = reg.predict(X_test)\n",
        "\n",
        "print('MSE:', metrics.mean_squared_error(y_test, predictions))\n",
        "print('RMSE:', np.sqrt(metrics.mean_squared_error(y_test, predictions)))"
      ],
      "execution_count": 117,
      "outputs": [
        {
          "output_type": "stream",
          "text": [
            "MSE: 2.2979026048962458e+28\n",
            "RMSE: 151588344040570.8\n"
          ],
          "name": "stdout"
        }
      ]
    },
    {
      "cell_type": "code",
      "metadata": {
        "colab": {
          "base_uri": "https://localhost:8080/",
          "height": 402
        },
        "id": "pnw8Or9hnD0o",
        "outputId": "27e5e0a0-3d24-4e18-819f-da652d2058c6"
      },
      "source": [
        "coeff_df = pd.DataFrame(reg.coef_, X.columns,columns=['Coefficient'])\n",
        "coeff_df = coeff_df.sort_values(\"Coefficient\", ascending = False)\n",
        "coeff_df"
      ],
      "execution_count": 118,
      "outputs": [
        {
          "output_type": "execute_result",
          "data": {
            "text/html": [
              "<div>\n",
              "<style scoped>\n",
              "    .dataframe tbody tr th:only-of-type {\n",
              "        vertical-align: middle;\n",
              "    }\n",
              "\n",
              "    .dataframe tbody tr th {\n",
              "        vertical-align: top;\n",
              "    }\n",
              "\n",
              "    .dataframe thead th {\n",
              "        text-align: right;\n",
              "    }\n",
              "</style>\n",
              "<table border=\"1\" class=\"dataframe\">\n",
              "  <thead>\n",
              "    <tr style=\"text-align: right;\">\n",
              "      <th></th>\n",
              "      <th>Coefficient</th>\n",
              "    </tr>\n",
              "  </thead>\n",
              "  <tbody>\n",
              "    <tr>\n",
              "      <th>CouncilArea_Maroondah City Council</th>\n",
              "      <td>1.2386e+16</td>\n",
              "    </tr>\n",
              "    <tr>\n",
              "      <th>CouncilArea_Darebin City Council</th>\n",
              "      <td>8.6505e+15</td>\n",
              "    </tr>\n",
              "    <tr>\n",
              "      <th>Suburb_Botanic Ridge</th>\n",
              "      <td>6.8237e+15</td>\n",
              "    </tr>\n",
              "    <tr>\n",
              "      <th>CouncilArea_Boroondara City Council</th>\n",
              "      <td>6.6743e+15</td>\n",
              "    </tr>\n",
              "    <tr>\n",
              "      <th>CouncilArea_Banyule City Council</th>\n",
              "      <td>6.4978e+15</td>\n",
              "    </tr>\n",
              "    <tr>\n",
              "      <th>...</th>\n",
              "      <td>...</td>\n",
              "    </tr>\n",
              "    <tr>\n",
              "      <th>Regionname_Southern Metropolitan</th>\n",
              "      <td>-1.1863e+16</td>\n",
              "    </tr>\n",
              "    <tr>\n",
              "      <th>Regionname_Eastern Metropolitan</th>\n",
              "      <td>-1.4691e+16</td>\n",
              "    </tr>\n",
              "    <tr>\n",
              "      <th>Type_h</th>\n",
              "      <td>-7.1110e+16</td>\n",
              "    </tr>\n",
              "    <tr>\n",
              "      <th>Type_t</th>\n",
              "      <td>-7.1110e+16</td>\n",
              "    </tr>\n",
              "    <tr>\n",
              "      <th>Type_u</th>\n",
              "      <td>-7.1110e+16</td>\n",
              "    </tr>\n",
              "  </tbody>\n",
              "</table>\n",
              "<p>738 rows × 1 columns</p>\n",
              "</div>"
            ],
            "text/plain": [
              "                                     Coefficient\n",
              "CouncilArea_Maroondah City Council    1.2386e+16\n",
              "CouncilArea_Darebin City Council      8.6505e+15\n",
              "Suburb_Botanic Ridge                  6.8237e+15\n",
              "CouncilArea_Boroondara City Council   6.6743e+15\n",
              "CouncilArea_Banyule City Council      6.4978e+15\n",
              "...                                          ...\n",
              "Regionname_Southern Metropolitan     -1.1863e+16\n",
              "Regionname_Eastern Metropolitan      -1.4691e+16\n",
              "Type_h                               -7.1110e+16\n",
              "Type_t                               -7.1110e+16\n",
              "Type_u                               -7.1110e+16\n",
              "\n",
              "[738 rows x 1 columns]"
            ]
          },
          "metadata": {
            "tags": []
          },
          "execution_count": 118
        }
      ]
    },
    {
      "cell_type": "markdown",
      "metadata": {
        "id": "wTAaucbzOE-g"
      },
      "source": [
        "**Cross Validation**"
      ]
    },
    {
      "cell_type": "code",
      "metadata": {
        "colab": {
          "base_uri": "https://localhost:8080/"
        },
        "id": "-MVMmBExOHjw",
        "outputId": "1de0b1ce-b8d6-4f63-94a0-e71fd8f12cce"
      },
      "source": [
        "scores = cross_val_score(reg, X, y, cv=10)\n",
        "scores"
      ],
      "execution_count": 119,
      "outputs": [
        {
          "output_type": "execute_result",
          "data": {
            "text/plain": [
              "array([-1.29661023e+15, -3.88760956e+18, -3.55245798e+15, -3.36654028e+16,\n",
              "       -2.21185356e+19,  6.23696949e-01, -1.48429240e+17, -4.82653373e+16,\n",
              "       -6.97261649e+18, -5.13058413e+17])"
            ]
          },
          "metadata": {
            "tags": []
          },
          "execution_count": 119
        }
      ]
    },
    {
      "cell_type": "code",
      "metadata": {
        "colab": {
          "base_uri": "https://localhost:8080/"
        },
        "id": "EEZJetDtw1Cu",
        "outputId": "c84083d7-73eb-441a-d90a-92d1c28dd705"
      },
      "source": [
        "scores.mean()"
      ],
      "execution_count": 120,
      "outputs": [
        {
          "output_type": "execute_result",
          "data": {
            "text/plain": [
              "-3.372702907061665e+18"
            ]
          },
          "metadata": {
            "tags": []
          },
          "execution_count": 120
        }
      ]
    },
    {
      "cell_type": "markdown",
      "metadata": {
        "id": "Giat9mJsn7wJ"
      },
      "source": [
        "## **PCA**"
      ]
    },
    {
      "cell_type": "code",
      "metadata": {
        "colab": {
          "base_uri": "https://localhost:8080/",
          "height": 279
        },
        "id": "scU9c9zCn_hn",
        "outputId": "0fa7d0bc-5149-4423-9a99-37a925168ccd"
      },
      "source": [
        "pca = PCA().fit(X)\n",
        "plt.plot(np.cumsum(pca.explained_variance_ratio_))\n",
        "plt.xlabel('number of components')\n",
        "plt.ylabel('cumulative explained variance');"
      ],
      "execution_count": 121,
      "outputs": [
        {
          "output_type": "display_data",
          "data": {
            "image/png": "[encoded data removed]",
            "text/plain": [
              "<Figure size 432x288 with 1 Axes>"
            ]
          },
          "metadata": {
            "tags": [],
            "needs_background": "light"
          }
        }
      ]
    },
    {
      "cell_type": "code",
      "metadata": {
        "colab": {
          "base_uri": "https://localhost:8080/"
        },
        "id": "RWGIFUumpXzn",
        "outputId": "ff60d932-6d01-496f-d849-cf6187e50c96"
      },
      "source": [
        "pca = PCA(n_components=500)\n",
        "pca.fit(X)\n",
        "X_pca = pca.transform(X)\n",
        "print(\"original shape:   \", X.shape)\n",
        "print(\"transformed shape:\", X_pca.shape)"
      ],
      "execution_count": 122,
      "outputs": [
        {
          "output_type": "stream",
          "text": [
            "original shape:    (24779, 738)\n",
            "transformed shape: (24779, 500)\n"
          ],
          "name": "stdout"
        }
      ]
    },
    {
      "cell_type": "code",
      "metadata": {
        "id": "AbaJuZHmrVtS"
      },
      "source": [
        "X_train, X_test, y_train, y_test = train_test_split(X_pca, y, test_size=0.2, random_state=0)"
      ],
      "execution_count": 123,
      "outputs": []
    },
    {
      "cell_type": "code",
      "metadata": {
        "colab": {
          "base_uri": "https://localhost:8080/"
        },
        "id": "pr7fw9uzrc0R",
        "outputId": "d7c4a26e-801f-4642-de67-da332fb5e164"
      },
      "source": [
        "reg = LinearRegression().fit(X_train, y_train)\n",
        "reg.score(X_train, y_train)"
      ],
      "execution_count": 124,
      "outputs": [
        {
          "output_type": "execute_result",
          "data": {
            "text/plain": [
              "0.6929465011861373"
            ]
          },
          "metadata": {
            "tags": []
          },
          "execution_count": 124
        }
      ]
    },
    {
      "cell_type": "code",
      "metadata": {
        "colab": {
          "base_uri": "https://localhost:8080/"
        },
        "id": "S34vcUm0tOAt",
        "outputId": "8fb117c1-e687-4a74-ee76-4548a186550f"
      },
      "source": [
        "reg.score(X_test, y_test)"
      ],
      "execution_count": 125,
      "outputs": [
        {
          "output_type": "execute_result",
          "data": {
            "text/plain": [
              "0.6519068876880219"
            ]
          },
          "metadata": {
            "tags": []
          },
          "execution_count": 125
        }
      ]
    },
    {
      "cell_type": "code",
      "metadata": {
        "colab": {
          "base_uri": "https://localhost:8080/"
        },
        "id": "bO264QaT3bkY",
        "outputId": "e3c31d18-125d-4937-d4b6-c1162328af2f"
      },
      "source": [
        "predictions = reg.predict(X_test)\n",
        "\n",
        "print('MSE:', metrics.mean_squared_error(y_test, predictions))\n",
        "print('RMSE:', np.sqrt(metrics.mean_squared_error(y_test, predictions)))"
      ],
      "execution_count": 126,
      "outputs": [
        {
          "output_type": "stream",
          "text": [
            "MSE: 132792551299.2109\n",
            "RMSE: 364407.1230083338\n"
          ],
          "name": "stdout"
        }
      ]
    },
    {
      "cell_type": "code",
      "metadata": {
        "colab": {
          "base_uri": "https://localhost:8080/"
        },
        "id": "WWWP8iF8SPE_",
        "outputId": "39198706-27d7-4f73-e7ac-87681c1e48f1"
      },
      "source": [
        "scores = cross_val_score(reg, X_pca, y, cv=10)\n",
        "scores"
      ],
      "execution_count": 127,
      "outputs": [
        {
          "output_type": "execute_result",
          "data": {
            "text/plain": [
              "array([0.66159189, 0.69092447, 0.6431291 , 0.67113968, 0.6679945 ,\n",
              "       0.63077125, 0.69442742, 0.61385342, 0.66570417, 0.70838196])"
            ]
          },
          "metadata": {
            "tags": []
          },
          "execution_count": 127
        }
      ]
    },
    {
      "cell_type": "code",
      "metadata": {
        "colab": {
          "base_uri": "https://localhost:8080/"
        },
        "id": "vIhJA-PdwvnK",
        "outputId": "ac7ab6b6-b1fc-4248-94cb-af57b3761b24"
      },
      "source": [
        "scores.mean()"
      ],
      "execution_count": 128,
      "outputs": [
        {
          "output_type": "execute_result",
          "data": {
            "text/plain": [
              "0.6647917853707433"
            ]
          },
          "metadata": {
            "tags": []
          },
          "execution_count": 128
        }
      ]
    }
  ]
}