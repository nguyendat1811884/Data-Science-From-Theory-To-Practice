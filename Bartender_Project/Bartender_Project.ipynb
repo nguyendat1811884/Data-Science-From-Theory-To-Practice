{
  "nbformat": 4,
  "nbformat_minor": 0,
  "metadata": {
    "colab": {
      "name": "Bartender_Project_NguyenTienDat.ipynb",
      "provenance": [],
      "authorship_tag": "ABX9TyNmoqXqU1Rh2Brboh5/SEWY",
      "include_colab_link": true
    },
    "kernelspec": {
      "name": "python3",
      "display_name": "Python 3"
    }
  },
  "cells": [
    {
      "cell_type": "markdown",
      "metadata": {
        "id": "view-in-github",
        "colab_type": "text"
      },
      "source": [
        "<a href=\"https://colab.research.google.com/github/nguyendat1811884/Data-Science-From-Theory-To-Practice/blob/main/Bartender_Project/Bartender_Project.ipynb\" target=\"_parent\"><img src=\"https://colab.research.google.com/assets/colab-badge.svg\" alt=\"Open In Colab\"/></a>"
      ]
    },
    {
      "cell_type": "code",
      "metadata": {
        "id": "ArK_40d__8po"
      },
      "source": [
        "import random"
      ],
      "execution_count": 1,
      "outputs": []
    },
    {
      "cell_type": "code",
      "metadata": {
        "id": "7a3XVT3IAHC8"
      },
      "source": [
        "questions = {\r\n",
        "\"strong\": \"Do ye like yer drinks strong?\",\r\n",
        "\"salty\": \"Do ye like it with a salty tang?\",\r\n",
        "\"bitter\": \"Are ye a lubber who likes it bitter?\",\r\n",
        "\"sweet\": \"Would ye like a bit of sweetness with yer poison?\",\r\n",
        "\"fruity\": \"Are ye one for a fruity finish?\",\r\n",
        "}\r\n",
        "ingredients = {\r\n",
        "\"strong\": [\"glug of rum\", \"slug of whisky\", \"splash of gin\"],\r\n",
        "\"salty\": [\"olive on a stick\", \"salt-dusted rim\", \"rasher of bacon\"],\r\n",
        "\"bitter\": [\"shake of bitters\", \"splash of tonic\", \"twist of lemon peel\"],\r\n",
        "\"sweet\": [\"sugar cube\", \"spoonful of honey\", \"spash of cola\"],\r\n",
        "\"fruity\": [\"slice of orange\", \"dash of cassis\", \"cherry on top\"],\r\n",
        "}"
      ],
      "execution_count": 2,
      "outputs": []
    },
    {
      "cell_type": "code",
      "metadata": {
        "colab": {
          "base_uri": "https://localhost:8080/"
        },
        "id": "5r7BH3a3AH6T",
        "outputId": "7a53812b-c6c4-4c81-ec27-2c397e179773"
      },
      "source": [
        "for k in questions:\r\n",
        "  print(questions[k])\r\n",
        "  print(\"=> \", end='')\r\n",
        "  inp = input()\r\n",
        "  if inp == \"yes\":\r\n",
        "    print(\"OK: \", end='')\r\n",
        "    print(random.choice(ingredients[k]))\r\n",
        "    break"
      ],
      "execution_count": 6,
      "outputs": [
        {
          "output_type": "stream",
          "text": [
            "Do ye like yer drinks strong?\n",
            "=> yes\n",
            "OK: slug of whisky\n"
          ],
          "name": "stdout"
        }
      ]
    },
    {
      "cell_type": "code",
      "metadata": {
        "colab": {
          "base_uri": "https://localhost:8080/"
        },
        "id": "knPqnKs0CflM",
        "outputId": "6498ac6a-8f71-4c42-a245-f204df808d08"
      },
      "source": [
        "for k in questions:\r\n",
        "  print(questions[k])\r\n",
        "  print(\"=> \", end='')\r\n",
        "  inp = input()\r\n",
        "  if inp == \"yes\":\r\n",
        "    print(\"OK: \", end='')\r\n",
        "    print(random.choice(ingredients[k]))\r\n",
        "    break"
      ],
      "execution_count": 7,
      "outputs": [
        {
          "output_type": "stream",
          "text": [
            "Do ye like yer drinks strong?\n",
            "=> no\n",
            "Do ye like it with a salty tang?\n",
            "=> no\n",
            "Are ye a lubber who likes it bitter?\n",
            "=> no\n",
            "Would ye like a bit of sweetness with yer poison?\n",
            "=> yes\n",
            "OK: sugar cube\n"
          ],
          "name": "stdout"
        }
      ]
    }
  ]
}